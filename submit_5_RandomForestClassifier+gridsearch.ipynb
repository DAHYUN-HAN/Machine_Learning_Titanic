{
  "nbformat": 4,
  "nbformat_minor": 0,
  "metadata": {
    "colab": {
      "name": "submit_5_RandomForestClassifier+gridsearch.ipynb",
      "provenance": [],
      "collapsed_sections": []
    },
    "kernelspec": {
      "name": "python3",
      "display_name": "Python 3"
    }
  },
  "cells": [
    {
      "cell_type": "code",
      "metadata": {
        "id": "mIiJeAzopXqw",
        "colab_type": "code",
        "colab": {
          "base_uri": "https://localhost:8080/",
          "height": 212
        },
        "outputId": "e19e901a-2179-43a1-eb56-5ebc757adb64"
      },
      "source": [
        "pip install kaggle --upgrade"
      ],
      "execution_count": 1,
      "outputs": [
        {
          "output_type": "stream",
          "text": [
            "Requirement already up-to-date: kaggle in /usr/local/lib/python3.6/dist-packages (1.5.6)\n",
            "Requirement already satisfied, skipping upgrade: certifi in /usr/local/lib/python3.6/dist-packages (from kaggle) (2020.4.5.2)\n",
            "Requirement already satisfied, skipping upgrade: urllib3<1.25,>=1.21.1 in /usr/local/lib/python3.6/dist-packages (from kaggle) (1.24.3)\n",
            "Requirement already satisfied, skipping upgrade: requests in /usr/local/lib/python3.6/dist-packages (from kaggle) (2.23.0)\n",
            "Requirement already satisfied, skipping upgrade: python-dateutil in /usr/local/lib/python3.6/dist-packages (from kaggle) (2.8.1)\n",
            "Requirement already satisfied, skipping upgrade: tqdm in /usr/local/lib/python3.6/dist-packages (from kaggle) (4.41.1)\n",
            "Requirement already satisfied, skipping upgrade: six>=1.10 in /usr/local/lib/python3.6/dist-packages (from kaggle) (1.12.0)\n",
            "Requirement already satisfied, skipping upgrade: python-slugify in /usr/local/lib/python3.6/dist-packages (from kaggle) (4.0.0)\n",
            "Requirement already satisfied, skipping upgrade: idna<3,>=2.5 in /usr/local/lib/python3.6/dist-packages (from requests->kaggle) (2.9)\n",
            "Requirement already satisfied, skipping upgrade: chardet<4,>=3.0.2 in /usr/local/lib/python3.6/dist-packages (from requests->kaggle) (3.0.4)\n",
            "Requirement already satisfied, skipping upgrade: text-unidecode>=1.3 in /usr/local/lib/python3.6/dist-packages (from python-slugify->kaggle) (1.3)\n"
          ],
          "name": "stdout"
        }
      ]
    },
    {
      "cell_type": "code",
      "metadata": {
        "id": "83wZI3B7pcmh",
        "colab_type": "code",
        "colab": {
          "base_uri": "https://localhost:8080/",
          "height": 125
        },
        "outputId": "c96e3f9c-6de2-4772-c294-0215a9df9485"
      },
      "source": [
        "#colab에서 g란 이름으로 구글드라이브의 root를 MOUNT\n",
        "from google.colab import drive\n",
        "drive.mount('/content/g')"
      ],
      "execution_count": 2,
      "outputs": [
        {
          "output_type": "stream",
          "text": [
            "Go to this URL in a browser: https://accounts.google.com/o/oauth2/auth?client_id=947318989803-6bn6qk8qdgf4n4g3pfee6491hc0brc4i.apps.googleusercontent.com&redirect_uri=urn%3aietf%3awg%3aoauth%3a2.0%3aoob&response_type=code&scope=email%20https%3a%2f%2fwww.googleapis.com%2fauth%2fdocs.test%20https%3a%2f%2fwww.googleapis.com%2fauth%2fdrive%20https%3a%2f%2fwww.googleapis.com%2fauth%2fdrive.photos.readonly%20https%3a%2f%2fwww.googleapis.com%2fauth%2fpeopleapi.readonly\n",
            "\n",
            "Enter your authorization code:\n",
            "··········\n",
            "Mounted at /content/g\n"
          ],
          "name": "stdout"
        }
      ]
    },
    {
      "cell_type": "code",
      "metadata": {
        "id": "hhxBqWvepeI1",
        "colab_type": "code",
        "colab": {}
      },
      "source": [
        "!mkdir -p ~/.kaggle\n",
        "!cp \"/content/g/My Drive/kaggle/kaggle.json\" ~/.kaggle/\n",
        "!chmod 600 ~/.kaggle/kaggle.json"
      ],
      "execution_count": 3,
      "outputs": []
    },
    {
      "cell_type": "code",
      "metadata": {
        "id": "AxOGKWxspigl",
        "colab_type": "code",
        "colab": {
          "base_uri": "https://localhost:8080/",
          "height": 194
        },
        "outputId": "1710970e-df04-4869-a2a5-03dcc8d7622d"
      },
      "source": [
        "!kaggle competitions download -c titanic"
      ],
      "execution_count": 4,
      "outputs": [
        {
          "output_type": "stream",
          "text": [
            "Warning: Looks like you're using an outdated API Version, please consider updating (server 1.5.6 / client 1.5.4)\n",
            "Downloading train.csv to /content\n",
            "  0% 0.00/59.8k [00:00<?, ?B/s]\n",
            "100% 59.8k/59.8k [00:00<00:00, 21.8MB/s]\n",
            "Downloading test.csv to /content\n",
            "  0% 0.00/28.0k [00:00<?, ?B/s]\n",
            "100% 28.0k/28.0k [00:00<00:00, 28.2MB/s]\n",
            "Downloading gender_submission.csv to /content\n",
            "  0% 0.00/3.18k [00:00<?, ?B/s]\n",
            "100% 3.18k/3.18k [00:00<00:00, 6.29MB/s]\n"
          ],
          "name": "stdout"
        }
      ]
    },
    {
      "cell_type": "code",
      "metadata": {
        "id": "MZhXIBaHpkFX",
        "colab_type": "code",
        "colab": {}
      },
      "source": [
        "import numpy as np\n",
        "import pandas as pd\n",
        "import matplotlib.pyplot as plt\n",
        "\n",
        "df_train = pd.read_csv('./train.csv')\n",
        "df_test = pd.read_csv('./test.csv')"
      ],
      "execution_count": 5,
      "outputs": []
    },
    {
      "cell_type": "code",
      "metadata": {
        "id": "7f3Qsielptbk",
        "colab_type": "code",
        "colab": {}
      },
      "source": [
        "from sklearn import model_selection\n",
        "from sklearn import metrics\n",
        "from sklearn import datasets\n",
        "from sklearn.ensemble import RandomForestClassifier\n",
        "from sklearn.metrics import confusion_matrix\n",
        "from sklearn.metrics import classification_report\n",
        "from sklearn import linear_model"
      ],
      "execution_count": 6,
      "outputs": []
    },
    {
      "cell_type": "code",
      "metadata": {
        "id": "_tumn8BxpuVc",
        "colab_type": "code",
        "colab": {
          "base_uri": "https://localhost:8080/",
          "height": 674
        },
        "outputId": "9a14b14a-040c-4312-82d0-13d29253ae1d"
      },
      "source": [
        "df_train.info()\n",
        "df_test.info()"
      ],
      "execution_count": 7,
      "outputs": [
        {
          "output_type": "stream",
          "text": [
            "<class 'pandas.core.frame.DataFrame'>\n",
            "RangeIndex: 891 entries, 0 to 890\n",
            "Data columns (total 12 columns):\n",
            " #   Column       Non-Null Count  Dtype  \n",
            "---  ------       --------------  -----  \n",
            " 0   PassengerId  891 non-null    int64  \n",
            " 1   Survived     891 non-null    int64  \n",
            " 2   Pclass       891 non-null    int64  \n",
            " 3   Name         891 non-null    object \n",
            " 4   Sex          891 non-null    object \n",
            " 5   Age          714 non-null    float64\n",
            " 6   SibSp        891 non-null    int64  \n",
            " 7   Parch        891 non-null    int64  \n",
            " 8   Ticket       891 non-null    object \n",
            " 9   Fare         891 non-null    float64\n",
            " 10  Cabin        204 non-null    object \n",
            " 11  Embarked     889 non-null    object \n",
            "dtypes: float64(2), int64(5), object(5)\n",
            "memory usage: 83.7+ KB\n",
            "<class 'pandas.core.frame.DataFrame'>\n",
            "RangeIndex: 418 entries, 0 to 417\n",
            "Data columns (total 11 columns):\n",
            " #   Column       Non-Null Count  Dtype  \n",
            "---  ------       --------------  -----  \n",
            " 0   PassengerId  418 non-null    int64  \n",
            " 1   Pclass       418 non-null    int64  \n",
            " 2   Name         418 non-null    object \n",
            " 3   Sex          418 non-null    object \n",
            " 4   Age          332 non-null    float64\n",
            " 5   SibSp        418 non-null    int64  \n",
            " 6   Parch        418 non-null    int64  \n",
            " 7   Ticket       418 non-null    object \n",
            " 8   Fare         417 non-null    float64\n",
            " 9   Cabin        91 non-null     object \n",
            " 10  Embarked     418 non-null    object \n",
            "dtypes: float64(2), int64(4), object(5)\n",
            "memory usage: 36.0+ KB\n"
          ],
          "name": "stdout"
        }
      ]
    },
    {
      "cell_type": "code",
      "metadata": {
        "id": "gd7KKMBtpvPV",
        "colab_type": "code",
        "colab": {}
      },
      "source": [
        "del df_train['PassengerId']\n",
        "del df_train['Name']\n",
        "del df_train['Ticket']\n",
        "del df_train['Cabin']\n",
        "df_test['PassengerId']\n",
        "del df_test['Name']\n",
        "del df_test['Ticket']\n",
        "del df_test['Cabin']"
      ],
      "execution_count": 8,
      "outputs": []
    },
    {
      "cell_type": "code",
      "metadata": {
        "id": "hUqu6JkUpw8_",
        "colab_type": "code",
        "colab": {}
      },
      "source": [
        "df_train.dropna(thresh=int(len(df_train)*0.5), axis=1)\n",
        "df_train['Embarked']=df_train['Embarked'].fillna('S')\n",
        "df_train['Age']=df_train['Age'].fillna(df_train['Age'].mean())"
      ],
      "execution_count": 9,
      "outputs": []
    },
    {
      "cell_type": "code",
      "metadata": {
        "id": "5-Op9ts5py2d",
        "colab_type": "code",
        "colab": {}
      },
      "source": [
        "df_test.dropna(thresh=int(len(df_test)*0.5), axis=1)\n",
        "df_test['Fare']=df_test['Fare'].fillna(df_test['Fare'].mean())\n",
        "df_test['Age']=df_test['Age'].fillna(df_test['Age'].mean())"
      ],
      "execution_count": 10,
      "outputs": []
    },
    {
      "cell_type": "code",
      "metadata": {
        "id": "jqgB9Noip0Ka",
        "colab_type": "code",
        "colab": {}
      },
      "source": [
        "df_train['Sex']=df_train['Sex'].astype('category')\n",
        "df_train['Pclass']=df_train['Pclass'].astype('category')\n",
        "df_train['Embarked']=df_train['Embarked'].astype('category')\n",
        "df_train = pd.get_dummies(df_train)\n",
        "\n",
        "df_test['Sex']=df_test['Sex'].astype('category')\n",
        "df_test['Pclass']=df_test['Pclass'].astype('category')\n",
        "df_test['Embarked']=df_test['Embarked'].astype('category')\n",
        "df_test = pd.get_dummies(df_test)"
      ],
      "execution_count": 11,
      "outputs": []
    },
    {
      "cell_type": "code",
      "metadata": {
        "id": "H1Tgi6z5p3WV",
        "colab_type": "code",
        "colab": {
          "base_uri": "https://localhost:8080/",
          "height": 692
        },
        "outputId": "cb545e6b-27b7-4e5e-f1d2-c8cee7d42c60"
      },
      "source": [
        "x_data = df_train.iloc[:,1:]\n",
        "y_data = df_train.iloc[:,0]\n",
        "\n",
        "x_data = x_data.values\n",
        "y_data = y_data.values\n",
        "print(x_data)\n",
        "print(y_data)"
      ],
      "execution_count": 12,
      "outputs": [
        {
          "output_type": "stream",
          "text": [
            "[[22.          1.          0.         ...  0.          0.\n",
            "   1.        ]\n",
            " [38.          1.          0.         ...  1.          0.\n",
            "   0.        ]\n",
            " [26.          0.          0.         ...  0.          0.\n",
            "   1.        ]\n",
            " ...\n",
            " [29.69911765  1.          2.         ...  0.          0.\n",
            "   1.        ]\n",
            " [26.          0.          0.         ...  1.          0.\n",
            "   0.        ]\n",
            " [32.          0.          0.         ...  0.          1.\n",
            "   0.        ]]\n",
            "[0 1 1 1 0 0 0 0 1 1 1 1 0 0 0 1 0 1 0 1 0 1 1 1 0 1 0 0 1 0 0 1 1 0 0 0 1\n",
            " 0 0 1 0 0 0 1 1 0 0 1 0 0 0 0 1 1 0 1 1 0 1 0 0 1 0 0 0 1 1 0 1 0 0 0 0 0\n",
            " 1 0 0 0 1 1 0 1 1 0 1 1 0 0 1 0 0 0 0 0 0 0 0 1 1 0 0 0 0 0 0 0 1 1 0 1 0\n",
            " 0 0 0 0 0 0 0 0 0 0 0 0 1 0 1 0 1 1 0 0 0 0 1 0 0 1 0 0 0 0 1 1 0 0 0 1 0\n",
            " 0 0 0 1 0 0 0 0 1 0 0 0 0 1 0 0 0 1 1 0 0 0 0 0 1 0 0 0 0 0 0 0 0 0 0 1 1\n",
            " 0 1 1 0 0 1 0 1 1 1 1 0 0 1 0 0 0 0 0 1 0 0 1 1 1 0 1 0 0 0 1 1 0 1 0 1 0\n",
            " 0 0 1 0 1 0 0 0 1 0 0 1 0 0 0 1 0 0 0 1 0 0 0 0 0 1 1 0 0 0 0 0 0 1 1 1 1\n",
            " 1 0 1 0 0 0 0 0 1 1 1 0 1 1 0 1 1 0 0 0 1 0 0 0 1 0 0 1 0 1 1 1 1 0 0 0 0\n",
            " 0 0 1 1 1 1 0 1 0 1 1 1 0 1 1 1 0 0 0 1 1 0 1 1 0 0 1 1 0 1 0 1 1 1 1 0 0\n",
            " 0 1 0 0 1 1 0 1 1 0 0 0 1 1 1 1 0 0 0 0 0 0 0 1 0 1 1 0 0 0 0 0 0 1 1 1 1\n",
            " 1 0 0 0 0 1 1 0 0 0 1 1 0 1 0 0 0 1 0 1 1 1 0 1 1 0 0 0 0 1 1 0 0 0 0 0 0\n",
            " 1 0 0 0 0 1 0 1 0 1 1 0 0 0 0 0 0 0 0 1 1 0 1 1 1 1 0 0 1 0 1 0 0 1 0 0 1\n",
            " 1 1 1 1 1 1 0 0 0 1 0 1 0 1 1 0 1 0 0 0 0 0 0 0 0 1 0 0 1 1 0 0 0 0 0 1 0\n",
            " 0 0 1 1 0 1 0 0 1 0 0 0 0 0 0 1 0 0 0 0 0 0 0 1 0 1 1 0 1 1 0 1 1 0 0 1 0\n",
            " 1 0 1 0 0 1 0 0 1 0 0 0 1 0 0 1 0 1 0 1 0 1 1 0 0 1 0 0 1 1 0 1 1 0 0 1 1\n",
            " 0 1 0 1 1 0 0 0 0 0 0 0 0 0 1 1 1 1 1 0 0 1 1 0 1 1 1 0 0 0 1 0 1 0 0 0 1\n",
            " 0 0 0 0 1 0 0 1 1 0 0 0 1 0 0 1 1 1 0 0 1 0 0 1 0 0 1 0 0 1 1 0 0 0 0 1 0\n",
            " 0 1 0 1 0 0 1 0 0 0 0 0 1 0 1 1 1 0 1 0 1 0 1 0 1 0 0 0 0 0 0 1 0 0 0 1 0\n",
            " 0 0 0 1 1 0 0 1 0 0 0 1 0 1 0 1 0 0 0 0 0 0 0 1 1 1 1 0 0 0 0 1 0 0 1 1 0\n",
            " 0 0 0 1 1 1 1 1 0 1 0 0 0 1 1 0 0 1 0 0 0 1 0 1 1 0 0 1 0 0 0 0 0 0 1 0 0\n",
            " 1 0 1 0 1 0 0 1 0 0 1 1 0 0 1 1 0 0 0 1 0 0 1 1 0 1 0 0 0 0 0 0 0 0 1 0 0\n",
            " 1 0 1 1 1 0 0 0 0 1 0 1 0 0 0 0 0 0 0 1 1 0 0 0 1 1 1 1 0 0 0 0 1 0 0 0 0\n",
            " 0 0 0 0 0 0 1 1 0 1 0 0 0 1 1 1 1 1 0 0 0 1 0 0 1 1 0 0 1 0 0 0 0 0 0 1 0\n",
            " 0 0 1 0 1 1 1 1 0 0 0 1 0 0 1 1 0 0 1 0 1 0 0 1 1 0 0 0 1 1 0 0 0 0 0 0 1\n",
            " 0 1 0]\n"
          ],
          "name": "stdout"
        }
      ]
    },
    {
      "cell_type": "code",
      "metadata": {
        "id": "ZjmEGsXtrZcY",
        "colab_type": "code",
        "colab": {
          "base_uri": "https://localhost:8080/",
          "height": 247
        },
        "outputId": "d42aa04a-fa94-44f2-b147-2c6e018ccd0d"
      },
      "source": [
        "x2_data = df_test.iloc[:,1:]\n",
        "\n",
        "x2_data = x2_data.values\n",
        "print(x2_data)"
      ],
      "execution_count": 13,
      "outputs": [
        {
          "output_type": "stream",
          "text": [
            "[[34.5         0.          0.         ...  0.          1.\n",
            "   0.        ]\n",
            " [47.          1.          0.         ...  0.          0.\n",
            "   1.        ]\n",
            " [62.          0.          0.         ...  0.          1.\n",
            "   0.        ]\n",
            " ...\n",
            " [38.5         0.          0.         ...  0.          0.\n",
            "   1.        ]\n",
            " [30.27259036  0.          0.         ...  0.          0.\n",
            "   1.        ]\n",
            " [30.27259036  1.          1.         ...  1.          0.\n",
            "   0.        ]]\n"
          ],
          "name": "stdout"
        }
      ]
    },
    {
      "cell_type": "markdown",
      "metadata": {
        "id": "VMIflpertkbk",
        "colab_type": "text"
      },
      "source": [
        "RandomForestClassifier  \n",
        "n_estimators=100, criterion=\"gini\", max_depth=None, min_samples_split=2,\n",
        "                 min_samples_leaf=1,\n",
        "                 min_weight_fraction_leaf=0.,\n",
        "                 max_features=\"auto\",\n",
        "                 max_leaf_nodes=None,\n",
        "                 min_impurity_decrease=0.,\n",
        "                 min_impurity_split=None,\n",
        "                 bootstrap=True,\n",
        "                 oob_score=False,\n",
        "                 n_jobs=None,\n",
        "                 random_state=None,\n",
        "                 verbose=0,\n",
        "                 warm_start=False,\n",
        "                 class_weight=None,\n",
        "                 ccp_alpha=0.0,\n",
        "                 max_samples=None"
      ]
    },
    {
      "cell_type": "markdown",
      "metadata": {
        "id": "1S9CG1U22Wp5",
        "colab_type": "text"
      },
      "source": [
        "n_estimators\t- 결정트리의 갯수를 지정\n",
        "- Default = 10\n",
        "- 무작정 트리 갯수를 늘리면 성능 좋아지는 것 대비 시간이 걸릴 수 있음  \n",
        "\n",
        "min_samples_split\t- 노드를 분할하기 위한 최소한의 샘플 데이터수\n",
        "→ 과적합을 제어하는데 사용\n",
        "- Default = 2 → 작게 설정할 수록 분할 노드가 많아져 과적합 가능성 증가  \n",
        "\n",
        "min_samples_leaf\t- 리프노드가 되기 위해 필요한 최소한의 샘플 데이터수\n",
        "- min_samples_split과 함께 과적합 제어 용도\n",
        "- 불균형 데이터의 경우 특정 클래스의 데이터가 극도로 작을 수 있으므로 작게 설정 필요  \n",
        "\n",
        "max_features\t- 최적의 분할을 위해 고려할 최대 feature 개수\n",
        "- Default = 'auto' (결정트리에서는 default가 none이었음)\n",
        "- int형으로 지정 →피처 갯수 / float형으로 지정 →비중\n",
        "- sqrt 또는 auto : 전체 피처 중 √(피처개수) 만큼 선정\n",
        "- log : 전체 피처 중 log2(전체 피처 개수) 만큼 선정  \n",
        "\n",
        "max_depth\t- 트리의 최대 깊이\n",
        "- default = None\n",
        "→ 완벽하게 클래스 값이 결정될 때 까지 분할\n",
        "또는 데이터 개수가 min_samples_split보다 작아질 때까지 분할\n",
        "- 깊이가 깊어지면 과적합될 수 있으므로 적절히 제어 필요  \n",
        "\n",
        "max_leaf_nodes\t리프노드의 최대 개수"
      ]
    },
    {
      "cell_type": "code",
      "metadata": {
        "id": "MnajLlvZs8l7",
        "colab_type": "code",
        "colab": {
          "base_uri": "https://localhost:8080/",
          "height": 425
        },
        "outputId": "db1fbf14-809f-4685-8a2f-76271dde6dfa"
      },
      "source": [
        "from sklearn.model_selection import GridSearchCV\n",
        "\n",
        "param_grid = [\n",
        "  {'n_estimators' : [10, 100], 'max_depth' : [6, 8, 10, 12], 'min_samples_leaf' : [8, 12, 18], 'min_samples_split' : [8, 16, 20]}\n",
        "]\n",
        "\n",
        "forest_reg = RandomForestClassifier()\n",
        "\n",
        "grid_search = GridSearchCV(forest_reg, param_grid, cv=5,\n",
        "                           scoring='neg_mean_squared_error',\n",
        "                           return_train_score=True)\n",
        "\n",
        "grid_search.fit(x_data, y_data)"
      ],
      "execution_count": 14,
      "outputs": [
        {
          "output_type": "execute_result",
          "data": {
            "text/plain": [
              "GridSearchCV(cv=5, error_score=nan,\n",
              "             estimator=RandomForestClassifier(bootstrap=True, ccp_alpha=0.0,\n",
              "                                              class_weight=None,\n",
              "                                              criterion='gini', max_depth=None,\n",
              "                                              max_features='auto',\n",
              "                                              max_leaf_nodes=None,\n",
              "                                              max_samples=None,\n",
              "                                              min_impurity_decrease=0.0,\n",
              "                                              min_impurity_split=None,\n",
              "                                              min_samples_leaf=1,\n",
              "                                              min_samples_split=2,\n",
              "                                              min_weight_fraction_leaf=0.0,\n",
              "                                              n_estimators=100, n_jobs=None,\n",
              "                                              oob_score=False,\n",
              "                                              random_state=None, verbose=0,\n",
              "                                              warm_start=False),\n",
              "             iid='deprecated', n_jobs=None,\n",
              "             param_grid=[{'max_depth': [6, 8, 10, 12],\n",
              "                          'min_samples_leaf': [8, 12, 18],\n",
              "                          'min_samples_split': [8, 16, 20],\n",
              "                          'n_estimators': [10, 100]}],\n",
              "             pre_dispatch='2*n_jobs', refit=True, return_train_score=True,\n",
              "             scoring='neg_mean_squared_error', verbose=0)"
            ]
          },
          "metadata": {
            "tags": []
          },
          "execution_count": 14
        }
      ]
    },
    {
      "cell_type": "code",
      "metadata": {
        "id": "0OPlVTDRvFVX",
        "colab_type": "code",
        "colab": {
          "base_uri": "https://localhost:8080/",
          "height": 87
        },
        "outputId": "ee9b6322-98eb-468f-fbd8-5ba78cbc2442"
      },
      "source": [
        "grid_search.best_params_"
      ],
      "execution_count": 15,
      "outputs": [
        {
          "output_type": "execute_result",
          "data": {
            "text/plain": [
              "{'max_depth': 10,\n",
              " 'min_samples_leaf': 12,\n",
              " 'min_samples_split': 20,\n",
              " 'n_estimators': 10}"
            ]
          },
          "metadata": {
            "tags": []
          },
          "execution_count": 15
        }
      ]
    },
    {
      "cell_type": "code",
      "metadata": {
        "id": "VPKu8Z0pvXOQ",
        "colab_type": "code",
        "colab": {
          "base_uri": "https://localhost:8080/",
          "height": 1000
        },
        "outputId": "6a4fa9ae-a18b-4398-d1f1-57f260159958"
      },
      "source": [
        "cvres = grid_search.cv_results_\n",
        "for mean_score, params in zip(cvres[\"mean_test_score\"], cvres[\"params\"]):\n",
        "  print(np.sqrt(-mean_score), params)"
      ],
      "execution_count": 16,
      "outputs": [
        {
          "output_type": "stream",
          "text": [
            "0.4456599236638885 {'max_depth': 6, 'min_samples_leaf': 8, 'min_samples_split': 8, 'n_estimators': 10}\n",
            "0.43292843411219073 {'max_depth': 6, 'min_samples_leaf': 8, 'min_samples_split': 8, 'n_estimators': 100}\n",
            "0.4355088322918442 {'max_depth': 6, 'min_samples_leaf': 8, 'min_samples_split': 16, 'n_estimators': 10}\n",
            "0.4316215431223883 {'max_depth': 6, 'min_samples_leaf': 8, 'min_samples_split': 16, 'n_estimators': 100}\n",
            "0.4277282761870589 {'max_depth': 6, 'min_samples_leaf': 8, 'min_samples_split': 20, 'n_estimators': 10}\n",
            "0.43164335706337825 {'max_depth': 6, 'min_samples_leaf': 8, 'min_samples_split': 20, 'n_estimators': 100}\n",
            "0.44063854237535505 {'max_depth': 6, 'min_samples_leaf': 12, 'min_samples_split': 8, 'n_estimators': 10}\n",
            "0.4393688730337225 {'max_depth': 6, 'min_samples_leaf': 12, 'min_samples_split': 8, 'n_estimators': 100}\n",
            "0.45441915376557374 {'max_depth': 6, 'min_samples_leaf': 12, 'min_samples_split': 16, 'n_estimators': 10}\n",
            "0.4469398105733168 {'max_depth': 6, 'min_samples_leaf': 12, 'min_samples_split': 16, 'n_estimators': 100}\n",
            "0.45066714159422705 {'max_depth': 6, 'min_samples_leaf': 12, 'min_samples_split': 20, 'n_estimators': 10}\n",
            "0.4393545862412224 {'max_depth': 6, 'min_samples_leaf': 12, 'min_samples_split': 20, 'n_estimators': 100}\n",
            "0.4380740313526674 {'max_depth': 6, 'min_samples_leaf': 18, 'min_samples_split': 8, 'n_estimators': 10}\n",
            "0.44062429675058773 {'max_depth': 6, 'min_samples_leaf': 18, 'min_samples_split': 8, 'n_estimators': 100}\n",
            "0.4494258048632242 {'max_depth': 6, 'min_samples_leaf': 18, 'min_samples_split': 16, 'n_estimators': 10}\n",
            "0.4506880337021413 {'max_depth': 6, 'min_samples_leaf': 18, 'min_samples_split': 16, 'n_estimators': 100}\n",
            "0.4494467546735077 {'max_depth': 6, 'min_samples_leaf': 18, 'min_samples_split': 20, 'n_estimators': 10}\n",
            "0.4431740504226863 {'max_depth': 6, 'min_samples_leaf': 18, 'min_samples_split': 20, 'n_estimators': 100}\n",
            "0.43680409290629063 {'max_depth': 8, 'min_samples_leaf': 8, 'min_samples_split': 8, 'n_estimators': 10}\n",
            "0.4316215431223883 {'max_depth': 8, 'min_samples_leaf': 8, 'min_samples_split': 8, 'n_estimators': 100}\n",
            "0.43676816531240975 {'max_depth': 8, 'min_samples_leaf': 8, 'min_samples_split': 16, 'n_estimators': 10}\n",
            "0.4342097078932297 {'max_depth': 8, 'min_samples_leaf': 8, 'min_samples_split': 16, 'n_estimators': 100}\n",
            "0.43292118450471984 {'max_depth': 8, 'min_samples_leaf': 8, 'min_samples_split': 20, 'n_estimators': 10}\n",
            "0.4329356835982653 {'max_depth': 8, 'min_samples_leaf': 8, 'min_samples_split': 20, 'n_estimators': 100}\n",
            "0.45562622239636624 {'max_depth': 8, 'min_samples_leaf': 12, 'min_samples_split': 8, 'n_estimators': 10}\n",
            "0.441904563749269 {'max_depth': 8, 'min_samples_leaf': 12, 'min_samples_split': 8, 'n_estimators': 100}\n",
            "0.43549441886719753 {'max_depth': 8, 'min_samples_leaf': 12, 'min_samples_split': 16, 'n_estimators': 10}\n",
            "0.441904563749269 {'max_depth': 8, 'min_samples_leaf': 12, 'min_samples_split': 16, 'n_estimators': 100}\n",
            "0.43807403135266737 {'max_depth': 8, 'min_samples_leaf': 12, 'min_samples_split': 20, 'n_estimators': 10}\n",
            "0.4380811956880158 {'max_depth': 8, 'min_samples_leaf': 12, 'min_samples_split': 20, 'n_estimators': 100}\n",
            "0.4431882140894287 {'max_depth': 8, 'min_samples_leaf': 18, 'min_samples_split': 8, 'n_estimators': 10}\n",
            "0.45316039168688477 {'max_depth': 8, 'min_samples_leaf': 18, 'min_samples_split': 8, 'n_estimators': 100}\n",
            "0.4469538549056713 {'max_depth': 8, 'min_samples_leaf': 18, 'min_samples_split': 16, 'n_estimators': 10}\n",
            "0.44570217632325476 {'max_depth': 8, 'min_samples_leaf': 18, 'min_samples_split': 16, 'n_estimators': 100}\n",
            "0.465318437074536 {'max_depth': 8, 'min_samples_leaf': 18, 'min_samples_split': 20, 'n_estimators': 10}\n",
            "0.4431882140894287 {'max_depth': 8, 'min_samples_leaf': 18, 'min_samples_split': 20, 'n_estimators': 100}\n",
            "0.43805253764358726 {'max_depth': 10, 'min_samples_leaf': 8, 'min_samples_split': 8, 'n_estimators': 10}\n",
            "0.43033256339889187 {'max_depth': 10, 'min_samples_leaf': 8, 'min_samples_split': 8, 'n_estimators': 100}\n",
            "0.4456810504942905 {'max_depth': 10, 'min_samples_leaf': 8, 'min_samples_split': 16, 'n_estimators': 10}\n",
            "0.4367681653124097 {'max_depth': 10, 'min_samples_leaf': 8, 'min_samples_split': 16, 'n_estimators': 100}\n",
            "0.4506949975228993 {'max_depth': 10, 'min_samples_leaf': 8, 'min_samples_split': 20, 'n_estimators': 10}\n",
            "0.4355088322918441 {'max_depth': 10, 'min_samples_leaf': 8, 'min_samples_split': 20, 'n_estimators': 100}\n",
            "0.4355088322918441 {'max_depth': 10, 'min_samples_leaf': 12, 'min_samples_split': 8, 'n_estimators': 10}\n",
            "0.4431528040737848 {'max_depth': 10, 'min_samples_leaf': 12, 'min_samples_split': 8, 'n_estimators': 100}\n",
            "0.4518981233404289 {'max_depth': 10, 'min_samples_leaf': 12, 'min_samples_split': 16, 'n_estimators': 10}\n",
            "0.4342097078932297 {'max_depth': 10, 'min_samples_leaf': 12, 'min_samples_split': 16, 'n_estimators': 100}\n",
            "0.42768424781697323 {'max_depth': 10, 'min_samples_leaf': 12, 'min_samples_split': 20, 'n_estimators': 10}\n",
            "0.4367897222233598 {'max_depth': 10, 'min_samples_leaf': 12, 'min_samples_split': 20, 'n_estimators': 100}\n",
            "0.4677537249153448 {'max_depth': 10, 'min_samples_leaf': 18, 'min_samples_split': 8, 'n_estimators': 10}\n",
            "0.44443284915024445 {'max_depth': 10, 'min_samples_leaf': 18, 'min_samples_split': 8, 'n_estimators': 100}\n",
            "0.44062429675058773 {'max_depth': 10, 'min_samples_leaf': 18, 'min_samples_split': 16, 'n_estimators': 10}\n",
            "0.4406456650150337 {'max_depth': 10, 'min_samples_leaf': 18, 'min_samples_split': 16, 'n_estimators': 100}\n",
            "0.43933315518135485 {'max_depth': 10, 'min_samples_leaf': 18, 'min_samples_split': 20, 'n_estimators': 10}\n",
            "0.441904563749269 {'max_depth': 10, 'min_samples_leaf': 18, 'min_samples_split': 20, 'n_estimators': 100}\n",
            "0.42898118513130684 {'max_depth': 12, 'min_samples_leaf': 8, 'min_samples_split': 8, 'n_estimators': 10}\n",
            "0.4355016256391494 {'max_depth': 12, 'min_samples_leaf': 8, 'min_samples_split': 8, 'n_estimators': 100}\n",
            "0.42899581738798825 {'max_depth': 12, 'min_samples_leaf': 8, 'min_samples_split': 16, 'n_estimators': 10}\n",
            "0.4355160388252876 {'max_depth': 12, 'min_samples_leaf': 8, 'min_samples_split': 16, 'n_estimators': 100}\n",
            "0.43807403135266737 {'max_depth': 12, 'min_samples_leaf': 8, 'min_samples_split': 20, 'n_estimators': 10}\n",
            "0.4290250804042152 {'max_depth': 12, 'min_samples_leaf': 8, 'min_samples_split': 20, 'n_estimators': 100}\n",
            "0.4444399109819771 {'max_depth': 12, 'min_samples_leaf': 12, 'min_samples_split': 8, 'n_estimators': 10}\n",
            "0.4393474426707546 {'max_depth': 12, 'min_samples_leaf': 12, 'min_samples_split': 8, 'n_estimators': 100}\n",
            "0.43162881455854574 {'max_depth': 12, 'min_samples_leaf': 12, 'min_samples_split': 16, 'n_estimators': 10}\n",
            "0.4482160427634442 {'max_depth': 12, 'min_samples_leaf': 12, 'min_samples_split': 16, 'n_estimators': 100}\n",
            "0.4393617296955432 {'max_depth': 12, 'min_samples_leaf': 12, 'min_samples_split': 20, 'n_estimators': 10}\n",
            "0.43936172969554316 {'max_depth': 12, 'min_samples_leaf': 12, 'min_samples_split': 20, 'n_estimators': 100}\n",
            "0.4519536817390824 {'max_depth': 12, 'min_samples_leaf': 18, 'min_samples_split': 8, 'n_estimators': 10}\n",
            "0.441904563749269 {'max_depth': 12, 'min_samples_leaf': 18, 'min_samples_split': 8, 'n_estimators': 100}\n",
            "0.4494397715119173 {'max_depth': 12, 'min_samples_leaf': 18, 'min_samples_split': 16, 'n_estimators': 10}\n",
            "0.443166968419563 {'max_depth': 12, 'min_samples_leaf': 18, 'min_samples_split': 16, 'n_estimators': 100}\n",
            "0.4642177134639431 {'max_depth': 12, 'min_samples_leaf': 18, 'min_samples_split': 20, 'n_estimators': 10}\n",
            "0.444446972701504 {'max_depth': 12, 'min_samples_leaf': 18, 'min_samples_split': 20, 'n_estimators': 100}\n"
          ],
          "name": "stdout"
        }
      ]
    },
    {
      "cell_type": "code",
      "metadata": {
        "id": "uhKcfjGav51T",
        "colab_type": "code",
        "colab": {
          "base_uri": "https://localhost:8080/",
          "height": 158
        },
        "outputId": "fb8f1a96-6aa3-4e7b-ffc6-b7c4c835b54f"
      },
      "source": [
        "forest = RandomForestClassifier(n_estimators=10, max_depth = 8, min_samples_leaf = 8, min_samples_split = 20)\n",
        "forest.fit(x_data, y_data)"
      ],
      "execution_count": 17,
      "outputs": [
        {
          "output_type": "execute_result",
          "data": {
            "text/plain": [
              "RandomForestClassifier(bootstrap=True, ccp_alpha=0.0, class_weight=None,\n",
              "                       criterion='gini', max_depth=8, max_features='auto',\n",
              "                       max_leaf_nodes=None, max_samples=None,\n",
              "                       min_impurity_decrease=0.0, min_impurity_split=None,\n",
              "                       min_samples_leaf=8, min_samples_split=20,\n",
              "                       min_weight_fraction_leaf=0.0, n_estimators=10,\n",
              "                       n_jobs=None, oob_score=False, random_state=None,\n",
              "                       verbose=0, warm_start=False)"
            ]
          },
          "metadata": {
            "tags": []
          },
          "execution_count": 17
        }
      ]
    },
    {
      "cell_type": "code",
      "metadata": {
        "id": "wjmXOkZCqxNI",
        "colab_type": "code",
        "colab": {}
      },
      "source": [
        ""
      ],
      "execution_count": 17,
      "outputs": []
    },
    {
      "cell_type": "code",
      "metadata": {
        "id": "qI36dFRzqJdP",
        "colab_type": "code",
        "colab": {}
      },
      "source": [
        "y_predict = forest.predict(x2_data)"
      ],
      "execution_count": 18,
      "outputs": []
    },
    {
      "cell_type": "code",
      "metadata": {
        "id": "jD8aVEcc6VJt",
        "colab_type": "code",
        "colab": {
          "base_uri": "https://localhost:8080/",
          "height": 354
        },
        "outputId": "08160c04-7ccf-4381-9acc-790793f950eb"
      },
      "source": [
        "y_predict"
      ],
      "execution_count": 19,
      "outputs": [
        {
          "output_type": "execute_result",
          "data": {
            "text/plain": [
              "array([0, 0, 0, 0, 1, 0, 1, 0, 1, 0, 0, 0, 1, 0, 1, 1, 0, 0, 1, 1, 0, 0,\n",
              "       1, 0, 1, 0, 1, 0, 1, 0, 0, 0, 0, 0, 0, 0, 0, 1, 0, 0, 0, 0, 0, 1,\n",
              "       1, 0, 0, 0, 1, 0, 0, 0, 1, 1, 0, 0, 0, 0, 0, 1, 0, 0, 0, 1, 1, 1,\n",
              "       1, 0, 0, 1, 1, 0, 1, 0, 1, 0, 0, 1, 0, 1, 1, 0, 0, 0, 0, 0, 1, 1,\n",
              "       1, 1, 1, 0, 1, 0, 0, 0, 1, 0, 1, 0, 1, 0, 0, 0, 1, 0, 0, 0, 0, 0,\n",
              "       0, 1, 1, 1, 1, 0, 0, 1, 1, 1, 1, 0, 1, 0, 0, 1, 0, 1, 0, 0, 0, 0,\n",
              "       0, 0, 0, 0, 0, 0, 1, 0, 0, 1, 0, 0, 1, 0, 0, 0, 0, 0, 1, 0, 0, 0,\n",
              "       0, 0, 1, 1, 1, 0, 1, 0, 1, 0, 0, 0, 0, 0, 1, 1, 0, 0, 0, 0, 0, 1,\n",
              "       1, 0, 1, 1, 0, 0, 1, 0, 1, 0, 1, 0, 0, 0, 0, 0, 0, 0, 0, 0, 1, 1,\n",
              "       0, 0, 1, 1, 0, 1, 0, 0, 1, 0, 1, 0, 0, 0, 0, 1, 0, 0, 1, 0, 1, 0,\n",
              "       1, 0, 1, 0, 1, 0, 0, 1, 0, 0, 0, 1, 0, 0, 1, 0, 0, 0, 1, 1, 1, 1,\n",
              "       0, 0, 0, 0, 1, 0, 1, 1, 1, 0, 0, 0, 0, 0, 0, 0, 1, 0, 0, 0, 1, 1,\n",
              "       0, 0, 0, 0, 0, 0, 0, 0, 1, 1, 0, 1, 0, 0, 0, 0, 1, 1, 1, 1, 1, 0,\n",
              "       0, 0, 0, 0, 0, 1, 0, 0, 0, 0, 1, 0, 0, 0, 0, 0, 0, 0, 1, 1, 0, 0,\n",
              "       0, 0, 0, 0, 0, 1, 1, 1, 0, 0, 0, 0, 0, 0, 0, 0, 1, 0, 1, 0, 0, 0,\n",
              "       1, 0, 0, 1, 0, 0, 0, 0, 0, 0, 0, 0, 0, 1, 0, 1, 0, 1, 0, 1, 1, 0,\n",
              "       0, 0, 0, 0, 1, 0, 0, 0, 0, 1, 1, 0, 1, 0, 0, 1, 1, 0, 0, 1, 0, 0,\n",
              "       1, 1, 0, 0, 0, 0, 0, 0, 0, 1, 0, 1, 0, 0, 0, 0, 0, 1, 0, 0, 0, 1,\n",
              "       0, 1, 0, 0, 1, 0, 1, 0, 1, 0, 0, 0, 1, 1, 1, 1, 1, 0, 1, 0, 0, 0])"
            ]
          },
          "metadata": {
            "tags": []
          },
          "execution_count": 19
        }
      ]
    },
    {
      "cell_type": "markdown",
      "metadata": {
        "id": "4sl-Tz3lwwMl",
        "colab_type": "text"
      },
      "source": [
        "각 특성의 상대적인 중요도"
      ]
    },
    {
      "cell_type": "code",
      "metadata": {
        "id": "cllh-9jpwuET",
        "colab_type": "code",
        "colab": {
          "base_uri": "https://localhost:8080/",
          "height": 70
        },
        "outputId": "8f9b1033-28d3-4234-f9eb-af407e5ae6e9"
      },
      "source": [
        "feature_importances = grid_search.best_estimator_.feature_importances_\n",
        "feature_importances"
      ],
      "execution_count": 23,
      "outputs": [
        {
          "output_type": "execute_result",
          "data": {
            "text/plain": [
              "array([0.07857141, 0.02961951, 0.02156484, 0.16137637, 0.04620123,\n",
              "       0.02065801, 0.06226376, 0.4483512 , 0.09767221, 0.0167208 ,\n",
              "       0.00772901, 0.00927165])"
            ]
          },
          "metadata": {
            "tags": []
          },
          "execution_count": 23
        }
      ]
    },
    {
      "cell_type": "code",
      "metadata": {
        "id": "940VYt6uxCD9",
        "colab_type": "code",
        "colab": {
          "base_uri": "https://localhost:8080/",
          "height": 230
        },
        "outputId": "5c760e9b-4126-4a0d-f4a7-dd2659b5d6b4"
      },
      "source": [
        "sorted(zip(feature_importances, list(df_test)[1:]), reverse=True)"
      ],
      "execution_count": 40,
      "outputs": [
        {
          "output_type": "execute_result",
          "data": {
            "text/plain": [
              "[(0.4483511981137679, 'Sex_female'),\n",
              " (0.16137637415613038, 'Fare'),\n",
              " (0.097672214260589, 'Sex_male'),\n",
              " (0.07857140648717023, 'Age'),\n",
              " (0.06226376229631971, 'Pclass_3'),\n",
              " (0.04620122791935432, 'Pclass_1'),\n",
              " (0.02961950579722538, 'SibSp'),\n",
              " (0.021564842157239698, 'Parch'),\n",
              " (0.020658011755971678, 'Pclass_2'),\n",
              " (0.016720796706554478, 'Embarked_C'),\n",
              " (0.00927164567721492, 'Embarked_S'),\n",
              " (0.00772901467246233, 'Embarked_Q')]"
            ]
          },
          "metadata": {
            "tags": []
          },
          "execution_count": 40
        }
      ]
    },
    {
      "cell_type": "code",
      "metadata": {
        "id": "3_NJ_Y0Qs2zr",
        "colab_type": "code",
        "colab": {
          "base_uri": "https://localhost:8080/",
          "height": 406
        },
        "outputId": "2a2efb81-2730-4790-bf17-fe293794097a"
      },
      "source": [
        "df_test"
      ],
      "execution_count": 20,
      "outputs": [
        {
          "output_type": "execute_result",
          "data": {
            "text/html": [
              "<div>\n",
              "<style scoped>\n",
              "    .dataframe tbody tr th:only-of-type {\n",
              "        vertical-align: middle;\n",
              "    }\n",
              "\n",
              "    .dataframe tbody tr th {\n",
              "        vertical-align: top;\n",
              "    }\n",
              "\n",
              "    .dataframe thead th {\n",
              "        text-align: right;\n",
              "    }\n",
              "</style>\n",
              "<table border=\"1\" class=\"dataframe\">\n",
              "  <thead>\n",
              "    <tr style=\"text-align: right;\">\n",
              "      <th></th>\n",
              "      <th>PassengerId</th>\n",
              "      <th>Age</th>\n",
              "      <th>SibSp</th>\n",
              "      <th>Parch</th>\n",
              "      <th>Fare</th>\n",
              "      <th>Pclass_1</th>\n",
              "      <th>Pclass_2</th>\n",
              "      <th>Pclass_3</th>\n",
              "      <th>Sex_female</th>\n",
              "      <th>Sex_male</th>\n",
              "      <th>Embarked_C</th>\n",
              "      <th>Embarked_Q</th>\n",
              "      <th>Embarked_S</th>\n",
              "    </tr>\n",
              "  </thead>\n",
              "  <tbody>\n",
              "    <tr>\n",
              "      <th>0</th>\n",
              "      <td>892</td>\n",
              "      <td>34.50000</td>\n",
              "      <td>0</td>\n",
              "      <td>0</td>\n",
              "      <td>7.8292</td>\n",
              "      <td>0</td>\n",
              "      <td>0</td>\n",
              "      <td>1</td>\n",
              "      <td>0</td>\n",
              "      <td>1</td>\n",
              "      <td>0</td>\n",
              "      <td>1</td>\n",
              "      <td>0</td>\n",
              "    </tr>\n",
              "    <tr>\n",
              "      <th>1</th>\n",
              "      <td>893</td>\n",
              "      <td>47.00000</td>\n",
              "      <td>1</td>\n",
              "      <td>0</td>\n",
              "      <td>7.0000</td>\n",
              "      <td>0</td>\n",
              "      <td>0</td>\n",
              "      <td>1</td>\n",
              "      <td>1</td>\n",
              "      <td>0</td>\n",
              "      <td>0</td>\n",
              "      <td>0</td>\n",
              "      <td>1</td>\n",
              "    </tr>\n",
              "    <tr>\n",
              "      <th>2</th>\n",
              "      <td>894</td>\n",
              "      <td>62.00000</td>\n",
              "      <td>0</td>\n",
              "      <td>0</td>\n",
              "      <td>9.6875</td>\n",
              "      <td>0</td>\n",
              "      <td>1</td>\n",
              "      <td>0</td>\n",
              "      <td>0</td>\n",
              "      <td>1</td>\n",
              "      <td>0</td>\n",
              "      <td>1</td>\n",
              "      <td>0</td>\n",
              "    </tr>\n",
              "    <tr>\n",
              "      <th>3</th>\n",
              "      <td>895</td>\n",
              "      <td>27.00000</td>\n",
              "      <td>0</td>\n",
              "      <td>0</td>\n",
              "      <td>8.6625</td>\n",
              "      <td>0</td>\n",
              "      <td>0</td>\n",
              "      <td>1</td>\n",
              "      <td>0</td>\n",
              "      <td>1</td>\n",
              "      <td>0</td>\n",
              "      <td>0</td>\n",
              "      <td>1</td>\n",
              "    </tr>\n",
              "    <tr>\n",
              "      <th>4</th>\n",
              "      <td>896</td>\n",
              "      <td>22.00000</td>\n",
              "      <td>1</td>\n",
              "      <td>1</td>\n",
              "      <td>12.2875</td>\n",
              "      <td>0</td>\n",
              "      <td>0</td>\n",
              "      <td>1</td>\n",
              "      <td>1</td>\n",
              "      <td>0</td>\n",
              "      <td>0</td>\n",
              "      <td>0</td>\n",
              "      <td>1</td>\n",
              "    </tr>\n",
              "    <tr>\n",
              "      <th>...</th>\n",
              "      <td>...</td>\n",
              "      <td>...</td>\n",
              "      <td>...</td>\n",
              "      <td>...</td>\n",
              "      <td>...</td>\n",
              "      <td>...</td>\n",
              "      <td>...</td>\n",
              "      <td>...</td>\n",
              "      <td>...</td>\n",
              "      <td>...</td>\n",
              "      <td>...</td>\n",
              "      <td>...</td>\n",
              "      <td>...</td>\n",
              "    </tr>\n",
              "    <tr>\n",
              "      <th>413</th>\n",
              "      <td>1305</td>\n",
              "      <td>30.27259</td>\n",
              "      <td>0</td>\n",
              "      <td>0</td>\n",
              "      <td>8.0500</td>\n",
              "      <td>0</td>\n",
              "      <td>0</td>\n",
              "      <td>1</td>\n",
              "      <td>0</td>\n",
              "      <td>1</td>\n",
              "      <td>0</td>\n",
              "      <td>0</td>\n",
              "      <td>1</td>\n",
              "    </tr>\n",
              "    <tr>\n",
              "      <th>414</th>\n",
              "      <td>1306</td>\n",
              "      <td>39.00000</td>\n",
              "      <td>0</td>\n",
              "      <td>0</td>\n",
              "      <td>108.9000</td>\n",
              "      <td>1</td>\n",
              "      <td>0</td>\n",
              "      <td>0</td>\n",
              "      <td>1</td>\n",
              "      <td>0</td>\n",
              "      <td>1</td>\n",
              "      <td>0</td>\n",
              "      <td>0</td>\n",
              "    </tr>\n",
              "    <tr>\n",
              "      <th>415</th>\n",
              "      <td>1307</td>\n",
              "      <td>38.50000</td>\n",
              "      <td>0</td>\n",
              "      <td>0</td>\n",
              "      <td>7.2500</td>\n",
              "      <td>0</td>\n",
              "      <td>0</td>\n",
              "      <td>1</td>\n",
              "      <td>0</td>\n",
              "      <td>1</td>\n",
              "      <td>0</td>\n",
              "      <td>0</td>\n",
              "      <td>1</td>\n",
              "    </tr>\n",
              "    <tr>\n",
              "      <th>416</th>\n",
              "      <td>1308</td>\n",
              "      <td>30.27259</td>\n",
              "      <td>0</td>\n",
              "      <td>0</td>\n",
              "      <td>8.0500</td>\n",
              "      <td>0</td>\n",
              "      <td>0</td>\n",
              "      <td>1</td>\n",
              "      <td>0</td>\n",
              "      <td>1</td>\n",
              "      <td>0</td>\n",
              "      <td>0</td>\n",
              "      <td>1</td>\n",
              "    </tr>\n",
              "    <tr>\n",
              "      <th>417</th>\n",
              "      <td>1309</td>\n",
              "      <td>30.27259</td>\n",
              "      <td>1</td>\n",
              "      <td>1</td>\n",
              "      <td>22.3583</td>\n",
              "      <td>0</td>\n",
              "      <td>0</td>\n",
              "      <td>1</td>\n",
              "      <td>0</td>\n",
              "      <td>1</td>\n",
              "      <td>1</td>\n",
              "      <td>0</td>\n",
              "      <td>0</td>\n",
              "    </tr>\n",
              "  </tbody>\n",
              "</table>\n",
              "<p>418 rows × 13 columns</p>\n",
              "</div>"
            ],
            "text/plain": [
              "     PassengerId       Age  SibSp  ...  Embarked_C  Embarked_Q  Embarked_S\n",
              "0            892  34.50000      0  ...           0           1           0\n",
              "1            893  47.00000      1  ...           0           0           1\n",
              "2            894  62.00000      0  ...           0           1           0\n",
              "3            895  27.00000      0  ...           0           0           1\n",
              "4            896  22.00000      1  ...           0           0           1\n",
              "..           ...       ...    ...  ...         ...         ...         ...\n",
              "413         1305  30.27259      0  ...           0           0           1\n",
              "414         1306  39.00000      0  ...           1           0           0\n",
              "415         1307  38.50000      0  ...           0           0           1\n",
              "416         1308  30.27259      0  ...           0           0           1\n",
              "417         1309  30.27259      1  ...           1           0           0\n",
              "\n",
              "[418 rows x 13 columns]"
            ]
          },
          "metadata": {
            "tags": []
          },
          "execution_count": 20
        }
      ]
    },
    {
      "cell_type": "code",
      "metadata": {
        "id": "Lh260IVmqYVi",
        "colab_type": "code",
        "colab": {}
      },
      "source": [
        "submission=pd.DataFrame({\"PassengerId\":df_test[\"PassengerId\"], \"Survived\":y_predict})"
      ],
      "execution_count": 21,
      "outputs": []
    },
    {
      "cell_type": "code",
      "metadata": {
        "id": "1lmIJu2crBkB",
        "colab_type": "code",
        "colab": {}
      },
      "source": [
        "submission.to_csv('submission.csv', index=False)"
      ],
      "execution_count": 22,
      "outputs": []
    },
    {
      "cell_type": "code",
      "metadata": {
        "id": "6Q1K_mV_tWoF",
        "colab_type": "code",
        "colab": {}
      },
      "source": [
        ""
      ],
      "execution_count": null,
      "outputs": []
    }
  ]
}