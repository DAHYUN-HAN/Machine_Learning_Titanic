{
  "nbformat": 4,
  "nbformat_minor": 0,
  "metadata": {
    "kernelspec": {
      "display_name": "Python 3",
      "language": "python",
      "name": "python3"
    },
    "language_info": {
      "codemirror_mode": {
        "name": "ipython",
        "version": 3
      },
      "file_extension": ".py",
      "mimetype": "text/x-python",
      "name": "python",
      "nbconvert_exporter": "python",
      "pygments_lexer": "ipython3",
      "version": "3.6.10"
    },
    "colab": {
      "name": "report.ipynb",
      "provenance": [],
      "collapsed_sections": []
    }
  },
  "cells": [
    {
      "cell_type": "markdown",
      "metadata": {
        "id": "JdJL7X8d9HWm",
        "colab_type": "text"
      },
      "source": [
        "### kaggle 사용을 위한 준비단계"
      ]
    },
    {
      "cell_type": "code",
      "metadata": {
        "id": "MUx3Amdc9HWn",
        "colab_type": "code",
        "colab": {
          "base_uri": "https://localhost:8080/",
          "height": 212
        },
        "outputId": "528a160e-aece-48c4-b4eb-481b430e2343"
      },
      "source": [
        "pip install kaggle --upgrade"
      ],
      "execution_count": 1,
      "outputs": [
        {
          "output_type": "stream",
          "text": [
            "Requirement already up-to-date: kaggle in /usr/local/lib/python3.6/dist-packages (1.5.6)\n",
            "Requirement already satisfied, skipping upgrade: certifi in /usr/local/lib/python3.6/dist-packages (from kaggle) (2020.6.20)\n",
            "Requirement already satisfied, skipping upgrade: six>=1.10 in /usr/local/lib/python3.6/dist-packages (from kaggle) (1.12.0)\n",
            "Requirement already satisfied, skipping upgrade: requests in /usr/local/lib/python3.6/dist-packages (from kaggle) (2.23.0)\n",
            "Requirement already satisfied, skipping upgrade: python-slugify in /usr/local/lib/python3.6/dist-packages (from kaggle) (4.0.0)\n",
            "Requirement already satisfied, skipping upgrade: urllib3<1.25,>=1.21.1 in /usr/local/lib/python3.6/dist-packages (from kaggle) (1.24.3)\n",
            "Requirement already satisfied, skipping upgrade: python-dateutil in /usr/local/lib/python3.6/dist-packages (from kaggle) (2.8.1)\n",
            "Requirement already satisfied, skipping upgrade: tqdm in /usr/local/lib/python3.6/dist-packages (from kaggle) (4.41.1)\n",
            "Requirement already satisfied, skipping upgrade: chardet<4,>=3.0.2 in /usr/local/lib/python3.6/dist-packages (from requests->kaggle) (3.0.4)\n",
            "Requirement already satisfied, skipping upgrade: idna<3,>=2.5 in /usr/local/lib/python3.6/dist-packages (from requests->kaggle) (2.9)\n",
            "Requirement already satisfied, skipping upgrade: text-unidecode>=1.3 in /usr/local/lib/python3.6/dist-packages (from python-slugify->kaggle) (1.3)\n"
          ],
          "name": "stdout"
        }
      ]
    },
    {
      "cell_type": "code",
      "metadata": {
        "id": "Fi59GQkC9HWr",
        "colab_type": "code",
        "colab": {
          "base_uri": "https://localhost:8080/",
          "height": 125
        },
        "outputId": "3edee92d-756f-40b5-d43d-fc024b241466"
      },
      "source": [
        "#colab에서 g란 이름으로 구글드라이브의 root를 MOUNT\n",
        "from google.colab import drive\n",
        "drive.mount('/content/g')"
      ],
      "execution_count": 2,
      "outputs": [
        {
          "output_type": "stream",
          "text": [
            "Go to this URL in a browser: https://accounts.google.com/o/oauth2/auth?client_id=947318989803-6bn6qk8qdgf4n4g3pfee6491hc0brc4i.apps.googleusercontent.com&redirect_uri=urn%3aietf%3awg%3aoauth%3a2.0%3aoob&response_type=code&scope=email%20https%3a%2f%2fwww.googleapis.com%2fauth%2fdocs.test%20https%3a%2f%2fwww.googleapis.com%2fauth%2fdrive%20https%3a%2f%2fwww.googleapis.com%2fauth%2fdrive.photos.readonly%20https%3a%2f%2fwww.googleapis.com%2fauth%2fpeopleapi.readonly\n",
            "\n",
            "Enter your authorization code:\n",
            "··········\n",
            "Mounted at /content/g\n"
          ],
          "name": "stdout"
        }
      ]
    },
    {
      "cell_type": "code",
      "metadata": {
        "id": "V6gX0fPm9HWt",
        "colab_type": "code",
        "colab": {}
      },
      "source": [
        "!mkdir -p ~/.kaggle\n",
        "!cp \"/content/g/My Drive/kaggle/kaggle.json\" ~/.kaggle/\n",
        "!chmod 600 ~/.kaggle/kaggle.json"
      ],
      "execution_count": 3,
      "outputs": []
    },
    {
      "cell_type": "markdown",
      "metadata": {
        "id": "f8r4HajgAybx",
        "colab_type": "text"
      },
      "source": [
        "### 데이터 다운로드"
      ]
    },
    {
      "cell_type": "code",
      "metadata": {
        "id": "8dF0NtyZ9HWv",
        "colab_type": "code",
        "colab": {
          "base_uri": "https://localhost:8080/",
          "height": 194
        },
        "outputId": "dbbd210d-0bf5-423e-f6d7-a5274ea4b26d"
      },
      "source": [
        "!kaggle competitions download -c titanic"
      ],
      "execution_count": 4,
      "outputs": [
        {
          "output_type": "stream",
          "text": [
            "Warning: Looks like you're using an outdated API Version, please consider updating (server 1.5.6 / client 1.5.4)\n",
            "Downloading train.csv to /content\n",
            "\r  0% 0.00/59.8k [00:00<?, ?B/s]\n",
            "100% 59.8k/59.8k [00:00<00:00, 57.2MB/s]\n",
            "Downloading test.csv to /content\n",
            "  0% 0.00/28.0k [00:00<?, ?B/s]\n",
            "100% 28.0k/28.0k [00:00<00:00, 24.2MB/s]\n",
            "Downloading gender_submission.csv to /content\n",
            "  0% 0.00/3.18k [00:00<?, ?B/s]\n",
            "100% 3.18k/3.18k [00:00<00:00, 3.24MB/s]\n"
          ],
          "name": "stdout"
        }
      ]
    },
    {
      "cell_type": "markdown",
      "metadata": {
        "id": "VuBnOd-39HWw",
        "colab_type": "text"
      },
      "source": [
        "### titanic 데이터 구조 훑어보기"
      ]
    },
    {
      "cell_type": "code",
      "metadata": {
        "id": "XLCYvqiB9HWx",
        "colab_type": "code",
        "colab": {}
      },
      "source": [
        "import numpy as np\n",
        "import pandas as pd\n",
        "import matplotlib.pyplot as plt\n",
        "\n",
        "df_train = pd.read_csv('./train.csv')\n",
        "df_test = pd.read_csv('./test.csv')"
      ],
      "execution_count": 326,
      "outputs": []
    },
    {
      "cell_type": "code",
      "metadata": {
        "id": "CBbdjjtl9HWz",
        "colab_type": "code",
        "colab": {
          "base_uri": "https://localhost:8080/",
          "height": 674
        },
        "outputId": "5caac3e4-4483-468e-d1be-f068b89823da"
      },
      "source": [
        "df_train.info()\n",
        "df_test.info()"
      ],
      "execution_count": 327,
      "outputs": [
        {
          "output_type": "stream",
          "text": [
            "<class 'pandas.core.frame.DataFrame'>\n",
            "RangeIndex: 891 entries, 0 to 890\n",
            "Data columns (total 12 columns):\n",
            " #   Column       Non-Null Count  Dtype  \n",
            "---  ------       --------------  -----  \n",
            " 0   PassengerId  891 non-null    int64  \n",
            " 1   Survived     891 non-null    int64  \n",
            " 2   Pclass       891 non-null    int64  \n",
            " 3   Name         891 non-null    object \n",
            " 4   Sex          891 non-null    object \n",
            " 5   Age          714 non-null    float64\n",
            " 6   SibSp        891 non-null    int64  \n",
            " 7   Parch        891 non-null    int64  \n",
            " 8   Ticket       891 non-null    object \n",
            " 9   Fare         891 non-null    float64\n",
            " 10  Cabin        204 non-null    object \n",
            " 11  Embarked     889 non-null    object \n",
            "dtypes: float64(2), int64(5), object(5)\n",
            "memory usage: 83.7+ KB\n",
            "<class 'pandas.core.frame.DataFrame'>\n",
            "RangeIndex: 418 entries, 0 to 417\n",
            "Data columns (total 11 columns):\n",
            " #   Column       Non-Null Count  Dtype  \n",
            "---  ------       --------------  -----  \n",
            " 0   PassengerId  418 non-null    int64  \n",
            " 1   Pclass       418 non-null    int64  \n",
            " 2   Name         418 non-null    object \n",
            " 3   Sex          418 non-null    object \n",
            " 4   Age          332 non-null    float64\n",
            " 5   SibSp        418 non-null    int64  \n",
            " 6   Parch        418 non-null    int64  \n",
            " 7   Ticket       418 non-null    object \n",
            " 8   Fare         417 non-null    float64\n",
            " 9   Cabin        91 non-null     object \n",
            " 10  Embarked     418 non-null    object \n",
            "dtypes: float64(2), int64(4), object(5)\n",
            "memory usage: 36.0+ KB\n"
          ],
          "name": "stdout"
        }
      ]
    },
    {
      "cell_type": "code",
      "metadata": {
        "id": "FGE4KhVw9HW0",
        "colab_type": "code",
        "colab": {
          "base_uri": "https://localhost:8080/",
          "height": 197
        },
        "outputId": "37404766-4e8d-4d1c-f42c-40380d73b6aa"
      },
      "source": [
        "df_train.head()"
      ],
      "execution_count": 328,
      "outputs": [
        {
          "output_type": "execute_result",
          "data": {
            "text/html": [
              "<div>\n",
              "<style scoped>\n",
              "    .dataframe tbody tr th:only-of-type {\n",
              "        vertical-align: middle;\n",
              "    }\n",
              "\n",
              "    .dataframe tbody tr th {\n",
              "        vertical-align: top;\n",
              "    }\n",
              "\n",
              "    .dataframe thead th {\n",
              "        text-align: right;\n",
              "    }\n",
              "</style>\n",
              "<table border=\"1\" class=\"dataframe\">\n",
              "  <thead>\n",
              "    <tr style=\"text-align: right;\">\n",
              "      <th></th>\n",
              "      <th>PassengerId</th>\n",
              "      <th>Survived</th>\n",
              "      <th>Pclass</th>\n",
              "      <th>Name</th>\n",
              "      <th>Sex</th>\n",
              "      <th>Age</th>\n",
              "      <th>SibSp</th>\n",
              "      <th>Parch</th>\n",
              "      <th>Ticket</th>\n",
              "      <th>Fare</th>\n",
              "      <th>Cabin</th>\n",
              "      <th>Embarked</th>\n",
              "    </tr>\n",
              "  </thead>\n",
              "  <tbody>\n",
              "    <tr>\n",
              "      <th>0</th>\n",
              "      <td>1</td>\n",
              "      <td>0</td>\n",
              "      <td>3</td>\n",
              "      <td>Braund, Mr. Owen Harris</td>\n",
              "      <td>male</td>\n",
              "      <td>22.0</td>\n",
              "      <td>1</td>\n",
              "      <td>0</td>\n",
              "      <td>A/5 21171</td>\n",
              "      <td>7.2500</td>\n",
              "      <td>NaN</td>\n",
              "      <td>S</td>\n",
              "    </tr>\n",
              "    <tr>\n",
              "      <th>1</th>\n",
              "      <td>2</td>\n",
              "      <td>1</td>\n",
              "      <td>1</td>\n",
              "      <td>Cumings, Mrs. John Bradley (Florence Briggs Th...</td>\n",
              "      <td>female</td>\n",
              "      <td>38.0</td>\n",
              "      <td>1</td>\n",
              "      <td>0</td>\n",
              "      <td>PC 17599</td>\n",
              "      <td>71.2833</td>\n",
              "      <td>C85</td>\n",
              "      <td>C</td>\n",
              "    </tr>\n",
              "    <tr>\n",
              "      <th>2</th>\n",
              "      <td>3</td>\n",
              "      <td>1</td>\n",
              "      <td>3</td>\n",
              "      <td>Heikkinen, Miss. Laina</td>\n",
              "      <td>female</td>\n",
              "      <td>26.0</td>\n",
              "      <td>0</td>\n",
              "      <td>0</td>\n",
              "      <td>STON/O2. 3101282</td>\n",
              "      <td>7.9250</td>\n",
              "      <td>NaN</td>\n",
              "      <td>S</td>\n",
              "    </tr>\n",
              "    <tr>\n",
              "      <th>3</th>\n",
              "      <td>4</td>\n",
              "      <td>1</td>\n",
              "      <td>1</td>\n",
              "      <td>Futrelle, Mrs. Jacques Heath (Lily May Peel)</td>\n",
              "      <td>female</td>\n",
              "      <td>35.0</td>\n",
              "      <td>1</td>\n",
              "      <td>0</td>\n",
              "      <td>113803</td>\n",
              "      <td>53.1000</td>\n",
              "      <td>C123</td>\n",
              "      <td>S</td>\n",
              "    </tr>\n",
              "    <tr>\n",
              "      <th>4</th>\n",
              "      <td>5</td>\n",
              "      <td>0</td>\n",
              "      <td>3</td>\n",
              "      <td>Allen, Mr. William Henry</td>\n",
              "      <td>male</td>\n",
              "      <td>35.0</td>\n",
              "      <td>0</td>\n",
              "      <td>0</td>\n",
              "      <td>373450</td>\n",
              "      <td>8.0500</td>\n",
              "      <td>NaN</td>\n",
              "      <td>S</td>\n",
              "    </tr>\n",
              "  </tbody>\n",
              "</table>\n",
              "</div>"
            ],
            "text/plain": [
              "   PassengerId  Survived  Pclass  ...     Fare Cabin  Embarked\n",
              "0            1         0       3  ...   7.2500   NaN         S\n",
              "1            2         1       1  ...  71.2833   C85         C\n",
              "2            3         1       3  ...   7.9250   NaN         S\n",
              "3            4         1       1  ...  53.1000  C123         S\n",
              "4            5         0       3  ...   8.0500   NaN         S\n",
              "\n",
              "[5 rows x 12 columns]"
            ]
          },
          "metadata": {
            "tags": []
          },
          "execution_count": 328
        }
      ]
    },
    {
      "cell_type": "code",
      "metadata": {
        "id": "hWM4Vnn19HW2",
        "colab_type": "code",
        "colab": {
          "base_uri": "https://localhost:8080/",
          "height": 197
        },
        "outputId": "4a0c6095-51c5-47de-a316-86145c0d9e46"
      },
      "source": [
        "df_test.head()"
      ],
      "execution_count": 329,
      "outputs": [
        {
          "output_type": "execute_result",
          "data": {
            "text/html": [
              "<div>\n",
              "<style scoped>\n",
              "    .dataframe tbody tr th:only-of-type {\n",
              "        vertical-align: middle;\n",
              "    }\n",
              "\n",
              "    .dataframe tbody tr th {\n",
              "        vertical-align: top;\n",
              "    }\n",
              "\n",
              "    .dataframe thead th {\n",
              "        text-align: right;\n",
              "    }\n",
              "</style>\n",
              "<table border=\"1\" class=\"dataframe\">\n",
              "  <thead>\n",
              "    <tr style=\"text-align: right;\">\n",
              "      <th></th>\n",
              "      <th>PassengerId</th>\n",
              "      <th>Pclass</th>\n",
              "      <th>Name</th>\n",
              "      <th>Sex</th>\n",
              "      <th>Age</th>\n",
              "      <th>SibSp</th>\n",
              "      <th>Parch</th>\n",
              "      <th>Ticket</th>\n",
              "      <th>Fare</th>\n",
              "      <th>Cabin</th>\n",
              "      <th>Embarked</th>\n",
              "    </tr>\n",
              "  </thead>\n",
              "  <tbody>\n",
              "    <tr>\n",
              "      <th>0</th>\n",
              "      <td>892</td>\n",
              "      <td>3</td>\n",
              "      <td>Kelly, Mr. James</td>\n",
              "      <td>male</td>\n",
              "      <td>34.5</td>\n",
              "      <td>0</td>\n",
              "      <td>0</td>\n",
              "      <td>330911</td>\n",
              "      <td>7.8292</td>\n",
              "      <td>NaN</td>\n",
              "      <td>Q</td>\n",
              "    </tr>\n",
              "    <tr>\n",
              "      <th>1</th>\n",
              "      <td>893</td>\n",
              "      <td>3</td>\n",
              "      <td>Wilkes, Mrs. James (Ellen Needs)</td>\n",
              "      <td>female</td>\n",
              "      <td>47.0</td>\n",
              "      <td>1</td>\n",
              "      <td>0</td>\n",
              "      <td>363272</td>\n",
              "      <td>7.0000</td>\n",
              "      <td>NaN</td>\n",
              "      <td>S</td>\n",
              "    </tr>\n",
              "    <tr>\n",
              "      <th>2</th>\n",
              "      <td>894</td>\n",
              "      <td>2</td>\n",
              "      <td>Myles, Mr. Thomas Francis</td>\n",
              "      <td>male</td>\n",
              "      <td>62.0</td>\n",
              "      <td>0</td>\n",
              "      <td>0</td>\n",
              "      <td>240276</td>\n",
              "      <td>9.6875</td>\n",
              "      <td>NaN</td>\n",
              "      <td>Q</td>\n",
              "    </tr>\n",
              "    <tr>\n",
              "      <th>3</th>\n",
              "      <td>895</td>\n",
              "      <td>3</td>\n",
              "      <td>Wirz, Mr. Albert</td>\n",
              "      <td>male</td>\n",
              "      <td>27.0</td>\n",
              "      <td>0</td>\n",
              "      <td>0</td>\n",
              "      <td>315154</td>\n",
              "      <td>8.6625</td>\n",
              "      <td>NaN</td>\n",
              "      <td>S</td>\n",
              "    </tr>\n",
              "    <tr>\n",
              "      <th>4</th>\n",
              "      <td>896</td>\n",
              "      <td>3</td>\n",
              "      <td>Hirvonen, Mrs. Alexander (Helga E Lindqvist)</td>\n",
              "      <td>female</td>\n",
              "      <td>22.0</td>\n",
              "      <td>1</td>\n",
              "      <td>1</td>\n",
              "      <td>3101298</td>\n",
              "      <td>12.2875</td>\n",
              "      <td>NaN</td>\n",
              "      <td>S</td>\n",
              "    </tr>\n",
              "  </tbody>\n",
              "</table>\n",
              "</div>"
            ],
            "text/plain": [
              "   PassengerId  Pclass  ... Cabin Embarked\n",
              "0          892       3  ...   NaN        Q\n",
              "1          893       3  ...   NaN        S\n",
              "2          894       2  ...   NaN        Q\n",
              "3          895       3  ...   NaN        S\n",
              "4          896       3  ...   NaN        S\n",
              "\n",
              "[5 rows x 11 columns]"
            ]
          },
          "metadata": {
            "tags": []
          },
          "execution_count": 329
        }
      ]
    },
    {
      "cell_type": "code",
      "metadata": {
        "id": "2s_F1rQM_52Y",
        "colab_type": "code",
        "colab": {
          "base_uri": "https://localhost:8080/",
          "height": 606
        },
        "outputId": "1f417d73-bed7-4861-c68a-1033b7b1c611"
      },
      "source": [
        "df_train.hist(figsize=(15,10))\n",
        "plt.show()"
      ],
      "execution_count": 330,
      "outputs": [
        {
          "output_type": "display_data",
          "data": {
            "image/png": "[encoded data removed]",
            "text/plain": [
              "<Figure size 1080x720 with 9 Axes>"
            ]
          },
          "metadata": {
            "tags": [],
            "needs_background": "light"
          }
        }
      ]
    },
    {
      "cell_type": "markdown",
      "metadata": {
        "id": "6c2930fz9HW4",
        "colab_type": "text"
      },
      "source": [
        "titanic 데이터는 **891행**으로 이루어져 있는 **train 데이터**와 **418행**으로 이루어져 있는 **test 데이터**를 가지고 있다.  \n",
        "  \n",
        "**<center>데이터 구성</center>**"
      ]
    },
    {
      "cell_type": "markdown",
      "metadata": {
        "id": "d24ZeyrZ9HW4",
        "colab_type": "text"
      },
      "source": [
        "|변수|설명|비고|데이터유형|구분|\n",
        "|------|---|---|---|---|\n",
        "|PassengerId|승객번호||int|\n",
        "|Survived|생존여부|0 = No, 1 = Yes|int|범주형|\n",
        "|Pclass|객실등급|1 = 1등급, 2 = 2등급, 3 = 3등급|int|범주형|\n",
        "|Name|승객이름||object||\n",
        "|Sex|성별|male, female|object|범주형|\n",
        "|Age|나이||float||\n",
        "|SibSp|함께 탑승한 형제와 배우자의 수|형제수 + 배우자수|int||\n",
        "|Parch|함께 탑승한 부모와 아이의 수|부모수 + 자녀수|int||\n",
        "|Ticket|티겟 번호||object||\n",
        "|Fare|탑승 요금||float||\n",
        "|Cabin|객실 번호|공백도 많고 정확한 기준을 알 수 없다|object||\n",
        "|Embarked|탑승 항구|C=Cherbourg, Q=Queenstown, S=Southampton|object|범주형|"
      ]
    },
    {
      "cell_type": "markdown",
      "metadata": {
        "id": "JDiMnmLrBQ-M",
        "colab_type": "text"
      },
      "source": [
        "### 데이터 탐색\n",
        "```corr()``` 메서드를 통해 특성 간 표준 상관계수 알아보기"
      ]
    },
    {
      "cell_type": "code",
      "metadata": {
        "id": "TfxpH1BdBT2J",
        "colab_type": "code",
        "colab": {
          "base_uri": "https://localhost:8080/",
          "height": 158
        },
        "outputId": "30cfa94c-d229-402e-f956-a96cf8cc979f"
      },
      "source": [
        "corr_matrix = df_train.corr()\n",
        "corr_matrix[\"Survived\"].sort_values(ascending=False)"
      ],
      "execution_count": 331,
      "outputs": [
        {
          "output_type": "execute_result",
          "data": {
            "text/plain": [
              "Survived       1.000000\n",
              "Fare           0.257307\n",
              "Parch          0.081629\n",
              "PassengerId   -0.005007\n",
              "SibSp         -0.035322\n",
              "Age           -0.077221\n",
              "Pclass        -0.338481\n",
              "Name: Survived, dtype: float64"
            ]
          },
          "metadata": {
            "tags": []
          },
          "execution_count": 331
        }
      ]
    },
    {
      "cell_type": "markdown",
      "metadata": {
        "id": "s3UU8hHGB7ID",
        "colab_type": "text"
      },
      "source": [
        "생존여부와 다른 특성 사이의 상관 관계의 크기를 알아본 결과 PassengerId 는 0에 가까우므로 상관 관계가 없다는 것을 알 수 있다.  \n",
        "Fare와 Pclass를 보면 각각 1과 -1에 가깝지는 않아 강한 상관관계를 가진다고 말하기는 어렵지만 그래도 다른 특성에 비해 생존여부와 어느정도 상관관계를 가지고 있음을 알 수 있다.  "
      ]
    },
    {
      "cell_type": "code",
      "metadata": {
        "id": "F6Knmep2QRNh",
        "colab_type": "code",
        "colab": {
          "base_uri": "https://localhost:8080/",
          "height": 287
        },
        "outputId": "ec45e729-0b86-44fe-c209-17c8cb5ad88d"
      },
      "source": [
        "df_train.describe()"
      ],
      "execution_count": 332,
      "outputs": [
        {
          "output_type": "execute_result",
          "data": {
            "text/html": [
              "<div>\n",
              "<style scoped>\n",
              "    .dataframe tbody tr th:only-of-type {\n",
              "        vertical-align: middle;\n",
              "    }\n",
              "\n",
              "    .dataframe tbody tr th {\n",
              "        vertical-align: top;\n",
              "    }\n",
              "\n",
              "    .dataframe thead th {\n",
              "        text-align: right;\n",
              "    }\n",
              "</style>\n",
              "<table border=\"1\" class=\"dataframe\">\n",
              "  <thead>\n",
              "    <tr style=\"text-align: right;\">\n",
              "      <th></th>\n",
              "      <th>PassengerId</th>\n",
              "      <th>Survived</th>\n",
              "      <th>Pclass</th>\n",
              "      <th>Age</th>\n",
              "      <th>SibSp</th>\n",
              "      <th>Parch</th>\n",
              "      <th>Fare</th>\n",
              "    </tr>\n",
              "  </thead>\n",
              "  <tbody>\n",
              "    <tr>\n",
              "      <th>count</th>\n",
              "      <td>891.000000</td>\n",
              "      <td>891.000000</td>\n",
              "      <td>891.000000</td>\n",
              "      <td>714.000000</td>\n",
              "      <td>891.000000</td>\n",
              "      <td>891.000000</td>\n",
              "      <td>891.000000</td>\n",
              "    </tr>\n",
              "    <tr>\n",
              "      <th>mean</th>\n",
              "      <td>446.000000</td>\n",
              "      <td>0.383838</td>\n",
              "      <td>2.308642</td>\n",
              "      <td>29.699118</td>\n",
              "      <td>0.523008</td>\n",
              "      <td>0.381594</td>\n",
              "      <td>32.204208</td>\n",
              "    </tr>\n",
              "    <tr>\n",
              "      <th>std</th>\n",
              "      <td>257.353842</td>\n",
              "      <td>0.486592</td>\n",
              "      <td>0.836071</td>\n",
              "      <td>14.526497</td>\n",
              "      <td>1.102743</td>\n",
              "      <td>0.806057</td>\n",
              "      <td>49.693429</td>\n",
              "    </tr>\n",
              "    <tr>\n",
              "      <th>min</th>\n",
              "      <td>1.000000</td>\n",
              "      <td>0.000000</td>\n",
              "      <td>1.000000</td>\n",
              "      <td>0.420000</td>\n",
              "      <td>0.000000</td>\n",
              "      <td>0.000000</td>\n",
              "      <td>0.000000</td>\n",
              "    </tr>\n",
              "    <tr>\n",
              "      <th>25%</th>\n",
              "      <td>223.500000</td>\n",
              "      <td>0.000000</td>\n",
              "      <td>2.000000</td>\n",
              "      <td>20.125000</td>\n",
              "      <td>0.000000</td>\n",
              "      <td>0.000000</td>\n",
              "      <td>7.910400</td>\n",
              "    </tr>\n",
              "    <tr>\n",
              "      <th>50%</th>\n",
              "      <td>446.000000</td>\n",
              "      <td>0.000000</td>\n",
              "      <td>3.000000</td>\n",
              "      <td>28.000000</td>\n",
              "      <td>0.000000</td>\n",
              "      <td>0.000000</td>\n",
              "      <td>14.454200</td>\n",
              "    </tr>\n",
              "    <tr>\n",
              "      <th>75%</th>\n",
              "      <td>668.500000</td>\n",
              "      <td>1.000000</td>\n",
              "      <td>3.000000</td>\n",
              "      <td>38.000000</td>\n",
              "      <td>1.000000</td>\n",
              "      <td>0.000000</td>\n",
              "      <td>31.000000</td>\n",
              "    </tr>\n",
              "    <tr>\n",
              "      <th>max</th>\n",
              "      <td>891.000000</td>\n",
              "      <td>1.000000</td>\n",
              "      <td>3.000000</td>\n",
              "      <td>80.000000</td>\n",
              "      <td>8.000000</td>\n",
              "      <td>6.000000</td>\n",
              "      <td>512.329200</td>\n",
              "    </tr>\n",
              "  </tbody>\n",
              "</table>\n",
              "</div>"
            ],
            "text/plain": [
              "       PassengerId    Survived      Pclass  ...       SibSp       Parch        Fare\n",
              "count   891.000000  891.000000  891.000000  ...  891.000000  891.000000  891.000000\n",
              "mean    446.000000    0.383838    2.308642  ...    0.523008    0.381594   32.204208\n",
              "std     257.353842    0.486592    0.836071  ...    1.102743    0.806057   49.693429\n",
              "min       1.000000    0.000000    1.000000  ...    0.000000    0.000000    0.000000\n",
              "25%     223.500000    0.000000    2.000000  ...    0.000000    0.000000    7.910400\n",
              "50%     446.000000    0.000000    3.000000  ...    0.000000    0.000000   14.454200\n",
              "75%     668.500000    1.000000    3.000000  ...    1.000000    0.000000   31.000000\n",
              "max     891.000000    1.000000    3.000000  ...    8.000000    6.000000  512.329200\n",
              "\n",
              "[8 rows x 7 columns]"
            ]
          },
          "metadata": {
            "tags": []
          },
          "execution_count": 332
        }
      ]
    },
    {
      "cell_type": "markdown",
      "metadata": {
        "id": "BBFR0bhzQRiV",
        "colab_type": "text"
      },
      "source": [
        "Age와 Fare의 mean값을 보면 각각 29와 32로 다른 특성들에 비해 큰 값을 가지고 있다.  \n",
        "숫자 특성들의 크기가 많이 다르기 때문에 나중에 특성 스케일링을 진행하도록 하였다."
      ]
    },
    {
      "cell_type": "code",
      "metadata": {
        "id": "r6f2T9_JXuqj",
        "colab_type": "code",
        "colab": {
          "base_uri": "https://localhost:8080/",
          "height": 788
        },
        "outputId": "a197c8dc-9eab-4ed2-cf56-ae6d7291ec9d"
      },
      "source": [
        "from pandas.plotting import scatter_matrix\n",
        "\n",
        "attributes = [\"Survived\", \"Age\", \"Fare\"]\n",
        "scatter_matrix(df_train[attributes], figsize=(15, 10))"
      ],
      "execution_count": 333,
      "outputs": [
        {
          "output_type": "execute_result",
          "data": {
            "text/plain": [
              "array([[<matplotlib.axes._subplots.AxesSubplot object at 0x7fbed6798c18>,\n",
              "        <matplotlib.axes._subplots.AxesSubplot object at 0x7fbed674f4a8>,\n",
              "        <matplotlib.axes._subplots.AxesSubplot object at 0x7fbed6778710>],\n",
              "       [<matplotlib.axes._subplots.AxesSubplot object at 0x7fbed6728a90>,\n",
              "        <matplotlib.axes._subplots.AxesSubplot object at 0x7fbed66dae10>,\n",
              "        <matplotlib.axes._subplots.AxesSubplot object at 0x7fbed66981d0>],\n",
              "       [<matplotlib.axes._subplots.AxesSubplot object at 0x7fbed719ab38>,\n",
              "        <matplotlib.axes._subplots.AxesSubplot object at 0x7fbed67e87f0>,\n",
              "        <matplotlib.axes._subplots.AxesSubplot object at 0x7fbed67e88d0>]],\n",
              "      dtype=object)"
            ]
          },
          "metadata": {
            "tags": []
          },
          "execution_count": 333
        },
        {
          "output_type": "display_data",
          "data": {
            "image/png": "[encoded data removed]",
            "text/plain": [
              "<Figure size 1080x720 with 9 Axes>"
            ]
          },
          "metadata": {
            "tags": [],
            "needs_background": "light"
          }
        }
      ]
    },
    {
      "cell_type": "markdown",
      "metadata": {
        "id": "_ln9TbNqZWW6",
        "colab_type": "text"
      },
      "source": [
        "또한 상관관계가 존재한다고 판단한 Age와 Fare의 산점도 행렬을 그려보니 (Pclass는 범주형 이라 일단 제외)  \n",
        "Fare에서 유독 튀는 데이터(400 이상)가 존재하는게 보여 **이상치 처리**를 진행하도록 하였다."
      ]
    },
    {
      "cell_type": "markdown",
      "metadata": {
        "id": "BGJHRQBN9HW5",
        "colab_type": "text"
      },
      "source": [
        "### 데이터 정제\n",
        "**필요 없는 열 삭제**  \n",
        "생존여부를 판단하는데에 있어 필요하지 않다고 생각하는 열을 삭제하기로 하였다.  \n",
        "  \n",
        "PassengerId = 인덱스처럼 1부터 순차적으로 증가하는 값을 가지고 있어 생존여부에 관여하지 않는다.  \n",
        "Name = 탑승자의 이름은 생존여부와 관련이 없다.  \n",
        "Ticket = 탑승자의 티켓 번호는 생존여부와 관련이 없다.\n",
        "Cabin = 객실 번호는 공백이 많기 때문에 대체하기 어려워 삭제를 진행하였다."
      ]
    },
    {
      "cell_type": "code",
      "metadata": {
        "id": "N9IAmS0M9HW5",
        "colab_type": "code",
        "colab": {}
      },
      "source": [
        "del df_train['PassengerId']\n",
        "del df_train['Name']\n",
        "del df_train['Ticket']\n",
        "del df_train['Cabin']\n",
        "del df_test['Name']\n",
        "del df_test['Ticket']\n",
        "del df_test['Cabin']"
      ],
      "execution_count": 334,
      "outputs": []
    },
    {
      "cell_type": "markdown",
      "metadata": {
        "id": "IS8hFIuX9HW7",
        "colab_type": "text"
      },
      "source": [
        "#### 결측치 처리"
      ]
    },
    {
      "cell_type": "code",
      "metadata": {
        "id": "REoKgHfa9HW7",
        "colab_type": "code",
        "colab": {
          "base_uri": "https://localhost:8080/",
          "height": 167
        },
        "outputId": "f5efe1e8-593c-431f-9730-fc0720bca200"
      },
      "source": [
        "df_train.groupby('Embarked').count()"
      ],
      "execution_count": 335,
      "outputs": [
        {
          "output_type": "execute_result",
          "data": {
            "text/html": [
              "<div>\n",
              "<style scoped>\n",
              "    .dataframe tbody tr th:only-of-type {\n",
              "        vertical-align: middle;\n",
              "    }\n",
              "\n",
              "    .dataframe tbody tr th {\n",
              "        vertical-align: top;\n",
              "    }\n",
              "\n",
              "    .dataframe thead th {\n",
              "        text-align: right;\n",
              "    }\n",
              "</style>\n",
              "<table border=\"1\" class=\"dataframe\">\n",
              "  <thead>\n",
              "    <tr style=\"text-align: right;\">\n",
              "      <th></th>\n",
              "      <th>Survived</th>\n",
              "      <th>Pclass</th>\n",
              "      <th>Sex</th>\n",
              "      <th>Age</th>\n",
              "      <th>SibSp</th>\n",
              "      <th>Parch</th>\n",
              "      <th>Fare</th>\n",
              "    </tr>\n",
              "    <tr>\n",
              "      <th>Embarked</th>\n",
              "      <th></th>\n",
              "      <th></th>\n",
              "      <th></th>\n",
              "      <th></th>\n",
              "      <th></th>\n",
              "      <th></th>\n",
              "      <th></th>\n",
              "    </tr>\n",
              "  </thead>\n",
              "  <tbody>\n",
              "    <tr>\n",
              "      <th>C</th>\n",
              "      <td>168</td>\n",
              "      <td>168</td>\n",
              "      <td>168</td>\n",
              "      <td>130</td>\n",
              "      <td>168</td>\n",
              "      <td>168</td>\n",
              "      <td>168</td>\n",
              "    </tr>\n",
              "    <tr>\n",
              "      <th>Q</th>\n",
              "      <td>77</td>\n",
              "      <td>77</td>\n",
              "      <td>77</td>\n",
              "      <td>28</td>\n",
              "      <td>77</td>\n",
              "      <td>77</td>\n",
              "      <td>77</td>\n",
              "    </tr>\n",
              "    <tr>\n",
              "      <th>S</th>\n",
              "      <td>644</td>\n",
              "      <td>644</td>\n",
              "      <td>644</td>\n",
              "      <td>554</td>\n",
              "      <td>644</td>\n",
              "      <td>644</td>\n",
              "      <td>644</td>\n",
              "    </tr>\n",
              "  </tbody>\n",
              "</table>\n",
              "</div>"
            ],
            "text/plain": [
              "          Survived  Pclass  Sex  Age  SibSp  Parch  Fare\n",
              "Embarked                                                \n",
              "C              168     168  168  130    168    168   168\n",
              "Q               77      77   77   28     77     77    77\n",
              "S              644     644  644  554    644    644   644"
            ]
          },
          "metadata": {
            "tags": []
          },
          "execution_count": 335
        }
      ]
    },
    {
      "cell_type": "code",
      "metadata": {
        "id": "sLLcXJmz9HW8",
        "colab_type": "code",
        "colab": {
          "base_uri": "https://localhost:8080/",
          "height": 34
        },
        "outputId": "7df41bda-71c6-49cc-a60a-c93d97e343f3"
      },
      "source": [
        "df_train['Age'].mean()"
      ],
      "execution_count": 336,
      "outputs": [
        {
          "output_type": "execute_result",
          "data": {
            "text/plain": [
              "29.69911764705882"
            ]
          },
          "metadata": {
            "tags": []
          },
          "execution_count": 336
        }
      ]
    },
    {
      "cell_type": "code",
      "metadata": {
        "id": "X7tLNAxE9HW-",
        "colab_type": "code",
        "colab": {
          "base_uri": "https://localhost:8080/",
          "height": 34
        },
        "outputId": "f3820a7d-0fbb-4846-f36e-4320b5ca8045"
      },
      "source": [
        "df_test['Age'].mean()"
      ],
      "execution_count": 337,
      "outputs": [
        {
          "output_type": "execute_result",
          "data": {
            "text/plain": [
              "30.272590361445783"
            ]
          },
          "metadata": {
            "tags": []
          },
          "execution_count": 337
        }
      ]
    },
    {
      "cell_type": "markdown",
      "metadata": {
        "id": "WJP2oEer9HXA",
        "colab_type": "text"
      },
      "source": [
        "Embarked 열에서 최다 빈도는 S 이므로 결측치를 일괄적으로 S로 채우기로 하였고,  \n",
        "Age 열은 나이의 평균값으로 결측치를 채우기로 하였다.  \n",
        "train 데이터 Age 평균 : 29.699117647058763  \n",
        "test 데이터 Age 평균 : 30.272590361445815"
      ]
    },
    {
      "cell_type": "code",
      "metadata": {
        "id": "vH9O_nAq9HXA",
        "colab_type": "code",
        "colab": {}
      },
      "source": [
        "df_train['Embarked']=df_train['Embarked'].fillna('S')\n",
        "df_train['Age']=df_train['Age'].fillna(df_train['Age'].mean())"
      ],
      "execution_count": 340,
      "outputs": []
    },
    {
      "cell_type": "code",
      "metadata": {
        "id": "uB-lYf209HXC",
        "colab_type": "code",
        "colab": {}
      },
      "source": [
        "df_test['Fare']=df_test['Fare'].fillna(df_test['Fare'].mean())\n",
        "df_test['Age']=df_test['Age'].fillna(df_test['Age'].mean())"
      ],
      "execution_count": 342,
      "outputs": []
    },
    {
      "cell_type": "markdown",
      "metadata": {
        "id": "FmGKfezhZRO0",
        "colab_type": "text"
      },
      "source": [
        "#### 이상치 처리"
      ]
    },
    {
      "cell_type": "code",
      "metadata": {
        "id": "cvwD9G3pZTmE",
        "colab_type": "code",
        "colab": {}
      },
      "source": [
        "df_train = df_train[(df_train[\"Fare\"] < 400)]"
      ],
      "execution_count": 292,
      "outputs": []
    },
    {
      "cell_type": "code",
      "metadata": {
        "id": "0ERT1nCgan6f",
        "colab_type": "code",
        "colab": {
          "base_uri": "https://localhost:8080/",
          "height": 283
        },
        "outputId": "28766e10-41f8-4691-84f5-a18447cc4af0"
      },
      "source": [
        "df_train.info()"
      ],
      "execution_count": 293,
      "outputs": [
        {
          "output_type": "stream",
          "text": [
            "<class 'pandas.core.frame.DataFrame'>\n",
            "Int64Index: 888 entries, 0 to 890\n",
            "Data columns (total 8 columns):\n",
            " #   Column    Non-Null Count  Dtype  \n",
            "---  ------    --------------  -----  \n",
            " 0   Survived  888 non-null    int64  \n",
            " 1   Pclass    888 non-null    int64  \n",
            " 2   Sex       888 non-null    object \n",
            " 3   Age       888 non-null    float64\n",
            " 4   SibSp     888 non-null    int64  \n",
            " 5   Parch     888 non-null    int64  \n",
            " 6   Fare      888 non-null    float64\n",
            " 7   Embarked  888 non-null    object \n",
            "dtypes: float64(2), int64(4), object(2)\n",
            "memory usage: 62.4+ KB\n"
          ],
          "name": "stdout"
        }
      ]
    },
    {
      "cell_type": "code",
      "metadata": {
        "id": "ZSfxIpR8agzT",
        "colab_type": "code",
        "colab": {
          "base_uri": "https://localhost:8080/",
          "height": 788
        },
        "outputId": "1071157d-dcbd-4ed4-a2f6-59dcd9fe7576"
      },
      "source": [
        "attributes = [\"Survived\", \"Age\", \"Fare\"]\n",
        "scatter_matrix(df_train[attributes], figsize=(15, 10))"
      ],
      "execution_count": 294,
      "outputs": [
        {
          "output_type": "execute_result",
          "data": {
            "text/plain": [
              "array([[<matplotlib.axes._subplots.AxesSubplot object at 0x7fbed6ec7b70>,\n",
              "        <matplotlib.axes._subplots.AxesSubplot object at 0x7fbed6e91358>,\n",
              "        <matplotlib.axes._subplots.AxesSubplot object at 0x7fbed6e415c0>],\n",
              "       [<matplotlib.axes._subplots.AxesSubplot object at 0x7fbed6e71940>,\n",
              "        <matplotlib.axes._subplots.AxesSubplot object at 0x7fbed6d23cc0>,\n",
              "        <matplotlib.axes._subplots.AxesSubplot object at 0x7fbed6ce2080>],\n",
              "       [<matplotlib.axes._subplots.AxesSubplot object at 0x7fbed6c93400>,\n",
              "        <matplotlib.axes._subplots.AxesSubplot object at 0x7fbed6c44748>,\n",
              "        <matplotlib.axes._subplots.AxesSubplot object at 0x7fbed6c447b8>]],\n",
              "      dtype=object)"
            ]
          },
          "metadata": {
            "tags": []
          },
          "execution_count": 294
        },
        {
          "output_type": "display_data",
          "data": {
            "image/png": "[encoded data removed]",
            "text/plain": [
              "<Figure size 1080x720 with 9 Axes>"
            ]
          },
          "metadata": {
            "tags": [],
            "needs_background": "light"
          }
        }
      ]
    },
    {
      "cell_type": "markdown",
      "metadata": {
        "id": "AfQOCwCMavpK",
        "colab_type": "text"
      },
      "source": [
        "이상치 제거 결과 891행에서 888행으로 3개 행이 제거되었다."
      ]
    },
    {
      "cell_type": "markdown",
      "metadata": {
        "id": "wKY-xfQKdSm5",
        "colab_type": "text"
      },
      "source": [
        "#### 특성 스케일링"
      ]
    },
    {
      "cell_type": "code",
      "metadata": {
        "id": "ylEXQOFiPfrj",
        "colab_type": "code",
        "colab": {}
      },
      "source": [
        "from sklearn.preprocessing import StandardScaler\n",
        "scaler = StandardScaler()\n",
        "\n",
        "df_train['Age'] = StandardScaler().fit_transform(df_train['Age'].values.reshape(-1, 1))\n",
        "df_train['Fare'] = StandardScaler().fit_transform(df_train['Fare'].values.reshape(-1, 1))\n",
        "df_train['SibSp'] = StandardScaler().fit_transform(df_train['SibSp'].values.reshape(-1, 1))\n",
        "df_train['Parch'] = StandardScaler().fit_transform(df_train['Parch'].values.reshape(-1, 1))\n",
        "\n",
        "df_test['Age'] = StandardScaler().fit_transform(df_test['Age'].values.reshape(-1, 1))\n",
        "df_test['Fare'] = StandardScaler().fit_transform(df_test['Fare'].values.reshape(-1, 1))\n",
        "df_test['SibSp'] = StandardScaler().fit_transform(df_test['SibSp'].values.reshape(-1, 1))\n",
        "df_test['Parch'] = StandardScaler().fit_transform(df_test['Parch'].values.reshape(-1, 1))"
      ],
      "execution_count": 295,
      "outputs": []
    },
    {
      "cell_type": "code",
      "metadata": {
        "id": "7jvz1xenft5S",
        "colab_type": "code",
        "colab": {
          "base_uri": "https://localhost:8080/",
          "height": 287
        },
        "outputId": "324f5e68-bd97-4e4d-f029-991dffa14bbc"
      },
      "source": [
        "df_train.describe()"
      ],
      "execution_count": 296,
      "outputs": [
        {
          "output_type": "execute_result",
          "data": {
            "text/html": [
              "<div>\n",
              "<style scoped>\n",
              "    .dataframe tbody tr th:only-of-type {\n",
              "        vertical-align: middle;\n",
              "    }\n",
              "\n",
              "    .dataframe tbody tr th {\n",
              "        vertical-align: top;\n",
              "    }\n",
              "\n",
              "    .dataframe thead th {\n",
              "        text-align: right;\n",
              "    }\n",
              "</style>\n",
              "<table border=\"1\" class=\"dataframe\">\n",
              "  <thead>\n",
              "    <tr style=\"text-align: right;\">\n",
              "      <th></th>\n",
              "      <th>Survived</th>\n",
              "      <th>Pclass</th>\n",
              "      <th>Age</th>\n",
              "      <th>SibSp</th>\n",
              "      <th>Parch</th>\n",
              "      <th>Fare</th>\n",
              "    </tr>\n",
              "  </thead>\n",
              "  <tbody>\n",
              "    <tr>\n",
              "      <th>count</th>\n",
              "      <td>888.000000</td>\n",
              "      <td>888.000000</td>\n",
              "      <td>8.880000e+02</td>\n",
              "      <td>8.880000e+02</td>\n",
              "      <td>8.880000e+02</td>\n",
              "      <td>8.880000e+02</td>\n",
              "    </tr>\n",
              "    <tr>\n",
              "      <th>mean</th>\n",
              "      <td>0.381757</td>\n",
              "      <td>2.313063</td>\n",
              "      <td>9.089326e-17</td>\n",
              "      <td>3.363176e-16</td>\n",
              "      <td>1.500301e-18</td>\n",
              "      <td>1.108973e-16</td>\n",
              "    </tr>\n",
              "    <tr>\n",
              "      <th>std</th>\n",
              "      <td>0.486091</td>\n",
              "      <td>0.834007</td>\n",
              "      <td>1.000564e+00</td>\n",
              "      <td>1.000564e+00</td>\n",
              "      <td>1.000564e+00</td>\n",
              "      <td>1.000564e+00</td>\n",
              "    </tr>\n",
              "    <tr>\n",
              "      <th>min</th>\n",
              "      <td>0.000000</td>\n",
              "      <td>1.000000</td>\n",
              "      <td>-2.219655e+00</td>\n",
              "      <td>-4.755270e-01</td>\n",
              "      <td>-4.733534e-01</td>\n",
              "      <td>-7.431301e-01</td>\n",
              "    </tr>\n",
              "    <tr>\n",
              "      <th>25%</th>\n",
              "      <td>0.000000</td>\n",
              "      <td>2.000000</td>\n",
              "      <td>-5.634372e-01</td>\n",
              "      <td>-4.755270e-01</td>\n",
              "      <td>-4.733534e-01</td>\n",
              "      <td>-5.512664e-01</td>\n",
              "    </tr>\n",
              "    <tr>\n",
              "      <th>50%</th>\n",
              "      <td>0.000000</td>\n",
              "      <td>3.000000</td>\n",
              "      <td>-1.029501e-01</td>\n",
              "      <td>-4.755270e-01</td>\n",
              "      <td>-4.733534e-01</td>\n",
              "      <td>-3.919008e-01</td>\n",
              "    </tr>\n",
              "    <tr>\n",
              "      <th>75%</th>\n",
              "      <td>1.000000</td>\n",
              "      <td>3.000000</td>\n",
              "      <td>4.342847e-01</td>\n",
              "      <td>4.306275e-01</td>\n",
              "      <td>-4.733534e-01</td>\n",
              "      <td>4.609266e-03</td>\n",
              "    </tr>\n",
              "    <tr>\n",
              "      <th>max</th>\n",
              "      <td>1.000000</td>\n",
              "      <td>3.000000</td>\n",
              "      <td>3.887937e+00</td>\n",
              "      <td>6.773709e+00</td>\n",
              "      <td>6.966253e+00</td>\n",
              "      <td>5.647628e+00</td>\n",
              "    </tr>\n",
              "  </tbody>\n",
              "</table>\n",
              "</div>"
            ],
            "text/plain": [
              "         Survived      Pclass  ...         Parch          Fare\n",
              "count  888.000000  888.000000  ...  8.880000e+02  8.880000e+02\n",
              "mean     0.381757    2.313063  ...  1.500301e-18  1.108973e-16\n",
              "std      0.486091    0.834007  ...  1.000564e+00  1.000564e+00\n",
              "min      0.000000    1.000000  ... -4.733534e-01 -7.431301e-01\n",
              "25%      0.000000    2.000000  ... -4.733534e-01 -5.512664e-01\n",
              "50%      0.000000    3.000000  ... -4.733534e-01 -3.919008e-01\n",
              "75%      1.000000    3.000000  ... -4.733534e-01  4.609266e-03\n",
              "max      1.000000    3.000000  ...  6.966253e+00  5.647628e+00\n",
              "\n",
              "[8 rows x 6 columns]"
            ]
          },
          "metadata": {
            "tags": []
          },
          "execution_count": 296
        }
      ]
    },
    {
      "cell_type": "markdown",
      "metadata": {
        "id": "j16zEi3u9HXD",
        "colab_type": "text"
      },
      "source": [
        "#### 범주형 특성 처리\n",
        "int 및 object 타입으로 되어 있던 범주형 열인 Sex, Pclass, Embarked 열을 category 타입으로 변경"
      ]
    },
    {
      "cell_type": "code",
      "metadata": {
        "id": "jfNi0VwD9HXE",
        "colab_type": "code",
        "colab": {}
      },
      "source": [
        "df_train['Sex']=df_train['Sex'].astype('category')\n",
        "df_train['Pclass']=df_train['Pclass'].astype('category')\n",
        "df_train['Embarked']=df_train['Embarked'].astype('category')\n",
        "df_train = pd.get_dummies(df_train)\n",
        "\n",
        "df_test['Sex']=df_test['Sex'].astype('category')\n",
        "df_test['Pclass']=df_test['Pclass'].astype('category')\n",
        "df_test['Embarked']=df_test['Embarked'].astype('category')\n",
        "df_test = pd.get_dummies(df_test)"
      ],
      "execution_count": 297,
      "outputs": []
    },
    {
      "cell_type": "markdown",
      "metadata": {
        "id": "ZzuRMCip9HXF",
        "colab_type": "text"
      },
      "source": [
        "### 학습\n",
        "**Survived** 열이 생존 여부를 나타내는 **label** 역할을 하기 때문에 답이 정해져 있는 **지도학습(supervised learning)** 알고리즘을 사용하였다.  \n",
        "또한 생존 여부는 Yes 또는 No 2가지로 답을 할 수 있으므로 **classification** 문제이다."
      ]
    },
    {
      "cell_type": "markdown",
      "metadata": {
        "id": "A-q5KWmp9HXF",
        "colab_type": "text"
      },
      "source": [
        "### 훈련"
      ]
    },
    {
      "cell_type": "code",
      "metadata": {
        "id": "ejsBsOK-9HXG",
        "colab_type": "code",
        "colab": {}
      },
      "source": [
        "from sklearn import model_selection\n",
        "from sklearn import metrics\n",
        "from sklearn import datasets\n",
        "from sklearn.metrics import classification_report\n",
        "from sklearn import linear_model"
      ],
      "execution_count": 298,
      "outputs": []
    },
    {
      "cell_type": "markdown",
      "metadata": {
        "id": "AVew6Ud-9HXH",
        "colab_type": "text"
      },
      "source": [
        "df_train의 라벨은 Survived로 0번 열에 해당.\n",
        "\n",
        "*   훈련데이터 738개\n",
        "*   검증데이터 150개\n",
        "\n",
        "로 훈련 진행 후 최적의 알고리즘을 찾아낸 이후 전체 888개 데이터로 훈련한 모델을 통해 test 데이터 predict를 진행하기로 함\n",
        "\n"
      ]
    },
    {
      "cell_type": "code",
      "metadata": {
        "id": "M6_ofaNY9HXI",
        "colab_type": "code",
        "colab": {
          "base_uri": "https://localhost:8080/",
          "height": 425
        },
        "outputId": "a30b2b06-df98-4909-be0e-ef728bfe93d5"
      },
      "source": [
        "x_full = df_train.iloc[:,1:]\n",
        "y_full = df_train.iloc[:,0]\n",
        "\n",
        "x_full = x_full.values\n",
        "y_full = y_full.values\n",
        "\n",
        "x_data = df_train.iloc[:-150,1:]\n",
        "y_data = df_train.iloc[:-150,0]\n",
        "\n",
        "x_data = x_data.values\n",
        "y_data = y_data.values\n",
        "\n",
        "x_val = df_train.iloc[-150:,1:]\n",
        "y_val = df_train.iloc[-150:,0]\n",
        "\n",
        "x_val = x_val.values\n",
        "y_val = y_val.values\n",
        "print(x_full.shape)\n",
        "print(x_data.shape)\n",
        "print(x_val.shape)\n",
        "print(y_data)"
      ],
      "execution_count": 299,
      "outputs": [
        {
          "output_type": "stream",
          "text": [
            "(888, 12)\n",
            "(738, 12)\n",
            "(150, 12)\n",
            "[0 1 1 1 0 0 0 0 1 1 1 1 0 0 0 1 0 1 0 1 0 1 1 1 0 1 0 0 1 0 0 1 1 0 0 0 1\n",
            " 0 0 1 0 0 0 1 1 0 0 1 0 0 0 0 1 1 0 1 1 0 1 0 0 1 0 0 0 1 1 0 1 0 0 0 0 0\n",
            " 1 0 0 0 1 1 0 1 1 0 1 1 0 0 1 0 0 0 0 0 0 0 0 1 1 0 0 0 0 0 0 0 1 1 0 1 0\n",
            " 0 0 0 0 0 0 0 0 0 0 0 0 1 0 1 0 1 1 0 0 0 0 1 0 0 1 0 0 0 0 1 1 0 0 0 1 0\n",
            " 0 0 0 1 0 0 0 0 1 0 0 0 0 1 0 0 0 1 1 0 0 0 0 0 1 0 0 0 0 0 0 0 0 0 0 1 1\n",
            " 0 1 1 0 0 1 0 1 1 1 1 0 0 1 0 0 0 0 0 1 0 0 1 1 1 0 1 0 0 0 1 1 0 1 0 1 0\n",
            " 0 0 1 0 1 0 0 0 1 0 0 1 0 0 0 1 0 0 0 1 0 0 0 0 0 1 1 0 0 0 0 0 0 1 1 1 1\n",
            " 0 1 0 0 0 0 0 1 1 1 0 1 1 0 1 1 0 0 0 1 0 0 0 1 0 0 1 0 1 1 1 1 0 0 0 0 0\n",
            " 0 1 1 1 1 0 1 0 1 1 1 0 1 1 1 0 0 0 1 1 0 1 1 0 0 1 1 0 1 0 1 1 1 1 0 0 0\n",
            " 1 0 0 1 1 0 1 1 0 0 0 1 1 1 1 0 0 0 0 0 0 0 1 0 1 1 0 0 0 0 0 0 1 1 1 1 1\n",
            " 0 0 0 0 1 1 0 0 0 1 1 0 1 0 0 0 1 0 1 1 1 0 1 1 0 0 0 0 1 1 0 0 0 0 0 0 1\n",
            " 0 0 0 0 1 0 1 0 1 1 0 0 0 0 0 0 0 0 1 1 0 1 1 1 1 0 0 1 0 1 0 0 1 0 0 1 1\n",
            " 1 1 1 1 1 0 0 0 1 0 1 0 1 1 0 1 0 0 0 0 0 0 0 0 1 0 0 1 1 0 0 0 0 0 1 0 0\n",
            " 0 1 1 0 1 0 0 1 0 0 0 0 0 0 1 0 0 0 0 0 0 0 1 0 1 1 0 1 1 0 1 1 0 0 1 0 1\n",
            " 0 1 0 0 1 0 0 1 0 0 0 1 0 0 1 0 1 0 1 0 1 1 0 0 1 0 0 1 1 0 1 1 0 0 1 1 0\n",
            " 1 0 1 1 0 0 0 0 0 0 0 0 0 1 1 1 1 1 0 0 1 1 0 1 1 1 0 0 0 1 0 1 0 0 0 1 0\n",
            " 0 0 0 1 0 0 1 1 0 0 0 1 0 0 1 1 1 0 0 1 0 0 1 0 0 1 0 0 1 1 0 0 0 0 1 0 0\n",
            " 1 0 1 0 0 1 0 0 0 0 0 1 0 1 1 1 0 1 0 1 0 1 0 1 0 0 0 0 0 0 1 0 0 0 1 0 0\n",
            " 0 0 1 1 0 0 1 0 0 0 1 0 0 1 0 0 0 0 0 0 0 1 1 1 1 0 0 0 0 1 0 0 1 1 0 0 0\n",
            " 0 1 1 1 1 1 0 1 0 0 0 1 1 0 0 1 0 0 0 1 0 1 1 0 0 1 0 0 0 0 0 0 0 0 1]\n"
          ],
          "name": "stdout"
        }
      ]
    },
    {
      "cell_type": "code",
      "metadata": {
        "id": "sfGYUuZY9HXJ",
        "colab_type": "code",
        "colab": {
          "base_uri": "https://localhost:8080/",
          "height": 34
        },
        "outputId": "a48af5b8-3b96-40de-f30b-0de871491b27"
      },
      "source": [
        "test_data = df_test.iloc[:,1:]\n",
        "test_data = test_data.values\n",
        "print(test_data.shape)"
      ],
      "execution_count": 300,
      "outputs": [
        {
          "output_type": "stream",
          "text": [
            "(418, 12)\n"
          ],
          "name": "stdout"
        }
      ]
    },
    {
      "cell_type": "markdown",
      "metadata": {
        "id": "QhrQ5TE7vjzL",
        "colab_type": "text"
      },
      "source": [
        "##### SGD (Stochastic Gradient Descent)"
      ]
    },
    {
      "cell_type": "code",
      "metadata": {
        "id": "hVPeQ4BCvpLv",
        "colab_type": "code",
        "colab": {
          "base_uri": "https://localhost:8080/",
          "height": 123
        },
        "outputId": "a2fc4ad5-fbba-4995-bcdf-519493aa6ac3"
      },
      "source": [
        "from sklearn.linear_model import SGDClassifier\n",
        "\n",
        "sgd_clf = SGDClassifier()\n",
        "sgd_clf.fit(x_data, y_data)"
      ],
      "execution_count": 301,
      "outputs": [
        {
          "output_type": "execute_result",
          "data": {
            "text/plain": [
              "SGDClassifier(alpha=0.0001, average=False, class_weight=None,\n",
              "              early_stopping=False, epsilon=0.1, eta0=0.0, fit_intercept=True,\n",
              "              l1_ratio=0.15, learning_rate='optimal', loss='hinge',\n",
              "              max_iter=1000, n_iter_no_change=5, n_jobs=None, penalty='l2',\n",
              "              power_t=0.5, random_state=None, shuffle=True, tol=0.001,\n",
              "              validation_fraction=0.1, verbose=0, warm_start=False)"
            ]
          },
          "metadata": {
            "tags": []
          },
          "execution_count": 301
        }
      ]
    },
    {
      "cell_type": "markdown",
      "metadata": {
        "id": "rxn5A-RV0eJr",
        "colab_type": "text"
      },
      "source": [
        "##### SVM\n",
        "선형 svm"
      ]
    },
    {
      "cell_type": "code",
      "metadata": {
        "id": "iwOOkOX50dJ4",
        "colab_type": "code",
        "colab": {
          "base_uri": "https://localhost:8080/",
          "height": 230
        },
        "outputId": "858c42d1-b3ca-461a-dd97-f8068b46731c"
      },
      "source": [
        "from sklearn.pipeline import Pipeline\n",
        "from sklearn.preprocessing import StandardScaler\n",
        "from sklearn.svm import LinearSVC\n",
        "\n",
        "svm_clf = Pipeline([\n",
        "            (\"scaler\", StandardScaler()),\n",
        "            (\"linear_svc\", LinearSVC()),\n",
        "])\n",
        "\n",
        "svm_clf.fit(x_data, y_data)"
      ],
      "execution_count": 302,
      "outputs": [
        {
          "output_type": "stream",
          "text": [
            "/usr/local/lib/python3.6/dist-packages/sklearn/svm/_base.py:947: ConvergenceWarning: Liblinear failed to converge, increase the number of iterations.\n",
            "  \"the number of iterations.\", ConvergenceWarning)\n"
          ],
          "name": "stderr"
        },
        {
          "output_type": "execute_result",
          "data": {
            "text/plain": [
              "Pipeline(memory=None,\n",
              "         steps=[('scaler',\n",
              "                 StandardScaler(copy=True, with_mean=True, with_std=True)),\n",
              "                ('linear_svc',\n",
              "                 LinearSVC(C=1.0, class_weight=None, dual=True,\n",
              "                           fit_intercept=True, intercept_scaling=1,\n",
              "                           loss='squared_hinge', max_iter=1000,\n",
              "                           multi_class='ovr', penalty='l2', random_state=None,\n",
              "                           tol=0.0001, verbose=0))],\n",
              "         verbose=False)"
            ]
          },
          "metadata": {
            "tags": []
          },
          "execution_count": 302
        }
      ]
    },
    {
      "cell_type": "markdown",
      "metadata": {
        "id": "zNAYIDELEy06",
        "colab_type": "text"
      },
      "source": [
        "##### DecisionTree"
      ]
    },
    {
      "cell_type": "code",
      "metadata": {
        "id": "Phwp4oikEyQa",
        "colab_type": "code",
        "colab": {
          "base_uri": "https://localhost:8080/",
          "height": 123
        },
        "outputId": "41ac61f4-d0c4-44f4-a6b1-4bac2bf8c6cf"
      },
      "source": [
        "from sklearn.tree import DecisionTreeClassifier\n",
        "\n",
        "tree_clf = DecisionTreeClassifier()\n",
        "tree_clf.fit(x_data, y_data)"
      ],
      "execution_count": 303,
      "outputs": [
        {
          "output_type": "execute_result",
          "data": {
            "text/plain": [
              "DecisionTreeClassifier(ccp_alpha=0.0, class_weight=None, criterion='gini',\n",
              "                       max_depth=None, max_features=None, max_leaf_nodes=None,\n",
              "                       min_impurity_decrease=0.0, min_impurity_split=None,\n",
              "                       min_samples_leaf=1, min_samples_split=2,\n",
              "                       min_weight_fraction_leaf=0.0, presort='deprecated',\n",
              "                       random_state=None, splitter='best')"
            ]
          },
          "metadata": {
            "tags": []
          },
          "execution_count": 303
        }
      ]
    },
    {
      "cell_type": "markdown",
      "metadata": {
        "id": "r-DJwAMivEHX",
        "colab_type": "text"
      },
      "source": [
        "##### RandomForestClassifier"
      ]
    },
    {
      "cell_type": "code",
      "metadata": {
        "id": "OPVLRhCvtc-x",
        "colab_type": "code",
        "colab": {
          "base_uri": "https://localhost:8080/",
          "height": 158
        },
        "outputId": "2ec85ef5-7489-4735-8904-1a9b4d031bed"
      },
      "source": [
        "from sklearn.ensemble import RandomForestClassifier\n",
        "\n",
        "forest = RandomForestClassifier()\n",
        "forest.fit(x_data, y_data)"
      ],
      "execution_count": 304,
      "outputs": [
        {
          "output_type": "execute_result",
          "data": {
            "text/plain": [
              "RandomForestClassifier(bootstrap=True, ccp_alpha=0.0, class_weight=None,\n",
              "                       criterion='gini', max_depth=None, max_features='auto',\n",
              "                       max_leaf_nodes=None, max_samples=None,\n",
              "                       min_impurity_decrease=0.0, min_impurity_split=None,\n",
              "                       min_samples_leaf=1, min_samples_split=2,\n",
              "                       min_weight_fraction_leaf=0.0, n_estimators=100,\n",
              "                       n_jobs=None, oob_score=False, random_state=None,\n",
              "                       verbose=0, warm_start=False)"
            ]
          },
          "metadata": {
            "tags": []
          },
          "execution_count": 304
        }
      ]
    },
    {
      "cell_type": "markdown",
      "metadata": {
        "id": "LjVyH6M5FGzV",
        "colab_type": "text"
      },
      "source": [
        "##### AdaBoostClassifier"
      ]
    },
    {
      "cell_type": "code",
      "metadata": {
        "id": "Us49_5FdFGXS",
        "colab_type": "code",
        "colab": {
          "base_uri": "https://localhost:8080/",
          "height": 301
        },
        "outputId": "4ac68cc0-ee14-419e-c9a2-d7c977c66d2b"
      },
      "source": [
        "from sklearn.ensemble import AdaBoostClassifier\n",
        "\n",
        "ada_clf = AdaBoostClassifier(\n",
        "    DecisionTreeClassifier())\n",
        "\n",
        "ada_clf.fit(x_data, y_data)"
      ],
      "execution_count": 305,
      "outputs": [
        {
          "output_type": "execute_result",
          "data": {
            "text/plain": [
              "AdaBoostClassifier(algorithm='SAMME.R',\n",
              "                   base_estimator=DecisionTreeClassifier(ccp_alpha=0.0,\n",
              "                                                         class_weight=None,\n",
              "                                                         criterion='gini',\n",
              "                                                         max_depth=None,\n",
              "                                                         max_features=None,\n",
              "                                                         max_leaf_nodes=None,\n",
              "                                                         min_impurity_decrease=0.0,\n",
              "                                                         min_impurity_split=None,\n",
              "                                                         min_samples_leaf=1,\n",
              "                                                         min_samples_split=2,\n",
              "                                                         min_weight_fraction_leaf=0.0,\n",
              "                                                         presort='deprecated',\n",
              "                                                         random_state=None,\n",
              "                                                         splitter='best'),\n",
              "                   learning_rate=1.0, n_estimators=50, random_state=None)"
            ]
          },
          "metadata": {
            "tags": []
          },
          "execution_count": 305
        }
      ]
    },
    {
      "cell_type": "markdown",
      "metadata": {
        "id": "XQkBy2U7ngV_",
        "colab_type": "text"
      },
      "source": [
        "### 모델 평가\n",
        "교차 검증과 ROC로 모델 평가 진행"
      ]
    },
    {
      "cell_type": "markdown",
      "metadata": {
        "id": "zQLS83at1OnF",
        "colab_type": "text"
      },
      "source": [
        "#### 교차 검증"
      ]
    },
    {
      "cell_type": "code",
      "metadata": {
        "id": "eCnqsZ89pGwC",
        "colab_type": "code",
        "colab": {
          "base_uri": "https://localhost:8080/",
          "height": 674
        },
        "outputId": "37226c3d-f56d-4a58-e98d-f80aaa45aec1"
      },
      "source": [
        "from sklearn.model_selection import cross_val_score\n",
        "\n",
        "print(\"sgd_clf(data): \", cross_val_score(sgd_clf, x_data, y_data, cv=3, scoring=\"accuracy\"))\n",
        "print(\"sgd_clf(data): \", cross_val_score(sgd_clf, x_data, y_data, cv=3, scoring=\"accuracy\").mean())\n",
        "print(\"sgd_clf(val): \", cross_val_score(sgd_clf, x_val, y_val, cv=3, scoring=\"accuracy\"))\n",
        "print(\"sgd_clf(val): \", cross_val_score(sgd_clf, x_val, y_val, cv=3, scoring=\"accuracy\").mean())\n",
        "print()\n",
        "\n",
        "print(\"svm_clf(data): \", cross_val_score(svm_clf, x_data, y_data, cv=3, scoring=\"accuracy\"))\n",
        "print(\"svm_clf(data): \", cross_val_score(svm_clf, x_data, y_data, cv=3, scoring=\"accuracy\").mean())\n",
        "print(\"svm_clf(val): \", cross_val_score(svm_clf, x_val, y_val, cv=3, scoring=\"accuracy\"))\n",
        "print(\"svm_clf(val): \", cross_val_score(svm_clf, x_val, y_val, cv=3, scoring=\"accuracy\").mean())\n",
        "print()\n",
        "\n",
        "print(\"tree_clf(data): \", cross_val_score(tree_clf, x_data, y_data, cv=3, scoring=\"accuracy\"))\n",
        "print(\"tree_clf(data): \", cross_val_score(tree_clf, x_data, y_data, cv=3, scoring=\"accuracy\").mean())\n",
        "print(\"tree_clf(val): \", cross_val_score(tree_clf, x_val, y_val, cv=3, scoring=\"accuracy\"))\n",
        "print(\"tree_clf(val): \", cross_val_score(tree_clf, x_val, y_val, cv=3, scoring=\"accuracy\").mean())\n",
        "print()\n",
        "\n",
        "print(\"forest(data): \", cross_val_score(forest, x_data, y_data, cv=3, scoring=\"accuracy\"))\n",
        "print(\"forest(data): \", cross_val_score(forest, x_data, y_data, cv=3, scoring=\"accuracy\").mean())\n",
        "print(\"forest(val): \", cross_val_score(forest, x_val, y_val, cv=3, scoring=\"accuracy\"))\n",
        "print(\"forest(val): \", cross_val_score(forest, x_val, y_val, cv=3, scoring=\"accuracy\").mean())\n",
        "print()\n",
        "\n",
        "print(\"ada_clf(data): \", cross_val_score(ada_clf, x_data, y_data, cv=3, scoring=\"accuracy\"))\n",
        "print(\"ada_clf(data): \", cross_val_score(ada_clf, x_data, y_data, cv=3, scoring=\"accuracy\").mean())\n",
        "print(\"ada_clf(val): \", cross_val_score(ada_clf, x_val, y_val, cv=3, scoring=\"accuracy\"))\n",
        "print(\"ada_clf(val): \", cross_val_score(ada_clf, x_val, y_val, cv=3, scoring=\"accuracy\").mean())\n",
        "print()\n",
        "\n"
      ],
      "execution_count": 306,
      "outputs": [
        {
          "output_type": "stream",
          "text": [
            "sgd_clf(data):  [0.72357724 0.81300813 0.77235772]\n",
            "sgd_clf(data):  0.7439024390243901\n",
            "sgd_clf(val):  [0.78 0.78 0.8 ]\n",
            "sgd_clf(val):  0.7799999999999999\n",
            "\n",
            "svm_clf(data):  [0.79674797 0.80081301 0.76422764]\n"
          ],
          "name": "stdout"
        },
        {
          "output_type": "stream",
          "text": [
            "/usr/local/lib/python3.6/dist-packages/sklearn/svm/_base.py:947: ConvergenceWarning: Liblinear failed to converge, increase the number of iterations.\n",
            "  \"the number of iterations.\", ConvergenceWarning)\n",
            "/usr/local/lib/python3.6/dist-packages/sklearn/svm/_base.py:947: ConvergenceWarning: Liblinear failed to converge, increase the number of iterations.\n",
            "  \"the number of iterations.\", ConvergenceWarning)\n",
            "/usr/local/lib/python3.6/dist-packages/sklearn/svm/_base.py:947: ConvergenceWarning: Liblinear failed to converge, increase the number of iterations.\n",
            "  \"the number of iterations.\", ConvergenceWarning)\n",
            "/usr/local/lib/python3.6/dist-packages/sklearn/svm/_base.py:947: ConvergenceWarning: Liblinear failed to converge, increase the number of iterations.\n",
            "  \"the number of iterations.\", ConvergenceWarning)\n",
            "/usr/local/lib/python3.6/dist-packages/sklearn/svm/_base.py:947: ConvergenceWarning: Liblinear failed to converge, increase the number of iterations.\n",
            "  \"the number of iterations.\", ConvergenceWarning)\n",
            "/usr/local/lib/python3.6/dist-packages/sklearn/svm/_base.py:947: ConvergenceWarning: Liblinear failed to converge, increase the number of iterations.\n",
            "  \"the number of iterations.\", ConvergenceWarning)\n"
          ],
          "name": "stderr"
        },
        {
          "output_type": "stream",
          "text": [
            "svm_clf(data):  0.7886178861788617\n",
            "svm_clf(val):  [0.76 0.8  0.84]\n",
            "svm_clf(val):  0.7999999999999999\n",
            "\n",
            "tree_clf(data):  [0.73577236 0.76422764 0.74390244]\n",
            "tree_clf(data):  0.7588075880758808\n",
            "tree_clf(val):  [0.76 0.76 0.86]\n",
            "tree_clf(val):  0.7933333333333333\n",
            "\n",
            "forest(data):  [0.77642276 0.82926829 0.76422764]\n",
            "forest(data):  0.7845528455284553\n",
            "forest(val):  [0.8  0.84 0.9 ]\n",
            "forest(val):  0.8666666666666666\n",
            "\n",
            "ada_clf(data):  [0.75203252 0.80487805 0.74796748]\n",
            "ada_clf(data):  0.7642276422764228\n",
            "ada_clf(val):  [0.74 0.76 0.9 ]\n",
            "ada_clf(val):  0.7999999999999999\n",
            "\n"
          ],
          "name": "stdout"
        }
      ]
    },
    {
      "cell_type": "markdown",
      "metadata": {
        "id": "5xMH3A9d1RS5",
        "colab_type": "text"
      },
      "source": [
        "#### ROC"
      ]
    },
    {
      "cell_type": "code",
      "metadata": {
        "id": "KTxSEJdy4Yqh",
        "colab_type": "code",
        "colab": {
          "base_uri": "https://localhost:8080/",
          "height": 301
        },
        "outputId": "7db0297b-aa19-4c80-e33a-d6d0f7b00428"
      },
      "source": [
        "from sklearn.metrics import roc_curve\n",
        "from sklearn.metrics import roc_auc_score\n",
        "from sklearn.model_selection import cross_val_predict\n",
        "\n",
        "def plot_roc_curve(fpr, tpr, label=None):\n",
        "  plt.plot(fpr, tpr, linewidth=2, label=label)\n",
        "  plt.plot([0,1], [0,1], 'k--')\n",
        "  plt.axis([0,1,0,1])\n",
        "  plt.xlabel('fpr')\n",
        "  plt.ylabel('tpr')\n",
        "\n",
        "y_scores = cross_val_predict(sgd_clf, x_data, y_data, cv=3, method=\"decision_function\")\n",
        "fpr, tpr, thresholds = roc_curve(y_data, y_scores)\n",
        "plot_roc_curve(fpr, tpr)\n",
        "plt.show()\n",
        "\n",
        "print(\"sgd_clf: \", roc_auc_score(y_data, y_scores))"
      ],
      "execution_count": 307,
      "outputs": [
        {
          "output_type": "display_data",
          "data": {
            "image/png": "[encoded data removed]",
            "text/plain": [
              "<Figure size 432x288 with 1 Axes>"
            ]
          },
          "metadata": {
            "tags": [],
            "needs_background": "light"
          }
        },
        {
          "output_type": "stream",
          "text": [
            "sgd_clf:  0.7676155067580651\n"
          ],
          "name": "stdout"
        }
      ]
    },
    {
      "cell_type": "code",
      "metadata": {
        "id": "-YLmo7CxBy5R",
        "colab_type": "code",
        "colab": {
          "base_uri": "https://localhost:8080/",
          "height": 407
        },
        "outputId": "5ae335ea-eea8-4a5b-dfbb-afd3d9204d92"
      },
      "source": [
        "y_scores = cross_val_predict(svm_clf, x_data, y_data, cv=3, method=\"decision_function\")\n",
        "fpr, tpr, thresholds = roc_curve(y_data, y_scores)\n",
        "plot_roc_curve(fpr, tpr)\n",
        "plt.show()\n",
        "\n",
        "print(\"svm_clf: \", roc_auc_score(y_data, y_scores))"
      ],
      "execution_count": 308,
      "outputs": [
        {
          "output_type": "stream",
          "text": [
            "/usr/local/lib/python3.6/dist-packages/sklearn/svm/_base.py:947: ConvergenceWarning: Liblinear failed to converge, increase the number of iterations.\n",
            "  \"the number of iterations.\", ConvergenceWarning)\n",
            "/usr/local/lib/python3.6/dist-packages/sklearn/svm/_base.py:947: ConvergenceWarning: Liblinear failed to converge, increase the number of iterations.\n",
            "  \"the number of iterations.\", ConvergenceWarning)\n",
            "/usr/local/lib/python3.6/dist-packages/sklearn/svm/_base.py:947: ConvergenceWarning: Liblinear failed to converge, increase the number of iterations.\n",
            "  \"the number of iterations.\", ConvergenceWarning)\n"
          ],
          "name": "stderr"
        },
        {
          "output_type": "display_data",
          "data": {
            "image/png": "[encoded data removed]",
            "text/plain": [
              "<Figure size 432x288 with 1 Axes>"
            ]
          },
          "metadata": {
            "tags": [],
            "needs_background": "light"
          }
        },
        {
          "output_type": "stream",
          "text": [
            "svm_clf:  0.8335618295186089\n"
          ],
          "name": "stdout"
        }
      ]
    },
    {
      "cell_type": "code",
      "metadata": {
        "id": "KlQGd_BK7s5g",
        "colab_type": "code",
        "colab": {
          "base_uri": "https://localhost:8080/",
          "height": 301
        },
        "outputId": "58064a95-f6f5-4496-c669-8fb630791909"
      },
      "source": [
        "y_scores = cross_val_predict(tree_clf, x_data, y_data, cv=3, method=\"predict_proba\")\n",
        "fpr, tpr, thresholds = roc_curve(y_data, y_scores[:,1])\n",
        "plot_roc_curve(fpr, tpr)\n",
        "plt.show()\n",
        "\n",
        "print(\"tree_clf: \", roc_auc_score(y_data, y_scores[:,1]))"
      ],
      "execution_count": 309,
      "outputs": [
        {
          "output_type": "display_data",
          "data": {
            "image/png": "[encoded data removed]",
            "text/plain": [
              "<Figure size 432x288 with 1 Axes>"
            ]
          },
          "metadata": {
            "tags": [],
            "needs_background": "light"
          }
        },
        {
          "output_type": "stream",
          "text": [
            "tree_clf:  0.7455017234034312\n"
          ],
          "name": "stdout"
        }
      ]
    },
    {
      "cell_type": "code",
      "metadata": {
        "id": "mlv4E1A-7mXS",
        "colab_type": "code",
        "colab": {
          "base_uri": "https://localhost:8080/",
          "height": 301
        },
        "outputId": "d2102c63-5fc6-4cce-d9b7-aa6fe65e3d98"
      },
      "source": [
        "y_scores = cross_val_predict(forest, x_data, y_data, cv=3, method=\"predict_proba\")\n",
        "fpr, tpr, thresholds = roc_curve(y_data, y_scores[:,1])\n",
        "plot_roc_curve(fpr, tpr)\n",
        "plt.show()\n",
        "print(\"forest: \", roc_auc_score(y_data, y_scores[:,1]))"
      ],
      "execution_count": 310,
      "outputs": [
        {
          "output_type": "display_data",
          "data": {
            "image/png": "[encoded data removed]",
            "text/plain": [
              "<Figure size 432x288 with 1 Axes>"
            ]
          },
          "metadata": {
            "tags": [],
            "needs_background": "light"
          }
        },
        {
          "output_type": "stream",
          "text": [
            "forest:  0.8362882924751172\n"
          ],
          "name": "stdout"
        }
      ]
    },
    {
      "cell_type": "code",
      "metadata": {
        "id": "YMq750A3F83F",
        "colab_type": "code",
        "colab": {
          "base_uri": "https://localhost:8080/",
          "height": 301
        },
        "outputId": "cdc7132e-207d-4088-80fd-1730e5e01458"
      },
      "source": [
        "y_scores = cross_val_predict(ada_clf, x_data, y_data, cv=3, method=\"predict_proba\")\n",
        "fpr, tpr, thresholds = roc_curve(y_data, y_scores[:,1])\n",
        "plot_roc_curve(fpr, tpr)\n",
        "plt.show()\n",
        "print(\"ada_clf: \", roc_auc_score(y_data, y_scores[:,1]))"
      ],
      "execution_count": 311,
      "outputs": [
        {
          "output_type": "display_data",
          "data": {
            "image/png": "[encoded data removed]",
            "text/plain": [
              "<Figure size 432x288 with 1 Axes>"
            ]
          },
          "metadata": {
            "tags": [],
            "needs_background": "light"
          }
        },
        {
          "output_type": "stream",
          "text": [
            "ada_clf:  0.8044537392045235\n"
          ],
          "name": "stdout"
        }
      ]
    },
    {
      "cell_type": "markdown",
      "metadata": {
        "id": "NidWeigbphDL",
        "colab_type": "text"
      },
      "source": [
        "|모델|auc score|\n",
        "|------|---|\n",
        "|SGD|0.7676155067580651|\n",
        "|SVM|0.8335618295186089|\n",
        "|DecisionTree|0.7455017234034312|\n",
        "|RandomForestClassifier|0.8362882924751172|\n",
        "|AdaBoostClassifier|0.8044537392045235|\n",
        "  \n",
        "\n",
        "모델 평가 결과 교차 검증에서도 평균적으로 높은 정확도를 보이고, ROC AUC 점수도 가장 좋은 점수를 보이는 ```RandomForestClassifier``` 를 이 문제를 해결하기 위해 적합하다고 판단하였다."
      ]
    },
    {
      "cell_type": "markdown",
      "metadata": {
        "id": "e74ewjaN9HXM",
        "colab_type": "text"
      },
      "source": [
        "### 모델 세부 튜닝\n",
        "#### Grid Search\n",
        "탐색하고자 하는 하이퍼파라미터와 시도해볼 값을 지정하여 모든 하이퍼파라미터 조합에 대해 교차 검증을 사용해 탐색.\n",
        "\n",
        "오른쪽 결과는 x_data 로 fit 후 x_val로 구한 auc 점수(소수점 셋째자리에서 반올림)\n",
        "\n",
        "1차시도(교재와 동일) / 결과 : 0.83\n",
        "\n",
        "\n",
        "```\n",
        "param_grid = [\n",
        "  {'n_estimators' : [3,10,30], 'max_features' : [2,4,6,8]},\n",
        "  {'bootstrap' : [False], 'n_estimators' : [3,10], 'max_features' : [2,3,4]}\n",
        "]\n",
        "```\n",
        "\n",
        "2차시도 / 결과 : 0.84\n",
        "\n",
        "\n",
        "```\n",
        "{'n_estimators' : [10, 100], 'max_depth' : [6, 8, 10, 12], 'min_samples_leaf' : [8, 12, 18], 'min_samples_split' : [8, 16, 20]\n",
        "```\n",
        "\n",
        "3차시도 / 결과 : 0.81\n",
        "\n",
        "\n",
        "```\n",
        "param_grid = [\n",
        "  {'n_estimators' : [5, 10, 100], 'max_depth' : [8, 10, 12, 16], 'min_samples_leaf' : [4, 8, 12], 'min_samples_split' : [16, 20, 24]}\n",
        "]\n",
        "```\n",
        "\n",
        "4차시도 / 결과 : 0.80\n",
        "\n",
        "\n",
        "```\n",
        "param_grid = [\n",
        "  {'n_estimators' : [5, 7, 9, 11, 13], 'max_depth' : [None, 10, 12, 14], 'min_samples_leaf' : [2, 4, 6, 8],\n",
        "  'min_samples_split' : [16, 18, 20, 22], 'max_features' : [\"auto\", \"int\", \"sqrt\", \"log\"]}\n",
        "]\n",
        "```\n",
        "\n",
        "5차시도 / 결과 : 0.80\n",
        "\n",
        "\n",
        "```\n",
        "param_grid = [\n",
        "  {'n_estimators' : [5, 7, 9, 11, 13], 'max_depth' : [None, 10, 12, 14],\n",
        "  'min_samples_leaf' : [2, 4, 6, 8], 'min_samples_split' : [14, 16, 18, 20], 'max_features' : [\"auto\", \"sqrt\", \"log2\"]}\n",
        "]\n",
        "```\n",
        "\n",
        "\n",
        "\n",
        "\n",
        "\n"
      ]
    },
    {
      "cell_type": "markdown",
      "metadata": {
        "id": "IK8KgokJ9HXM",
        "colab_type": "text"
      },
      "source": [
        "### RandomForestClassifier\n",
        "\n",
        "```\n",
        "RandomForestClassifier(n_estimators=100,\n",
        "                       criterion=\"gini\",\n",
        "                       max_depth=None,\n",
        "                       min_samples_split=2,\n",
        "                       min_samples_leaf=1,\n",
        "                       min_weight_fraction_leaf=0.,\n",
        "                       max_features=\"auto\",\n",
        "                       max_leaf_nodes=None,\n",
        "                       min_impurity_decrease=0.,\n",
        "                       min_impurity_split=None,\n",
        "                       bootstrap=True,\n",
        "                       oob_score=False,\n",
        "                       n_jobs=None,\n",
        "                       random_state=None,\n",
        "                       verbose=0,\n",
        "                       warm_start=False,\n",
        "                       class_weight=None,\n",
        "                       ccp_alpha=0.0,\n",
        "                       max_samples=None)\n",
        "```\n",
        "\n",
        "\n"
      ]
    },
    {
      "cell_type": "markdown",
      "metadata": {
        "id": "wkQu6Ln1QYX3",
        "colab_type": "text"
      },
      "source": [
        "|하이퍼파라미터|설명|비고|\n",
        "|------|---|---|\n",
        "|n_estimators|결정트리의 갯수를 지정.|무작정 트리 갯수를 늘리면 성능 좋아지는 것 대비 시간이 걸릴 수 있음|\n",
        "|min_samples_split|노드를 분할하기 위한 최소한의 샘플 데이터 수|작게 설정할 수록 분할 노드가 많아져 과적합 가능성 증가|\n",
        "|min_samples_leaf|리프노드가 되기 위해 필요한 최소한의 샘플 데이터수|불균형 데이터의 경우 특정 클래스의 데이터가 극도로 작을 수 있으므로 작게 설정 필요|\n",
        "|max_features|최적의 분할을 위해 고려할 최대 feature 개수|\n",
        "|max_depth|트리의 최대 깊이|깊이가 깊어지면 과적합될 수 있으므로 적절히 제어 필요|\n",
        "|max_leaf_nodes|리프노드의 최대 개수|\n",
        "\n",
        "참고:https://injo.tistory.com/30"
      ]
    },
    {
      "cell_type": "code",
      "metadata": {
        "id": "OEpaBJ8d9HXN",
        "colab_type": "code",
        "colab": {
          "base_uri": "https://localhost:8080/",
          "height": 425
        },
        "outputId": "766a7d5a-d7d2-47ae-d83b-e3bf7a911261"
      },
      "source": [
        "from sklearn.model_selection import GridSearchCV\n",
        "\n",
        "param_grid = [\n",
        "  {'n_estimators' : [10, 100], 'max_depth' : [6, 8, 10, 12], 'min_samples_leaf' : [8, 12, 18], 'min_samples_split' : [8, 16, 20]}\n",
        "]\n",
        "\n",
        "forest = RandomForestClassifier()\n",
        "\n",
        "grid_search = GridSearchCV(forest, param_grid, cv=5,\n",
        "                           scoring='accuracy',\n",
        "                           return_train_score=True)\n",
        "\n",
        "grid_search.fit(x_full, y_full)"
      ],
      "execution_count": 366,
      "outputs": [
        {
          "output_type": "execute_result",
          "data": {
            "text/plain": [
              "GridSearchCV(cv=5, error_score=nan,\n",
              "             estimator=RandomForestClassifier(bootstrap=True, ccp_alpha=0.0,\n",
              "                                              class_weight=None,\n",
              "                                              criterion='gini', max_depth=None,\n",
              "                                              max_features='auto',\n",
              "                                              max_leaf_nodes=None,\n",
              "                                              max_samples=None,\n",
              "                                              min_impurity_decrease=0.0,\n",
              "                                              min_impurity_split=None,\n",
              "                                              min_samples_leaf=1,\n",
              "                                              min_samples_split=2,\n",
              "                                              min_weight_fraction_leaf=0.0,\n",
              "                                              n_estimators=100, n_jobs=None,\n",
              "                                              oob_score=False,\n",
              "                                              random_state=None, verbose=0,\n",
              "                                              warm_start=False),\n",
              "             iid='deprecated', n_jobs=None,\n",
              "             param_grid=[{'max_depth': [6, 8, 10, 12],\n",
              "                          'min_samples_leaf': [8, 12, 18],\n",
              "                          'min_samples_split': [8, 16, 20],\n",
              "                          'n_estimators': [10, 100]}],\n",
              "             pre_dispatch='2*n_jobs', refit=True, return_train_score=True,\n",
              "             scoring='accuracy', verbose=0)"
            ]
          },
          "metadata": {
            "tags": []
          },
          "execution_count": 366
        }
      ]
    },
    {
      "cell_type": "code",
      "metadata": {
        "id": "duGK7-0wKYkB",
        "colab_type": "code",
        "colab": {
          "base_uri": "https://localhost:8080/",
          "height": 87
        },
        "outputId": "78aa0e41-0093-4d9f-ac77-7fe6ad6b3060"
      },
      "source": [
        "grid_search.best_params_"
      ],
      "execution_count": 367,
      "outputs": [
        {
          "output_type": "execute_result",
          "data": {
            "text/plain": [
              "{'max_depth': 12,\n",
              " 'min_samples_leaf': 8,\n",
              " 'min_samples_split': 16,\n",
              " 'n_estimators': 10}"
            ]
          },
          "metadata": {
            "tags": []
          },
          "execution_count": 367
        }
      ]
    },
    {
      "cell_type": "code",
      "metadata": {
        "id": "K9qA9wiW9HXO",
        "colab_type": "code",
        "colab": {}
      },
      "source": [
        "max_depth_value = grid_search.best_params_['max_depth']\n",
        "min_samples_leaf_value = grid_search.best_params_['min_samples_leaf']\n",
        "min_samples_split_value = grid_search.best_params_['min_samples_split']\n",
        "n_estimators_value = grid_search.best_params_['n_estimators']"
      ],
      "execution_count": 368,
      "outputs": []
    },
    {
      "cell_type": "code",
      "metadata": {
        "id": "iAMZMAMXjp-j",
        "colab_type": "code",
        "colab": {
          "base_uri": "https://localhost:8080/",
          "height": 34
        },
        "outputId": "4e347b22-7546-4197-b16f-49f0f8246b9a"
      },
      "source": [
        "max_depth_value, min_samples_leaf_value, min_samples_split_value, n_estimators_value"
      ],
      "execution_count": 369,
      "outputs": [
        {
          "output_type": "execute_result",
          "data": {
            "text/plain": [
              "(12, 8, 16, 10)"
            ]
          },
          "metadata": {
            "tags": []
          },
          "execution_count": 369
        }
      ]
    },
    {
      "cell_type": "code",
      "metadata": {
        "id": "5M6sVkyA9HXQ",
        "colab_type": "code",
        "colab": {
          "base_uri": "https://localhost:8080/",
          "height": 1000
        },
        "outputId": "568c6c76-f3b1-4ec5-f0a9-2b38797ae53e"
      },
      "source": [
        "cvres = grid_search.cv_results_\n",
        "for mean_score, params in zip(cvres[\"mean_test_score\"], cvres[\"params\"]):\n",
        "    print(mean_score, params)"
      ],
      "execution_count": 370,
      "outputs": [
        {
          "output_type": "stream",
          "text": [
            "0.8108296832349394 {'max_depth': 6, 'min_samples_leaf': 8, 'min_samples_split': 8, 'n_estimators': 10}\n",
            "0.8175585602742335 {'max_depth': 6, 'min_samples_leaf': 8, 'min_samples_split': 8, 'n_estimators': 100}\n",
            "0.8085444042404621 {'max_depth': 6, 'min_samples_leaf': 8, 'min_samples_split': 16, 'n_estimators': 10}\n",
            "0.815292325271377 {'max_depth': 6, 'min_samples_leaf': 8, 'min_samples_split': 16, 'n_estimators': 100}\n",
            "0.8029454707039928 {'max_depth': 6, 'min_samples_leaf': 8, 'min_samples_split': 20, 'n_estimators': 10}\n",
            "0.8051736177236082 {'max_depth': 6, 'min_samples_leaf': 8, 'min_samples_split': 20, 'n_estimators': 100}\n",
            "0.8018155272011681 {'max_depth': 6, 'min_samples_leaf': 12, 'min_samples_split': 8, 'n_estimators': 10}\n",
            "0.8085444042404621 {'max_depth': 6, 'min_samples_leaf': 12, 'min_samples_split': 8, 'n_estimators': 100}\n",
            "0.8051609217291945 {'max_depth': 6, 'min_samples_leaf': 12, 'min_samples_split': 16, 'n_estimators': 10}\n",
            "0.8085507522376689 {'max_depth': 6, 'min_samples_leaf': 12, 'min_samples_split': 16, 'n_estimators': 100}\n",
            "0.7984130006982797 {'max_depth': 6, 'min_samples_leaf': 12, 'min_samples_split': 20, 'n_estimators': 10}\n",
            "0.8062972132292263 {'max_depth': 6, 'min_samples_leaf': 12, 'min_samples_split': 20, 'n_estimators': 100}\n",
            "0.7984320446899004 {'max_depth': 6, 'min_samples_leaf': 18, 'min_samples_split': 8, 'n_estimators': 10}\n",
            "0.805179965720815 {'max_depth': 6, 'min_samples_leaf': 18, 'min_samples_split': 8, 'n_estimators': 100}\n",
            "0.804062718212404 {'max_depth': 6, 'min_samples_leaf': 18, 'min_samples_split': 16, 'n_estimators': 10}\n",
            "0.8051736177236082 {'max_depth': 6, 'min_samples_leaf': 18, 'min_samples_split': 16, 'n_estimators': 100}\n",
            "0.79615311369263 {'max_depth': 6, 'min_samples_leaf': 18, 'min_samples_split': 20, 'n_estimators': 10}\n",
            "0.8051736177236084 {'max_depth': 6, 'min_samples_leaf': 18, 'min_samples_split': 20, 'n_estimators': 100}\n",
            "0.8119405827461434 {'max_depth': 8, 'min_samples_leaf': 8, 'min_samples_split': 8, 'n_estimators': 10}\n",
            "0.8130451342601409 {'max_depth': 8, 'min_samples_leaf': 8, 'min_samples_split': 8, 'n_estimators': 100}\n",
            "0.8130641782517616 {'max_depth': 8, 'min_samples_leaf': 8, 'min_samples_split': 16, 'n_estimators': 10}\n",
            "0.8175458642798198 {'max_depth': 8, 'min_samples_leaf': 8, 'min_samples_split': 16, 'n_estimators': 100}\n",
            "0.8175712562686475 {'max_depth': 8, 'min_samples_leaf': 8, 'min_samples_split': 20, 'n_estimators': 10}\n",
            "0.8186694597854377 {'max_depth': 8, 'min_samples_leaf': 8, 'min_samples_split': 20, 'n_estimators': 100}\n",
            "0.7995556401955183 {'max_depth': 8, 'min_samples_leaf': 12, 'min_samples_split': 8, 'n_estimators': 10}\n",
            "0.8085380562432553 {'max_depth': 8, 'min_samples_leaf': 12, 'min_samples_split': 8, 'n_estimators': 100}\n",
            "0.805179965720815 {'max_depth': 8, 'min_samples_leaf': 12, 'min_samples_split': 16, 'n_estimators': 10}\n",
            "0.8085507522376691 {'max_depth': 8, 'min_samples_leaf': 12, 'min_samples_split': 16, 'n_estimators': 100}\n",
            "0.8040881102012316 {'max_depth': 8, 'min_samples_leaf': 12, 'min_samples_split': 20, 'n_estimators': 10}\n",
            "0.8029200787151654 {'max_depth': 8, 'min_samples_leaf': 12, 'min_samples_split': 20, 'n_estimators': 100}\n",
            "0.8029073827207516 {'max_depth': 8, 'min_samples_leaf': 18, 'min_samples_split': 8, 'n_estimators': 10}\n",
            "0.8051736177236084 {'max_depth': 8, 'min_samples_leaf': 18, 'min_samples_split': 8, 'n_estimators': 100}\n",
            "0.8051609217291945 {'max_depth': 8, 'min_samples_leaf': 18, 'min_samples_split': 16, 'n_estimators': 10}\n",
            "0.8051736177236082 {'max_depth': 8, 'min_samples_leaf': 18, 'min_samples_split': 16, 'n_estimators': 100}\n",
            "0.8051482257347807 {'max_depth': 8, 'min_samples_leaf': 18, 'min_samples_split': 20, 'n_estimators': 10}\n",
            "0.805186313718022 {'max_depth': 8, 'min_samples_leaf': 18, 'min_samples_split': 20, 'n_estimators': 100}\n",
            "0.8051799657208152 {'max_depth': 10, 'min_samples_leaf': 8, 'min_samples_split': 8, 'n_estimators': 10}\n",
            "0.8186758077826447 {'max_depth': 10, 'min_samples_leaf': 8, 'min_samples_split': 8, 'n_estimators': 100}\n",
            "0.81528597727417 {'max_depth': 10, 'min_samples_leaf': 8, 'min_samples_split': 16, 'n_estimators': 10}\n",
            "0.8164286167714087 {'max_depth': 10, 'min_samples_leaf': 8, 'min_samples_split': 16, 'n_estimators': 100}\n",
            "0.8175585602742335 {'max_depth': 10, 'min_samples_leaf': 8, 'min_samples_split': 20, 'n_estimators': 10}\n",
            "0.8152986732685837 {'max_depth': 10, 'min_samples_leaf': 8, 'min_samples_split': 20, 'n_estimators': 100}\n",
            "0.8085507522376691 {'max_depth': 10, 'min_samples_leaf': 12, 'min_samples_split': 8, 'n_estimators': 10}\n",
            "0.8062972132292261 {'max_depth': 10, 'min_samples_leaf': 12, 'min_samples_split': 8, 'n_estimators': 100}\n",
            "0.8119405827461434 {'max_depth': 10, 'min_samples_leaf': 12, 'min_samples_split': 16, 'n_estimators': 10}\n",
            "0.807433504729258 {'max_depth': 10, 'min_samples_leaf': 12, 'min_samples_split': 16, 'n_estimators': 100}\n",
            "0.8029327747095791 {'max_depth': 10, 'min_samples_leaf': 12, 'min_samples_split': 20, 'n_estimators': 10}\n",
            "0.8063099092236399 {'max_depth': 10, 'min_samples_leaf': 12, 'min_samples_split': 20, 'n_estimators': 100}\n",
            "0.7984130006982797 {'max_depth': 10, 'min_samples_leaf': 18, 'min_samples_split': 8, 'n_estimators': 10}\n",
            "0.80405002221799 {'max_depth': 10, 'min_samples_leaf': 18, 'min_samples_split': 8, 'n_estimators': 100}\n",
            "0.8006792357011363 {'max_depth': 10, 'min_samples_leaf': 18, 'min_samples_split': 16, 'n_estimators': 10}\n",
            "0.804062718212404 {'max_depth': 10, 'min_samples_leaf': 18, 'min_samples_split': 16, 'n_estimators': 100}\n",
            "0.793905922681394 {'max_depth': 10, 'min_samples_leaf': 18, 'min_samples_split': 20, 'n_estimators': 10}\n",
            "0.805186313718022 {'max_depth': 10, 'min_samples_leaf': 18, 'min_samples_split': 20, 'n_estimators': 100}\n",
            "0.8096806957404941 {'max_depth': 12, 'min_samples_leaf': 8, 'min_samples_split': 8, 'n_estimators': 10}\n",
            "0.816409572779788 {'max_depth': 12, 'min_samples_leaf': 8, 'min_samples_split': 8, 'n_estimators': 100}\n",
            "0.8198120992826764 {'max_depth': 12, 'min_samples_leaf': 8, 'min_samples_split': 16, 'n_estimators': 10}\n",
            "0.8164032247825812 {'max_depth': 12, 'min_samples_leaf': 8, 'min_samples_split': 16, 'n_estimators': 100}\n",
            "0.8096806957404938 {'max_depth': 12, 'min_samples_leaf': 8, 'min_samples_split': 20, 'n_estimators': 10}\n",
            "0.81528597727417 {'max_depth': 12, 'min_samples_leaf': 8, 'min_samples_split': 20, 'n_estimators': 100}\n",
            "0.7984193486954865 {'max_depth': 12, 'min_samples_leaf': 12, 'min_samples_split': 8, 'n_estimators': 10}\n",
            "0.8107915952516983 {'max_depth': 12, 'min_samples_leaf': 12, 'min_samples_split': 8, 'n_estimators': 100}\n",
            "0.8062972132292261 {'max_depth': 12, 'min_samples_leaf': 12, 'min_samples_split': 16, 'n_estimators': 10}\n",
            "0.814168729765759 {'max_depth': 12, 'min_samples_leaf': 12, 'min_samples_split': 16, 'n_estimators': 100}\n",
            "0.7995429442011046 {'max_depth': 12, 'min_samples_leaf': 12, 'min_samples_split': 20, 'n_estimators': 10}\n",
            "0.810797943248905 {'max_depth': 12, 'min_samples_leaf': 12, 'min_samples_split': 20, 'n_estimators': 100}\n",
            "0.8062908652320193 {'max_depth': 12, 'min_samples_leaf': 18, 'min_samples_split': 8, 'n_estimators': 10}\n",
            "0.8085634482320827 {'max_depth': 12, 'min_samples_leaf': 18, 'min_samples_split': 8, 'n_estimators': 100}\n",
            "0.8018218751983749 {'max_depth': 12, 'min_samples_leaf': 18, 'min_samples_split': 16, 'n_estimators': 10}\n",
            "0.8074208087348442 {'max_depth': 12, 'min_samples_leaf': 18, 'min_samples_split': 16, 'n_estimators': 100}\n",
            "0.7928013711673966 {'max_depth': 12, 'min_samples_leaf': 18, 'min_samples_split': 20, 'n_estimators': 10}\n",
            "0.807427156732051 {'max_depth': 12, 'min_samples_leaf': 18, 'min_samples_split': 20, 'n_estimators': 100}\n"
          ],
          "name": "stdout"
        }
      ]
    },
    {
      "cell_type": "code",
      "metadata": {
        "id": "otadF9i99HXR",
        "colab_type": "code",
        "colab": {
          "base_uri": "https://localhost:8080/",
          "height": 158
        },
        "outputId": "e74cc800-4ac8-4f13-e8b5-612cf5624905"
      },
      "source": [
        "forest = RandomForestClassifier(n_estimators = n_estimators_value, max_depth = max_depth_value, min_samples_leaf = min_samples_leaf_value, min_samples_split = min_samples_split_value)\n",
        "forest.fit(x_data, y_data)"
      ],
      "execution_count": 371,
      "outputs": [
        {
          "output_type": "execute_result",
          "data": {
            "text/plain": [
              "RandomForestClassifier(bootstrap=True, ccp_alpha=0.0, class_weight=None,\n",
              "                       criterion='gini', max_depth=12, max_features='auto',\n",
              "                       max_leaf_nodes=None, max_samples=None,\n",
              "                       min_impurity_decrease=0.0, min_impurity_split=None,\n",
              "                       min_samples_leaf=8, min_samples_split=16,\n",
              "                       min_weight_fraction_leaf=0.0, n_estimators=10,\n",
              "                       n_jobs=None, oob_score=False, random_state=None,\n",
              "                       verbose=0, warm_start=False)"
            ]
          },
          "metadata": {
            "tags": []
          },
          "execution_count": 371
        }
      ]
    },
    {
      "cell_type": "code",
      "metadata": {
        "id": "shg7MK7aNd03",
        "colab_type": "code",
        "colab": {
          "base_uri": "https://localhost:8080/",
          "height": 301
        },
        "outputId": "2319ea00-e38f-4ae6-b1f3-0a01c7891e58"
      },
      "source": [
        "y_scores = cross_val_predict(forest, x_val, y_val, cv=3, method=\"predict_proba\")\n",
        "fpr, tpr, thresholds = roc_curve(y_val, y_scores[:,1])\n",
        "plot_roc_curve(fpr, tpr)\n",
        "plt.show()\n",
        "print(\"forest: \", roc_auc_score(y_val, y_scores[:,1]))"
      ],
      "execution_count": 387,
      "outputs": [
        {
          "output_type": "display_data",
          "data": {
            "image/png": "[encoded data removed]",
            "text/plain": [
              "<Figure size 432x288 with 1 Axes>"
            ]
          },
          "metadata": {
            "tags": [],
            "needs_background": "light"
          }
        },
        {
          "output_type": "stream",
          "text": [
            "forest:  0.8381558641975307\n"
          ],
          "name": "stdout"
        }
      ]
    },
    {
      "cell_type": "markdown",
      "metadata": {
        "id": "KBCKDCippbpI",
        "colab_type": "text"
      },
      "source": [
        "### 최종 모델"
      ]
    },
    {
      "cell_type": "code",
      "metadata": {
        "id": "KFCeXAwmpdsf",
        "colab_type": "code",
        "colab": {
          "base_uri": "https://localhost:8080/",
          "height": 158
        },
        "outputId": "dbcbb8e8-848d-404c-ca8b-aa4f5bb8e3c4"
      },
      "source": [
        "model = RandomForestClassifier(n_estimators = n_estimators_value, max_depth = max_depth_value, min_samples_leaf = min_samples_leaf_value, min_samples_split = min_samples_split_value)\n",
        "model.fit(x_full, y_full)"
      ],
      "execution_count": 373,
      "outputs": [
        {
          "output_type": "execute_result",
          "data": {
            "text/plain": [
              "RandomForestClassifier(bootstrap=True, ccp_alpha=0.0, class_weight=None,\n",
              "                       criterion='gini', max_depth=12, max_features='auto',\n",
              "                       max_leaf_nodes=None, max_samples=None,\n",
              "                       min_impurity_decrease=0.0, min_impurity_split=None,\n",
              "                       min_samples_leaf=8, min_samples_split=16,\n",
              "                       min_weight_fraction_leaf=0.0, n_estimators=10,\n",
              "                       n_jobs=None, oob_score=False, random_state=None,\n",
              "                       verbose=0, warm_start=False)"
            ]
          },
          "metadata": {
            "tags": []
          },
          "execution_count": 373
        }
      ]
    },
    {
      "cell_type": "markdown",
      "metadata": {
        "id": "vUf0lDvkq2Kp",
        "colab_type": "text"
      },
      "source": [
        "#### 최종 모델 평가\n",
        "**confusion matrix**"
      ]
    },
    {
      "cell_type": "code",
      "metadata": {
        "id": "A16AjPG1rfKs",
        "colab_type": "code",
        "colab": {}
      },
      "source": [
        "y_train_pred = cross_val_predict(model, x_full, y_full)"
      ],
      "execution_count": 374,
      "outputs": []
    },
    {
      "cell_type": "code",
      "metadata": {
        "id": "O2FSKwlkru_y",
        "colab_type": "code",
        "colab": {
          "base_uri": "https://localhost:8080/",
          "height": 52
        },
        "outputId": "95f24010-0604-4dc0-9231-f97c07ad28c6"
      },
      "source": [
        "from sklearn.metrics import confusion_matrix\n",
        "confusion_matrix(y_full, y_train_pred)"
      ],
      "execution_count": 375,
      "outputs": [
        {
          "output_type": "execute_result",
          "data": {
            "text/plain": [
              "array([[501,  48],\n",
              "       [127, 212]])"
            ]
          },
          "metadata": {
            "tags": []
          },
          "execution_count": 375
        }
      ]
    },
    {
      "cell_type": "code",
      "metadata": {
        "id": "z6I-vtfZsrd4",
        "colab_type": "code",
        "colab": {}
      },
      "source": [
        "from sklearn.metrics import precision_score, recall_score, f1_score"
      ],
      "execution_count": 376,
      "outputs": []
    },
    {
      "cell_type": "markdown",
      "metadata": {
        "id": "xjiM9hdxsjMp",
        "colab_type": "text"
      },
      "source": [
        "\n",
        "**precision score**"
      ]
    },
    {
      "cell_type": "code",
      "metadata": {
        "id": "oIrSz55sszv0",
        "colab_type": "code",
        "colab": {
          "base_uri": "https://localhost:8080/",
          "height": 34
        },
        "outputId": "40d823da-6baa-42ac-a005-fe32813c96ae"
      },
      "source": [
        "precision_score(y_full, y_train_pred)"
      ],
      "execution_count": 377,
      "outputs": [
        {
          "output_type": "execute_result",
          "data": {
            "text/plain": [
              "0.8153846153846154"
            ]
          },
          "metadata": {
            "tags": []
          },
          "execution_count": 377
        }
      ]
    },
    {
      "cell_type": "markdown",
      "metadata": {
        "id": "D1Tbh46qsmx4",
        "colab_type": "text"
      },
      "source": [
        "**recall score** "
      ]
    },
    {
      "cell_type": "code",
      "metadata": {
        "id": "KFPRcX2ws4Os",
        "colab_type": "code",
        "colab": {
          "base_uri": "https://localhost:8080/",
          "height": 34
        },
        "outputId": "71d75a7c-076a-4d0d-a476-a95916ac6fff"
      },
      "source": [
        "recall_score(y_full, y_train_pred)"
      ],
      "execution_count": 378,
      "outputs": [
        {
          "output_type": "execute_result",
          "data": {
            "text/plain": [
              "0.6253687315634219"
            ]
          },
          "metadata": {
            "tags": []
          },
          "execution_count": 378
        }
      ]
    },
    {
      "cell_type": "markdown",
      "metadata": {
        "id": "GbNQ9m_6sp5g",
        "colab_type": "text"
      },
      "source": [
        "**f1 score**"
      ]
    },
    {
      "cell_type": "code",
      "metadata": {
        "id": "AtI7AosBs4mV",
        "colab_type": "code",
        "colab": {
          "base_uri": "https://localhost:8080/",
          "height": 34
        },
        "outputId": "ec0c8f04-5e78-4848-c587-008a2fac6a3a"
      },
      "source": [
        "f1_score(y_full, y_train_pred)"
      ],
      "execution_count": 379,
      "outputs": [
        {
          "output_type": "execute_result",
          "data": {
            "text/plain": [
              "0.7078464106844741"
            ]
          },
          "metadata": {
            "tags": []
          },
          "execution_count": 379
        }
      ]
    },
    {
      "cell_type": "markdown",
      "metadata": {
        "id": "-FdjGYcW9HXS",
        "colab_type": "text"
      },
      "source": [
        "### 테스트"
      ]
    },
    {
      "cell_type": "code",
      "metadata": {
        "id": "a_OsELsI9HXT",
        "colab_type": "code",
        "colab": {}
      },
      "source": [
        "y_predict = svm_clf.predict(test_data)"
      ],
      "execution_count": 380,
      "outputs": []
    },
    {
      "cell_type": "code",
      "metadata": {
        "id": "-X6qaV989HXV",
        "colab_type": "code",
        "colab": {
          "base_uri": "https://localhost:8080/",
          "height": 354
        },
        "outputId": "68af45f7-cc7d-4149-c53e-bd6c4173c51b"
      },
      "source": [
        "y_predict"
      ],
      "execution_count": 381,
      "outputs": [
        {
          "output_type": "execute_result",
          "data": {
            "text/plain": [
              "array([0, 0, 0, 0, 1, 0, 1, 0, 1, 0, 0, 0, 1, 0, 1, 1, 0, 0, 1, 1, 0, 0,\n",
              "       1, 1, 1, 0, 1, 0, 0, 0, 0, 0, 0, 1, 0, 0, 1, 1, 0, 0, 0, 0, 0, 1,\n",
              "       1, 0, 0, 0, 1, 1, 0, 0, 1, 1, 0, 0, 0, 0, 0, 1, 0, 0, 0, 1, 0, 1,\n",
              "       1, 0, 1, 1, 1, 0, 1, 1, 1, 0, 0, 1, 0, 1, 0, 0, 0, 0, 0, 0, 1, 1,\n",
              "       1, 0, 1, 0, 1, 0, 1, 0, 1, 0, 1, 0, 1, 0, 0, 0, 1, 0, 0, 0, 0, 0,\n",
              "       0, 1, 1, 1, 1, 0, 0, 1, 0, 1, 1, 0, 1, 0, 0, 1, 0, 1, 0, 0, 0, 0,\n",
              "       1, 0, 0, 0, 0, 0, 1, 0, 0, 1, 0, 0, 0, 0, 0, 0, 0, 0, 1, 0, 0, 1,\n",
              "       0, 0, 1, 1, 0, 1, 1, 0, 1, 0, 0, 1, 0, 0, 1, 1, 0, 0, 0, 0, 0, 1,\n",
              "       1, 0, 1, 1, 0, 0, 1, 0, 1, 0, 1, 0, 0, 0, 0, 0, 0, 0, 0, 0, 1, 1,\n",
              "       0, 1, 1, 0, 0, 1, 0, 1, 1, 0, 1, 0, 0, 0, 0, 1, 0, 0, 1, 0, 1, 0,\n",
              "       1, 0, 1, 0, 1, 1, 0, 1, 0, 0, 0, 1, 0, 0, 0, 0, 0, 0, 1, 1, 1, 1,\n",
              "       0, 0, 0, 0, 1, 0, 1, 1, 1, 0, 0, 0, 0, 0, 0, 0, 1, 0, 0, 0, 1, 1,\n",
              "       0, 0, 0, 0, 1, 0, 0, 0, 1, 1, 0, 1, 0, 0, 0, 0, 1, 0, 1, 1, 1, 0,\n",
              "       0, 0, 0, 0, 0, 1, 0, 0, 0, 0, 1, 0, 0, 0, 0, 0, 0, 0, 1, 1, 0, 0,\n",
              "       0, 0, 0, 0, 0, 1, 1, 1, 0, 0, 0, 0, 0, 0, 0, 0, 1, 0, 1, 0, 0, 0,\n",
              "       1, 0, 0, 1, 0, 0, 0, 0, 0, 0, 0, 0, 0, 1, 0, 1, 0, 1, 0, 1, 1, 0,\n",
              "       0, 0, 1, 0, 1, 0, 0, 1, 0, 1, 1, 0, 1, 0, 0, 1, 1, 0, 0, 1, 0, 0,\n",
              "       1, 1, 1, 0, 0, 0, 0, 0, 1, 1, 0, 1, 0, 0, 0, 0, 0, 1, 0, 0, 0, 1,\n",
              "       0, 1, 0, 0, 1, 0, 1, 1, 0, 0, 0, 0, 1, 1, 1, 1, 1, 0, 1, 0, 0, 0])"
            ]
          },
          "metadata": {
            "tags": []
          },
          "execution_count": 381
        }
      ]
    },
    {
      "cell_type": "code",
      "metadata": {
        "id": "msjYVWCx9HXY",
        "colab_type": "code",
        "colab": {
          "base_uri": "https://localhost:8080/",
          "height": 406
        },
        "outputId": "003e90cf-5a39-4b2a-a7ae-0343e327c032"
      },
      "source": [
        "df_test"
      ],
      "execution_count": 382,
      "outputs": [
        {
          "output_type": "execute_result",
          "data": {
            "text/html": [
              "<div>\n",
              "<style scoped>\n",
              "    .dataframe tbody tr th:only-of-type {\n",
              "        vertical-align: middle;\n",
              "    }\n",
              "\n",
              "    .dataframe tbody tr th {\n",
              "        vertical-align: top;\n",
              "    }\n",
              "\n",
              "    .dataframe thead th {\n",
              "        text-align: right;\n",
              "    }\n",
              "</style>\n",
              "<table border=\"1\" class=\"dataframe\">\n",
              "  <thead>\n",
              "    <tr style=\"text-align: right;\">\n",
              "      <th></th>\n",
              "      <th>PassengerId</th>\n",
              "      <th>Pclass</th>\n",
              "      <th>Sex</th>\n",
              "      <th>Age</th>\n",
              "      <th>SibSp</th>\n",
              "      <th>Parch</th>\n",
              "      <th>Fare</th>\n",
              "      <th>Embarked</th>\n",
              "    </tr>\n",
              "  </thead>\n",
              "  <tbody>\n",
              "    <tr>\n",
              "      <th>0</th>\n",
              "      <td>892</td>\n",
              "      <td>3</td>\n",
              "      <td>male</td>\n",
              "      <td>34.50000</td>\n",
              "      <td>0</td>\n",
              "      <td>0</td>\n",
              "      <td>7.8292</td>\n",
              "      <td>Q</td>\n",
              "    </tr>\n",
              "    <tr>\n",
              "      <th>1</th>\n",
              "      <td>893</td>\n",
              "      <td>3</td>\n",
              "      <td>female</td>\n",
              "      <td>47.00000</td>\n",
              "      <td>1</td>\n",
              "      <td>0</td>\n",
              "      <td>7.0000</td>\n",
              "      <td>S</td>\n",
              "    </tr>\n",
              "    <tr>\n",
              "      <th>2</th>\n",
              "      <td>894</td>\n",
              "      <td>2</td>\n",
              "      <td>male</td>\n",
              "      <td>62.00000</td>\n",
              "      <td>0</td>\n",
              "      <td>0</td>\n",
              "      <td>9.6875</td>\n",
              "      <td>Q</td>\n",
              "    </tr>\n",
              "    <tr>\n",
              "      <th>3</th>\n",
              "      <td>895</td>\n",
              "      <td>3</td>\n",
              "      <td>male</td>\n",
              "      <td>27.00000</td>\n",
              "      <td>0</td>\n",
              "      <td>0</td>\n",
              "      <td>8.6625</td>\n",
              "      <td>S</td>\n",
              "    </tr>\n",
              "    <tr>\n",
              "      <th>4</th>\n",
              "      <td>896</td>\n",
              "      <td>3</td>\n",
              "      <td>female</td>\n",
              "      <td>22.00000</td>\n",
              "      <td>1</td>\n",
              "      <td>1</td>\n",
              "      <td>12.2875</td>\n",
              "      <td>S</td>\n",
              "    </tr>\n",
              "    <tr>\n",
              "      <th>...</th>\n",
              "      <td>...</td>\n",
              "      <td>...</td>\n",
              "      <td>...</td>\n",
              "      <td>...</td>\n",
              "      <td>...</td>\n",
              "      <td>...</td>\n",
              "      <td>...</td>\n",
              "      <td>...</td>\n",
              "    </tr>\n",
              "    <tr>\n",
              "      <th>413</th>\n",
              "      <td>1305</td>\n",
              "      <td>3</td>\n",
              "      <td>male</td>\n",
              "      <td>30.27259</td>\n",
              "      <td>0</td>\n",
              "      <td>0</td>\n",
              "      <td>8.0500</td>\n",
              "      <td>S</td>\n",
              "    </tr>\n",
              "    <tr>\n",
              "      <th>414</th>\n",
              "      <td>1306</td>\n",
              "      <td>1</td>\n",
              "      <td>female</td>\n",
              "      <td>39.00000</td>\n",
              "      <td>0</td>\n",
              "      <td>0</td>\n",
              "      <td>108.9000</td>\n",
              "      <td>C</td>\n",
              "    </tr>\n",
              "    <tr>\n",
              "      <th>415</th>\n",
              "      <td>1307</td>\n",
              "      <td>3</td>\n",
              "      <td>male</td>\n",
              "      <td>38.50000</td>\n",
              "      <td>0</td>\n",
              "      <td>0</td>\n",
              "      <td>7.2500</td>\n",
              "      <td>S</td>\n",
              "    </tr>\n",
              "    <tr>\n",
              "      <th>416</th>\n",
              "      <td>1308</td>\n",
              "      <td>3</td>\n",
              "      <td>male</td>\n",
              "      <td>30.27259</td>\n",
              "      <td>0</td>\n",
              "      <td>0</td>\n",
              "      <td>8.0500</td>\n",
              "      <td>S</td>\n",
              "    </tr>\n",
              "    <tr>\n",
              "      <th>417</th>\n",
              "      <td>1309</td>\n",
              "      <td>3</td>\n",
              "      <td>male</td>\n",
              "      <td>30.27259</td>\n",
              "      <td>1</td>\n",
              "      <td>1</td>\n",
              "      <td>22.3583</td>\n",
              "      <td>C</td>\n",
              "    </tr>\n",
              "  </tbody>\n",
              "</table>\n",
              "<p>418 rows × 8 columns</p>\n",
              "</div>"
            ],
            "text/plain": [
              "     PassengerId  Pclass     Sex       Age  SibSp  Parch      Fare Embarked\n",
              "0            892       3    male  34.50000      0      0    7.8292        Q\n",
              "1            893       3  female  47.00000      1      0    7.0000        S\n",
              "2            894       2    male  62.00000      0      0    9.6875        Q\n",
              "3            895       3    male  27.00000      0      0    8.6625        S\n",
              "4            896       3  female  22.00000      1      1   12.2875        S\n",
              "..           ...     ...     ...       ...    ...    ...       ...      ...\n",
              "413         1305       3    male  30.27259      0      0    8.0500        S\n",
              "414         1306       1  female  39.00000      0      0  108.9000        C\n",
              "415         1307       3    male  38.50000      0      0    7.2500        S\n",
              "416         1308       3    male  30.27259      0      0    8.0500        S\n",
              "417         1309       3    male  30.27259      1      1   22.3583        C\n",
              "\n",
              "[418 rows x 8 columns]"
            ]
          },
          "metadata": {
            "tags": []
          },
          "execution_count": 382
        }
      ]
    },
    {
      "cell_type": "markdown",
      "metadata": {
        "id": "-KG3EtqB9HXZ",
        "colab_type": "text"
      },
      "source": [
        "### kaggle 제출용 csv 파일 만들기"
      ]
    },
    {
      "cell_type": "code",
      "metadata": {
        "id": "pXxjrLVf9HXa",
        "colab_type": "code",
        "colab": {}
      },
      "source": [
        "\n",
        "submission=pd.DataFrame({\"PassengerId\":df_test[\"PassengerId\"], \"Survived\":y_predict})"
      ],
      "execution_count": 383,
      "outputs": []
    },
    {
      "cell_type": "code",
      "metadata": {
        "id": "LavSyp6k9HXc",
        "colab_type": "code",
        "colab": {}
      },
      "source": [
        "submission.to_csv('submission.csv', index=False)"
      ],
      "execution_count": 384,
      "outputs": []
    },
    {
      "cell_type": "code",
      "metadata": {
        "id": "rXmUhrwuiIgg",
        "colab_type": "code",
        "colab": {}
      },
      "source": [
        ""
      ],
      "execution_count": 384,
      "outputs": []
    }
  ]
}