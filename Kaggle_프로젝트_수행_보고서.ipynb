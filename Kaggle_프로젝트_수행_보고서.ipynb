{
  "nbformat": 4,
  "nbformat_minor": 0,
  "metadata": {
    "kernelspec": {
      "display_name": "Python 3",
      "language": "python",
      "name": "python3"
    },
    "language_info": {
      "codemirror_mode": {
        "name": "ipython",
        "version": 3
      },
      "file_extension": ".py",
      "mimetype": "text/x-python",
      "name": "python",
      "nbconvert_exporter": "python",
      "pygments_lexer": "ipython3",
      "version": "3.6.10"
    },
    "colab": {
      "name": "Kaggle 프로젝트 수행 보고서.ipynb",
      "provenance": [],
      "collapsed_sections": []
    }
  },
  "cells": [
    {
      "cell_type": "markdown",
      "metadata": {
        "id": "eq-BUp9D8Zqu",
        "colab_type": "text"
      },
      "source": [
        "# Kaggle 프로젝트"
      ]
    },
    {
      "cell_type": "markdown",
      "metadata": {
        "id": "JdJL7X8d9HWm",
        "colab_type": "text"
      },
      "source": [
        "### kaggle 사용을 위한 준비단계"
      ]
    },
    {
      "cell_type": "code",
      "metadata": {
        "id": "MUx3Amdc9HWn",
        "colab_type": "code",
        "colab": {
          "base_uri": "https://localhost:8080/",
          "height": 212
        },
        "outputId": "d3168abe-b56d-4d11-fbb5-04c9f6e03e2e"
      },
      "source": [
        "pip install kaggle --upgrade"
      ],
      "execution_count": 1,
      "outputs": [
        {
          "output_type": "stream",
          "text": [
            "Requirement already up-to-date: kaggle in /usr/local/lib/python3.6/dist-packages (1.5.6)\n",
            "Requirement already satisfied, skipping upgrade: certifi in /usr/local/lib/python3.6/dist-packages (from kaggle) (2020.6.20)\n",
            "Requirement already satisfied, skipping upgrade: urllib3<1.25,>=1.21.1 in /usr/local/lib/python3.6/dist-packages (from kaggle) (1.24.3)\n",
            "Requirement already satisfied, skipping upgrade: tqdm in /usr/local/lib/python3.6/dist-packages (from kaggle) (4.41.1)\n",
            "Requirement already satisfied, skipping upgrade: python-dateutil in /usr/local/lib/python3.6/dist-packages (from kaggle) (2.8.1)\n",
            "Requirement already satisfied, skipping upgrade: python-slugify in /usr/local/lib/python3.6/dist-packages (from kaggle) (4.0.0)\n",
            "Requirement already satisfied, skipping upgrade: requests in /usr/local/lib/python3.6/dist-packages (from kaggle) (2.23.0)\n",
            "Requirement already satisfied, skipping upgrade: six>=1.10 in /usr/local/lib/python3.6/dist-packages (from kaggle) (1.12.0)\n",
            "Requirement already satisfied, skipping upgrade: text-unidecode>=1.3 in /usr/local/lib/python3.6/dist-packages (from python-slugify->kaggle) (1.3)\n",
            "Requirement already satisfied, skipping upgrade: chardet<4,>=3.0.2 in /usr/local/lib/python3.6/dist-packages (from requests->kaggle) (3.0.4)\n",
            "Requirement already satisfied, skipping upgrade: idna<3,>=2.5 in /usr/local/lib/python3.6/dist-packages (from requests->kaggle) (2.9)\n"
          ],
          "name": "stdout"
        }
      ]
    },
    {
      "cell_type": "code",
      "metadata": {
        "id": "Fi59GQkC9HWr",
        "colab_type": "code",
        "colab": {
          "base_uri": "https://localhost:8080/",
          "height": 125
        },
        "outputId": "48d3388f-ffc1-44cd-b176-49e5927b8845"
      },
      "source": [
        "#colab에서 g란 이름으로 구글드라이브의 root를 MOUNT\n",
        "from google.colab import drive\n",
        "drive.mount('/content/g')"
      ],
      "execution_count": 2,
      "outputs": [
        {
          "output_type": "stream",
          "text": [
            "Go to this URL in a browser: https://accounts.google.com/o/oauth2/auth?client_id=947318989803-6bn6qk8qdgf4n4g3pfee6491hc0brc4i.apps.googleusercontent.com&redirect_uri=urn%3aietf%3awg%3aoauth%3a2.0%3aoob&response_type=code&scope=email%20https%3a%2f%2fwww.googleapis.com%2fauth%2fdocs.test%20https%3a%2f%2fwww.googleapis.com%2fauth%2fdrive%20https%3a%2f%2fwww.googleapis.com%2fauth%2fdrive.photos.readonly%20https%3a%2f%2fwww.googleapis.com%2fauth%2fpeopleapi.readonly\n",
            "\n",
            "Enter your authorization code:\n",
            "··········\n",
            "Mounted at /content/g\n"
          ],
          "name": "stdout"
        }
      ]
    },
    {
      "cell_type": "code",
      "metadata": {
        "id": "V6gX0fPm9HWt",
        "colab_type": "code",
        "colab": {}
      },
      "source": [
        "!mkdir -p ~/.kaggle\n",
        "!cp \"/content/g/My Drive/kaggle/kaggle.json\" ~/.kaggle/\n",
        "!chmod 600 ~/.kaggle/kaggle.json"
      ],
      "execution_count": 3,
      "outputs": []
    },
    {
      "cell_type": "markdown",
      "metadata": {
        "id": "f8r4HajgAybx",
        "colab_type": "text"
      },
      "source": [
        "### 데이터 다운로드"
      ]
    },
    {
      "cell_type": "code",
      "metadata": {
        "id": "8dF0NtyZ9HWv",
        "colab_type": "code",
        "colab": {
          "base_uri": "https://localhost:8080/",
          "height": 194
        },
        "outputId": "5f0ae631-7f6b-4570-c6db-30c128857524"
      },
      "source": [
        "!kaggle competitions download -c titanic"
      ],
      "execution_count": 4,
      "outputs": [
        {
          "output_type": "stream",
          "text": [
            "Warning: Looks like you're using an outdated API Version, please consider updating (server 1.5.6 / client 1.5.4)\n",
            "Downloading train.csv to /content\n",
            "  0% 0.00/59.8k [00:00<?, ?B/s]\n",
            "100% 59.8k/59.8k [00:00<00:00, 22.7MB/s]\n",
            "Downloading gender_submission.csv to /content\n",
            "  0% 0.00/3.18k [00:00<?, ?B/s]\n",
            "100% 3.18k/3.18k [00:00<00:00, 3.32MB/s]\n",
            "Downloading test.csv to /content\n",
            "  0% 0.00/28.0k [00:00<?, ?B/s]\n",
            "100% 28.0k/28.0k [00:00<00:00, 29.2MB/s]\n"
          ],
          "name": "stdout"
        }
      ]
    },
    {
      "cell_type": "markdown",
      "metadata": {
        "id": "VuBnOd-39HWw",
        "colab_type": "text"
      },
      "source": [
        "### titanic 데이터 구조 훑어보기"
      ]
    },
    {
      "cell_type": "code",
      "metadata": {
        "id": "XLCYvqiB9HWx",
        "colab_type": "code",
        "colab": {}
      },
      "source": [
        "import numpy as np\n",
        "import pandas as pd\n",
        "import matplotlib.pyplot as plt\n",
        "\n",
        "df_train = pd.read_csv('./train.csv')\n",
        "df_test = pd.read_csv('./test.csv')"
      ],
      "execution_count": 44,
      "outputs": []
    },
    {
      "cell_type": "code",
      "metadata": {
        "id": "CBbdjjtl9HWz",
        "colab_type": "code",
        "colab": {
          "base_uri": "https://localhost:8080/",
          "height": 674
        },
        "outputId": "84b1cb85-003a-4cc1-ca24-11b9dc446e30"
      },
      "source": [
        "df_train.info()\n",
        "df_test.info()"
      ],
      "execution_count": 45,
      "outputs": [
        {
          "output_type": "stream",
          "text": [
            "<class 'pandas.core.frame.DataFrame'>\n",
            "RangeIndex: 891 entries, 0 to 890\n",
            "Data columns (total 12 columns):\n",
            " #   Column       Non-Null Count  Dtype  \n",
            "---  ------       --------------  -----  \n",
            " 0   PassengerId  891 non-null    int64  \n",
            " 1   Survived     891 non-null    int64  \n",
            " 2   Pclass       891 non-null    int64  \n",
            " 3   Name         891 non-null    object \n",
            " 4   Sex          891 non-null    object \n",
            " 5   Age          714 non-null    float64\n",
            " 6   SibSp        891 non-null    int64  \n",
            " 7   Parch        891 non-null    int64  \n",
            " 8   Ticket       891 non-null    object \n",
            " 9   Fare         891 non-null    float64\n",
            " 10  Cabin        204 non-null    object \n",
            " 11  Embarked     889 non-null    object \n",
            "dtypes: float64(2), int64(5), object(5)\n",
            "memory usage: 83.7+ KB\n",
            "<class 'pandas.core.frame.DataFrame'>\n",
            "RangeIndex: 418 entries, 0 to 417\n",
            "Data columns (total 11 columns):\n",
            " #   Column       Non-Null Count  Dtype  \n",
            "---  ------       --------------  -----  \n",
            " 0   PassengerId  418 non-null    int64  \n",
            " 1   Pclass       418 non-null    int64  \n",
            " 2   Name         418 non-null    object \n",
            " 3   Sex          418 non-null    object \n",
            " 4   Age          332 non-null    float64\n",
            " 5   SibSp        418 non-null    int64  \n",
            " 6   Parch        418 non-null    int64  \n",
            " 7   Ticket       418 non-null    object \n",
            " 8   Fare         417 non-null    float64\n",
            " 9   Cabin        91 non-null     object \n",
            " 10  Embarked     418 non-null    object \n",
            "dtypes: float64(2), int64(4), object(5)\n",
            "memory usage: 36.0+ KB\n"
          ],
          "name": "stdout"
        }
      ]
    },
    {
      "cell_type": "code",
      "metadata": {
        "id": "FGE4KhVw9HW0",
        "colab_type": "code",
        "colab": {
          "base_uri": "https://localhost:8080/",
          "height": 197
        },
        "outputId": "0b78bb1f-96db-4020-9f50-7eed06eab546"
      },
      "source": [
        "df_train.head()"
      ],
      "execution_count": 46,
      "outputs": [
        {
          "output_type": "execute_result",
          "data": {
            "text/html": [
              "<div>\n",
              "<style scoped>\n",
              "    .dataframe tbody tr th:only-of-type {\n",
              "        vertical-align: middle;\n",
              "    }\n",
              "\n",
              "    .dataframe tbody tr th {\n",
              "        vertical-align: top;\n",
              "    }\n",
              "\n",
              "    .dataframe thead th {\n",
              "        text-align: right;\n",
              "    }\n",
              "</style>\n",
              "<table border=\"1\" class=\"dataframe\">\n",
              "  <thead>\n",
              "    <tr style=\"text-align: right;\">\n",
              "      <th></th>\n",
              "      <th>PassengerId</th>\n",
              "      <th>Survived</th>\n",
              "      <th>Pclass</th>\n",
              "      <th>Name</th>\n",
              "      <th>Sex</th>\n",
              "      <th>Age</th>\n",
              "      <th>SibSp</th>\n",
              "      <th>Parch</th>\n",
              "      <th>Ticket</th>\n",
              "      <th>Fare</th>\n",
              "      <th>Cabin</th>\n",
              "      <th>Embarked</th>\n",
              "    </tr>\n",
              "  </thead>\n",
              "  <tbody>\n",
              "    <tr>\n",
              "      <th>0</th>\n",
              "      <td>1</td>\n",
              "      <td>0</td>\n",
              "      <td>3</td>\n",
              "      <td>Braund, Mr. Owen Harris</td>\n",
              "      <td>male</td>\n",
              "      <td>22.0</td>\n",
              "      <td>1</td>\n",
              "      <td>0</td>\n",
              "      <td>A/5 21171</td>\n",
              "      <td>7.2500</td>\n",
              "      <td>NaN</td>\n",
              "      <td>S</td>\n",
              "    </tr>\n",
              "    <tr>\n",
              "      <th>1</th>\n",
              "      <td>2</td>\n",
              "      <td>1</td>\n",
              "      <td>1</td>\n",
              "      <td>Cumings, Mrs. John Bradley (Florence Briggs Th...</td>\n",
              "      <td>female</td>\n",
              "      <td>38.0</td>\n",
              "      <td>1</td>\n",
              "      <td>0</td>\n",
              "      <td>PC 17599</td>\n",
              "      <td>71.2833</td>\n",
              "      <td>C85</td>\n",
              "      <td>C</td>\n",
              "    </tr>\n",
              "    <tr>\n",
              "      <th>2</th>\n",
              "      <td>3</td>\n",
              "      <td>1</td>\n",
              "      <td>3</td>\n",
              "      <td>Heikkinen, Miss. Laina</td>\n",
              "      <td>female</td>\n",
              "      <td>26.0</td>\n",
              "      <td>0</td>\n",
              "      <td>0</td>\n",
              "      <td>STON/O2. 3101282</td>\n",
              "      <td>7.9250</td>\n",
              "      <td>NaN</td>\n",
              "      <td>S</td>\n",
              "    </tr>\n",
              "    <tr>\n",
              "      <th>3</th>\n",
              "      <td>4</td>\n",
              "      <td>1</td>\n",
              "      <td>1</td>\n",
              "      <td>Futrelle, Mrs. Jacques Heath (Lily May Peel)</td>\n",
              "      <td>female</td>\n",
              "      <td>35.0</td>\n",
              "      <td>1</td>\n",
              "      <td>0</td>\n",
              "      <td>113803</td>\n",
              "      <td>53.1000</td>\n",
              "      <td>C123</td>\n",
              "      <td>S</td>\n",
              "    </tr>\n",
              "    <tr>\n",
              "      <th>4</th>\n",
              "      <td>5</td>\n",
              "      <td>0</td>\n",
              "      <td>3</td>\n",
              "      <td>Allen, Mr. William Henry</td>\n",
              "      <td>male</td>\n",
              "      <td>35.0</td>\n",
              "      <td>0</td>\n",
              "      <td>0</td>\n",
              "      <td>373450</td>\n",
              "      <td>8.0500</td>\n",
              "      <td>NaN</td>\n",
              "      <td>S</td>\n",
              "    </tr>\n",
              "  </tbody>\n",
              "</table>\n",
              "</div>"
            ],
            "text/plain": [
              "   PassengerId  Survived  Pclass  ...     Fare Cabin  Embarked\n",
              "0            1         0       3  ...   7.2500   NaN         S\n",
              "1            2         1       1  ...  71.2833   C85         C\n",
              "2            3         1       3  ...   7.9250   NaN         S\n",
              "3            4         1       1  ...  53.1000  C123         S\n",
              "4            5         0       3  ...   8.0500   NaN         S\n",
              "\n",
              "[5 rows x 12 columns]"
            ]
          },
          "metadata": {
            "tags": []
          },
          "execution_count": 46
        }
      ]
    },
    {
      "cell_type": "code",
      "metadata": {
        "id": "hWM4Vnn19HW2",
        "colab_type": "code",
        "colab": {
          "base_uri": "https://localhost:8080/",
          "height": 197
        },
        "outputId": "78ce4c42-5fe0-4617-9f8c-c1d753504cd2"
      },
      "source": [
        "df_test.head()"
      ],
      "execution_count": 47,
      "outputs": [
        {
          "output_type": "execute_result",
          "data": {
            "text/html": [
              "<div>\n",
              "<style scoped>\n",
              "    .dataframe tbody tr th:only-of-type {\n",
              "        vertical-align: middle;\n",
              "    }\n",
              "\n",
              "    .dataframe tbody tr th {\n",
              "        vertical-align: top;\n",
              "    }\n",
              "\n",
              "    .dataframe thead th {\n",
              "        text-align: right;\n",
              "    }\n",
              "</style>\n",
              "<table border=\"1\" class=\"dataframe\">\n",
              "  <thead>\n",
              "    <tr style=\"text-align: right;\">\n",
              "      <th></th>\n",
              "      <th>PassengerId</th>\n",
              "      <th>Pclass</th>\n",
              "      <th>Name</th>\n",
              "      <th>Sex</th>\n",
              "      <th>Age</th>\n",
              "      <th>SibSp</th>\n",
              "      <th>Parch</th>\n",
              "      <th>Ticket</th>\n",
              "      <th>Fare</th>\n",
              "      <th>Cabin</th>\n",
              "      <th>Embarked</th>\n",
              "    </tr>\n",
              "  </thead>\n",
              "  <tbody>\n",
              "    <tr>\n",
              "      <th>0</th>\n",
              "      <td>892</td>\n",
              "      <td>3</td>\n",
              "      <td>Kelly, Mr. James</td>\n",
              "      <td>male</td>\n",
              "      <td>34.5</td>\n",
              "      <td>0</td>\n",
              "      <td>0</td>\n",
              "      <td>330911</td>\n",
              "      <td>7.8292</td>\n",
              "      <td>NaN</td>\n",
              "      <td>Q</td>\n",
              "    </tr>\n",
              "    <tr>\n",
              "      <th>1</th>\n",
              "      <td>893</td>\n",
              "      <td>3</td>\n",
              "      <td>Wilkes, Mrs. James (Ellen Needs)</td>\n",
              "      <td>female</td>\n",
              "      <td>47.0</td>\n",
              "      <td>1</td>\n",
              "      <td>0</td>\n",
              "      <td>363272</td>\n",
              "      <td>7.0000</td>\n",
              "      <td>NaN</td>\n",
              "      <td>S</td>\n",
              "    </tr>\n",
              "    <tr>\n",
              "      <th>2</th>\n",
              "      <td>894</td>\n",
              "      <td>2</td>\n",
              "      <td>Myles, Mr. Thomas Francis</td>\n",
              "      <td>male</td>\n",
              "      <td>62.0</td>\n",
              "      <td>0</td>\n",
              "      <td>0</td>\n",
              "      <td>240276</td>\n",
              "      <td>9.6875</td>\n",
              "      <td>NaN</td>\n",
              "      <td>Q</td>\n",
              "    </tr>\n",
              "    <tr>\n",
              "      <th>3</th>\n",
              "      <td>895</td>\n",
              "      <td>3</td>\n",
              "      <td>Wirz, Mr. Albert</td>\n",
              "      <td>male</td>\n",
              "      <td>27.0</td>\n",
              "      <td>0</td>\n",
              "      <td>0</td>\n",
              "      <td>315154</td>\n",
              "      <td>8.6625</td>\n",
              "      <td>NaN</td>\n",
              "      <td>S</td>\n",
              "    </tr>\n",
              "    <tr>\n",
              "      <th>4</th>\n",
              "      <td>896</td>\n",
              "      <td>3</td>\n",
              "      <td>Hirvonen, Mrs. Alexander (Helga E Lindqvist)</td>\n",
              "      <td>female</td>\n",
              "      <td>22.0</td>\n",
              "      <td>1</td>\n",
              "      <td>1</td>\n",
              "      <td>3101298</td>\n",
              "      <td>12.2875</td>\n",
              "      <td>NaN</td>\n",
              "      <td>S</td>\n",
              "    </tr>\n",
              "  </tbody>\n",
              "</table>\n",
              "</div>"
            ],
            "text/plain": [
              "   PassengerId  Pclass  ... Cabin Embarked\n",
              "0          892       3  ...   NaN        Q\n",
              "1          893       3  ...   NaN        S\n",
              "2          894       2  ...   NaN        Q\n",
              "3          895       3  ...   NaN        S\n",
              "4          896       3  ...   NaN        S\n",
              "\n",
              "[5 rows x 11 columns]"
            ]
          },
          "metadata": {
            "tags": []
          },
          "execution_count": 47
        }
      ]
    },
    {
      "cell_type": "code",
      "metadata": {
        "id": "2s_F1rQM_52Y",
        "colab_type": "code",
        "colab": {
          "base_uri": "https://localhost:8080/",
          "height": 606
        },
        "outputId": "239fb187-5593-4c4f-d05d-1e413b53aca9"
      },
      "source": [
        "df_train.hist(figsize=(15,10))\n",
        "plt.show()"
      ],
      "execution_count": 48,
      "outputs": [
        {
          "output_type": "display_data",
          "data": {
            "image/png": "[encoded data removed]",
            "text/plain": [
              "<Figure size 1080x720 with 9 Axes>"
            ]
          },
          "metadata": {
            "tags": [],
            "needs_background": "light"
          }
        }
      ]
    },
    {
      "cell_type": "markdown",
      "metadata": {
        "id": "6c2930fz9HW4",
        "colab_type": "text"
      },
      "source": [
        "titanic 데이터는 **891행**으로 이루어져 있는 **train 데이터**와 **418행**으로 이루어져 있는 **test 데이터**를 가지고 있다.  \n",
        "  \n",
        "**<center>데이터 구성</center>**"
      ]
    },
    {
      "cell_type": "markdown",
      "metadata": {
        "id": "d24ZeyrZ9HW4",
        "colab_type": "text"
      },
      "source": [
        "|변수|설명|비고|데이터유형|구분|\n",
        "|------|---|---|---|---|\n",
        "|PassengerId|승객번호||int|\n",
        "|Survived|생존여부|0 = No, 1 = Yes|int|범주형|\n",
        "|Pclass|객실등급|1 = 1등급, 2 = 2등급, 3 = 3등급|int|범주형|\n",
        "|Name|승객이름||object||\n",
        "|Sex|성별|male, female|object|범주형|\n",
        "|Age|나이||float||\n",
        "|SibSp|함께 탑승한 형제와 배우자의 수|형제수 + 배우자수|int||\n",
        "|Parch|함께 탑승한 부모와 아이의 수|부모수 + 자녀수|int||\n",
        "|Ticket|티겟 번호||object||\n",
        "|Fare|탑승 요금||float||\n",
        "|Cabin|객실 번호|공백도 많고 정확한 기준을 알 수 없다|object||\n",
        "|Embarked|탑승 항구|C=Cherbourg, Q=Queenstown, S=Southampton|object|범주형|"
      ]
    },
    {
      "cell_type": "markdown",
      "metadata": {
        "id": "JDiMnmLrBQ-M",
        "colab_type": "text"
      },
      "source": [
        "### 데이터 탐색\n",
        "```corr()``` 메서드를 통해 특성 간 표준 상관계수 알아보기"
      ]
    },
    {
      "cell_type": "code",
      "metadata": {
        "id": "TfxpH1BdBT2J",
        "colab_type": "code",
        "colab": {
          "base_uri": "https://localhost:8080/",
          "height": 158
        },
        "outputId": "80a7a7ed-a166-41d5-ce35-9682b36a6574"
      },
      "source": [
        "corr_matrix = df_train.corr()\n",
        "corr_matrix[\"Survived\"].sort_values(ascending=False)"
      ],
      "execution_count": 49,
      "outputs": [
        {
          "output_type": "execute_result",
          "data": {
            "text/plain": [
              "Survived       1.000000\n",
              "Fare           0.257307\n",
              "Parch          0.081629\n",
              "PassengerId   -0.005007\n",
              "SibSp         -0.035322\n",
              "Age           -0.077221\n",
              "Pclass        -0.338481\n",
              "Name: Survived, dtype: float64"
            ]
          },
          "metadata": {
            "tags": []
          },
          "execution_count": 49
        }
      ]
    },
    {
      "cell_type": "markdown",
      "metadata": {
        "id": "s3UU8hHGB7ID",
        "colab_type": "text"
      },
      "source": [
        "생존여부와 다른 특성 사이의 상관 관계의 크기를 알아본 결과 PassengerId 는 0에 가까우므로 상관 관계가 없다는 것을 알 수 있다.  \n",
        "Fare와 Pclass를 보면 각각 1과 -1에 가깝지는 않아 강한 상관관계를 가진다고 말하기는 어렵지만 그래도 다른 특성에 비해 생존여부와 어느정도 상관관계를 가지고 있음을 알 수 있다.  "
      ]
    },
    {
      "cell_type": "code",
      "metadata": {
        "id": "F6Knmep2QRNh",
        "colab_type": "code",
        "colab": {
          "base_uri": "https://localhost:8080/",
          "height": 287
        },
        "outputId": "c19306b0-61fc-4407-d249-52735ee273d4"
      },
      "source": [
        "df_train.describe()"
      ],
      "execution_count": 50,
      "outputs": [
        {
          "output_type": "execute_result",
          "data": {
            "text/html": [
              "<div>\n",
              "<style scoped>\n",
              "    .dataframe tbody tr th:only-of-type {\n",
              "        vertical-align: middle;\n",
              "    }\n",
              "\n",
              "    .dataframe tbody tr th {\n",
              "        vertical-align: top;\n",
              "    }\n",
              "\n",
              "    .dataframe thead th {\n",
              "        text-align: right;\n",
              "    }\n",
              "</style>\n",
              "<table border=\"1\" class=\"dataframe\">\n",
              "  <thead>\n",
              "    <tr style=\"text-align: right;\">\n",
              "      <th></th>\n",
              "      <th>PassengerId</th>\n",
              "      <th>Survived</th>\n",
              "      <th>Pclass</th>\n",
              "      <th>Age</th>\n",
              "      <th>SibSp</th>\n",
              "      <th>Parch</th>\n",
              "      <th>Fare</th>\n",
              "    </tr>\n",
              "  </thead>\n",
              "  <tbody>\n",
              "    <tr>\n",
              "      <th>count</th>\n",
              "      <td>891.000000</td>\n",
              "      <td>891.000000</td>\n",
              "      <td>891.000000</td>\n",
              "      <td>714.000000</td>\n",
              "      <td>891.000000</td>\n",
              "      <td>891.000000</td>\n",
              "      <td>891.000000</td>\n",
              "    </tr>\n",
              "    <tr>\n",
              "      <th>mean</th>\n",
              "      <td>446.000000</td>\n",
              "      <td>0.383838</td>\n",
              "      <td>2.308642</td>\n",
              "      <td>29.699118</td>\n",
              "      <td>0.523008</td>\n",
              "      <td>0.381594</td>\n",
              "      <td>32.204208</td>\n",
              "    </tr>\n",
              "    <tr>\n",
              "      <th>std</th>\n",
              "      <td>257.353842</td>\n",
              "      <td>0.486592</td>\n",
              "      <td>0.836071</td>\n",
              "      <td>14.526497</td>\n",
              "      <td>1.102743</td>\n",
              "      <td>0.806057</td>\n",
              "      <td>49.693429</td>\n",
              "    </tr>\n",
              "    <tr>\n",
              "      <th>min</th>\n",
              "      <td>1.000000</td>\n",
              "      <td>0.000000</td>\n",
              "      <td>1.000000</td>\n",
              "      <td>0.420000</td>\n",
              "      <td>0.000000</td>\n",
              "      <td>0.000000</td>\n",
              "      <td>0.000000</td>\n",
              "    </tr>\n",
              "    <tr>\n",
              "      <th>25%</th>\n",
              "      <td>223.500000</td>\n",
              "      <td>0.000000</td>\n",
              "      <td>2.000000</td>\n",
              "      <td>20.125000</td>\n",
              "      <td>0.000000</td>\n",
              "      <td>0.000000</td>\n",
              "      <td>7.910400</td>\n",
              "    </tr>\n",
              "    <tr>\n",
              "      <th>50%</th>\n",
              "      <td>446.000000</td>\n",
              "      <td>0.000000</td>\n",
              "      <td>3.000000</td>\n",
              "      <td>28.000000</td>\n",
              "      <td>0.000000</td>\n",
              "      <td>0.000000</td>\n",
              "      <td>14.454200</td>\n",
              "    </tr>\n",
              "    <tr>\n",
              "      <th>75%</th>\n",
              "      <td>668.500000</td>\n",
              "      <td>1.000000</td>\n",
              "      <td>3.000000</td>\n",
              "      <td>38.000000</td>\n",
              "      <td>1.000000</td>\n",
              "      <td>0.000000</td>\n",
              "      <td>31.000000</td>\n",
              "    </tr>\n",
              "    <tr>\n",
              "      <th>max</th>\n",
              "      <td>891.000000</td>\n",
              "      <td>1.000000</td>\n",
              "      <td>3.000000</td>\n",
              "      <td>80.000000</td>\n",
              "      <td>8.000000</td>\n",
              "      <td>6.000000</td>\n",
              "      <td>512.329200</td>\n",
              "    </tr>\n",
              "  </tbody>\n",
              "</table>\n",
              "</div>"
            ],
            "text/plain": [
              "       PassengerId    Survived      Pclass  ...       SibSp       Parch        Fare\n",
              "count   891.000000  891.000000  891.000000  ...  891.000000  891.000000  891.000000\n",
              "mean    446.000000    0.383838    2.308642  ...    0.523008    0.381594   32.204208\n",
              "std     257.353842    0.486592    0.836071  ...    1.102743    0.806057   49.693429\n",
              "min       1.000000    0.000000    1.000000  ...    0.000000    0.000000    0.000000\n",
              "25%     223.500000    0.000000    2.000000  ...    0.000000    0.000000    7.910400\n",
              "50%     446.000000    0.000000    3.000000  ...    0.000000    0.000000   14.454200\n",
              "75%     668.500000    1.000000    3.000000  ...    1.000000    0.000000   31.000000\n",
              "max     891.000000    1.000000    3.000000  ...    8.000000    6.000000  512.329200\n",
              "\n",
              "[8 rows x 7 columns]"
            ]
          },
          "metadata": {
            "tags": []
          },
          "execution_count": 50
        }
      ]
    },
    {
      "cell_type": "markdown",
      "metadata": {
        "id": "BBFR0bhzQRiV",
        "colab_type": "text"
      },
      "source": [
        "Age와 Fare의 mean값을 보면 각각 29와 32로 다른 특성들에 비해 큰 값을 가지고 있다.  \n",
        "숫자 특성들의 크기가 많이 다르기 때문에 나중에 특성 스케일링을 진행하도록 하였다."
      ]
    },
    {
      "cell_type": "code",
      "metadata": {
        "id": "r6f2T9_JXuqj",
        "colab_type": "code",
        "colab": {
          "base_uri": "https://localhost:8080/",
          "height": 788
        },
        "outputId": "8384a38c-77ec-45af-cf69-d5543312a270"
      },
      "source": [
        "from pandas.plotting import scatter_matrix\n",
        "\n",
        "attributes = [\"Survived\", \"Age\", \"Fare\"]\n",
        "scatter_matrix(df_train[attributes], figsize=(15, 10))"
      ],
      "execution_count": 51,
      "outputs": [
        {
          "output_type": "execute_result",
          "data": {
            "text/plain": [
              "array([[<matplotlib.axes._subplots.AxesSubplot object at 0x7f2d7d666240>,\n",
              "        <matplotlib.axes._subplots.AxesSubplot object at 0x7f2d7d60fb70>,\n",
              "        <matplotlib.axes._subplots.AxesSubplot object at 0x7f2d7d5bddd8>],\n",
              "       [<matplotlib.axes._subplots.AxesSubplot object at 0x7f2d7d57e048>,\n",
              "        <matplotlib.axes._subplots.AxesSubplot object at 0x7f2d7d5b12e8>,\n",
              "        <matplotlib.axes._subplots.AxesSubplot object at 0x7f2d7d562550>],\n",
              "       [<matplotlib.axes._subplots.AxesSubplot object at 0x7f2d7d5147b8>,\n",
              "        <matplotlib.axes._subplots.AxesSubplot object at 0x7f2d7d4ca9e8>,\n",
              "        <matplotlib.axes._subplots.AxesSubplot object at 0x7f2d7d4caa58>]],\n",
              "      dtype=object)"
            ]
          },
          "metadata": {
            "tags": []
          },
          "execution_count": 51
        },
        {
          "output_type": "display_data",
          "data": {
            "image/png": "[encoded data removed]",
            "text/plain": [
              "<Figure size 1080x720 with 9 Axes>"
            ]
          },
          "metadata": {
            "tags": [],
            "needs_background": "light"
          }
        }
      ]
    },
    {
      "cell_type": "markdown",
      "metadata": {
        "id": "_ln9TbNqZWW6",
        "colab_type": "text"
      },
      "source": [
        "또한 상관관계가 존재한다고 판단한 Age와 Fare의 산점도 행렬을 그려보니 (Pclass는 범주형 이라 일단 제외)  \n",
        "Fare에서 유독 튀는 데이터(400 이상)가 존재하는게 보여 **이상치 처리**를 진행하도록 하였다."
      ]
    },
    {
      "cell_type": "markdown",
      "metadata": {
        "id": "BGJHRQBN9HW5",
        "colab_type": "text"
      },
      "source": [
        "### 데이터 정제\n",
        "**필요 없는 열 삭제**  \n",
        "생존여부를 판단하는데에 있어 필요하지 않다고 생각하는 열을 삭제하기로 하였다.  \n",
        "  \n",
        "PassengerId = 인덱스처럼 1부터 순차적으로 증가하는 값을 가지고 있어 생존여부에 관여하지 않는다.  \n",
        "Name = 탑승자의 이름은 생존여부와 관련이 없다.  \n",
        "Ticket = 탑승자의 티켓 번호는 생존여부와 관련이 없다.\n",
        "Cabin = 객실 번호는 공백이 많기 때문에 대체하기 어려워 삭제를 진행하였다."
      ]
    },
    {
      "cell_type": "code",
      "metadata": {
        "id": "N9IAmS0M9HW5",
        "colab_type": "code",
        "colab": {}
      },
      "source": [
        "del df_train['PassengerId']\n",
        "del df_train['Name']\n",
        "del df_train['Ticket']\n",
        "del df_train['Cabin']\n",
        "del df_test['Name']\n",
        "del df_test['Ticket']\n",
        "del df_test['Cabin']"
      ],
      "execution_count": 52,
      "outputs": []
    },
    {
      "cell_type": "markdown",
      "metadata": {
        "id": "IS8hFIuX9HW7",
        "colab_type": "text"
      },
      "source": [
        "#### 결측치 처리"
      ]
    },
    {
      "cell_type": "code",
      "metadata": {
        "id": "REoKgHfa9HW7",
        "colab_type": "code",
        "colab": {
          "base_uri": "https://localhost:8080/",
          "height": 167
        },
        "outputId": "602a4fe8-1dae-4b84-8339-0c3d41f27826"
      },
      "source": [
        "df_train.groupby('Embarked').count()"
      ],
      "execution_count": 53,
      "outputs": [
        {
          "output_type": "execute_result",
          "data": {
            "text/html": [
              "<div>\n",
              "<style scoped>\n",
              "    .dataframe tbody tr th:only-of-type {\n",
              "        vertical-align: middle;\n",
              "    }\n",
              "\n",
              "    .dataframe tbody tr th {\n",
              "        vertical-align: top;\n",
              "    }\n",
              "\n",
              "    .dataframe thead th {\n",
              "        text-align: right;\n",
              "    }\n",
              "</style>\n",
              "<table border=\"1\" class=\"dataframe\">\n",
              "  <thead>\n",
              "    <tr style=\"text-align: right;\">\n",
              "      <th></th>\n",
              "      <th>Survived</th>\n",
              "      <th>Pclass</th>\n",
              "      <th>Sex</th>\n",
              "      <th>Age</th>\n",
              "      <th>SibSp</th>\n",
              "      <th>Parch</th>\n",
              "      <th>Fare</th>\n",
              "    </tr>\n",
              "    <tr>\n",
              "      <th>Embarked</th>\n",
              "      <th></th>\n",
              "      <th></th>\n",
              "      <th></th>\n",
              "      <th></th>\n",
              "      <th></th>\n",
              "      <th></th>\n",
              "      <th></th>\n",
              "    </tr>\n",
              "  </thead>\n",
              "  <tbody>\n",
              "    <tr>\n",
              "      <th>C</th>\n",
              "      <td>168</td>\n",
              "      <td>168</td>\n",
              "      <td>168</td>\n",
              "      <td>130</td>\n",
              "      <td>168</td>\n",
              "      <td>168</td>\n",
              "      <td>168</td>\n",
              "    </tr>\n",
              "    <tr>\n",
              "      <th>Q</th>\n",
              "      <td>77</td>\n",
              "      <td>77</td>\n",
              "      <td>77</td>\n",
              "      <td>28</td>\n",
              "      <td>77</td>\n",
              "      <td>77</td>\n",
              "      <td>77</td>\n",
              "    </tr>\n",
              "    <tr>\n",
              "      <th>S</th>\n",
              "      <td>644</td>\n",
              "      <td>644</td>\n",
              "      <td>644</td>\n",
              "      <td>554</td>\n",
              "      <td>644</td>\n",
              "      <td>644</td>\n",
              "      <td>644</td>\n",
              "    </tr>\n",
              "  </tbody>\n",
              "</table>\n",
              "</div>"
            ],
            "text/plain": [
              "          Survived  Pclass  Sex  Age  SibSp  Parch  Fare\n",
              "Embarked                                                \n",
              "C              168     168  168  130    168    168   168\n",
              "Q               77      77   77   28     77     77    77\n",
              "S              644     644  644  554    644    644   644"
            ]
          },
          "metadata": {
            "tags": []
          },
          "execution_count": 53
        }
      ]
    },
    {
      "cell_type": "code",
      "metadata": {
        "id": "sLLcXJmz9HW8",
        "colab_type": "code",
        "colab": {
          "base_uri": "https://localhost:8080/",
          "height": 34
        },
        "outputId": "3d0e2157-90cb-427c-9710-4e0e700c81ad"
      },
      "source": [
        "df_train['Age'].mean()"
      ],
      "execution_count": 54,
      "outputs": [
        {
          "output_type": "execute_result",
          "data": {
            "text/plain": [
              "29.69911764705882"
            ]
          },
          "metadata": {
            "tags": []
          },
          "execution_count": 54
        }
      ]
    },
    {
      "cell_type": "code",
      "metadata": {
        "id": "X7tLNAxE9HW-",
        "colab_type": "code",
        "colab": {
          "base_uri": "https://localhost:8080/",
          "height": 34
        },
        "outputId": "3a43bce2-209d-450a-ff55-8fcd25aa8b9b"
      },
      "source": [
        "df_test['Age'].mean()"
      ],
      "execution_count": 55,
      "outputs": [
        {
          "output_type": "execute_result",
          "data": {
            "text/plain": [
              "30.272590361445783"
            ]
          },
          "metadata": {
            "tags": []
          },
          "execution_count": 55
        }
      ]
    },
    {
      "cell_type": "markdown",
      "metadata": {
        "id": "WJP2oEer9HXA",
        "colab_type": "text"
      },
      "source": [
        "Embarked 열에서 최다 빈도는 S 이므로 결측치를 일괄적으로 S로 채우기로 하였고,  \n",
        "Age 열은 나이의 평균값으로 결측치를 채우기로 하였다.  \n",
        "train 데이터 Age 평균 : 29.699117647058763  \n",
        "test 데이터 Age 평균 : 30.272590361445815"
      ]
    },
    {
      "cell_type": "code",
      "metadata": {
        "id": "vH9O_nAq9HXA",
        "colab_type": "code",
        "colab": {}
      },
      "source": [
        "df_train['Embarked']=df_train['Embarked'].fillna('S')\n",
        "df_train['Age']=df_train['Age'].fillna(df_train['Age'].mean())"
      ],
      "execution_count": 56,
      "outputs": []
    },
    {
      "cell_type": "code",
      "metadata": {
        "id": "uB-lYf209HXC",
        "colab_type": "code",
        "colab": {}
      },
      "source": [
        "df_test['Fare']=df_test['Fare'].fillna(df_test['Fare'].mean())\n",
        "df_test['Age']=df_test['Age'].fillna(df_test['Age'].mean())"
      ],
      "execution_count": 57,
      "outputs": []
    },
    {
      "cell_type": "markdown",
      "metadata": {
        "id": "FmGKfezhZRO0",
        "colab_type": "text"
      },
      "source": [
        "#### 이상치 처리"
      ]
    },
    {
      "cell_type": "code",
      "metadata": {
        "id": "cvwD9G3pZTmE",
        "colab_type": "code",
        "colab": {}
      },
      "source": [
        "df_train = df_train[(df_train[\"Fare\"] < 400)]"
      ],
      "execution_count": 58,
      "outputs": []
    },
    {
      "cell_type": "code",
      "metadata": {
        "id": "0ERT1nCgan6f",
        "colab_type": "code",
        "colab": {
          "base_uri": "https://localhost:8080/",
          "height": 283
        },
        "outputId": "0a793338-e593-4bc1-e33e-69a86307d0a4"
      },
      "source": [
        "df_train.info()"
      ],
      "execution_count": 59,
      "outputs": [
        {
          "output_type": "stream",
          "text": [
            "<class 'pandas.core.frame.DataFrame'>\n",
            "Int64Index: 888 entries, 0 to 890\n",
            "Data columns (total 8 columns):\n",
            " #   Column    Non-Null Count  Dtype  \n",
            "---  ------    --------------  -----  \n",
            " 0   Survived  888 non-null    int64  \n",
            " 1   Pclass    888 non-null    int64  \n",
            " 2   Sex       888 non-null    object \n",
            " 3   Age       888 non-null    float64\n",
            " 4   SibSp     888 non-null    int64  \n",
            " 5   Parch     888 non-null    int64  \n",
            " 6   Fare      888 non-null    float64\n",
            " 7   Embarked  888 non-null    object \n",
            "dtypes: float64(2), int64(4), object(2)\n",
            "memory usage: 62.4+ KB\n"
          ],
          "name": "stdout"
        }
      ]
    },
    {
      "cell_type": "code",
      "metadata": {
        "id": "ZSfxIpR8agzT",
        "colab_type": "code",
        "colab": {
          "base_uri": "https://localhost:8080/",
          "height": 780
        },
        "outputId": "14cf2829-e057-4319-d5ad-ba8bdfde1b9d"
      },
      "source": [
        "attributes = [\"Survived\", \"Age\", \"Fare\"]\n",
        "scatter_matrix(df_train[attributes], figsize=(15, 10))"
      ],
      "execution_count": 60,
      "outputs": [
        {
          "output_type": "execute_result",
          "data": {
            "text/plain": [
              "array([[<matplotlib.axes._subplots.AxesSubplot object at 0x7f2d7d82da20>,\n",
              "        <matplotlib.axes._subplots.AxesSubplot object at 0x7f2d7d7c79b0>,\n",
              "        <matplotlib.axes._subplots.AxesSubplot object at 0x7f2d7d692cf8>],\n",
              "       [<matplotlib.axes._subplots.AxesSubplot object at 0x7f2d7d800f60>,\n",
              "        <matplotlib.axes._subplots.AxesSubplot object at 0x7f2d7d70a208>,\n",
              "        <matplotlib.axes._subplots.AxesSubplot object at 0x7f2d7d9eb2b0>],\n",
              "       [<matplotlib.axes._subplots.AxesSubplot object at 0x7f2d7d746240>,\n",
              "        <matplotlib.axes._subplots.AxesSubplot object at 0x7f2d7d8f0908>,\n",
              "        <matplotlib.axes._subplots.AxesSubplot object at 0x7f2d7d8f0978>]],\n",
              "      dtype=object)"
            ]
          },
          "metadata": {
            "tags": []
          },
          "execution_count": 60
        },
        {
          "output_type": "display_data",
          "data": {
            "image/png": "[encoded data removed]",
            "text/plain": [
              "<Figure size 1080x720 with 9 Axes>"
            ]
          },
          "metadata": {
            "tags": [],
            "needs_background": "light"
          }
        }
      ]
    },
    {
      "cell_type": "markdown",
      "metadata": {
        "id": "AfQOCwCMavpK",
        "colab_type": "text"
      },
      "source": [
        "이상치 제거 결과 891행에서 888행으로 3개 행이 제거되었다."
      ]
    },
    {
      "cell_type": "markdown",
      "metadata": {
        "id": "wKY-xfQKdSm5",
        "colab_type": "text"
      },
      "source": [
        "#### 특성 스케일링\n",
        "\n",
        "특성 스케일링은 StandardScaler와 MinMaxScaler 두개 다 사용해 보았다.\n",
        "\n",
        "```\n",
        "from sklearn.preprocessing import StandardScaler\n",
        "\n",
        "df_train['Age'] = StandardScaler().fit_transform(df_train['Age'].values.reshape(-1, 1))\n",
        "df_train['Fare'] = StandardScaler().fit_transform(df_train['Fare'].values.reshape(-1, 1))\n",
        "df_train['SibSp'] = StandardScaler().fit_transform(df_train['SibSp'].values.reshape(-1, 1))\n",
        "df_train['Parch'] = StandardScaler().fit_transform(df_train['Parch'].values.reshape(-1, 1))\n",
        "\n",
        "df_test['Age'] = StandardScaler().fit_transform(df_test['Age'].values.reshape(-1, 1))\n",
        "df_test['Fare'] = StandardScaler().fit_transform(df_test['Fare'].values.reshape(-1, 1))\n",
        "df_test['SibSp'] = StandardScaler().fit_transform(df_test['SibSp'].values.reshape(-1, 1))\n",
        "df_test['Parch'] = StandardScaler().fit_transform(df_test['Parch'].values.reshape(-1, 1))\n",
        "```\n",
        "\n",
        "그 결과 StandardScaler보다 MinMaxScaler가 아주 조금 더 좋은 결과를 보여 MinMaxScaler 를 채택하였다.\n",
        "\n",
        "|모델|StandardScaler auc score|MinMaxScaler auc score|\n",
        "|----|------------------------|----------------------|\n",
        "|SGD|0.7676155067580651|0.8134076914139654|\n",
        "|SVM|0.8335618295186089|0.8338561635877775|\n",
        "|DecisionTree|0.7455017234034312|0.7518918709577476|\n",
        "|RandomForestClassifier|0.8362882924751172|0.841710235854537|\n",
        "|AdaBoostClassifier|0.8044537392045235|0.8111304751946089|\n"
      ]
    },
    {
      "cell_type": "code",
      "metadata": {
        "id": "deX9Z6_a-loY",
        "colab_type": "code",
        "colab": {}
      },
      "source": [
        "from sklearn.preprocessing import MinMaxScaler\n",
        "\n",
        "df_train['Age'] = MinMaxScaler().fit_transform(df_train['Age'].values.reshape(-1, 1))\n",
        "df_train['Fare'] = MinMaxScaler().fit_transform(df_train['Fare'].values.reshape(-1, 1))\n",
        "df_train['SibSp'] = MinMaxScaler().fit_transform(df_train['SibSp'].values.reshape(-1, 1))\n",
        "df_train['Parch'] = MinMaxScaler().fit_transform(df_train['Parch'].values.reshape(-1, 1))\n",
        "\n",
        "df_test['Age'] = MinMaxScaler().fit_transform(df_test['Age'].values.reshape(-1, 1))\n",
        "df_test['Fare'] = MinMaxScaler().fit_transform(df_test['Fare'].values.reshape(-1, 1))\n",
        "df_test['SibSp'] = MinMaxScaler().fit_transform(df_test['SibSp'].values.reshape(-1, 1))\n",
        "df_test['Parch'] = MinMaxScaler().fit_transform(df_test['Parch'].values.reshape(-1, 1))"
      ],
      "execution_count": 61,
      "outputs": []
    },
    {
      "cell_type": "code",
      "metadata": {
        "id": "7jvz1xenft5S",
        "colab_type": "code",
        "colab": {
          "base_uri": "https://localhost:8080/",
          "height": 287
        },
        "outputId": "7b042c71-9e74-4fed-f4b5-4e0f70395d51"
      },
      "source": [
        "df_train.describe()"
      ],
      "execution_count": 62,
      "outputs": [
        {
          "output_type": "execute_result",
          "data": {
            "text/html": [
              "<div>\n",
              "<style scoped>\n",
              "    .dataframe tbody tr th:only-of-type {\n",
              "        vertical-align: middle;\n",
              "    }\n",
              "\n",
              "    .dataframe tbody tr th {\n",
              "        vertical-align: top;\n",
              "    }\n",
              "\n",
              "    .dataframe thead th {\n",
              "        text-align: right;\n",
              "    }\n",
              "</style>\n",
              "<table border=\"1\" class=\"dataframe\">\n",
              "  <thead>\n",
              "    <tr style=\"text-align: right;\">\n",
              "      <th></th>\n",
              "      <th>Survived</th>\n",
              "      <th>Pclass</th>\n",
              "      <th>Age</th>\n",
              "      <th>SibSp</th>\n",
              "      <th>Parch</th>\n",
              "      <th>Fare</th>\n",
              "    </tr>\n",
              "  </thead>\n",
              "  <tbody>\n",
              "    <tr>\n",
              "      <th>count</th>\n",
              "      <td>888.000000</td>\n",
              "      <td>888.000000</td>\n",
              "      <td>888.000000</td>\n",
              "      <td>888.000000</td>\n",
              "      <td>888.000000</td>\n",
              "      <td>888.000000</td>\n",
              "    </tr>\n",
              "    <tr>\n",
              "      <th>mean</th>\n",
              "      <td>0.381757</td>\n",
              "      <td>2.313063</td>\n",
              "      <td>0.367681</td>\n",
              "      <td>0.065597</td>\n",
              "      <td>0.063626</td>\n",
              "      <td>0.116282</td>\n",
              "    </tr>\n",
              "    <tr>\n",
              "      <th>std</th>\n",
              "      <td>0.486091</td>\n",
              "      <td>0.834007</td>\n",
              "      <td>0.163607</td>\n",
              "      <td>0.138023</td>\n",
              "      <td>0.134491</td>\n",
              "      <td>0.156564</td>\n",
              "    </tr>\n",
              "    <tr>\n",
              "      <th>min</th>\n",
              "      <td>0.000000</td>\n",
              "      <td>1.000000</td>\n",
              "      <td>0.000000</td>\n",
              "      <td>0.000000</td>\n",
              "      <td>0.000000</td>\n",
              "      <td>0.000000</td>\n",
              "    </tr>\n",
              "    <tr>\n",
              "      <th>25%</th>\n",
              "      <td>0.000000</td>\n",
              "      <td>2.000000</td>\n",
              "      <td>0.271174</td>\n",
              "      <td>0.000000</td>\n",
              "      <td>0.000000</td>\n",
              "      <td>0.030022</td>\n",
              "    </tr>\n",
              "    <tr>\n",
              "      <th>50%</th>\n",
              "      <td>0.000000</td>\n",
              "      <td>3.000000</td>\n",
              "      <td>0.367921</td>\n",
              "      <td>0.000000</td>\n",
              "      <td>0.000000</td>\n",
              "      <td>0.054959</td>\n",
              "    </tr>\n",
              "    <tr>\n",
              "      <th>75%</th>\n",
              "      <td>1.000000</td>\n",
              "      <td>3.000000</td>\n",
              "      <td>0.434531</td>\n",
              "      <td>0.125000</td>\n",
              "      <td>0.000000</td>\n",
              "      <td>0.117003</td>\n",
              "    </tr>\n",
              "    <tr>\n",
              "      <th>max</th>\n",
              "      <td>1.000000</td>\n",
              "      <td>3.000000</td>\n",
              "      <td>1.000000</td>\n",
              "      <td>1.000000</td>\n",
              "      <td>1.000000</td>\n",
              "      <td>1.000000</td>\n",
              "    </tr>\n",
              "  </tbody>\n",
              "</table>\n",
              "</div>"
            ],
            "text/plain": [
              "         Survived      Pclass         Age       SibSp       Parch        Fare\n",
              "count  888.000000  888.000000  888.000000  888.000000  888.000000  888.000000\n",
              "mean     0.381757    2.313063    0.367681    0.065597    0.063626    0.116282\n",
              "std      0.486091    0.834007    0.163607    0.138023    0.134491    0.156564\n",
              "min      0.000000    1.000000    0.000000    0.000000    0.000000    0.000000\n",
              "25%      0.000000    2.000000    0.271174    0.000000    0.000000    0.030022\n",
              "50%      0.000000    3.000000    0.367921    0.000000    0.000000    0.054959\n",
              "75%      1.000000    3.000000    0.434531    0.125000    0.000000    0.117003\n",
              "max      1.000000    3.000000    1.000000    1.000000    1.000000    1.000000"
            ]
          },
          "metadata": {
            "tags": []
          },
          "execution_count": 62
        }
      ]
    },
    {
      "cell_type": "markdown",
      "metadata": {
        "id": "j16zEi3u9HXD",
        "colab_type": "text"
      },
      "source": [
        "#### 범주형 특성 처리\n",
        "int 및 object 타입으로 되어 있던 범주형 열인 Sex, Pclass, Embarked 열을 category 타입으로 변경"
      ]
    },
    {
      "cell_type": "code",
      "metadata": {
        "id": "jfNi0VwD9HXE",
        "colab_type": "code",
        "colab": {}
      },
      "source": [
        "df_train['Sex']=df_train['Sex'].astype('category')\n",
        "df_train['Pclass']=df_train['Pclass'].astype('category')\n",
        "df_train['Embarked']=df_train['Embarked'].astype('category')\n",
        "df_train = pd.get_dummies(df_train)\n",
        "\n",
        "df_test['Sex']=df_test['Sex'].astype('category')\n",
        "df_test['Pclass']=df_test['Pclass'].astype('category')\n",
        "df_test['Embarked']=df_test['Embarked'].astype('category')\n",
        "df_test = pd.get_dummies(df_test)"
      ],
      "execution_count": 63,
      "outputs": []
    },
    {
      "cell_type": "markdown",
      "metadata": {
        "id": "ZzuRMCip9HXF",
        "colab_type": "text"
      },
      "source": [
        "### 학습\n",
        "**Survived** 열이 생존 여부를 나타내는 **label** 역할을 하기 때문에 답이 정해져 있는 **지도학습(supervised learning)** 알고리즘을 사용하였다.  \n",
        "또한 생존 여부는 Yes 또는 No 2가지로 답을 할 수 있으므로 **classification** 문제이다."
      ]
    },
    {
      "cell_type": "markdown",
      "metadata": {
        "id": "A-q5KWmp9HXF",
        "colab_type": "text"
      },
      "source": [
        "### 훈련"
      ]
    },
    {
      "cell_type": "code",
      "metadata": {
        "id": "ejsBsOK-9HXG",
        "colab_type": "code",
        "colab": {}
      },
      "source": [
        "from sklearn import model_selection\n",
        "from sklearn import metrics\n",
        "from sklearn import datasets\n",
        "from sklearn.metrics import classification_report\n",
        "from sklearn import linear_model"
      ],
      "execution_count": 64,
      "outputs": []
    },
    {
      "cell_type": "markdown",
      "metadata": {
        "id": "AVew6Ud-9HXH",
        "colab_type": "text"
      },
      "source": [
        "df_train의 라벨은 Survived로 0번 열에 해당.\n",
        "\n",
        "*   훈련데이터 738개\n",
        "*   검증데이터 150개\n",
        "\n",
        "로 훈련 진행 후 최적의 알고리즘을 찾아낸 이후 전체 888개 데이터로 훈련한 모델을 통해 test 데이터 predict를 진행하기로 함\n",
        "\n"
      ]
    },
    {
      "cell_type": "code",
      "metadata": {
        "id": "M6_ofaNY9HXI",
        "colab_type": "code",
        "colab": {
          "base_uri": "https://localhost:8080/",
          "height": 425
        },
        "outputId": "ef16f12b-93b9-42a9-de9d-9fb43962d568"
      },
      "source": [
        "x_full = df_train.iloc[:,1:]\n",
        "y_full = df_train.iloc[:,0]\n",
        "\n",
        "x_full = x_full.values\n",
        "y_full = y_full.values\n",
        "\n",
        "x_data = df_train.iloc[:-150,1:]\n",
        "y_data = df_train.iloc[:-150,0]\n",
        "\n",
        "x_data = x_data.values\n",
        "y_data = y_data.values\n",
        "\n",
        "x_val = df_train.iloc[-150:,1:]\n",
        "y_val = df_train.iloc[-150:,0]\n",
        "\n",
        "x_val = x_val.values\n",
        "y_val = y_val.values\n",
        "print(x_full.shape)\n",
        "print(x_data.shape)\n",
        "print(x_val.shape)\n",
        "print(y_data)"
      ],
      "execution_count": 65,
      "outputs": [
        {
          "output_type": "stream",
          "text": [
            "(888, 12)\n",
            "(738, 12)\n",
            "(150, 12)\n",
            "[0 1 1 1 0 0 0 0 1 1 1 1 0 0 0 1 0 1 0 1 0 1 1 1 0 1 0 0 1 0 0 1 1 0 0 0 1\n",
            " 0 0 1 0 0 0 1 1 0 0 1 0 0 0 0 1 1 0 1 1 0 1 0 0 1 0 0 0 1 1 0 1 0 0 0 0 0\n",
            " 1 0 0 0 1 1 0 1 1 0 1 1 0 0 1 0 0 0 0 0 0 0 0 1 1 0 0 0 0 0 0 0 1 1 0 1 0\n",
            " 0 0 0 0 0 0 0 0 0 0 0 0 1 0 1 0 1 1 0 0 0 0 1 0 0 1 0 0 0 0 1 1 0 0 0 1 0\n",
            " 0 0 0 1 0 0 0 0 1 0 0 0 0 1 0 0 0 1 1 0 0 0 0 0 1 0 0 0 0 0 0 0 0 0 0 1 1\n",
            " 0 1 1 0 0 1 0 1 1 1 1 0 0 1 0 0 0 0 0 1 0 0 1 1 1 0 1 0 0 0 1 1 0 1 0 1 0\n",
            " 0 0 1 0 1 0 0 0 1 0 0 1 0 0 0 1 0 0 0 1 0 0 0 0 0 1 1 0 0 0 0 0 0 1 1 1 1\n",
            " 0 1 0 0 0 0 0 1 1 1 0 1 1 0 1 1 0 0 0 1 0 0 0 1 0 0 1 0 1 1 1 1 0 0 0 0 0\n",
            " 0 1 1 1 1 0 1 0 1 1 1 0 1 1 1 0 0 0 1 1 0 1 1 0 0 1 1 0 1 0 1 1 1 1 0 0 0\n",
            " 1 0 0 1 1 0 1 1 0 0 0 1 1 1 1 0 0 0 0 0 0 0 1 0 1 1 0 0 0 0 0 0 1 1 1 1 1\n",
            " 0 0 0 0 1 1 0 0 0 1 1 0 1 0 0 0 1 0 1 1 1 0 1 1 0 0 0 0 1 1 0 0 0 0 0 0 1\n",
            " 0 0 0 0 1 0 1 0 1 1 0 0 0 0 0 0 0 0 1 1 0 1 1 1 1 0 0 1 0 1 0 0 1 0 0 1 1\n",
            " 1 1 1 1 1 0 0 0 1 0 1 0 1 1 0 1 0 0 0 0 0 0 0 0 1 0 0 1 1 0 0 0 0 0 1 0 0\n",
            " 0 1 1 0 1 0 0 1 0 0 0 0 0 0 1 0 0 0 0 0 0 0 1 0 1 1 0 1 1 0 1 1 0 0 1 0 1\n",
            " 0 1 0 0 1 0 0 1 0 0 0 1 0 0 1 0 1 0 1 0 1 1 0 0 1 0 0 1 1 0 1 1 0 0 1 1 0\n",
            " 1 0 1 1 0 0 0 0 0 0 0 0 0 1 1 1 1 1 0 0 1 1 0 1 1 1 0 0 0 1 0 1 0 0 0 1 0\n",
            " 0 0 0 1 0 0 1 1 0 0 0 1 0 0 1 1 1 0 0 1 0 0 1 0 0 1 0 0 1 1 0 0 0 0 1 0 0\n",
            " 1 0 1 0 0 1 0 0 0 0 0 1 0 1 1 1 0 1 0 1 0 1 0 1 0 0 0 0 0 0 1 0 0 0 1 0 0\n",
            " 0 0 1 1 0 0 1 0 0 0 1 0 0 1 0 0 0 0 0 0 0 1 1 1 1 0 0 0 0 1 0 0 1 1 0 0 0\n",
            " 0 1 1 1 1 1 0 1 0 0 0 1 1 0 0 1 0 0 0 1 0 1 1 0 0 1 0 0 0 0 0 0 0 0 1]\n"
          ],
          "name": "stdout"
        }
      ]
    },
    {
      "cell_type": "code",
      "metadata": {
        "id": "sfGYUuZY9HXJ",
        "colab_type": "code",
        "colab": {
          "base_uri": "https://localhost:8080/",
          "height": 34
        },
        "outputId": "de16595e-7c77-4734-d50e-2d3b2665cf02"
      },
      "source": [
        "test_data = df_test.iloc[:,1:]\n",
        "test_data = test_data.values\n",
        "print(test_data.shape)"
      ],
      "execution_count": 66,
      "outputs": [
        {
          "output_type": "stream",
          "text": [
            "(418, 12)\n"
          ],
          "name": "stdout"
        }
      ]
    },
    {
      "cell_type": "markdown",
      "metadata": {
        "id": "QhrQ5TE7vjzL",
        "colab_type": "text"
      },
      "source": [
        "##### SGD (Stochastic Gradient Descent)"
      ]
    },
    {
      "cell_type": "code",
      "metadata": {
        "id": "hVPeQ4BCvpLv",
        "colab_type": "code",
        "colab": {
          "base_uri": "https://localhost:8080/",
          "height": 123
        },
        "outputId": "cd48c68b-00b8-4c21-b835-3caa0f7ab505"
      },
      "source": [
        "from sklearn.linear_model import SGDClassifier\n",
        "\n",
        "sgd_clf = SGDClassifier()\n",
        "sgd_clf.fit(x_data, y_data)"
      ],
      "execution_count": 67,
      "outputs": [
        {
          "output_type": "execute_result",
          "data": {
            "text/plain": [
              "SGDClassifier(alpha=0.0001, average=False, class_weight=None,\n",
              "              early_stopping=False, epsilon=0.1, eta0=0.0, fit_intercept=True,\n",
              "              l1_ratio=0.15, learning_rate='optimal', loss='hinge',\n",
              "              max_iter=1000, n_iter_no_change=5, n_jobs=None, penalty='l2',\n",
              "              power_t=0.5, random_state=None, shuffle=True, tol=0.001,\n",
              "              validation_fraction=0.1, verbose=0, warm_start=False)"
            ]
          },
          "metadata": {
            "tags": []
          },
          "execution_count": 67
        }
      ]
    },
    {
      "cell_type": "markdown",
      "metadata": {
        "id": "rxn5A-RV0eJr",
        "colab_type": "text"
      },
      "source": [
        "##### SVM\n",
        "선형 svm"
      ]
    },
    {
      "cell_type": "code",
      "metadata": {
        "id": "iwOOkOX50dJ4",
        "colab_type": "code",
        "colab": {
          "base_uri": "https://localhost:8080/",
          "height": 194
        },
        "outputId": "8697cc7d-3187-4003-e774-a4b7825a942a"
      },
      "source": [
        "from sklearn.pipeline import Pipeline\n",
        "from sklearn.preprocessing import StandardScaler\n",
        "from sklearn.svm import LinearSVC\n",
        "\n",
        "svm_clf = Pipeline([\n",
        "            (\"scaler\", StandardScaler()),\n",
        "            (\"linear_svc\", LinearSVC()),\n",
        "])\n",
        "\n",
        "svm_clf.fit(x_data, y_data)"
      ],
      "execution_count": 68,
      "outputs": [
        {
          "output_type": "execute_result",
          "data": {
            "text/plain": [
              "Pipeline(memory=None,\n",
              "         steps=[('scaler',\n",
              "                 StandardScaler(copy=True, with_mean=True, with_std=True)),\n",
              "                ('linear_svc',\n",
              "                 LinearSVC(C=1.0, class_weight=None, dual=True,\n",
              "                           fit_intercept=True, intercept_scaling=1,\n",
              "                           loss='squared_hinge', max_iter=1000,\n",
              "                           multi_class='ovr', penalty='l2', random_state=None,\n",
              "                           tol=0.0001, verbose=0))],\n",
              "         verbose=False)"
            ]
          },
          "metadata": {
            "tags": []
          },
          "execution_count": 68
        }
      ]
    },
    {
      "cell_type": "markdown",
      "metadata": {
        "id": "zNAYIDELEy06",
        "colab_type": "text"
      },
      "source": [
        "##### DecisionTree"
      ]
    },
    {
      "cell_type": "code",
      "metadata": {
        "id": "Phwp4oikEyQa",
        "colab_type": "code",
        "colab": {
          "base_uri": "https://localhost:8080/",
          "height": 123
        },
        "outputId": "c3c4d5be-9b13-4911-ef1e-b0c38e1682cf"
      },
      "source": [
        "from sklearn.tree import DecisionTreeClassifier\n",
        "\n",
        "tree_clf = DecisionTreeClassifier()\n",
        "tree_clf.fit(x_data, y_data)"
      ],
      "execution_count": 69,
      "outputs": [
        {
          "output_type": "execute_result",
          "data": {
            "text/plain": [
              "DecisionTreeClassifier(ccp_alpha=0.0, class_weight=None, criterion='gini',\n",
              "                       max_depth=None, max_features=None, max_leaf_nodes=None,\n",
              "                       min_impurity_decrease=0.0, min_impurity_split=None,\n",
              "                       min_samples_leaf=1, min_samples_split=2,\n",
              "                       min_weight_fraction_leaf=0.0, presort='deprecated',\n",
              "                       random_state=None, splitter='best')"
            ]
          },
          "metadata": {
            "tags": []
          },
          "execution_count": 69
        }
      ]
    },
    {
      "cell_type": "markdown",
      "metadata": {
        "id": "r-DJwAMivEHX",
        "colab_type": "text"
      },
      "source": [
        "##### RandomForestClassifier"
      ]
    },
    {
      "cell_type": "code",
      "metadata": {
        "id": "OPVLRhCvtc-x",
        "colab_type": "code",
        "colab": {
          "base_uri": "https://localhost:8080/",
          "height": 158
        },
        "outputId": "b992f441-6c0e-4778-8d22-83de671c8749"
      },
      "source": [
        "from sklearn.ensemble import RandomForestClassifier\n",
        "\n",
        "forest = RandomForestClassifier()\n",
        "forest.fit(x_data, y_data)"
      ],
      "execution_count": 70,
      "outputs": [
        {
          "output_type": "execute_result",
          "data": {
            "text/plain": [
              "RandomForestClassifier(bootstrap=True, ccp_alpha=0.0, class_weight=None,\n",
              "                       criterion='gini', max_depth=None, max_features='auto',\n",
              "                       max_leaf_nodes=None, max_samples=None,\n",
              "                       min_impurity_decrease=0.0, min_impurity_split=None,\n",
              "                       min_samples_leaf=1, min_samples_split=2,\n",
              "                       min_weight_fraction_leaf=0.0, n_estimators=100,\n",
              "                       n_jobs=None, oob_score=False, random_state=None,\n",
              "                       verbose=0, warm_start=False)"
            ]
          },
          "metadata": {
            "tags": []
          },
          "execution_count": 70
        }
      ]
    },
    {
      "cell_type": "markdown",
      "metadata": {
        "id": "LjVyH6M5FGzV",
        "colab_type": "text"
      },
      "source": [
        "##### AdaBoostClassifier"
      ]
    },
    {
      "cell_type": "code",
      "metadata": {
        "id": "Us49_5FdFGXS",
        "colab_type": "code",
        "colab": {
          "base_uri": "https://localhost:8080/",
          "height": 301
        },
        "outputId": "80b5c46f-c6ce-427e-ac4a-9fcf823c123f"
      },
      "source": [
        "from sklearn.ensemble import AdaBoostClassifier\n",
        "\n",
        "ada_clf = AdaBoostClassifier(\n",
        "    DecisionTreeClassifier())\n",
        "\n",
        "ada_clf.fit(x_data, y_data)"
      ],
      "execution_count": 71,
      "outputs": [
        {
          "output_type": "execute_result",
          "data": {
            "text/plain": [
              "AdaBoostClassifier(algorithm='SAMME.R',\n",
              "                   base_estimator=DecisionTreeClassifier(ccp_alpha=0.0,\n",
              "                                                         class_weight=None,\n",
              "                                                         criterion='gini',\n",
              "                                                         max_depth=None,\n",
              "                                                         max_features=None,\n",
              "                                                         max_leaf_nodes=None,\n",
              "                                                         min_impurity_decrease=0.0,\n",
              "                                                         min_impurity_split=None,\n",
              "                                                         min_samples_leaf=1,\n",
              "                                                         min_samples_split=2,\n",
              "                                                         min_weight_fraction_leaf=0.0,\n",
              "                                                         presort='deprecated',\n",
              "                                                         random_state=None,\n",
              "                                                         splitter='best'),\n",
              "                   learning_rate=1.0, n_estimators=50, random_state=None)"
            ]
          },
          "metadata": {
            "tags": []
          },
          "execution_count": 71
        }
      ]
    },
    {
      "cell_type": "markdown",
      "metadata": {
        "id": "XQkBy2U7ngV_",
        "colab_type": "text"
      },
      "source": [
        "### 모델 평가\n",
        "교차 검증과 ROC로 모델 평가 진행"
      ]
    },
    {
      "cell_type": "markdown",
      "metadata": {
        "id": "zQLS83at1OnF",
        "colab_type": "text"
      },
      "source": [
        "#### 교차 검증"
      ]
    },
    {
      "cell_type": "code",
      "metadata": {
        "id": "eCnqsZ89pGwC",
        "colab_type": "code",
        "colab": {
          "base_uri": "https://localhost:8080/",
          "height": 638
        },
        "outputId": "0826fd2e-fd46-4174-81c1-a6060a75248b"
      },
      "source": [
        "from sklearn.model_selection import cross_val_score\n",
        "\n",
        "print(\"sgd_clf(data): \", cross_val_score(sgd_clf, x_data, y_data, cv=3, scoring=\"accuracy\"))\n",
        "print(\"sgd_clf(data): \", cross_val_score(sgd_clf, x_data, y_data, cv=3, scoring=\"accuracy\").mean())\n",
        "print(\"sgd_clf(val): \", cross_val_score(sgd_clf, x_val, y_val, cv=3, scoring=\"accuracy\"))\n",
        "print(\"sgd_clf(val): \", cross_val_score(sgd_clf, x_val, y_val, cv=3, scoring=\"accuracy\").mean())\n",
        "print()\n",
        "\n",
        "print(\"svm_clf(data): \", cross_val_score(svm_clf, x_data, y_data, cv=3, scoring=\"accuracy\"))\n",
        "print(\"svm_clf(data): \", cross_val_score(svm_clf, x_data, y_data, cv=3, scoring=\"accuracy\").mean())\n",
        "print(\"svm_clf(val): \", cross_val_score(svm_clf, x_val, y_val, cv=3, scoring=\"accuracy\"))\n",
        "print(\"svm_clf(val): \", cross_val_score(svm_clf, x_val, y_val, cv=3, scoring=\"accuracy\").mean())\n",
        "print()\n",
        "\n",
        "print(\"tree_clf(data): \", cross_val_score(tree_clf, x_data, y_data, cv=3, scoring=\"accuracy\"))\n",
        "print(\"tree_clf(data): \", cross_val_score(tree_clf, x_data, y_data, cv=3, scoring=\"accuracy\").mean())\n",
        "print(\"tree_clf(val): \", cross_val_score(tree_clf, x_val, y_val, cv=3, scoring=\"accuracy\"))\n",
        "print(\"tree_clf(val): \", cross_val_score(tree_clf, x_val, y_val, cv=3, scoring=\"accuracy\").mean())\n",
        "print()\n",
        "\n",
        "print(\"forest(data): \", cross_val_score(forest, x_data, y_data, cv=3, scoring=\"accuracy\"))\n",
        "print(\"forest(data): \", cross_val_score(forest, x_data, y_data, cv=3, scoring=\"accuracy\").mean())\n",
        "print(\"forest(val): \", cross_val_score(forest, x_val, y_val, cv=3, scoring=\"accuracy\"))\n",
        "print(\"forest(val): \", cross_val_score(forest, x_val, y_val, cv=3, scoring=\"accuracy\").mean())\n",
        "print()\n",
        "\n",
        "print(\"ada_clf(data): \", cross_val_score(ada_clf, x_data, y_data, cv=3, scoring=\"accuracy\"))\n",
        "print(\"ada_clf(data): \", cross_val_score(ada_clf, x_data, y_data, cv=3, scoring=\"accuracy\").mean())\n",
        "print(\"ada_clf(val): \", cross_val_score(ada_clf, x_val, y_val, cv=3, scoring=\"accuracy\"))\n",
        "print(\"ada_clf(val): \", cross_val_score(ada_clf, x_val, y_val, cv=3, scoring=\"accuracy\").mean())\n",
        "print()\n",
        "\n"
      ],
      "execution_count": 74,
      "outputs": [
        {
          "output_type": "stream",
          "text": [
            "sgd_clf(data):  [0.80081301 0.80081301 0.77235772]\n",
            "sgd_clf(data):  0.7723577235772359\n",
            "sgd_clf(val):  [0.78 0.66 0.78]\n",
            "sgd_clf(val):  0.7600000000000001\n",
            "\n",
            "svm_clf(data):  [0.79674797 0.80081301 0.76422764]\n"
          ],
          "name": "stdout"
        },
        {
          "output_type": "stream",
          "text": [
            "/usr/local/lib/python3.6/dist-packages/sklearn/svm/_base.py:947: ConvergenceWarning: Liblinear failed to converge, increase the number of iterations.\n",
            "  \"the number of iterations.\", ConvergenceWarning)\n",
            "/usr/local/lib/python3.6/dist-packages/sklearn/svm/_base.py:947: ConvergenceWarning: Liblinear failed to converge, increase the number of iterations.\n",
            "  \"the number of iterations.\", ConvergenceWarning)\n",
            "/usr/local/lib/python3.6/dist-packages/sklearn/svm/_base.py:947: ConvergenceWarning: Liblinear failed to converge, increase the number of iterations.\n",
            "  \"the number of iterations.\", ConvergenceWarning)\n",
            "/usr/local/lib/python3.6/dist-packages/sklearn/svm/_base.py:947: ConvergenceWarning: Liblinear failed to converge, increase the number of iterations.\n",
            "  \"the number of iterations.\", ConvergenceWarning)\n",
            "/usr/local/lib/python3.6/dist-packages/sklearn/svm/_base.py:947: ConvergenceWarning: Liblinear failed to converge, increase the number of iterations.\n",
            "  \"the number of iterations.\", ConvergenceWarning)\n"
          ],
          "name": "stderr"
        },
        {
          "output_type": "stream",
          "text": [
            "svm_clf(data):  0.7872628726287263\n",
            "svm_clf(val):  [0.76 0.8  0.84]\n",
            "svm_clf(val):  0.7999999999999999\n",
            "\n",
            "tree_clf(data):  [0.74796748 0.7804878  0.73577236]\n",
            "tree_clf(data):  0.7533875338753386\n",
            "tree_clf(val):  [0.68 0.76 0.86]\n",
            "tree_clf(val):  0.7799999999999999\n",
            "\n",
            "forest(data):  [0.76422764 0.81707317 0.76422764]\n",
            "forest(data):  0.7845528455284553\n",
            "forest(val):  [0.8  0.82 0.92]\n",
            "forest(val):  0.84\n",
            "\n",
            "ada_clf(data):  [0.72764228 0.80081301 0.72764228]\n",
            "ada_clf(data):  0.7845528455284553\n",
            "ada_clf(val):  [0.74 0.76 0.9 ]\n",
            "ada_clf(val):  0.7933333333333333\n",
            "\n"
          ],
          "name": "stdout"
        }
      ]
    },
    {
      "cell_type": "markdown",
      "metadata": {
        "id": "5xMH3A9d1RS5",
        "colab_type": "text"
      },
      "source": [
        "#### ROC"
      ]
    },
    {
      "cell_type": "code",
      "metadata": {
        "id": "KTxSEJdy4Yqh",
        "colab_type": "code",
        "colab": {
          "base_uri": "https://localhost:8080/",
          "height": 301
        },
        "outputId": "2279b8b9-07d0-4b4a-95f4-5b48900752dc"
      },
      "source": [
        "from sklearn.metrics import roc_curve\n",
        "from sklearn.metrics import roc_auc_score\n",
        "from sklearn.model_selection import cross_val_predict\n",
        "\n",
        "def plot_roc_curve(fpr, tpr, label=None):\n",
        "  plt.plot(fpr, tpr, linewidth=2, label=label)\n",
        "  plt.plot([0,1], [0,1], 'k--')\n",
        "  plt.axis([0,1,0,1])\n",
        "  plt.xlabel('fpr')\n",
        "  plt.ylabel('tpr')\n",
        "\n",
        "y_scores = cross_val_predict(sgd_clf, x_data, y_data, cv=3, method=\"decision_function\")\n",
        "fpr, tpr, thresholds = roc_curve(y_data, y_scores)\n",
        "plot_roc_curve(fpr, tpr)\n",
        "plt.show()\n",
        "\n",
        "print(\"sgd_clf: \", roc_auc_score(y_data, y_scores))"
      ],
      "execution_count": 75,
      "outputs": [
        {
          "output_type": "display_data",
          "data": {
            "image/png": "[encoded data removed]",
            "text/plain": [
              "<Figure size 432x288 with 1 Axes>"
            ]
          },
          "metadata": {
            "tags": [],
            "needs_background": "light"
          }
        },
        {
          "output_type": "stream",
          "text": [
            "sgd_clf:  0.8134076914139654\n"
          ],
          "name": "stdout"
        }
      ]
    },
    {
      "cell_type": "code",
      "metadata": {
        "id": "-YLmo7CxBy5R",
        "colab_type": "code",
        "colab": {
          "base_uri": "https://localhost:8080/",
          "height": 407
        },
        "outputId": "70b79608-7424-4c34-f6d5-c6bb650180bc"
      },
      "source": [
        "y_scores = cross_val_predict(svm_clf, x_data, y_data, cv=3, method=\"decision_function\")\n",
        "fpr, tpr, thresholds = roc_curve(y_data, y_scores)\n",
        "plot_roc_curve(fpr, tpr)\n",
        "plt.show()\n",
        "\n",
        "print(\"svm_clf: \", roc_auc_score(y_data, y_scores))"
      ],
      "execution_count": 76,
      "outputs": [
        {
          "output_type": "stream",
          "text": [
            "/usr/local/lib/python3.6/dist-packages/sklearn/svm/_base.py:947: ConvergenceWarning: Liblinear failed to converge, increase the number of iterations.\n",
            "  \"the number of iterations.\", ConvergenceWarning)\n",
            "/usr/local/lib/python3.6/dist-packages/sklearn/svm/_base.py:947: ConvergenceWarning: Liblinear failed to converge, increase the number of iterations.\n",
            "  \"the number of iterations.\", ConvergenceWarning)\n",
            "/usr/local/lib/python3.6/dist-packages/sklearn/svm/_base.py:947: ConvergenceWarning: Liblinear failed to converge, increase the number of iterations.\n",
            "  \"the number of iterations.\", ConvergenceWarning)\n"
          ],
          "name": "stderr"
        },
        {
          "output_type": "display_data",
          "data": {
            "image/png": "[encoded data removed]",
            "text/plain": [
              "<Figure size 432x288 with 1 Axes>"
            ]
          },
          "metadata": {
            "tags": [],
            "needs_background": "light"
          }
        },
        {
          "output_type": "stream",
          "text": [
            "svm_clf:  0.8338561635877775\n"
          ],
          "name": "stdout"
        }
      ]
    },
    {
      "cell_type": "code",
      "metadata": {
        "id": "KlQGd_BK7s5g",
        "colab_type": "code",
        "colab": {
          "base_uri": "https://localhost:8080/",
          "height": 301
        },
        "outputId": "fb1ccec6-4481-43ec-8dfa-b8d3037839db"
      },
      "source": [
        "y_scores = cross_val_predict(tree_clf, x_data, y_data, cv=3, method=\"predict_proba\")\n",
        "fpr, tpr, thresholds = roc_curve(y_data, y_scores[:,1])\n",
        "plot_roc_curve(fpr, tpr)\n",
        "plt.show()\n",
        "\n",
        "print(\"tree_clf: \", roc_auc_score(y_data, y_scores[:,1]))"
      ],
      "execution_count": 77,
      "outputs": [
        {
          "output_type": "display_data",
          "data": {
            "image/png": "[encoded data removed]",
            "text/plain": [
              "<Figure size 432x288 with 1 Axes>"
            ]
          },
          "metadata": {
            "tags": [],
            "needs_background": "light"
          }
        },
        {
          "output_type": "stream",
          "text": [
            "tree_clf:  0.7518918709577476\n"
          ],
          "name": "stdout"
        }
      ]
    },
    {
      "cell_type": "code",
      "metadata": {
        "id": "mlv4E1A-7mXS",
        "colab_type": "code",
        "colab": {
          "base_uri": "https://localhost:8080/",
          "height": 301
        },
        "outputId": "e6f1ab5d-c51b-4ad9-fd28-55f3ce7d6d7e"
      },
      "source": [
        "y_scores = cross_val_predict(forest, x_data, y_data, cv=3, method=\"predict_proba\")\n",
        "fpr, tpr, thresholds = roc_curve(y_data, y_scores[:,1])\n",
        "plot_roc_curve(fpr, tpr)\n",
        "plt.show()\n",
        "print(\"forest: \", roc_auc_score(y_data, y_scores[:,1]))"
      ],
      "execution_count": 78,
      "outputs": [
        {
          "output_type": "display_data",
          "data": {
            "image/png": "[encoded data removed]",
            "text/plain": [
              "<Figure size 432x288 with 1 Axes>"
            ]
          },
          "metadata": {
            "tags": [],
            "needs_background": "light"
          }
        },
        {
          "output_type": "stream",
          "text": [
            "forest:  0.841710235854537\n"
          ],
          "name": "stdout"
        }
      ]
    },
    {
      "cell_type": "code",
      "metadata": {
        "id": "YMq750A3F83F",
        "colab_type": "code",
        "colab": {
          "base_uri": "https://localhost:8080/",
          "height": 301
        },
        "outputId": "81581d5a-9905-4dd1-c3fd-96227007d4ed"
      },
      "source": [
        "y_scores = cross_val_predict(ada_clf, x_data, y_data, cv=3, method=\"predict_proba\")\n",
        "fpr, tpr, thresholds = roc_curve(y_data, y_scores[:,1])\n",
        "plot_roc_curve(fpr, tpr)\n",
        "plt.show()\n",
        "print(\"ada_clf: \", roc_auc_score(y_data, y_scores[:,1]))"
      ],
      "execution_count": 79,
      "outputs": [
        {
          "output_type": "display_data",
          "data": {
            "image/png": "[encoded data removed]",
            "text/plain": [
              "<Figure size 432x288 with 1 Axes>"
            ]
          },
          "metadata": {
            "tags": [],
            "needs_background": "light"
          }
        },
        {
          "output_type": "stream",
          "text": [
            "ada_clf:  0.8111304751946089\n"
          ],
          "name": "stdout"
        }
      ]
    },
    {
      "cell_type": "markdown",
      "metadata": {
        "id": "NidWeigbphDL",
        "colab_type": "text"
      },
      "source": [
        "|모델|cross validation score|auc score|\n",
        "|----|----------------------|---------|\n",
        "|SGD|0.7600000000000001|0.8134076914139654|\n",
        "|SVM|0.7999999999999999|0.8338561635877775|\n",
        "|DecisionTree|0.7799999999999999|0.7518918709577476|\n",
        "|RandomForestClassifier|0.84|0.841710235854537|\n",
        "|AdaBoostClassifier|0.7933333333333333|0.8111304751946089|\n",
        "  \n",
        "\n",
        "모델 평가 결과 교차 검증에서도 평균적으로 높은 정확도를 보이고, ROC AUC 점수도 가장 좋은 점수를 보이는 ```RandomForestClassifier``` 를 이 문제를 해결하기 위해 적합하다고 판단하였다."
      ]
    },
    {
      "cell_type": "markdown",
      "metadata": {
        "id": "e74ewjaN9HXM",
        "colab_type": "text"
      },
      "source": [
        "### 모델 세부 튜닝\n",
        "#### Grid Search\n",
        "탐색하고자 하는 하이퍼파라미터와 시도해볼 값을 지정하여 모든 하이퍼파라미터 조합에 대해 교차 검증을 사용해 탐색.\n",
        "\n",
        "오른쪽 결과는 x_data 로 fit 후 x_val로 구한 auc 점수(소수점 셋째자리에서 반올림)\n",
        "\n",
        "1차시도(교재와 동일) / 결과 : 0.83\n",
        "\n",
        "\n",
        "```\n",
        "param_grid = [\n",
        "  {'n_estimators' : [3,10,30], 'max_features' : [2,4,6,8]},\n",
        "  {'bootstrap' : [False], 'n_estimators' : [3,10], 'max_features' : [2,3,4]}\n",
        "]\n",
        "```\n",
        "\n",
        "2차시도 / 결과 : 0.84\n",
        "\n",
        "\n",
        "```\n",
        "{'n_estimators' : [10, 100], 'max_depth' : [6, 8, 10, 12], 'min_samples_leaf' : [8, 12, 18], 'min_samples_split' : [8, 16, 20]\n",
        "```\n",
        "\n",
        "3차시도 / 결과 : 0.81\n",
        "\n",
        "\n",
        "```\n",
        "param_grid = [\n",
        "  {'n_estimators' : [5, 10, 100], 'max_depth' : [8, 10, 12, 16], 'min_samples_leaf' : [4, 8, 12], 'min_samples_split' : [16, 20, 24]}\n",
        "]\n",
        "```\n",
        "\n",
        "4차시도 / 결과 : 0.80\n",
        "\n",
        "\n",
        "```\n",
        "param_grid = [\n",
        "  {'n_estimators' : [5, 7, 9, 11, 13], 'max_depth' : [None, 10, 12, 14], 'min_samples_leaf' : [2, 4, 6, 8],\n",
        "  'min_samples_split' : [16, 18, 20, 22], 'max_features' : [\"auto\", \"sqrt\", \"log2\"]}\n",
        "]\n",
        "```\n",
        "\n",
        "5차시도 / 결과 : 0.85\n",
        "\n",
        "```\n",
        "param_grid = [\n",
        "  {'n_estimators' : [5, 7, 9, 11, 13], 'max_depth' : [None, 10, 12, 14],\n",
        "  'min_samples_leaf' : [2, 4, 6, 8], 'min_samples_split' : [14, 16, 18, 20], 'max_features' : [\"auto\", \"sqrt\", \"log2\"]}\n",
        "]\n",
        "```\n",
        "\n",
        "6차시도 / 결과 : 0.82\n",
        "\n",
        "```\n",
        "param_grid = [\n",
        "  {'n_estimators' : [5, 7, 9, 11, 13], 'max_depth' : [10, 12, 14, 16], 'min_samples_leaf' : [2, 4, 6, 8], 'min_samples_split' : [16, 18, 20, 22], 'max_features' : [\"auto\", \"sqrt\", \"log2\"]}\n",
        "]\n",
        "```\n",
        "\n",
        "따라서 5차 시도때 진행했던 대로 grid 탐색 진행하여 최종 모델을 선정하였다."
      ]
    },
    {
      "cell_type": "markdown",
      "metadata": {
        "id": "IK8KgokJ9HXM",
        "colab_type": "text"
      },
      "source": [
        "### RandomForestClassifier\n",
        "\n",
        "```\n",
        "RandomForestClassifier(n_estimators=100,\n",
        "                       criterion=\"gini\",\n",
        "                       max_depth=None,\n",
        "                       min_samples_split=2,\n",
        "                       min_samples_leaf=1,\n",
        "                       min_weight_fraction_leaf=0.,\n",
        "                       max_features=\"auto\",\n",
        "                       max_leaf_nodes=None,\n",
        "                       min_impurity_decrease=0.,\n",
        "                       min_impurity_split=None,\n",
        "                       bootstrap=True,\n",
        "                       oob_score=False,\n",
        "                       n_jobs=None,\n",
        "                       random_state=None,\n",
        "                       verbose=0,\n",
        "                       warm_start=False,\n",
        "                       class_weight=None,\n",
        "                       ccp_alpha=0.0,\n",
        "                       max_samples=None)\n",
        "```\n",
        "\n",
        "\n"
      ]
    },
    {
      "cell_type": "markdown",
      "metadata": {
        "id": "wkQu6Ln1QYX3",
        "colab_type": "text"
      },
      "source": [
        "|하이퍼파라미터|설명|비고|\n",
        "|------|---|---|\n",
        "|n_estimators|결정트리의 갯수를 지정.|무작정 트리 갯수를 늘리면 성능 좋아지는 것 대비 시간이 걸릴 수 있음|\n",
        "|min_samples_split|노드를 분할하기 위한 최소한의 샘플 데이터 수|작게 설정할 수록 분할 노드가 많아져 과적합 가능성 증가|\n",
        "|min_samples_leaf|리프노드가 되기 위해 필요한 최소한의 샘플 데이터수|불균형 데이터의 경우 특정 클래스의 데이터가 극도로 작을 수 있으므로 작게 설정 필요|\n",
        "|max_features|최적의 분할을 위해 고려할 최대 feature 개수||\n",
        "|max_depth|트리의 최대 깊이|깊이가 깊어지면 과적합될 수 있으므로 적절히 제어 필요|\n",
        "|max_leaf_nodes|리프노드의 최대 개수||\n",
        "\n",
        "참고:https://injo.tistory.com/30"
      ]
    },
    {
      "cell_type": "code",
      "metadata": {
        "id": "OEpaBJ8d9HXN",
        "colab_type": "code",
        "colab": {
          "base_uri": "https://localhost:8080/",
          "height": 443
        },
        "outputId": "2bf13496-b6fc-4a12-e4d4-21158d9c3e79"
      },
      "source": [
        "from sklearn.model_selection import GridSearchCV\n",
        "\n",
        "param_grid = [\n",
        "  {'n_estimators' : [5, 7, 9, 11, 13], 'max_depth' : [10, 12, 14, 16], 'min_samples_leaf' : [2, 4, 6, 8], 'min_samples_split' : [16, 18, 20, 22], 'max_features' : [\"auto\", \"sqrt\", \"log2\"]}\n",
        "]\n",
        "\n",
        "forest = RandomForestClassifier()\n",
        "\n",
        "grid_search = GridSearchCV(forest, param_grid, cv=5,\n",
        "                           scoring='accuracy',\n",
        "                           return_train_score=True)\n",
        "\n",
        "grid_search.fit(x_full, y_full)"
      ],
      "execution_count": 227,
      "outputs": [
        {
          "output_type": "execute_result",
          "data": {
            "text/plain": [
              "GridSearchCV(cv=5, error_score=nan,\n",
              "             estimator=RandomForestClassifier(bootstrap=True, ccp_alpha=0.0,\n",
              "                                              class_weight=None,\n",
              "                                              criterion='gini', max_depth=None,\n",
              "                                              max_features='auto',\n",
              "                                              max_leaf_nodes=None,\n",
              "                                              max_samples=None,\n",
              "                                              min_impurity_decrease=0.0,\n",
              "                                              min_impurity_split=None,\n",
              "                                              min_samples_leaf=1,\n",
              "                                              min_samples_split=2,\n",
              "                                              min_weight_fraction_leaf=0.0,\n",
              "                                              n_estimators=100, n_jobs=None,\n",
              "                                              oob_score=False,\n",
              "                                              random_state=None, verbose=0,\n",
              "                                              warm_start=False),\n",
              "             iid='deprecated', n_jobs=None,\n",
              "             param_grid=[{'max_depth': [10, 12, 14, 16],\n",
              "                          'max_features': ['auto', 'sqrt', 'log2'],\n",
              "                          'min_samples_leaf': [2, 4, 6, 8],\n",
              "                          'min_samples_split': [16, 18, 20, 22],\n",
              "                          'n_estimators': [5, 7, 9, 11, 13]}],\n",
              "             pre_dispatch='2*n_jobs', refit=True, return_train_score=True,\n",
              "             scoring='accuracy', verbose=0)"
            ]
          },
          "metadata": {
            "tags": []
          },
          "execution_count": 227
        }
      ]
    },
    {
      "cell_type": "code",
      "metadata": {
        "id": "duGK7-0wKYkB",
        "colab_type": "code",
        "colab": {
          "base_uri": "https://localhost:8080/",
          "height": 105
        },
        "outputId": "41bcaed3-b3cd-4573-b661-08c18248989a"
      },
      "source": [
        "grid_search.best_params_"
      ],
      "execution_count": 228,
      "outputs": [
        {
          "output_type": "execute_result",
          "data": {
            "text/plain": [
              "{'max_depth': 16,\n",
              " 'max_features': 'log2',\n",
              " 'min_samples_leaf': 2,\n",
              " 'min_samples_split': 22,\n",
              " 'n_estimators': 11}"
            ]
          },
          "metadata": {
            "tags": []
          },
          "execution_count": 228
        }
      ]
    },
    {
      "cell_type": "code",
      "metadata": {
        "id": "K9qA9wiW9HXO",
        "colab_type": "code",
        "colab": {}
      },
      "source": [
        "max_depth_value = grid_search.best_params_['max_depth']\n",
        "min_samples_leaf_value = grid_search.best_params_['min_samples_leaf']\n",
        "min_samples_split_value = grid_search.best_params_['min_samples_split']\n",
        "n_estimators_value = grid_search.best_params_['n_estimators']"
      ],
      "execution_count": 229,
      "outputs": []
    },
    {
      "cell_type": "code",
      "metadata": {
        "id": "iAMZMAMXjp-j",
        "colab_type": "code",
        "colab": {
          "base_uri": "https://localhost:8080/",
          "height": 34
        },
        "outputId": "d7f3d516-4f53-485e-8733-362de3f0934a"
      },
      "source": [
        "max_depth_value, min_samples_leaf_value, min_samples_split_value, n_estimators_value"
      ],
      "execution_count": 230,
      "outputs": [
        {
          "output_type": "execute_result",
          "data": {
            "text/plain": [
              "(16, 2, 22, 11)"
            ]
          },
          "metadata": {
            "tags": []
          },
          "execution_count": 230
        }
      ]
    },
    {
      "cell_type": "code",
      "metadata": {
        "id": "5M6sVkyA9HXQ",
        "colab_type": "code",
        "colab": {
          "base_uri": "https://localhost:8080/",
          "height": 1000
        },
        "outputId": "a35db077-476e-4c72-819e-2c7ce5925625"
      },
      "source": [
        "cvres = grid_search.cv_results_\n",
        "for mean_score, params in zip(cvres[\"mean_test_score\"], cvres[\"params\"]):\n",
        "    print(mean_score, params)"
      ],
      "execution_count": 231,
      "outputs": [
        {
          "output_type": "stream",
          "text": [
            "0.8186948517742652 {'max_depth': 10, 'max_features': 'auto', 'min_samples_leaf': 2, 'min_samples_split': 16, 'n_estimators': 5}\n",
            "0.8265917602996256 {'max_depth': 10, 'max_features': 'auto', 'min_samples_leaf': 2, 'min_samples_split': 16, 'n_estimators': 7}\n",
            "0.8198374912715038 {'max_depth': 10, 'max_features': 'auto', 'min_samples_leaf': 2, 'min_samples_split': 16, 'n_estimators': 9}\n",
            "0.8322033898305085 {'max_depth': 10, 'max_features': 'auto', 'min_samples_leaf': 2, 'min_samples_split': 16, 'n_estimators': 11}\n",
            "0.823201929791151 {'max_depth': 10, 'max_features': 'auto', 'min_samples_leaf': 2, 'min_samples_split': 16, 'n_estimators': 13}\n",
            "0.8119469307433504 {'max_depth': 10, 'max_features': 'auto', 'min_samples_leaf': 2, 'min_samples_split': 18, 'n_estimators': 5}\n",
            "0.8232273217799783 {'max_depth': 10, 'max_features': 'auto', 'min_samples_leaf': 2, 'min_samples_split': 18, 'n_estimators': 7}\n",
            "0.8119278867517299 {'max_depth': 10, 'max_features': 'auto', 'min_samples_leaf': 2, 'min_samples_split': 18, 'n_estimators': 9}\n",
            "0.8186885037770584 {'max_depth': 10, 'max_features': 'auto', 'min_samples_leaf': 2, 'min_samples_split': 18, 'n_estimators': 11}\n",
            "0.823201929791151 {'max_depth': 10, 'max_features': 'auto', 'min_samples_leaf': 2, 'min_samples_split': 18, 'n_estimators': 13}\n",
            "0.8209610867771218 {'max_depth': 10, 'max_features': 'auto', 'min_samples_leaf': 2, 'min_samples_split': 20, 'n_estimators': 5}\n",
            "0.809725131720942 {'max_depth': 10, 'max_features': 'auto', 'min_samples_leaf': 2, 'min_samples_split': 20, 'n_estimators': 7}\n",
            "0.8085888402209103 {'max_depth': 10, 'max_features': 'auto', 'min_samples_leaf': 2, 'min_samples_split': 20, 'n_estimators': 9}\n",
            "0.8085571002348759 {'max_depth': 10, 'max_features': 'auto', 'min_samples_leaf': 2, 'min_samples_split': 20, 'n_estimators': 11}\n",
            "0.8153304132546182 {'max_depth': 10, 'max_features': 'auto', 'min_samples_leaf': 2, 'min_samples_split': 20, 'n_estimators': 13}\n",
            "0.815292325271377 {'max_depth': 10, 'max_features': 'auto', 'min_samples_leaf': 2, 'min_samples_split': 22, 'n_estimators': 5}\n",
            "0.8153240652574112 {'max_depth': 10, 'max_features': 'auto', 'min_samples_leaf': 2, 'min_samples_split': 22, 'n_estimators': 7}\n",
            "0.8220973782771536 {'max_depth': 10, 'max_features': 'auto', 'min_samples_leaf': 2, 'min_samples_split': 22, 'n_estimators': 9}\n",
            "0.8085824922237034 {'max_depth': 10, 'max_features': 'auto', 'min_samples_leaf': 2, 'min_samples_split': 22, 'n_estimators': 11}\n",
            "0.8141941217545863 {'max_depth': 10, 'max_features': 'auto', 'min_samples_leaf': 2, 'min_samples_split': 22, 'n_estimators': 13}\n",
            "0.8074652447152924 {'max_depth': 10, 'max_features': 'auto', 'min_samples_leaf': 4, 'min_samples_split': 16, 'n_estimators': 5}\n",
            "0.8175331682854061 {'max_depth': 10, 'max_features': 'auto', 'min_samples_leaf': 4, 'min_samples_split': 16, 'n_estimators': 7}\n",
            "0.8186758077826445 {'max_depth': 10, 'max_features': 'auto', 'min_samples_leaf': 4, 'min_samples_split': 16, 'n_estimators': 9}\n",
            "0.808601536215324 {'max_depth': 10, 'max_features': 'auto', 'min_samples_leaf': 4, 'min_samples_split': 16, 'n_estimators': 11}\n",
            "0.8254364248079732 {'max_depth': 10, 'max_features': 'auto', 'min_samples_leaf': 4, 'min_samples_split': 16, 'n_estimators': 13}\n",
            "0.8017964832095472 {'max_depth': 10, 'max_features': 'auto', 'min_samples_leaf': 4, 'min_samples_split': 18, 'n_estimators': 5}\n",
            "0.824331873293976 {'max_depth': 10, 'max_features': 'auto', 'min_samples_leaf': 4, 'min_samples_split': 18, 'n_estimators': 7}\n",
            "0.8130832222433823 {'max_depth': 10, 'max_features': 'auto', 'min_samples_leaf': 4, 'min_samples_split': 18, 'n_estimators': 9}\n",
            "0.8141941217545865 {'max_depth': 10, 'max_features': 'auto', 'min_samples_leaf': 4, 'min_samples_split': 18, 'n_estimators': 11}\n",
            "0.8029518187011998 {'max_depth': 10, 'max_features': 'auto', 'min_samples_leaf': 4, 'min_samples_split': 18, 'n_estimators': 13}\n",
            "0.8063670411985019 {'max_depth': 10, 'max_features': 'auto', 'min_samples_leaf': 4, 'min_samples_split': 20, 'n_estimators': 5}\n",
            "0.8198374912715038 {'max_depth': 10, 'max_features': 'auto', 'min_samples_leaf': 4, 'min_samples_split': 20, 'n_estimators': 7}\n",
            "0.8074652447152924 {'max_depth': 10, 'max_features': 'auto', 'min_samples_leaf': 4, 'min_samples_split': 20, 'n_estimators': 9}\n",
            "0.8085697962292896 {'max_depth': 10, 'max_features': 'auto', 'min_samples_leaf': 4, 'min_samples_split': 20, 'n_estimators': 11}\n",
            "0.8051990097124359 {'max_depth': 10, 'max_features': 'auto', 'min_samples_leaf': 4, 'min_samples_split': 20, 'n_estimators': 13}\n",
            "0.8232082777883578 {'max_depth': 10, 'max_features': 'auto', 'min_samples_leaf': 4, 'min_samples_split': 22, 'n_estimators': 5}\n",
            "0.8074208087348442 {'max_depth': 10, 'max_features': 'auto', 'min_samples_leaf': 4, 'min_samples_split': 22, 'n_estimators': 7}\n",
            "0.8119405827461434 {'max_depth': 10, 'max_features': 'auto', 'min_samples_leaf': 4, 'min_samples_split': 22, 'n_estimators': 9}\n",
            "0.8119469307433504 {'max_depth': 10, 'max_features': 'auto', 'min_samples_leaf': 4, 'min_samples_split': 22, 'n_estimators': 11}\n",
            "0.8108106392433188 {'max_depth': 10, 'max_features': 'auto', 'min_samples_leaf': 4, 'min_samples_split': 22, 'n_estimators': 13}\n",
            "0.8063035612264331 {'max_depth': 10, 'max_features': 'auto', 'min_samples_leaf': 6, 'min_samples_split': 16, 'n_estimators': 5}\n",
            "0.8141877737573797 {'max_depth': 10, 'max_features': 'auto', 'min_samples_leaf': 6, 'min_samples_split': 16, 'n_estimators': 7}\n",
            "0.8119786707293848 {'max_depth': 10, 'max_features': 'auto', 'min_samples_leaf': 6, 'min_samples_split': 16, 'n_estimators': 9}\n",
            "0.8074462007236717 {'max_depth': 10, 'max_features': 'auto', 'min_samples_leaf': 6, 'min_samples_split': 16, 'n_estimators': 11}\n",
            "0.8097060877293215 {'max_depth': 10, 'max_features': 'auto', 'min_samples_leaf': 6, 'min_samples_split': 16, 'n_estimators': 13}\n",
            "0.8141814257601727 {'max_depth': 10, 'max_features': 'auto', 'min_samples_leaf': 6, 'min_samples_split': 18, 'n_estimators': 5}\n",
            "0.8029327747095791 {'max_depth': 10, 'max_features': 'auto', 'min_samples_leaf': 6, 'min_samples_split': 18, 'n_estimators': 7}\n",
            "0.8186885037770584 {'max_depth': 10, 'max_features': 'auto', 'min_samples_leaf': 6, 'min_samples_split': 18, 'n_estimators': 9}\n",
            "0.8220846822827397 {'max_depth': 10, 'max_features': 'auto', 'min_samples_leaf': 6, 'min_samples_split': 18, 'n_estimators': 11}\n",
            "0.8063162572208469 {'max_depth': 10, 'max_features': 'auto', 'min_samples_leaf': 6, 'min_samples_split': 18, 'n_estimators': 13}\n",
            "0.8040881102012314 {'max_depth': 10, 'max_features': 'auto', 'min_samples_leaf': 6, 'min_samples_split': 20, 'n_estimators': 5}\n",
            "0.8063099092236399 {'max_depth': 10, 'max_features': 'auto', 'min_samples_leaf': 6, 'min_samples_split': 20, 'n_estimators': 7}\n",
            "0.8141814257601727 {'max_depth': 10, 'max_features': 'auto', 'min_samples_leaf': 6, 'min_samples_split': 20, 'n_estimators': 9}\n",
            "0.8029327747095791 {'max_depth': 10, 'max_features': 'auto', 'min_samples_leaf': 6, 'min_samples_split': 20, 'n_estimators': 11}\n",
            "0.824319177299562 {'max_depth': 10, 'max_features': 'auto', 'min_samples_leaf': 6, 'min_samples_split': 20, 'n_estimators': 13}\n",
            "0.817577604265854 {'max_depth': 10, 'max_features': 'auto', 'min_samples_leaf': 6, 'min_samples_split': 22, 'n_estimators': 5}\n",
            "0.8085444042404621 {'max_depth': 10, 'max_features': 'auto', 'min_samples_leaf': 6, 'min_samples_split': 22, 'n_estimators': 7}\n",
            "0.8051990097124356 {'max_depth': 10, 'max_features': 'auto', 'min_samples_leaf': 6, 'min_samples_split': 22, 'n_estimators': 9}\n",
            "0.8186504157938173 {'max_depth': 10, 'max_features': 'auto', 'min_samples_leaf': 6, 'min_samples_split': 22, 'n_estimators': 11}\n",
            "0.8130768742461754 {'max_depth': 10, 'max_features': 'auto', 'min_samples_leaf': 6, 'min_samples_split': 22, 'n_estimators': 13}\n",
            "0.8175649082714405 {'max_depth': 10, 'max_features': 'auto', 'min_samples_leaf': 8, 'min_samples_split': 16, 'n_estimators': 5}\n",
            "0.8141941217545865 {'max_depth': 10, 'max_features': 'auto', 'min_samples_leaf': 8, 'min_samples_split': 16, 'n_estimators': 7}\n",
            "0.8220719862883259 {'max_depth': 10, 'max_features': 'auto', 'min_samples_leaf': 8, 'min_samples_split': 16, 'n_estimators': 9}\n",
            "0.7984130006982798 {'max_depth': 10, 'max_features': 'auto', 'min_samples_leaf': 8, 'min_samples_split': 16, 'n_estimators': 11}\n",
            "0.8130641782517616 {'max_depth': 10, 'max_features': 'auto', 'min_samples_leaf': 8, 'min_samples_split': 16, 'n_estimators': 13}\n",
            "0.8119469307433504 {'max_depth': 10, 'max_features': 'auto', 'min_samples_leaf': 8, 'min_samples_split': 18, 'n_estimators': 5}\n",
            "0.8085571002348759 {'max_depth': 10, 'max_features': 'auto', 'min_samples_leaf': 8, 'min_samples_split': 18, 'n_estimators': 7}\n",
            "0.814162381768552 {'max_depth': 10, 'max_features': 'auto', 'min_samples_leaf': 8, 'min_samples_split': 18, 'n_estimators': 9}\n",
            "0.8243001333079413 {'max_depth': 10, 'max_features': 'auto', 'min_samples_leaf': 8, 'min_samples_split': 18, 'n_estimators': 11}\n",
            "0.8198057512854694 {'max_depth': 10, 'max_features': 'auto', 'min_samples_leaf': 8, 'min_samples_split': 18, 'n_estimators': 13}\n",
            "0.8096870437377008 {'max_depth': 10, 'max_features': 'auto', 'min_samples_leaf': 8, 'min_samples_split': 20, 'n_estimators': 5}\n",
            "0.8119532787405573 {'max_depth': 10, 'max_features': 'auto', 'min_samples_leaf': 8, 'min_samples_split': 20, 'n_estimators': 7}\n",
            "0.8164032247825812 {'max_depth': 10, 'max_features': 'auto', 'min_samples_leaf': 8, 'min_samples_split': 20, 'n_estimators': 9}\n",
            "0.8153177172602044 {'max_depth': 10, 'max_features': 'auto', 'min_samples_leaf': 8, 'min_samples_split': 20, 'n_estimators': 11}\n",
            "0.8164159207769949 {'max_depth': 10, 'max_features': 'auto', 'min_samples_leaf': 8, 'min_samples_split': 20, 'n_estimators': 13}\n",
            "0.8018345711927886 {'max_depth': 10, 'max_features': 'auto', 'min_samples_leaf': 8, 'min_samples_split': 22, 'n_estimators': 5}\n",
            "0.8175585602742335 {'max_depth': 10, 'max_features': 'auto', 'min_samples_leaf': 8, 'min_samples_split': 22, 'n_estimators': 7}\n",
            "0.8119088427601092 {'max_depth': 10, 'max_features': 'auto', 'min_samples_leaf': 8, 'min_samples_split': 22, 'n_estimators': 9}\n",
            "0.7973021011870756 {'max_depth': 10, 'max_features': 'auto', 'min_samples_leaf': 8, 'min_samples_split': 22, 'n_estimators': 11}\n",
            "0.8130768742461754 {'max_depth': 10, 'max_features': 'auto', 'min_samples_leaf': 8, 'min_samples_split': 22, 'n_estimators': 13}\n",
            "0.8265600203135911 {'max_depth': 10, 'max_features': 'sqrt', 'min_samples_leaf': 2, 'min_samples_split': 16, 'n_estimators': 5}\n",
            "0.8074525487208787 {'max_depth': 10, 'max_features': 'sqrt', 'min_samples_leaf': 2, 'min_samples_split': 16, 'n_estimators': 7}\n",
            "0.8153304132546182 {'max_depth': 10, 'max_features': 'sqrt', 'min_samples_leaf': 2, 'min_samples_split': 16, 'n_estimators': 9}\n",
            "0.8176093442518886 {'max_depth': 10, 'max_features': 'sqrt', 'min_samples_leaf': 2, 'min_samples_split': 16, 'n_estimators': 11}\n",
            "0.8096997397321145 {'max_depth': 10, 'max_features': 'sqrt', 'min_samples_leaf': 2, 'min_samples_split': 16, 'n_estimators': 13}\n",
            "0.8198501872659175 {'max_depth': 10, 'max_features': 'sqrt', 'min_samples_leaf': 2, 'min_samples_split': 18, 'n_estimators': 5}\n",
            "0.8187329397575065 {'max_depth': 10, 'max_features': 'sqrt', 'min_samples_leaf': 2, 'min_samples_split': 18, 'n_estimators': 7}\n",
            "0.8254872087856281 {'max_depth': 10, 'max_features': 'sqrt', 'min_samples_leaf': 2, 'min_samples_split': 18, 'n_estimators': 9}\n",
            "0.824319177299562 {'max_depth': 10, 'max_features': 'sqrt', 'min_samples_leaf': 2, 'min_samples_split': 18, 'n_estimators': 11}\n",
            "0.828857995302482 {'max_depth': 10, 'max_features': 'sqrt', 'min_samples_leaf': 2, 'min_samples_split': 18, 'n_estimators': 13}\n",
            "0.8164667047546498 {'max_depth': 10, 'max_features': 'sqrt', 'min_samples_leaf': 2, 'min_samples_split': 20, 'n_estimators': 5}\n",
            "0.8220783342855329 {'max_depth': 10, 'max_features': 'sqrt', 'min_samples_leaf': 2, 'min_samples_split': 20, 'n_estimators': 7}\n",
            "0.8153240652574112 {'max_depth': 10, 'max_features': 'sqrt', 'min_samples_leaf': 2, 'min_samples_split': 20, 'n_estimators': 9}\n",
            "0.8085507522376691 {'max_depth': 10, 'max_features': 'sqrt', 'min_samples_leaf': 2, 'min_samples_split': 20, 'n_estimators': 11}\n",
            "0.8209356947882942 {'max_depth': 10, 'max_features': 'sqrt', 'min_samples_leaf': 2, 'min_samples_split': 20, 'n_estimators': 13}\n",
            "0.8063162572208468 {'max_depth': 10, 'max_features': 'sqrt', 'min_samples_leaf': 2, 'min_samples_split': 22, 'n_estimators': 5}\n",
            "0.8221037262743603 {'max_depth': 10, 'max_features': 'sqrt', 'min_samples_leaf': 2, 'min_samples_split': 22, 'n_estimators': 7}\n",
            "0.7928267631562241 {'max_depth': 10, 'max_features': 'sqrt', 'min_samples_leaf': 2, 'min_samples_split': 22, 'n_estimators': 9}\n",
            "0.8119596267377641 {'max_depth': 10, 'max_features': 'sqrt', 'min_samples_leaf': 2, 'min_samples_split': 22, 'n_estimators': 11}\n",
            "0.8119532787405574 {'max_depth': 10, 'max_features': 'sqrt', 'min_samples_leaf': 2, 'min_samples_split': 22, 'n_estimators': 13}\n",
            "0.8310797943248904 {'max_depth': 10, 'max_features': 'sqrt', 'min_samples_leaf': 4, 'min_samples_split': 16, 'n_estimators': 5}\n",
            "0.8221100742715673 {'max_depth': 10, 'max_features': 'sqrt', 'min_samples_leaf': 4, 'min_samples_split': 16, 'n_estimators': 7}\n",
            "0.8197994032882626 {'max_depth': 10, 'max_features': 'sqrt', 'min_samples_leaf': 4, 'min_samples_split': 16, 'n_estimators': 9}\n",
            "0.814219513743414 {'max_depth': 10, 'max_features': 'sqrt', 'min_samples_leaf': 4, 'min_samples_split': 16, 'n_estimators': 11}\n",
            "0.8164413127658225 {'max_depth': 10, 'max_features': 'sqrt', 'min_samples_leaf': 4, 'min_samples_split': 16, 'n_estimators': 13}\n",
            "0.8085761442264966 {'max_depth': 10, 'max_features': 'sqrt', 'min_samples_leaf': 4, 'min_samples_split': 18, 'n_estimators': 5}\n",
            "0.823201929791151 {'max_depth': 10, 'max_features': 'sqrt', 'min_samples_leaf': 4, 'min_samples_split': 18, 'n_estimators': 7}\n",
            "0.8119659747349711 {'max_depth': 10, 'max_features': 'sqrt', 'min_samples_leaf': 4, 'min_samples_split': 18, 'n_estimators': 9}\n",
            "0.824325525296769 {'max_depth': 10, 'max_features': 'sqrt', 'min_samples_leaf': 4, 'min_samples_split': 18, 'n_estimators': 11}\n",
            "0.8231638418079097 {'max_depth': 10, 'max_features': 'sqrt', 'min_samples_leaf': 4, 'min_samples_split': 18, 'n_estimators': 13}\n",
            "0.8063289532152605 {'max_depth': 10, 'max_features': 'sqrt', 'min_samples_leaf': 4, 'min_samples_split': 20, 'n_estimators': 5}\n",
            "0.8186948517742654 {'max_depth': 10, 'max_features': 'sqrt', 'min_samples_leaf': 4, 'min_samples_split': 20, 'n_estimators': 7}\n",
            "0.8096870437377006 {'max_depth': 10, 'max_features': 'sqrt', 'min_samples_leaf': 4, 'min_samples_split': 20, 'n_estimators': 9}\n",
            "0.8209356947882943 {'max_depth': 10, 'max_features': 'sqrt', 'min_samples_leaf': 4, 'min_samples_split': 20, 'n_estimators': 11}\n",
            "0.8152986732685837 {'max_depth': 10, 'max_features': 'sqrt', 'min_samples_leaf': 4, 'min_samples_split': 20, 'n_estimators': 13}\n",
            "0.8018091792039611 {'max_depth': 10, 'max_features': 'sqrt', 'min_samples_leaf': 4, 'min_samples_split': 22, 'n_estimators': 5}\n",
            "0.8186885037770584 {'max_depth': 10, 'max_features': 'sqrt', 'min_samples_leaf': 4, 'min_samples_split': 22, 'n_estimators': 7}\n",
            "0.8085824922237034 {'max_depth': 10, 'max_features': 'sqrt', 'min_samples_leaf': 4, 'min_samples_split': 22, 'n_estimators': 9}\n",
            "0.8062908652320193 {'max_depth': 10, 'max_features': 'sqrt', 'min_samples_leaf': 4, 'min_samples_split': 22, 'n_estimators': 11}\n",
            "0.8130514822573478 {'max_depth': 10, 'max_features': 'sqrt', 'min_samples_leaf': 4, 'min_samples_split': 22, 'n_estimators': 13}\n",
            "0.8108106392433188 {'max_depth': 10, 'max_features': 'sqrt', 'min_samples_leaf': 6, 'min_samples_split': 16, 'n_estimators': 5}\n",
            "0.8186694597854377 {'max_depth': 10, 'max_features': 'sqrt', 'min_samples_leaf': 6, 'min_samples_split': 16, 'n_estimators': 7}\n",
            "0.8074335047292578 {'max_depth': 10, 'max_features': 'sqrt', 'min_samples_leaf': 6, 'min_samples_split': 16, 'n_estimators': 9}\n",
            "0.8175649082714405 {'max_depth': 10, 'max_features': 'sqrt', 'min_samples_leaf': 6, 'min_samples_split': 16, 'n_estimators': 11}\n",
            "0.8051990097124356 {'max_depth': 10, 'max_features': 'sqrt', 'min_samples_leaf': 6, 'min_samples_split': 16, 'n_estimators': 13}\n",
            "0.814219513743414 {'max_depth': 10, 'max_features': 'sqrt', 'min_samples_leaf': 6, 'min_samples_split': 18, 'n_estimators': 5}\n",
            "0.8085507522376691 {'max_depth': 10, 'max_features': 'sqrt', 'min_samples_leaf': 6, 'min_samples_split': 18, 'n_estimators': 7}\n",
            "0.804056370215197 {'max_depth': 10, 'max_features': 'sqrt', 'min_samples_leaf': 6, 'min_samples_split': 18, 'n_estimators': 9}\n",
            "0.8142004697517933 {'max_depth': 10, 'max_features': 'sqrt', 'min_samples_leaf': 6, 'min_samples_split': 18, 'n_estimators': 11}\n",
            "0.8029010347235449 {'max_depth': 10, 'max_features': 'sqrt', 'min_samples_leaf': 6, 'min_samples_split': 18, 'n_estimators': 13}\n",
            "0.8086015362153243 {'max_depth': 10, 'max_features': 'sqrt', 'min_samples_leaf': 6, 'min_samples_split': 20, 'n_estimators': 5}\n",
            "0.8164603567574431 {'max_depth': 10, 'max_features': 'sqrt', 'min_samples_leaf': 6, 'min_samples_split': 20, 'n_estimators': 7}\n",
            "0.8108360312321462 {'max_depth': 10, 'max_features': 'sqrt', 'min_samples_leaf': 6, 'min_samples_split': 20, 'n_estimators': 9}\n",
            "0.8119405827461437 {'max_depth': 10, 'max_features': 'sqrt', 'min_samples_leaf': 6, 'min_samples_split': 20, 'n_estimators': 11}\n",
            "0.8096743477432871 {'max_depth': 10, 'max_features': 'sqrt', 'min_samples_leaf': 6, 'min_samples_split': 20, 'n_estimators': 13}\n",
            "0.811921538754523 {'max_depth': 10, 'max_features': 'sqrt', 'min_samples_leaf': 6, 'min_samples_split': 22, 'n_estimators': 5}\n",
            "0.8108423792293532 {'max_depth': 10, 'max_features': 'sqrt', 'min_samples_leaf': 6, 'min_samples_split': 22, 'n_estimators': 7}\n",
            "0.8131086142322097 {'max_depth': 10, 'max_features': 'sqrt', 'min_samples_leaf': 6, 'min_samples_split': 22, 'n_estimators': 9}\n",
            "0.8018028312067542 {'max_depth': 10, 'max_features': 'sqrt', 'min_samples_leaf': 6, 'min_samples_split': 22, 'n_estimators': 11}\n",
            "0.8153113692629976 {'max_depth': 10, 'max_features': 'sqrt', 'min_samples_leaf': 6, 'min_samples_split': 22, 'n_estimators': 13}\n",
            "0.8074398527264648 {'max_depth': 10, 'max_features': 'sqrt', 'min_samples_leaf': 8, 'min_samples_split': 16, 'n_estimators': 5}\n",
            "0.8096743477432871 {'max_depth': 10, 'max_features': 'sqrt', 'min_samples_leaf': 8, 'min_samples_split': 16, 'n_estimators': 7}\n",
            "0.8197930552910556 {'max_depth': 10, 'max_features': 'sqrt', 'min_samples_leaf': 8, 'min_samples_split': 16, 'n_estimators': 9}\n",
            "0.814168729765759 {'max_depth': 10, 'max_features': 'sqrt', 'min_samples_leaf': 8, 'min_samples_split': 16, 'n_estimators': 11}\n",
            "0.8085571002348759 {'max_depth': 10, 'max_features': 'sqrt', 'min_samples_leaf': 8, 'min_samples_split': 16, 'n_estimators': 13}\n",
            "0.8040690662096109 {'max_depth': 10, 'max_features': 'sqrt', 'min_samples_leaf': 8, 'min_samples_split': 18, 'n_estimators': 5}\n",
            "0.8062972132292263 {'max_depth': 10, 'max_features': 'sqrt', 'min_samples_leaf': 8, 'min_samples_split': 18, 'n_estimators': 7}\n",
            "0.8175522122770268 {'max_depth': 10, 'max_features': 'sqrt', 'min_samples_leaf': 8, 'min_samples_split': 18, 'n_estimators': 9}\n",
            "0.8164159207769949 {'max_depth': 10, 'max_features': 'sqrt', 'min_samples_leaf': 8, 'min_samples_split': 18, 'n_estimators': 11}\n",
            "0.8119405827461434 {'max_depth': 10, 'max_features': 'sqrt', 'min_samples_leaf': 8, 'min_samples_split': 18, 'n_estimators': 13}\n",
            "0.8051926617152289 {'max_depth': 10, 'max_features': 'sqrt', 'min_samples_leaf': 8, 'min_samples_split': 20, 'n_estimators': 5}\n",
            "0.8108169872405255 {'max_depth': 10, 'max_features': 'sqrt', 'min_samples_leaf': 8, 'min_samples_split': 20, 'n_estimators': 7}\n",
            "0.7995556401955183 {'max_depth': 10, 'max_features': 'sqrt', 'min_samples_leaf': 8, 'min_samples_split': 20, 'n_estimators': 9}\n",
            "0.8164286167714087 {'max_depth': 10, 'max_features': 'sqrt', 'min_samples_leaf': 8, 'min_samples_split': 20, 'n_estimators': 11}\n",
            "0.8096679997460801 {'max_depth': 10, 'max_features': 'sqrt', 'min_samples_leaf': 8, 'min_samples_split': 20, 'n_estimators': 13}\n",
            "0.8096679997460802 {'max_depth': 10, 'max_features': 'sqrt', 'min_samples_leaf': 8, 'min_samples_split': 22, 'n_estimators': 5}\n",
            "0.807427156732051 {'max_depth': 10, 'max_features': 'sqrt', 'min_samples_leaf': 8, 'min_samples_split': 22, 'n_estimators': 7}\n",
            "0.8029073827207517 {'max_depth': 10, 'max_features': 'sqrt', 'min_samples_leaf': 8, 'min_samples_split': 22, 'n_estimators': 9}\n",
            "0.8164286167714087 {'max_depth': 10, 'max_features': 'sqrt', 'min_samples_leaf': 8, 'min_samples_split': 22, 'n_estimators': 11}\n",
            "0.8096997397321146 {'max_depth': 10, 'max_features': 'sqrt', 'min_samples_leaf': 8, 'min_samples_split': 22, 'n_estimators': 13}\n",
            "0.8221037262743603 {'max_depth': 10, 'max_features': 'log2', 'min_samples_leaf': 2, 'min_samples_split': 16, 'n_estimators': 5}\n",
            "0.8265473243191772 {'max_depth': 10, 'max_features': 'log2', 'min_samples_leaf': 2, 'min_samples_split': 16, 'n_estimators': 7}\n",
            "0.8164603567574431 {'max_depth': 10, 'max_features': 'log2', 'min_samples_leaf': 2, 'min_samples_split': 16, 'n_estimators': 9}\n",
            "0.8187011997714722 {'max_depth': 10, 'max_features': 'log2', 'min_samples_leaf': 2, 'min_samples_split': 16, 'n_estimators': 11}\n",
            "0.8119532787405573 {'max_depth': 10, 'max_features': 'log2', 'min_samples_leaf': 2, 'min_samples_split': 16, 'n_estimators': 13}\n",
            "0.8029264267123721 {'max_depth': 10, 'max_features': 'log2', 'min_samples_leaf': 2, 'min_samples_split': 18, 'n_estimators': 5}\n",
            "0.7961848536786643 {'max_depth': 10, 'max_features': 'log2', 'min_samples_leaf': 2, 'min_samples_split': 18, 'n_estimators': 7}\n",
            "0.827689963816416 {'max_depth': 10, 'max_features': 'log2', 'min_samples_leaf': 2, 'min_samples_split': 18, 'n_estimators': 9}\n",
            "0.8175966482574747 {'max_depth': 10, 'max_features': 'log2', 'min_samples_leaf': 2, 'min_samples_split': 18, 'n_estimators': 11}\n",
            "0.8288199073192407 {'max_depth': 10, 'max_features': 'log2', 'min_samples_leaf': 2, 'min_samples_split': 18, 'n_estimators': 13}\n",
            "0.8074398527264648 {'max_depth': 10, 'max_features': 'log2', 'min_samples_leaf': 2, 'min_samples_split': 20, 'n_estimators': 5}\n",
            "0.807433504729258 {'max_depth': 10, 'max_features': 'log2', 'min_samples_leaf': 2, 'min_samples_split': 20, 'n_estimators': 7}\n",
            "0.819881927251952 {'max_depth': 10, 'max_features': 'log2', 'min_samples_leaf': 2, 'min_samples_split': 20, 'n_estimators': 9}\n",
            "0.8153240652574112 {'max_depth': 10, 'max_features': 'log2', 'min_samples_leaf': 2, 'min_samples_split': 20, 'n_estimators': 11}\n",
            "0.8198438392687107 {'max_depth': 10, 'max_features': 'log2', 'min_samples_leaf': 2, 'min_samples_split': 20, 'n_estimators': 13}\n",
            "0.8074208087348442 {'max_depth': 10, 'max_features': 'log2', 'min_samples_leaf': 2, 'min_samples_split': 22, 'n_estimators': 5}\n",
            "0.8141877737573795 {'max_depth': 10, 'max_features': 'log2', 'min_samples_leaf': 2, 'min_samples_split': 22, 'n_estimators': 7}\n",
            "0.8063099092236399 {'max_depth': 10, 'max_features': 'log2', 'min_samples_leaf': 2, 'min_samples_split': 22, 'n_estimators': 9}\n",
            "0.8220846822827397 {'max_depth': 10, 'max_features': 'log2', 'min_samples_leaf': 2, 'min_samples_split': 22, 'n_estimators': 11}\n",
            "0.8074335047292578 {'max_depth': 10, 'max_features': 'log2', 'min_samples_leaf': 2, 'min_samples_split': 22, 'n_estimators': 13}\n",
            "0.8085824922237034 {'max_depth': 10, 'max_features': 'log2', 'min_samples_leaf': 4, 'min_samples_split': 16, 'n_estimators': 5}\n",
            "0.8209737827715357 {'max_depth': 10, 'max_features': 'log2', 'min_samples_leaf': 4, 'min_samples_split': 16, 'n_estimators': 7}\n",
            "0.8231892337967371 {'max_depth': 10, 'max_features': 'log2', 'min_samples_leaf': 4, 'min_samples_split': 16, 'n_estimators': 9}\n",
            "0.8209229987938805 {'max_depth': 10, 'max_features': 'log2', 'min_samples_leaf': 4, 'min_samples_split': 16, 'n_estimators': 11}\n",
            "0.8108360312321462 {'max_depth': 10, 'max_features': 'log2', 'min_samples_leaf': 4, 'min_samples_split': 16, 'n_estimators': 13}\n",
            "0.8119596267377641 {'max_depth': 10, 'max_features': 'log2', 'min_samples_leaf': 4, 'min_samples_split': 18, 'n_estimators': 5}\n",
            "0.8119469307433504 {'max_depth': 10, 'max_features': 'log2', 'min_samples_leaf': 4, 'min_samples_split': 18, 'n_estimators': 7}\n",
            "0.8187011997714722 {'max_depth': 10, 'max_features': 'log2', 'min_samples_leaf': 4, 'min_samples_split': 18, 'n_estimators': 9}\n",
            "0.802939122706786 {'max_depth': 10, 'max_features': 'log2', 'min_samples_leaf': 4, 'min_samples_split': 18, 'n_estimators': 11}\n",
            "0.8220783342855329 {'max_depth': 10, 'max_features': 'log2', 'min_samples_leaf': 4, 'min_samples_split': 18, 'n_estimators': 13}\n",
            "0.8152986732685837 {'max_depth': 10, 'max_features': 'log2', 'min_samples_leaf': 4, 'min_samples_split': 20, 'n_estimators': 5}\n",
            "0.8164540087602361 {'max_depth': 10, 'max_features': 'log2', 'min_samples_leaf': 4, 'min_samples_split': 20, 'n_estimators': 7}\n",
            "0.7984193486954866 {'max_depth': 10, 'max_features': 'log2', 'min_samples_leaf': 4, 'min_samples_split': 20, 'n_estimators': 9}\n",
            "0.8052117057068495 {'max_depth': 10, 'max_features': 'log2', 'min_samples_leaf': 4, 'min_samples_split': 20, 'n_estimators': 11}\n",
            "0.810804291246112 {'max_depth': 10, 'max_features': 'log2', 'min_samples_leaf': 4, 'min_samples_split': 20, 'n_estimators': 13}\n",
            "0.8074398527264648 {'max_depth': 10, 'max_features': 'log2', 'min_samples_leaf': 4, 'min_samples_split': 22, 'n_estimators': 5}\n",
            "0.8209356947882943 {'max_depth': 10, 'max_features': 'log2', 'min_samples_leaf': 4, 'min_samples_split': 22, 'n_estimators': 7}\n",
            "0.8096997397321145 {'max_depth': 10, 'max_features': 'log2', 'min_samples_leaf': 4, 'min_samples_split': 22, 'n_estimators': 9}\n",
            "0.8029518187011998 {'max_depth': 10, 'max_features': 'log2', 'min_samples_leaf': 4, 'min_samples_split': 22, 'n_estimators': 11}\n",
            "0.8085824922237034 {'max_depth': 10, 'max_features': 'log2', 'min_samples_leaf': 4, 'min_samples_split': 22, 'n_estimators': 13}\n",
            "0.802939122706786 {'max_depth': 10, 'max_features': 'log2', 'min_samples_leaf': 6, 'min_samples_split': 16, 'n_estimators': 5}\n",
            "0.8096806957404938 {'max_depth': 10, 'max_features': 'log2', 'min_samples_leaf': 6, 'min_samples_split': 16, 'n_estimators': 7}\n",
            "0.7961658096870436 {'max_depth': 10, 'max_features': 'log2', 'min_samples_leaf': 6, 'min_samples_split': 16, 'n_estimators': 9}\n",
            "0.817583952263061 {'max_depth': 10, 'max_features': 'log2', 'min_samples_leaf': 6, 'min_samples_split': 16, 'n_estimators': 11}\n",
            "0.8220719862883261 {'max_depth': 10, 'max_features': 'log2', 'min_samples_leaf': 6, 'min_samples_split': 16, 'n_estimators': 13}\n",
            "0.8040436742207835 {'max_depth': 10, 'max_features': 'log2', 'min_samples_leaf': 6, 'min_samples_split': 18, 'n_estimators': 5}\n",
            "0.8175649082714405 {'max_depth': 10, 'max_features': 'log2', 'min_samples_leaf': 6, 'min_samples_split': 18, 'n_estimators': 7}\n",
            "0.8198374912715037 {'max_depth': 10, 'max_features': 'log2', 'min_samples_leaf': 6, 'min_samples_split': 18, 'n_estimators': 9}\n",
            "0.8085761442264966 {'max_depth': 10, 'max_features': 'log2', 'min_samples_leaf': 6, 'min_samples_split': 18, 'n_estimators': 11}\n",
            "0.8130705262489686 {'max_depth': 10, 'max_features': 'log2', 'min_samples_leaf': 6, 'min_samples_split': 18, 'n_estimators': 13}\n",
            "0.8074462007236717 {'max_depth': 10, 'max_features': 'log2', 'min_samples_leaf': 6, 'min_samples_split': 20, 'n_estimators': 5}\n",
            "0.8197994032882626 {'max_depth': 10, 'max_features': 'log2', 'min_samples_leaf': 6, 'min_samples_split': 20, 'n_estimators': 7}\n",
            "0.8152986732685837 {'max_depth': 10, 'max_features': 'log2', 'min_samples_leaf': 6, 'min_samples_split': 20, 'n_estimators': 9}\n",
            "0.8119215387545229 {'max_depth': 10, 'max_features': 'log2', 'min_samples_leaf': 6, 'min_samples_split': 20, 'n_estimators': 11}\n",
            "0.8198057512854694 {'max_depth': 10, 'max_features': 'log2', 'min_samples_leaf': 6, 'min_samples_split': 20, 'n_estimators': 13}\n",
            "0.8175585602742335 {'max_depth': 10, 'max_features': 'log2', 'min_samples_leaf': 6, 'min_samples_split': 22, 'n_estimators': 5}\n",
            "0.7962102456674919 {'max_depth': 10, 'max_features': 'log2', 'min_samples_leaf': 6, 'min_samples_split': 22, 'n_estimators': 7}\n",
            "0.8074398527264648 {'max_depth': 10, 'max_features': 'log2', 'min_samples_leaf': 6, 'min_samples_split': 22, 'n_estimators': 9}\n",
            "0.8164476607630293 {'max_depth': 10, 'max_features': 'log2', 'min_samples_leaf': 6, 'min_samples_split': 22, 'n_estimators': 11}\n",
            "0.8130514822573479 {'max_depth': 10, 'max_features': 'log2', 'min_samples_leaf': 6, 'min_samples_split': 22, 'n_estimators': 13}\n",
            "0.8062845172348124 {'max_depth': 10, 'max_features': 'log2', 'min_samples_leaf': 8, 'min_samples_split': 16, 'n_estimators': 5}\n",
            "0.7995365962038976 {'max_depth': 10, 'max_features': 'log2', 'min_samples_leaf': 8, 'min_samples_split': 16, 'n_estimators': 7}\n",
            "0.8130578302545548 {'max_depth': 10, 'max_features': 'log2', 'min_samples_leaf': 8, 'min_samples_split': 16, 'n_estimators': 9}\n",
            "0.8130514822573478 {'max_depth': 10, 'max_features': 'log2', 'min_samples_leaf': 8, 'min_samples_split': 16, 'n_estimators': 11}\n",
            "0.8118961467656955 {'max_depth': 10, 'max_features': 'log2', 'min_samples_leaf': 8, 'min_samples_split': 16, 'n_estimators': 13}\n",
            "0.8040373262235765 {'max_depth': 10, 'max_features': 'log2', 'min_samples_leaf': 8, 'min_samples_split': 18, 'n_estimators': 5}\n",
            "0.802939122706786 {'max_depth': 10, 'max_features': 'log2', 'min_samples_leaf': 8, 'min_samples_split': 18, 'n_estimators': 7}\n",
            "0.802939122706786 {'max_depth': 10, 'max_features': 'log2', 'min_samples_leaf': 8, 'min_samples_split': 18, 'n_estimators': 9}\n",
            "0.827683615819209 {'max_depth': 10, 'max_features': 'log2', 'min_samples_leaf': 8, 'min_samples_split': 18, 'n_estimators': 11}\n",
            "0.8197994032882626 {'max_depth': 10, 'max_features': 'log2', 'min_samples_leaf': 8, 'min_samples_split': 18, 'n_estimators': 13}\n",
            "0.7984193486954865 {'max_depth': 10, 'max_features': 'log2', 'min_samples_leaf': 8, 'min_samples_split': 20, 'n_estimators': 5}\n",
            "0.8119278867517299 {'max_depth': 10, 'max_features': 'log2', 'min_samples_leaf': 8, 'min_samples_split': 20, 'n_estimators': 7}\n",
            "0.810804291246112 {'max_depth': 10, 'max_features': 'log2', 'min_samples_leaf': 8, 'min_samples_split': 20, 'n_estimators': 9}\n",
            "0.8186948517742654 {'max_depth': 10, 'max_features': 'log2', 'min_samples_leaf': 8, 'min_samples_split': 20, 'n_estimators': 11}\n",
            "0.8130578302545548 {'max_depth': 10, 'max_features': 'log2', 'min_samples_leaf': 8, 'min_samples_split': 20, 'n_estimators': 13}\n",
            "0.8085380562432553 {'max_depth': 10, 'max_features': 'log2', 'min_samples_leaf': 8, 'min_samples_split': 22, 'n_estimators': 5}\n",
            "0.8085697962292897 {'max_depth': 10, 'max_features': 'log2', 'min_samples_leaf': 8, 'min_samples_split': 22, 'n_estimators': 7}\n",
            "0.8006728877039295 {'max_depth': 10, 'max_features': 'log2', 'min_samples_leaf': 8, 'min_samples_split': 22, 'n_estimators': 9}\n",
            "0.8085697962292897 {'max_depth': 10, 'max_features': 'log2', 'min_samples_leaf': 8, 'min_samples_split': 22, 'n_estimators': 11}\n",
            "0.8119405827461434 {'max_depth': 10, 'max_features': 'log2', 'min_samples_leaf': 8, 'min_samples_split': 22, 'n_estimators': 13}\n",
            "0.8108169872405255 {'max_depth': 12, 'max_features': 'auto', 'min_samples_leaf': 2, 'min_samples_split': 16, 'n_estimators': 5}\n",
            "0.816460356757443 {'max_depth': 12, 'max_features': 'auto', 'min_samples_leaf': 2, 'min_samples_split': 16, 'n_estimators': 7}\n",
            "0.8243509172855964 {'max_depth': 12, 'max_features': 'auto', 'min_samples_leaf': 2, 'min_samples_split': 16, 'n_estimators': 9}\n",
            "0.811972322732178 {'max_depth': 12, 'max_features': 'auto', 'min_samples_leaf': 2, 'min_samples_split': 16, 'n_estimators': 11}\n",
            "0.8231828857995304 {'max_depth': 12, 'max_features': 'auto', 'min_samples_leaf': 2, 'min_samples_split': 16, 'n_estimators': 13}\n",
            "0.8130832222433823 {'max_depth': 12, 'max_features': 'auto', 'min_samples_leaf': 2, 'min_samples_split': 18, 'n_estimators': 5}\n",
            "0.8209737827715357 {'max_depth': 12, 'max_features': 'auto', 'min_samples_leaf': 2, 'min_samples_split': 18, 'n_estimators': 7}\n",
            "0.8254681647940074 {'max_depth': 12, 'max_features': 'auto', 'min_samples_leaf': 2, 'min_samples_split': 18, 'n_estimators': 9}\n",
            "0.8108106392433188 {'max_depth': 12, 'max_features': 'auto', 'min_samples_leaf': 2, 'min_samples_split': 18, 'n_estimators': 11}\n",
            "0.811915190757316 {'max_depth': 12, 'max_features': 'auto', 'min_samples_leaf': 2, 'min_samples_split': 18, 'n_estimators': 13}\n",
            "0.8119469307433504 {'max_depth': 12, 'max_features': 'auto', 'min_samples_leaf': 2, 'min_samples_split': 20, 'n_estimators': 5}\n",
            "0.8164603567574431 {'max_depth': 12, 'max_features': 'auto', 'min_samples_leaf': 2, 'min_samples_split': 20, 'n_estimators': 7}\n",
            "0.811972322732178 {'max_depth': 12, 'max_features': 'auto', 'min_samples_leaf': 2, 'min_samples_split': 20, 'n_estimators': 9}\n",
            "0.8164476607630293 {'max_depth': 12, 'max_features': 'auto', 'min_samples_leaf': 2, 'min_samples_split': 20, 'n_estimators': 11}\n",
            "0.8254618167968006 {'max_depth': 12, 'max_features': 'auto', 'min_samples_leaf': 2, 'min_samples_split': 20, 'n_estimators': 13}\n",
            "0.8142131657462072 {'max_depth': 12, 'max_features': 'auto', 'min_samples_leaf': 2, 'min_samples_split': 22, 'n_estimators': 5}\n",
            "0.8096806957404941 {'max_depth': 12, 'max_features': 'auto', 'min_samples_leaf': 2, 'min_samples_split': 22, 'n_estimators': 7}\n",
            "0.81646670475465 {'max_depth': 12, 'max_features': 'auto', 'min_samples_leaf': 2, 'min_samples_split': 22, 'n_estimators': 9}\n",
            "0.8097060877293215 {'max_depth': 12, 'max_features': 'auto', 'min_samples_leaf': 2, 'min_samples_split': 22, 'n_estimators': 11}\n",
            "0.8220656382911191 {'max_depth': 12, 'max_features': 'auto', 'min_samples_leaf': 2, 'min_samples_split': 22, 'n_estimators': 13}\n",
            "0.814213165746207 {'max_depth': 12, 'max_features': 'auto', 'min_samples_leaf': 4, 'min_samples_split': 16, 'n_estimators': 5}\n",
            "0.8108296832349394 {'max_depth': 12, 'max_features': 'auto', 'min_samples_leaf': 4, 'min_samples_split': 16, 'n_estimators': 7}\n",
            "0.8164349647686155 {'max_depth': 12, 'max_features': 'auto', 'min_samples_leaf': 4, 'min_samples_split': 16, 'n_estimators': 9}\n",
            "0.824312829302355 {'max_depth': 12, 'max_features': 'auto', 'min_samples_leaf': 4, 'min_samples_split': 16, 'n_estimators': 11}\n",
            "0.8164349647686155 {'max_depth': 12, 'max_features': 'auto', 'min_samples_leaf': 4, 'min_samples_split': 16, 'n_estimators': 13}\n",
            "0.8074652447152924 {'max_depth': 12, 'max_features': 'auto', 'min_samples_leaf': 4, 'min_samples_split': 18, 'n_estimators': 5}\n",
            "0.8063099092236399 {'max_depth': 12, 'max_features': 'auto', 'min_samples_leaf': 4, 'min_samples_split': 18, 'n_estimators': 7}\n",
            "0.8187075477686789 {'max_depth': 12, 'max_features': 'auto', 'min_samples_leaf': 4, 'min_samples_split': 18, 'n_estimators': 9}\n",
            "0.8153431092490319 {'max_depth': 12, 'max_features': 'auto', 'min_samples_leaf': 4, 'min_samples_split': 18, 'n_estimators': 11}\n",
            "0.8209610867771218 {'max_depth': 12, 'max_features': 'auto', 'min_samples_leaf': 4, 'min_samples_split': 18, 'n_estimators': 13}\n",
            "0.7894051926617153 {'max_depth': 12, 'max_features': 'auto', 'min_samples_leaf': 4, 'min_samples_split': 20, 'n_estimators': 5}\n",
            "0.8164667047546498 {'max_depth': 12, 'max_features': 'auto', 'min_samples_leaf': 4, 'min_samples_split': 20, 'n_estimators': 7}\n",
            "0.8131022662350029 {'max_depth': 12, 'max_features': 'auto', 'min_samples_leaf': 4, 'min_samples_split': 20, 'n_estimators': 9}\n",
            "0.8130705262489684 {'max_depth': 12, 'max_features': 'auto', 'min_samples_leaf': 4, 'min_samples_split': 20, 'n_estimators': 11}\n",
            "0.8220783342855329 {'max_depth': 12, 'max_features': 'auto', 'min_samples_leaf': 4, 'min_samples_split': 20, 'n_estimators': 13}\n",
            "0.8142322097378278 {'max_depth': 12, 'max_features': 'auto', 'min_samples_leaf': 4, 'min_samples_split': 22, 'n_estimators': 5}\n",
            "0.8119786707293848 {'max_depth': 12, 'max_features': 'auto', 'min_samples_leaf': 4, 'min_samples_split': 22, 'n_estimators': 7}\n",
            "0.8254618167968006 {'max_depth': 12, 'max_features': 'auto', 'min_samples_leaf': 4, 'min_samples_split': 22, 'n_estimators': 9}\n",
            "0.804056370215197 {'max_depth': 12, 'max_features': 'auto', 'min_samples_leaf': 4, 'min_samples_split': 22, 'n_estimators': 11}\n",
            "0.8119532787405574 {'max_depth': 12, 'max_features': 'auto', 'min_samples_leaf': 4, 'min_samples_split': 22, 'n_estimators': 13}\n",
            "0.810804291246112 {'max_depth': 12, 'max_features': 'auto', 'min_samples_leaf': 6, 'min_samples_split': 16, 'n_estimators': 5}\n",
            "0.8040754142068177 {'max_depth': 12, 'max_features': 'auto', 'min_samples_leaf': 6, 'min_samples_split': 16, 'n_estimators': 7}\n",
            "0.8175522122770268 {'max_depth': 12, 'max_features': 'auto', 'min_samples_leaf': 6, 'min_samples_split': 16, 'n_estimators': 9}\n",
            "0.8119469307433504 {'max_depth': 12, 'max_features': 'auto', 'min_samples_leaf': 6, 'min_samples_split': 16, 'n_estimators': 11}\n",
            "0.811921538754523 {'max_depth': 12, 'max_features': 'auto', 'min_samples_leaf': 6, 'min_samples_split': 16, 'n_estimators': 13}\n",
            "0.8063289532152605 {'max_depth': 12, 'max_features': 'auto', 'min_samples_leaf': 6, 'min_samples_split': 18, 'n_estimators': 5}\n",
            "0.8006728877039295 {'max_depth': 12, 'max_features': 'auto', 'min_samples_leaf': 6, 'min_samples_split': 18, 'n_estimators': 7}\n",
            "0.8029327747095791 {'max_depth': 12, 'max_features': 'auto', 'min_samples_leaf': 6, 'min_samples_split': 18, 'n_estimators': 9}\n",
            "0.8096616517488734 {'max_depth': 12, 'max_features': 'auto', 'min_samples_leaf': 6, 'min_samples_split': 18, 'n_estimators': 11}\n",
            "0.8085444042404621 {'max_depth': 12, 'max_features': 'auto', 'min_samples_leaf': 6, 'min_samples_split': 18, 'n_estimators': 13}\n",
            "0.8018282231955819 {'max_depth': 12, 'max_features': 'auto', 'min_samples_leaf': 6, 'min_samples_split': 20, 'n_estimators': 5}\n",
            "0.8198057512854694 {'max_depth': 12, 'max_features': 'auto', 'min_samples_leaf': 6, 'min_samples_split': 20, 'n_estimators': 7}\n",
            "0.8164476607630293 {'max_depth': 12, 'max_features': 'auto', 'min_samples_leaf': 6, 'min_samples_split': 20, 'n_estimators': 9}\n",
            "0.8243128293023553 {'max_depth': 12, 'max_features': 'auto', 'min_samples_leaf': 6, 'min_samples_split': 20, 'n_estimators': 11}\n",
            "0.8108106392433188 {'max_depth': 12, 'max_features': 'auto', 'min_samples_leaf': 6, 'min_samples_split': 20, 'n_estimators': 13}\n",
            "0.8276645718275883 {'max_depth': 12, 'max_features': 'auto', 'min_samples_leaf': 6, 'min_samples_split': 22, 'n_estimators': 5}\n",
            "0.8051990097124356 {'max_depth': 12, 'max_features': 'auto', 'min_samples_leaf': 6, 'min_samples_split': 22, 'n_estimators': 7}\n",
            "0.8085697962292897 {'max_depth': 12, 'max_features': 'auto', 'min_samples_leaf': 6, 'min_samples_split': 22, 'n_estimators': 9}\n",
            "0.8141750777629658 {'max_depth': 12, 'max_features': 'auto', 'min_samples_leaf': 6, 'min_samples_split': 22, 'n_estimators': 11}\n",
            "0.8198057512854694 {'max_depth': 12, 'max_features': 'auto', 'min_samples_leaf': 6, 'min_samples_split': 22, 'n_estimators': 13}\n",
            "0.8074398527264648 {'max_depth': 12, 'max_features': 'auto', 'min_samples_leaf': 8, 'min_samples_split': 16, 'n_estimators': 5}\n",
            "0.8096870437377006 {'max_depth': 12, 'max_features': 'auto', 'min_samples_leaf': 8, 'min_samples_split': 16, 'n_estimators': 7}\n",
            "0.8175585602742335 {'max_depth': 12, 'max_features': 'auto', 'min_samples_leaf': 8, 'min_samples_split': 16, 'n_estimators': 9}\n",
            "0.8175585602742335 {'max_depth': 12, 'max_features': 'auto', 'min_samples_leaf': 8, 'min_samples_split': 16, 'n_estimators': 11}\n",
            "0.804056370215197 {'max_depth': 12, 'max_features': 'auto', 'min_samples_leaf': 8, 'min_samples_split': 16, 'n_estimators': 13}\n",
            "0.7995683361899321 {'max_depth': 12, 'max_features': 'auto', 'min_samples_leaf': 8, 'min_samples_split': 18, 'n_estimators': 5}\n",
            "0.7995556401955184 {'max_depth': 12, 'max_features': 'auto', 'min_samples_leaf': 8, 'min_samples_split': 18, 'n_estimators': 7}\n",
            "0.8164286167714087 {'max_depth': 12, 'max_features': 'auto', 'min_samples_leaf': 8, 'min_samples_split': 18, 'n_estimators': 9}\n",
            "0.810804291246112 {'max_depth': 12, 'max_features': 'auto', 'min_samples_leaf': 8, 'min_samples_split': 18, 'n_estimators': 11}\n",
            "0.8074398527264648 {'max_depth': 12, 'max_features': 'auto', 'min_samples_leaf': 8, 'min_samples_split': 18, 'n_estimators': 13}\n",
            "0.8029518187011998 {'max_depth': 12, 'max_features': 'auto', 'min_samples_leaf': 8, 'min_samples_split': 20, 'n_estimators': 5}\n",
            "0.7939186186758078 {'max_depth': 12, 'max_features': 'auto', 'min_samples_leaf': 8, 'min_samples_split': 20, 'n_estimators': 7}\n",
            "0.8062908652320193 {'max_depth': 12, 'max_features': 'auto', 'min_samples_leaf': 8, 'min_samples_split': 20, 'n_estimators': 9}\n",
            "0.8254300768107663 {'max_depth': 12, 'max_features': 'auto', 'min_samples_leaf': 8, 'min_samples_split': 20, 'n_estimators': 11}\n",
            "0.8175649082714405 {'max_depth': 12, 'max_features': 'auto', 'min_samples_leaf': 8, 'min_samples_split': 20, 'n_estimators': 13}\n",
            "0.8107915952516981 {'max_depth': 12, 'max_features': 'auto', 'min_samples_leaf': 8, 'min_samples_split': 22, 'n_estimators': 5}\n",
            "0.8074398527264648 {'max_depth': 12, 'max_features': 'auto', 'min_samples_leaf': 8, 'min_samples_split': 22, 'n_estimators': 7}\n",
            "0.7995429442011046 {'max_depth': 12, 'max_features': 'auto', 'min_samples_leaf': 8, 'min_samples_split': 22, 'n_estimators': 9}\n",
            "0.8096933917349076 {'max_depth': 12, 'max_features': 'auto', 'min_samples_leaf': 8, 'min_samples_split': 22, 'n_estimators': 11}\n",
            "0.7984193486954866 {'max_depth': 12, 'max_features': 'auto', 'min_samples_leaf': 8, 'min_samples_split': 22, 'n_estimators': 13}\n",
            "0.8176029962546817 {'max_depth': 12, 'max_features': 'sqrt', 'min_samples_leaf': 2, 'min_samples_split': 16, 'n_estimators': 5}\n",
            "0.8187265917602996 {'max_depth': 12, 'max_features': 'sqrt', 'min_samples_leaf': 2, 'min_samples_split': 16, 'n_estimators': 7}\n",
            "0.8220783342855329 {'max_depth': 12, 'max_features': 'sqrt', 'min_samples_leaf': 2, 'min_samples_split': 16, 'n_estimators': 9}\n",
            "0.8198374912715038 {'max_depth': 12, 'max_features': 'sqrt', 'min_samples_leaf': 2, 'min_samples_split': 16, 'n_estimators': 11}\n",
            "0.8164476607630293 {'max_depth': 12, 'max_features': 'sqrt', 'min_samples_leaf': 2, 'min_samples_split': 16, 'n_estimators': 13}\n",
            "0.833352377324954 {'max_depth': 12, 'max_features': 'sqrt', 'min_samples_leaf': 2, 'min_samples_split': 18, 'n_estimators': 5}\n",
            "0.8130768742461754 {'max_depth': 12, 'max_features': 'sqrt', 'min_samples_leaf': 2, 'min_samples_split': 18, 'n_estimators': 7}\n",
            "0.8220910302799467 {'max_depth': 12, 'max_features': 'sqrt', 'min_samples_leaf': 2, 'min_samples_split': 18, 'n_estimators': 9}\n",
            "0.8198374912715038 {'max_depth': 12, 'max_features': 'sqrt', 'min_samples_leaf': 2, 'min_samples_split': 18, 'n_estimators': 11}\n",
            "0.8175649082714405 {'max_depth': 12, 'max_features': 'sqrt', 'min_samples_leaf': 2, 'min_samples_split': 18, 'n_estimators': 13}\n",
            "0.804062718212404 {'max_depth': 12, 'max_features': 'sqrt', 'min_samples_leaf': 2, 'min_samples_split': 20, 'n_estimators': 5}\n",
            "0.8096997397321146 {'max_depth': 12, 'max_features': 'sqrt', 'min_samples_leaf': 2, 'min_samples_split': 20, 'n_estimators': 7}\n",
            "0.8130959182377959 {'max_depth': 12, 'max_features': 'sqrt', 'min_samples_leaf': 2, 'min_samples_split': 20, 'n_estimators': 9}\n",
            "0.8299371548276518 {'max_depth': 12, 'max_features': 'sqrt', 'min_samples_leaf': 2, 'min_samples_split': 20, 'n_estimators': 11}\n",
            "0.8186948517742652 {'max_depth': 12, 'max_features': 'sqrt', 'min_samples_leaf': 2, 'min_samples_split': 20, 'n_estimators': 13}\n",
            "0.8153240652574112 {'max_depth': 12, 'max_features': 'sqrt', 'min_samples_leaf': 2, 'min_samples_split': 22, 'n_estimators': 5}\n",
            "0.8074525487208787 {'max_depth': 12, 'max_features': 'sqrt', 'min_samples_leaf': 2, 'min_samples_split': 22, 'n_estimators': 7}\n",
            "0.8085824922237034 {'max_depth': 12, 'max_features': 'sqrt', 'min_samples_leaf': 2, 'min_samples_split': 22, 'n_estimators': 9}\n",
            "0.8164476607630291 {'max_depth': 12, 'max_features': 'sqrt', 'min_samples_leaf': 2, 'min_samples_split': 22, 'n_estimators': 11}\n",
            "0.8051672697264014 {'max_depth': 12, 'max_features': 'sqrt', 'min_samples_leaf': 2, 'min_samples_split': 22, 'n_estimators': 13}\n",
            "0.8209293467910873 {'max_depth': 12, 'max_features': 'sqrt', 'min_samples_leaf': 4, 'min_samples_split': 16, 'n_estimators': 5}\n",
            "0.824319177299562 {'max_depth': 12, 'max_features': 'sqrt', 'min_samples_leaf': 4, 'min_samples_split': 16, 'n_estimators': 7}\n",
            "0.8186948517742652 {'max_depth': 12, 'max_features': 'sqrt', 'min_samples_leaf': 4, 'min_samples_split': 16, 'n_estimators': 9}\n",
            "0.824319177299562 {'max_depth': 12, 'max_features': 'sqrt', 'min_samples_leaf': 4, 'min_samples_split': 16, 'n_estimators': 11}\n",
            "0.8097060877293213 {'max_depth': 12, 'max_features': 'sqrt', 'min_samples_leaf': 4, 'min_samples_split': 16, 'n_estimators': 13}\n",
            "0.800698279692757 {'max_depth': 12, 'max_features': 'sqrt', 'min_samples_leaf': 4, 'min_samples_split': 18, 'n_estimators': 5}\n",
            "0.8074462007236717 {'max_depth': 12, 'max_features': 'sqrt', 'min_samples_leaf': 4, 'min_samples_split': 18, 'n_estimators': 7}\n",
            "0.8243382212911825 {'max_depth': 12, 'max_features': 'sqrt', 'min_samples_leaf': 4, 'min_samples_split': 18, 'n_estimators': 9}\n",
            "0.8254554687995936 {'max_depth': 12, 'max_features': 'sqrt', 'min_samples_leaf': 4, 'min_samples_split': 18, 'n_estimators': 11}\n",
            "0.8187011997714722 {'max_depth': 12, 'max_features': 'sqrt', 'min_samples_leaf': 4, 'min_samples_split': 18, 'n_estimators': 13}\n",
            "0.8074081127404303 {'max_depth': 12, 'max_features': 'sqrt', 'min_samples_leaf': 4, 'min_samples_split': 20, 'n_estimators': 5}\n",
            "0.8130768742461754 {'max_depth': 12, 'max_features': 'sqrt', 'min_samples_leaf': 4, 'min_samples_split': 20, 'n_estimators': 7}\n",
            "0.8130451342601409 {'max_depth': 12, 'max_features': 'sqrt', 'min_samples_leaf': 4, 'min_samples_split': 20, 'n_estimators': 9}\n",
            "0.8153240652574112 {'max_depth': 12, 'max_features': 'sqrt', 'min_samples_leaf': 4, 'min_samples_split': 20, 'n_estimators': 11}\n",
            "0.8142068177490002 {'max_depth': 12, 'max_features': 'sqrt', 'min_samples_leaf': 4, 'min_samples_split': 20, 'n_estimators': 13}\n",
            "0.8141941217545863 {'max_depth': 12, 'max_features': 'sqrt', 'min_samples_leaf': 4, 'min_samples_split': 22, 'n_estimators': 5}\n",
            "0.8130768742461754 {'max_depth': 12, 'max_features': 'sqrt', 'min_samples_leaf': 4, 'min_samples_split': 22, 'n_estimators': 7}\n",
            "0.8108296832349394 {'max_depth': 12, 'max_features': 'sqrt', 'min_samples_leaf': 4, 'min_samples_split': 22, 'n_estimators': 9}\n",
            "0.8074144607376372 {'max_depth': 12, 'max_features': 'sqrt', 'min_samples_leaf': 4, 'min_samples_split': 22, 'n_estimators': 11}\n",
            "0.829930806830445 {'max_depth': 12, 'max_features': 'sqrt', 'min_samples_leaf': 4, 'min_samples_split': 22, 'n_estimators': 13}\n",
            "0.8232209737827716 {'max_depth': 12, 'max_features': 'sqrt', 'min_samples_leaf': 6, 'min_samples_split': 16, 'n_estimators': 5}\n",
            "0.8130768742461754 {'max_depth': 12, 'max_features': 'sqrt', 'min_samples_leaf': 6, 'min_samples_split': 16, 'n_estimators': 7}\n",
            "0.8017964832095474 {'max_depth': 12, 'max_features': 'sqrt', 'min_samples_leaf': 6, 'min_samples_split': 16, 'n_estimators': 9}\n",
            "0.8164540087602361 {'max_depth': 12, 'max_features': 'sqrt', 'min_samples_leaf': 6, 'min_samples_split': 16, 'n_estimators': 11}\n",
            "0.8085761442264964 {'max_depth': 12, 'max_features': 'sqrt', 'min_samples_leaf': 6, 'min_samples_split': 16, 'n_estimators': 13}\n",
            "0.8209229987938805 {'max_depth': 12, 'max_features': 'sqrt', 'min_samples_leaf': 6, 'min_samples_split': 18, 'n_estimators': 5}\n",
            "0.8085507522376691 {'max_depth': 12, 'max_features': 'sqrt', 'min_samples_leaf': 6, 'min_samples_split': 18, 'n_estimators': 7}\n",
            "0.8119532787405574 {'max_depth': 12, 'max_features': 'sqrt', 'min_samples_leaf': 6, 'min_samples_split': 18, 'n_estimators': 9}\n",
            "0.8186758077826447 {'max_depth': 12, 'max_features': 'sqrt', 'min_samples_leaf': 6, 'min_samples_split': 18, 'n_estimators': 11}\n",
            "0.8220529422967054 {'max_depth': 12, 'max_features': 'sqrt', 'min_samples_leaf': 6, 'min_samples_split': 18, 'n_estimators': 13}\n",
            "0.8017964832095472 {'max_depth': 12, 'max_features': 'sqrt', 'min_samples_leaf': 6, 'min_samples_split': 20, 'n_estimators': 5}\n",
            "0.8152986732685836 {'max_depth': 12, 'max_features': 'sqrt', 'min_samples_leaf': 6, 'min_samples_split': 20, 'n_estimators': 7}\n",
            "0.8130387862629339 {'max_depth': 12, 'max_features': 'sqrt', 'min_samples_leaf': 6, 'min_samples_split': 20, 'n_estimators': 9}\n",
            "0.8220846822827397 {'max_depth': 12, 'max_features': 'sqrt', 'min_samples_leaf': 6, 'min_samples_split': 20, 'n_estimators': 11}\n",
            "0.8220656382911191 {'max_depth': 12, 'max_features': 'sqrt', 'min_samples_leaf': 6, 'min_samples_split': 20, 'n_estimators': 13}\n",
            "0.8051736177236082 {'max_depth': 12, 'max_features': 'sqrt', 'min_samples_leaf': 6, 'min_samples_split': 22, 'n_estimators': 5}\n",
            "0.8175522122770268 {'max_depth': 12, 'max_features': 'sqrt', 'min_samples_leaf': 6, 'min_samples_split': 22, 'n_estimators': 7}\n",
            "0.805192661715229 {'max_depth': 12, 'max_features': 'sqrt', 'min_samples_leaf': 6, 'min_samples_split': 22, 'n_estimators': 9}\n",
            "0.810804291246112 {'max_depth': 12, 'max_features': 'sqrt', 'min_samples_leaf': 6, 'min_samples_split': 22, 'n_estimators': 11}\n",
            "0.823195581793944 {'max_depth': 12, 'max_features': 'sqrt', 'min_samples_leaf': 6, 'min_samples_split': 22, 'n_estimators': 13}\n",
            "0.8007046276899639 {'max_depth': 12, 'max_features': 'sqrt', 'min_samples_leaf': 8, 'min_samples_split': 16, 'n_estimators': 5}\n",
            "0.8141941217545865 {'max_depth': 12, 'max_features': 'sqrt', 'min_samples_leaf': 8, 'min_samples_split': 16, 'n_estimators': 7}\n",
            "0.8164286167714087 {'max_depth': 12, 'max_features': 'sqrt', 'min_samples_leaf': 8, 'min_samples_split': 16, 'n_estimators': 9}\n",
            "0.8130705262489686 {'max_depth': 12, 'max_features': 'sqrt', 'min_samples_leaf': 8, 'min_samples_split': 16, 'n_estimators': 11}\n",
            "0.8107915952516981 {'max_depth': 12, 'max_features': 'sqrt', 'min_samples_leaf': 8, 'min_samples_split': 16, 'n_estimators': 13}\n",
            "0.7995556401955183 {'max_depth': 12, 'max_features': 'sqrt', 'min_samples_leaf': 8, 'min_samples_split': 18, 'n_estimators': 5}\n",
            "0.8164222687742019 {'max_depth': 12, 'max_features': 'sqrt', 'min_samples_leaf': 8, 'min_samples_split': 18, 'n_estimators': 7}\n",
            "0.8186948517742652 {'max_depth': 12, 'max_features': 'sqrt', 'min_samples_leaf': 8, 'min_samples_split': 18, 'n_estimators': 9}\n",
            "0.807427156732051 {'max_depth': 12, 'max_features': 'sqrt', 'min_samples_leaf': 8, 'min_samples_split': 18, 'n_estimators': 11}\n",
            "0.810804291246112 {'max_depth': 12, 'max_features': 'sqrt', 'min_samples_leaf': 8, 'min_samples_split': 18, 'n_estimators': 13}\n",
            "0.8119024947629023 {'max_depth': 12, 'max_features': 'sqrt', 'min_samples_leaf': 8, 'min_samples_split': 20, 'n_estimators': 5}\n",
            "0.8130768742461754 {'max_depth': 12, 'max_features': 'sqrt', 'min_samples_leaf': 8, 'min_samples_split': 20, 'n_estimators': 7}\n",
            "0.8108296832349394 {'max_depth': 12, 'max_features': 'sqrt', 'min_samples_leaf': 8, 'min_samples_split': 20, 'n_estimators': 9}\n",
            "0.811915190757316 {'max_depth': 12, 'max_features': 'sqrt', 'min_samples_leaf': 8, 'min_samples_split': 20, 'n_estimators': 11}\n",
            "0.8096679997460802 {'max_depth': 12, 'max_features': 'sqrt', 'min_samples_leaf': 8, 'min_samples_split': 20, 'n_estimators': 13}\n",
            "0.8130832222433823 {'max_depth': 12, 'max_features': 'sqrt', 'min_samples_leaf': 8, 'min_samples_split': 22, 'n_estimators': 5}\n",
            "0.810804291246112 {'max_depth': 12, 'max_features': 'sqrt', 'min_samples_leaf': 8, 'min_samples_split': 22, 'n_estimators': 7}\n",
            "0.8040690662096109 {'max_depth': 12, 'max_features': 'sqrt', 'min_samples_leaf': 8, 'min_samples_split': 22, 'n_estimators': 9}\n",
            "0.8141814257601727 {'max_depth': 12, 'max_features': 'sqrt', 'min_samples_leaf': 8, 'min_samples_split': 22, 'n_estimators': 11}\n",
            "0.8108106392433185 {'max_depth': 12, 'max_features': 'sqrt', 'min_samples_leaf': 8, 'min_samples_split': 22, 'n_estimators': 13}\n",
            "0.8198120992826764 {'max_depth': 12, 'max_features': 'log2', 'min_samples_leaf': 2, 'min_samples_split': 16, 'n_estimators': 5}\n",
            "0.8220592902939122 {'max_depth': 12, 'max_features': 'log2', 'min_samples_leaf': 2, 'min_samples_split': 16, 'n_estimators': 7}\n",
            "0.8231892337967371 {'max_depth': 12, 'max_features': 'log2', 'min_samples_leaf': 2, 'min_samples_split': 16, 'n_estimators': 9}\n",
            "0.8266044562940392 {'max_depth': 12, 'max_features': 'log2', 'min_samples_leaf': 2, 'min_samples_split': 16, 'n_estimators': 11}\n",
            "0.8142131657462072 {'max_depth': 12, 'max_features': 'log2', 'min_samples_leaf': 2, 'min_samples_split': 16, 'n_estimators': 13}\n",
            "0.8209420427855012 {'max_depth': 12, 'max_features': 'log2', 'min_samples_leaf': 2, 'min_samples_split': 18, 'n_estimators': 5}\n",
            "0.826617152288453 {'max_depth': 12, 'max_features': 'log2', 'min_samples_leaf': 2, 'min_samples_split': 18, 'n_estimators': 7}\n",
            "0.8198184472798833 {'max_depth': 12, 'max_features': 'log2', 'min_samples_leaf': 2, 'min_samples_split': 18, 'n_estimators': 9}\n",
            "0.8108169872405255 {'max_depth': 12, 'max_features': 'log2', 'min_samples_leaf': 2, 'min_samples_split': 18, 'n_estimators': 11}\n",
            "0.8220719862883261 {'max_depth': 12, 'max_features': 'log2', 'min_samples_leaf': 2, 'min_samples_split': 18, 'n_estimators': 13}\n",
            "0.8299054148416175 {'max_depth': 12, 'max_features': 'log2', 'min_samples_leaf': 2, 'min_samples_split': 20, 'n_estimators': 5}\n",
            "0.8186948517742652 {'max_depth': 12, 'max_features': 'log2', 'min_samples_leaf': 2, 'min_samples_split': 20, 'n_estimators': 7}\n",
            "0.8141814257601727 {'max_depth': 12, 'max_features': 'log2', 'min_samples_leaf': 2, 'min_samples_split': 20, 'n_estimators': 9}\n",
            "0.8209356947882943 {'max_depth': 12, 'max_features': 'log2', 'min_samples_leaf': 2, 'min_samples_split': 20, 'n_estimators': 11}\n",
            "0.8254364248079732 {'max_depth': 12, 'max_features': 'log2', 'min_samples_leaf': 2, 'min_samples_split': 20, 'n_estimators': 13}\n",
            "0.8006538437123087 {'max_depth': 12, 'max_features': 'log2', 'min_samples_leaf': 2, 'min_samples_split': 22, 'n_estimators': 5}\n",
            "0.8119659747349711 {'max_depth': 12, 'max_features': 'log2', 'min_samples_leaf': 2, 'min_samples_split': 22, 'n_estimators': 7}\n",
            "0.820948390782708 {'max_depth': 12, 'max_features': 'log2', 'min_samples_leaf': 2, 'min_samples_split': 22, 'n_estimators': 9}\n",
            "0.8198247952770901 {'max_depth': 12, 'max_features': 'log2', 'min_samples_leaf': 2, 'min_samples_split': 22, 'n_estimators': 11}\n",
            "0.8186885037770584 {'max_depth': 12, 'max_features': 'log2', 'min_samples_leaf': 2, 'min_samples_split': 22, 'n_estimators': 13}\n",
            "0.8142004697517933 {'max_depth': 12, 'max_features': 'log2', 'min_samples_leaf': 4, 'min_samples_split': 16, 'n_estimators': 5}\n",
            "0.8153367612518249 {'max_depth': 12, 'max_features': 'log2', 'min_samples_leaf': 4, 'min_samples_split': 16, 'n_estimators': 7}\n",
            "0.816460356757443 {'max_depth': 12, 'max_features': 'log2', 'min_samples_leaf': 4, 'min_samples_split': 16, 'n_estimators': 9}\n",
            "0.8175204722909921 {'max_depth': 12, 'max_features': 'log2', 'min_samples_leaf': 4, 'min_samples_split': 16, 'n_estimators': 11}\n",
            "0.823189233796737 {'max_depth': 12, 'max_features': 'log2', 'min_samples_leaf': 4, 'min_samples_split': 16, 'n_estimators': 13}\n",
            "0.8186948517742652 {'max_depth': 12, 'max_features': 'log2', 'min_samples_leaf': 4, 'min_samples_split': 18, 'n_estimators': 5}\n",
            "0.8175585602742335 {'max_depth': 12, 'max_features': 'log2', 'min_samples_leaf': 4, 'min_samples_split': 18, 'n_estimators': 7}\n",
            "0.8175585602742335 {'max_depth': 12, 'max_features': 'log2', 'min_samples_leaf': 4, 'min_samples_split': 18, 'n_estimators': 9}\n",
            "0.8209356947882942 {'max_depth': 12, 'max_features': 'log2', 'min_samples_leaf': 4, 'min_samples_split': 18, 'n_estimators': 11}\n",
            "0.8153304132546182 {'max_depth': 12, 'max_features': 'log2', 'min_samples_leaf': 4, 'min_samples_split': 18, 'n_estimators': 13}\n",
            "0.8040690662096107 {'max_depth': 12, 'max_features': 'log2', 'min_samples_leaf': 4, 'min_samples_split': 20, 'n_estimators': 5}\n",
            "0.8175712562686472 {'max_depth': 12, 'max_features': 'log2', 'min_samples_leaf': 4, 'min_samples_split': 20, 'n_estimators': 7}\n",
            "0.8187011997714719 {'max_depth': 12, 'max_features': 'log2', 'min_samples_leaf': 4, 'min_samples_split': 20, 'n_estimators': 9}\n",
            "0.8119405827461434 {'max_depth': 12, 'max_features': 'log2', 'min_samples_leaf': 4, 'min_samples_split': 20, 'n_estimators': 11}\n",
            "0.824325525296769 {'max_depth': 12, 'max_features': 'log2', 'min_samples_leaf': 4, 'min_samples_split': 20, 'n_estimators': 13}\n",
            "0.8108169872405255 {'max_depth': 12, 'max_features': 'log2', 'min_samples_leaf': 4, 'min_samples_split': 22, 'n_estimators': 5}\n",
            "0.8130641782517616 {'max_depth': 12, 'max_features': 'log2', 'min_samples_leaf': 4, 'min_samples_split': 22, 'n_estimators': 7}\n",
            "0.814213165746207 {'max_depth': 12, 'max_features': 'log2', 'min_samples_leaf': 4, 'min_samples_split': 22, 'n_estimators': 9}\n",
            "0.8220592902939122 {'max_depth': 12, 'max_features': 'log2', 'min_samples_leaf': 4, 'min_samples_split': 22, 'n_estimators': 11}\n",
            "0.8142131657462072 {'max_depth': 12, 'max_features': 'log2', 'min_samples_leaf': 4, 'min_samples_split': 22, 'n_estimators': 13}\n",
            "0.8097124357265283 {'max_depth': 12, 'max_features': 'log2', 'min_samples_leaf': 6, 'min_samples_split': 16, 'n_estimators': 5}\n",
            "0.8130578302545548 {'max_depth': 12, 'max_features': 'log2', 'min_samples_leaf': 6, 'min_samples_split': 16, 'n_estimators': 7}\n",
            "0.817571256268647 {'max_depth': 12, 'max_features': 'log2', 'min_samples_leaf': 6, 'min_samples_split': 16, 'n_estimators': 9}\n",
            "0.8186885037770584 {'max_depth': 12, 'max_features': 'log2', 'min_samples_leaf': 6, 'min_samples_split': 16, 'n_estimators': 11}\n",
            "0.823195581793944 {'max_depth': 12, 'max_features': 'log2', 'min_samples_leaf': 6, 'min_samples_split': 16, 'n_estimators': 13}\n",
            "0.7984193486954865 {'max_depth': 12, 'max_features': 'log2', 'min_samples_leaf': 6, 'min_samples_split': 18, 'n_estimators': 5}\n",
            "0.8220592902939122 {'max_depth': 12, 'max_features': 'log2', 'min_samples_leaf': 6, 'min_samples_split': 18, 'n_estimators': 7}\n",
            "0.8096933917349076 {'max_depth': 12, 'max_features': 'log2', 'min_samples_leaf': 6, 'min_samples_split': 18, 'n_estimators': 9}\n",
            "0.8243001333079413 {'max_depth': 12, 'max_features': 'log2', 'min_samples_leaf': 6, 'min_samples_split': 18, 'n_estimators': 11}\n",
            "0.8175458642798198 {'max_depth': 12, 'max_features': 'log2', 'min_samples_leaf': 6, 'min_samples_split': 18, 'n_estimators': 13}\n",
            "0.7984320446899004 {'max_depth': 12, 'max_features': 'log2', 'min_samples_leaf': 6, 'min_samples_split': 20, 'n_estimators': 5}\n",
            "0.8063289532152605 {'max_depth': 12, 'max_features': 'log2', 'min_samples_leaf': 6, 'min_samples_split': 20, 'n_estimators': 7}\n",
            "0.8096933917349076 {'max_depth': 12, 'max_features': 'log2', 'min_samples_leaf': 6, 'min_samples_split': 20, 'n_estimators': 9}\n",
            "0.8096933917349076 {'max_depth': 12, 'max_features': 'log2', 'min_samples_leaf': 6, 'min_samples_split': 20, 'n_estimators': 11}\n",
            "0.8119342347489369 {'max_depth': 12, 'max_features': 'log2', 'min_samples_leaf': 6, 'min_samples_split': 20, 'n_estimators': 13}\n",
            "0.8029454707039928 {'max_depth': 12, 'max_features': 'log2', 'min_samples_leaf': 6, 'min_samples_split': 22, 'n_estimators': 5}\n",
            "0.7950549101758396 {'max_depth': 12, 'max_features': 'log2', 'min_samples_leaf': 6, 'min_samples_split': 22, 'n_estimators': 7}\n",
            "0.7950739541674603 {'max_depth': 12, 'max_features': 'log2', 'min_samples_leaf': 6, 'min_samples_split': 22, 'n_estimators': 9}\n",
            "0.8186885037770584 {'max_depth': 12, 'max_features': 'log2', 'min_samples_leaf': 6, 'min_samples_split': 22, 'n_estimators': 11}\n",
            "0.8164032247825812 {'max_depth': 12, 'max_features': 'log2', 'min_samples_leaf': 6, 'min_samples_split': 22, 'n_estimators': 13}\n",
            "0.8063289532152605 {'max_depth': 12, 'max_features': 'log2', 'min_samples_leaf': 8, 'min_samples_split': 16, 'n_estimators': 5}\n",
            "0.8141687297657588 {'max_depth': 12, 'max_features': 'log2', 'min_samples_leaf': 8, 'min_samples_split': 16, 'n_estimators': 7}\n",
            "0.8231574938107027 {'max_depth': 12, 'max_features': 'log2', 'min_samples_leaf': 8, 'min_samples_split': 16, 'n_estimators': 9}\n",
            "0.8085317082460485 {'max_depth': 12, 'max_features': 'log2', 'min_samples_leaf': 8, 'min_samples_split': 16, 'n_estimators': 11}\n",
            "0.8130832222433823 {'max_depth': 12, 'max_features': 'log2', 'min_samples_leaf': 8, 'min_samples_split': 16, 'n_estimators': 13}\n",
            "0.8063162572208468 {'max_depth': 12, 'max_features': 'log2', 'min_samples_leaf': 8, 'min_samples_split': 18, 'n_estimators': 5}\n",
            "0.8029264267123721 {'max_depth': 12, 'max_features': 'log2', 'min_samples_leaf': 8, 'min_samples_split': 18, 'n_estimators': 7}\n",
            "0.8085571002348759 {'max_depth': 12, 'max_features': 'log2', 'min_samples_leaf': 8, 'min_samples_split': 18, 'n_estimators': 9}\n",
            "0.8209420427855012 {'max_depth': 12, 'max_features': 'log2', 'min_samples_leaf': 8, 'min_samples_split': 18, 'n_estimators': 11}\n",
            "0.8130641782517616 {'max_depth': 12, 'max_features': 'log2', 'min_samples_leaf': 8, 'min_samples_split': 18, 'n_estimators': 13}\n",
            "0.8085571002348757 {'max_depth': 12, 'max_features': 'log2', 'min_samples_leaf': 8, 'min_samples_split': 20, 'n_estimators': 5}\n",
            "0.8085888402209103 {'max_depth': 12, 'max_features': 'log2', 'min_samples_leaf': 8, 'min_samples_split': 20, 'n_estimators': 7}\n",
            "0.800698279692757 {'max_depth': 12, 'max_features': 'log2', 'min_samples_leaf': 8, 'min_samples_split': 20, 'n_estimators': 9}\n",
            "0.8209420427855012 {'max_depth': 12, 'max_features': 'log2', 'min_samples_leaf': 8, 'min_samples_split': 20, 'n_estimators': 11}\n",
            "0.8040373262235765 {'max_depth': 12, 'max_features': 'log2', 'min_samples_leaf': 8, 'min_samples_split': 20, 'n_estimators': 13}\n",
            "0.8063099092236399 {'max_depth': 12, 'max_features': 'log2', 'min_samples_leaf': 8, 'min_samples_split': 22, 'n_estimators': 5}\n",
            "0.7928013711673968 {'max_depth': 12, 'max_features': 'log2', 'min_samples_leaf': 8, 'min_samples_split': 22, 'n_estimators': 7}\n",
            "0.8074525487208787 {'max_depth': 12, 'max_features': 'log2', 'min_samples_leaf': 8, 'min_samples_split': 22, 'n_estimators': 9}\n",
            "0.8096616517488734 {'max_depth': 12, 'max_features': 'log2', 'min_samples_leaf': 8, 'min_samples_split': 22, 'n_estimators': 11}\n",
            "0.815292325271377 {'max_depth': 12, 'max_features': 'log2', 'min_samples_leaf': 8, 'min_samples_split': 22, 'n_estimators': 13}\n",
            "0.8119405827461437 {'max_depth': 14, 'max_features': 'auto', 'min_samples_leaf': 2, 'min_samples_split': 16, 'n_estimators': 5}\n",
            "0.8085761442264964 {'max_depth': 14, 'max_features': 'auto', 'min_samples_leaf': 2, 'min_samples_split': 16, 'n_estimators': 7}\n",
            "0.8198120992826764 {'max_depth': 14, 'max_features': 'auto', 'min_samples_leaf': 2, 'min_samples_split': 16, 'n_estimators': 9}\n",
            "0.8130768742461754 {'max_depth': 14, 'max_features': 'auto', 'min_samples_leaf': 2, 'min_samples_split': 16, 'n_estimators': 11}\n",
            "0.8220910302799467 {'max_depth': 14, 'max_features': 'auto', 'min_samples_leaf': 2, 'min_samples_split': 16, 'n_estimators': 13}\n",
            "0.8097060877293213 {'max_depth': 14, 'max_features': 'auto', 'min_samples_leaf': 2, 'min_samples_split': 18, 'n_estimators': 5}\n",
            "0.8074462007236717 {'max_depth': 14, 'max_features': 'auto', 'min_samples_leaf': 2, 'min_samples_split': 18, 'n_estimators': 7}\n",
            "0.8220719862883259 {'max_depth': 14, 'max_features': 'auto', 'min_samples_leaf': 2, 'min_samples_split': 18, 'n_estimators': 9}\n",
            "0.813089570240589 {'max_depth': 14, 'max_features': 'auto', 'min_samples_leaf': 2, 'min_samples_split': 18, 'n_estimators': 11}\n",
            "0.8232209737827715 {'max_depth': 14, 'max_features': 'auto', 'min_samples_leaf': 2, 'min_samples_split': 18, 'n_estimators': 13}\n",
            "0.806360693201295 {'max_depth': 14, 'max_features': 'auto', 'min_samples_leaf': 2, 'min_samples_split': 20, 'n_estimators': 5}\n",
            "0.8018282231955819 {'max_depth': 14, 'max_features': 'auto', 'min_samples_leaf': 2, 'min_samples_split': 20, 'n_estimators': 7}\n",
            "0.8209737827715357 {'max_depth': 14, 'max_features': 'auto', 'min_samples_leaf': 2, 'min_samples_split': 20, 'n_estimators': 9}\n",
            "0.824319177299562 {'max_depth': 14, 'max_features': 'auto', 'min_samples_leaf': 2, 'min_samples_split': 20, 'n_estimators': 11}\n",
            "0.8243318732939757 {'max_depth': 14, 'max_features': 'auto', 'min_samples_leaf': 2, 'min_samples_split': 20, 'n_estimators': 13}\n",
            "0.8175903002602679 {'max_depth': 14, 'max_features': 'auto', 'min_samples_leaf': 2, 'min_samples_split': 22, 'n_estimators': 5}\n",
            "0.8232209737827716 {'max_depth': 14, 'max_features': 'auto', 'min_samples_leaf': 2, 'min_samples_split': 22, 'n_estimators': 7}\n",
            "0.8130514822573478 {'max_depth': 14, 'max_features': 'auto', 'min_samples_leaf': 2, 'min_samples_split': 22, 'n_estimators': 9}\n",
            "0.8096933917349076 {'max_depth': 14, 'max_features': 'auto', 'min_samples_leaf': 2, 'min_samples_split': 22, 'n_estimators': 11}\n",
            "0.8198184472798833 {'max_depth': 14, 'max_features': 'auto', 'min_samples_leaf': 2, 'min_samples_split': 22, 'n_estimators': 13}\n",
            "0.8141750777629657 {'max_depth': 14, 'max_features': 'auto', 'min_samples_leaf': 4, 'min_samples_split': 16, 'n_estimators': 5}\n",
            "0.814219513743414 {'max_depth': 14, 'max_features': 'auto', 'min_samples_leaf': 4, 'min_samples_split': 16, 'n_estimators': 7}\n",
            "0.8187202437630926 {'max_depth': 14, 'max_features': 'auto', 'min_samples_leaf': 4, 'min_samples_split': 16, 'n_estimators': 9}\n",
            "0.8243318732939757 {'max_depth': 14, 'max_features': 'auto', 'min_samples_leaf': 4, 'min_samples_split': 16, 'n_estimators': 11}\n",
            "0.8096679997460801 {'max_depth': 14, 'max_features': 'auto', 'min_samples_leaf': 4, 'min_samples_split': 16, 'n_estimators': 13}\n",
            "0.8119342347489369 {'max_depth': 14, 'max_features': 'auto', 'min_samples_leaf': 4, 'min_samples_split': 18, 'n_estimators': 5}\n",
            "0.8197994032882626 {'max_depth': 14, 'max_features': 'auto', 'min_samples_leaf': 4, 'min_samples_split': 18, 'n_estimators': 7}\n",
            "0.8130578302545546 {'max_depth': 14, 'max_features': 'auto', 'min_samples_leaf': 4, 'min_samples_split': 18, 'n_estimators': 9}\n",
            "0.8130451342601409 {'max_depth': 14, 'max_features': 'auto', 'min_samples_leaf': 4, 'min_samples_split': 18, 'n_estimators': 11}\n",
            "0.8130578302545546 {'max_depth': 14, 'max_features': 'auto', 'min_samples_leaf': 4, 'min_samples_split': 18, 'n_estimators': 13}\n",
            "0.8052180537040563 {'max_depth': 14, 'max_features': 'auto', 'min_samples_leaf': 4, 'min_samples_split': 20, 'n_estimators': 5}\n",
            "0.8131022662350029 {'max_depth': 14, 'max_features': 'auto', 'min_samples_leaf': 4, 'min_samples_split': 20, 'n_estimators': 7}\n",
            "0.8097060877293213 {'max_depth': 14, 'max_features': 'auto', 'min_samples_leaf': 4, 'min_samples_split': 20, 'n_estimators': 9}\n",
            "0.8141877737573795 {'max_depth': 14, 'max_features': 'auto', 'min_samples_leaf': 4, 'min_samples_split': 20, 'n_estimators': 11}\n",
            "0.814219513743414 {'max_depth': 14, 'max_features': 'auto', 'min_samples_leaf': 4, 'min_samples_split': 20, 'n_estimators': 13}\n",
            "0.8153367612518251 {'max_depth': 14, 'max_features': 'auto', 'min_samples_leaf': 4, 'min_samples_split': 22, 'n_estimators': 5}\n",
            "0.8220465942994984 {'max_depth': 14, 'max_features': 'auto', 'min_samples_leaf': 4, 'min_samples_split': 22, 'n_estimators': 7}\n",
            "0.8130832222433823 {'max_depth': 14, 'max_features': 'auto', 'min_samples_leaf': 4, 'min_samples_split': 22, 'n_estimators': 9}\n",
            "0.8142068177490002 {'max_depth': 14, 'max_features': 'auto', 'min_samples_leaf': 4, 'min_samples_split': 22, 'n_estimators': 11}\n",
            "0.8119532787405573 {'max_depth': 14, 'max_features': 'auto', 'min_samples_leaf': 4, 'min_samples_split': 22, 'n_estimators': 13}\n",
            "0.8153367612518251 {'max_depth': 14, 'max_features': 'auto', 'min_samples_leaf': 6, 'min_samples_split': 16, 'n_estimators': 5}\n",
            "0.8130705262489684 {'max_depth': 14, 'max_features': 'auto', 'min_samples_leaf': 6, 'min_samples_split': 16, 'n_estimators': 7}\n",
            "0.8096933917349076 {'max_depth': 14, 'max_features': 'auto', 'min_samples_leaf': 6, 'min_samples_split': 16, 'n_estimators': 9}\n",
            "0.8198247952770901 {'max_depth': 14, 'max_features': 'auto', 'min_samples_leaf': 6, 'min_samples_split': 16, 'n_estimators': 11}\n",
            "0.8096806957404938 {'max_depth': 14, 'max_features': 'auto', 'min_samples_leaf': 6, 'min_samples_split': 16, 'n_estimators': 13}\n",
            "0.810797943248905 {'max_depth': 14, 'max_features': 'auto', 'min_samples_leaf': 6, 'min_samples_split': 18, 'n_estimators': 5}\n",
            "0.807433504729258 {'max_depth': 14, 'max_features': 'auto', 'min_samples_leaf': 6, 'min_samples_split': 18, 'n_estimators': 7}\n",
            "0.8198120992826764 {'max_depth': 14, 'max_features': 'auto', 'min_samples_leaf': 6, 'min_samples_split': 18, 'n_estimators': 9}\n",
            "0.8276899638164158 {'max_depth': 14, 'max_features': 'auto', 'min_samples_leaf': 6, 'min_samples_split': 18, 'n_estimators': 11}\n",
            "0.8108169872405255 {'max_depth': 14, 'max_features': 'auto', 'min_samples_leaf': 6, 'min_samples_split': 18, 'n_estimators': 13}\n",
            "0.8107788992572843 {'max_depth': 14, 'max_features': 'auto', 'min_samples_leaf': 6, 'min_samples_split': 20, 'n_estimators': 5}\n",
            "0.8220529422967054 {'max_depth': 14, 'max_features': 'auto', 'min_samples_leaf': 6, 'min_samples_split': 20, 'n_estimators': 7}\n",
            "0.8142004697517933 {'max_depth': 14, 'max_features': 'auto', 'min_samples_leaf': 6, 'min_samples_split': 20, 'n_estimators': 9}\n",
            "0.8220719862883259 {'max_depth': 14, 'max_features': 'auto', 'min_samples_leaf': 6, 'min_samples_split': 20, 'n_estimators': 11}\n",
            "0.8085380562432553 {'max_depth': 14, 'max_features': 'auto', 'min_samples_leaf': 6, 'min_samples_split': 20, 'n_estimators': 13}\n",
            "0.823195581793944 {'max_depth': 14, 'max_features': 'auto', 'min_samples_leaf': 6, 'min_samples_split': 22, 'n_estimators': 5}\n",
            "0.8096933917349076 {'max_depth': 14, 'max_features': 'auto', 'min_samples_leaf': 6, 'min_samples_split': 22, 'n_estimators': 7}\n",
            "0.8175395162826128 {'max_depth': 14, 'max_features': 'auto', 'min_samples_leaf': 6, 'min_samples_split': 22, 'n_estimators': 9}\n",
            "0.8029645146956135 {'max_depth': 14, 'max_features': 'auto', 'min_samples_leaf': 6, 'min_samples_split': 22, 'n_estimators': 11}\n",
            "0.8141941217545865 {'max_depth': 14, 'max_features': 'auto', 'min_samples_leaf': 6, 'min_samples_split': 22, 'n_estimators': 13}\n",
            "0.8017964832095474 {'max_depth': 14, 'max_features': 'auto', 'min_samples_leaf': 8, 'min_samples_split': 16, 'n_estimators': 5}\n",
            "0.8187011997714719 {'max_depth': 14, 'max_features': 'auto', 'min_samples_leaf': 8, 'min_samples_split': 16, 'n_estimators': 7}\n",
            "0.8130832222433823 {'max_depth': 14, 'max_features': 'auto', 'min_samples_leaf': 8, 'min_samples_split': 16, 'n_estimators': 9}\n",
            "0.804056370215197 {'max_depth': 14, 'max_features': 'auto', 'min_samples_leaf': 8, 'min_samples_split': 16, 'n_estimators': 11}\n",
            "0.8085253602488415 {'max_depth': 14, 'max_features': 'auto', 'min_samples_leaf': 8, 'min_samples_split': 16, 'n_estimators': 13}\n",
            "0.8063035612264331 {'max_depth': 14, 'max_features': 'auto', 'min_samples_leaf': 8, 'min_samples_split': 18, 'n_estimators': 5}\n",
            "0.8107852472544913 {'max_depth': 14, 'max_features': 'auto', 'min_samples_leaf': 8, 'min_samples_split': 18, 'n_estimators': 7}\n",
            "0.815292325271377 {'max_depth': 14, 'max_features': 'auto', 'min_samples_leaf': 8, 'min_samples_split': 18, 'n_estimators': 9}\n",
            "0.807427156732051 {'max_depth': 14, 'max_features': 'auto', 'min_samples_leaf': 8, 'min_samples_split': 18, 'n_estimators': 11}\n",
            "0.8130768742461753 {'max_depth': 14, 'max_features': 'auto', 'min_samples_leaf': 8, 'min_samples_split': 18, 'n_estimators': 13}\n",
            "0.8029137307179586 {'max_depth': 14, 'max_features': 'auto', 'min_samples_leaf': 8, 'min_samples_split': 20, 'n_estimators': 5}\n",
            "0.813089570240589 {'max_depth': 14, 'max_features': 'auto', 'min_samples_leaf': 8, 'min_samples_split': 20, 'n_estimators': 7}\n",
            "0.8130451342601409 {'max_depth': 14, 'max_features': 'auto', 'min_samples_leaf': 8, 'min_samples_split': 20, 'n_estimators': 9}\n",
            "0.8209229987938805 {'max_depth': 14, 'max_features': 'auto', 'min_samples_leaf': 8, 'min_samples_split': 20, 'n_estimators': 11}\n",
            "0.8175458642798198 {'max_depth': 14, 'max_features': 'auto', 'min_samples_leaf': 8, 'min_samples_split': 20, 'n_estimators': 13}\n",
            "0.8153240652574112 {'max_depth': 14, 'max_features': 'auto', 'min_samples_leaf': 8, 'min_samples_split': 22, 'n_estimators': 5}\n",
            "0.8142004697517933 {'max_depth': 14, 'max_features': 'auto', 'min_samples_leaf': 8, 'min_samples_split': 22, 'n_estimators': 7}\n",
            "0.814168729765759 {'max_depth': 14, 'max_features': 'auto', 'min_samples_leaf': 8, 'min_samples_split': 22, 'n_estimators': 9}\n",
            "0.8108106392433185 {'max_depth': 14, 'max_features': 'auto', 'min_samples_leaf': 8, 'min_samples_split': 22, 'n_estimators': 11}\n",
            "0.8063162572208469 {'max_depth': 14, 'max_features': 'auto', 'min_samples_leaf': 8, 'min_samples_split': 22, 'n_estimators': 13}\n",
            "0.8187138957658858 {'max_depth': 14, 'max_features': 'sqrt', 'min_samples_leaf': 2, 'min_samples_split': 16, 'n_estimators': 5}\n",
            "0.8130641782517616 {'max_depth': 14, 'max_features': 'sqrt', 'min_samples_leaf': 2, 'min_samples_split': 16, 'n_estimators': 7}\n",
            "0.8220529422967054 {'max_depth': 14, 'max_features': 'sqrt', 'min_samples_leaf': 2, 'min_samples_split': 16, 'n_estimators': 9}\n",
            "0.8232336697771853 {'max_depth': 14, 'max_features': 'sqrt', 'min_samples_leaf': 2, 'min_samples_split': 16, 'n_estimators': 11}\n",
            "0.8277090078080365 {'max_depth': 14, 'max_features': 'sqrt', 'min_samples_leaf': 2, 'min_samples_split': 16, 'n_estimators': 13}\n",
            "0.8254745127912143 {'max_depth': 14, 'max_features': 'sqrt', 'min_samples_leaf': 2, 'min_samples_split': 18, 'n_estimators': 5}\n",
            "0.8164794007490637 {'max_depth': 14, 'max_features': 'sqrt', 'min_samples_leaf': 2, 'min_samples_split': 18, 'n_estimators': 7}\n",
            "0.817590300260268 {'max_depth': 14, 'max_features': 'sqrt', 'min_samples_leaf': 2, 'min_samples_split': 18, 'n_estimators': 9}\n",
            "0.8085761442264966 {'max_depth': 14, 'max_features': 'sqrt', 'min_samples_leaf': 2, 'min_samples_split': 18, 'n_estimators': 11}\n",
            "0.8221100742715672 {'max_depth': 14, 'max_features': 'sqrt', 'min_samples_leaf': 2, 'min_samples_split': 18, 'n_estimators': 13}\n",
            "0.8142004697517933 {'max_depth': 14, 'max_features': 'sqrt', 'min_samples_leaf': 2, 'min_samples_split': 20, 'n_estimators': 5}\n",
            "0.8108233352377325 {'max_depth': 14, 'max_features': 'sqrt', 'min_samples_leaf': 2, 'min_samples_split': 20, 'n_estimators': 7}\n",
            "0.8187138957658858 {'max_depth': 14, 'max_features': 'sqrt', 'min_samples_leaf': 2, 'min_samples_split': 20, 'n_estimators': 9}\n",
            "0.8063035612264331 {'max_depth': 14, 'max_features': 'sqrt', 'min_samples_leaf': 2, 'min_samples_split': 20, 'n_estimators': 11}\n",
            "0.8153431092490319 {'max_depth': 14, 'max_features': 'sqrt', 'min_samples_leaf': 2, 'min_samples_split': 20, 'n_estimators': 13}\n",
            "0.8074462007236717 {'max_depth': 14, 'max_features': 'sqrt', 'min_samples_leaf': 2, 'min_samples_split': 22, 'n_estimators': 5}\n",
            "0.8119596267377641 {'max_depth': 14, 'max_features': 'sqrt', 'min_samples_leaf': 2, 'min_samples_split': 22, 'n_estimators': 7}\n",
            "0.8209610867771218 {'max_depth': 14, 'max_features': 'sqrt', 'min_samples_leaf': 2, 'min_samples_split': 22, 'n_estimators': 9}\n",
            "0.799574684187139 {'max_depth': 14, 'max_features': 'sqrt', 'min_samples_leaf': 2, 'min_samples_split': 22, 'n_estimators': 11}\n",
            "0.8108423792293532 {'max_depth': 14, 'max_features': 'sqrt', 'min_samples_leaf': 2, 'min_samples_split': 22, 'n_estimators': 13}\n",
            "0.8108360312321462 {'max_depth': 14, 'max_features': 'sqrt', 'min_samples_leaf': 4, 'min_samples_split': 16, 'n_estimators': 5}\n",
            "0.817577604265854 {'max_depth': 14, 'max_features': 'sqrt', 'min_samples_leaf': 4, 'min_samples_split': 16, 'n_estimators': 7}\n",
            "0.8164349647686155 {'max_depth': 14, 'max_features': 'sqrt', 'min_samples_leaf': 4, 'min_samples_split': 16, 'n_estimators': 9}\n",
            "0.8186758077826445 {'max_depth': 14, 'max_features': 'sqrt', 'min_samples_leaf': 4, 'min_samples_split': 16, 'n_estimators': 11}\n",
            "0.810804291246112 {'max_depth': 14, 'max_features': 'sqrt', 'min_samples_leaf': 4, 'min_samples_split': 16, 'n_estimators': 13}\n",
            "0.8119850187265918 {'max_depth': 14, 'max_features': 'sqrt', 'min_samples_leaf': 4, 'min_samples_split': 18, 'n_estimators': 5}\n",
            "0.8085697962292896 {'max_depth': 14, 'max_features': 'sqrt', 'min_samples_leaf': 4, 'min_samples_split': 18, 'n_estimators': 7}\n",
            "0.8175585602742335 {'max_depth': 14, 'max_features': 'sqrt', 'min_samples_leaf': 4, 'min_samples_split': 18, 'n_estimators': 9}\n",
            "0.8186631117882308 {'max_depth': 14, 'max_features': 'sqrt', 'min_samples_leaf': 4, 'min_samples_split': 18, 'n_estimators': 11}\n",
            "0.8164349647686155 {'max_depth': 14, 'max_features': 'sqrt', 'min_samples_leaf': 4, 'min_samples_split': 18, 'n_estimators': 13}\n",
            "0.8085634482320827 {'max_depth': 14, 'max_features': 'sqrt', 'min_samples_leaf': 4, 'min_samples_split': 20, 'n_estimators': 5}\n",
            "0.8130705262489684 {'max_depth': 14, 'max_features': 'sqrt', 'min_samples_leaf': 4, 'min_samples_split': 20, 'n_estimators': 7}\n",
            "0.8164286167714087 {'max_depth': 14, 'max_features': 'sqrt', 'min_samples_leaf': 4, 'min_samples_split': 20, 'n_estimators': 9}\n",
            "0.7995683361899321 {'max_depth': 14, 'max_features': 'sqrt', 'min_samples_leaf': 4, 'min_samples_split': 20, 'n_estimators': 11}\n",
            "0.8209356947882943 {'max_depth': 14, 'max_features': 'sqrt', 'min_samples_leaf': 4, 'min_samples_split': 20, 'n_estimators': 13}\n",
            "0.8164730527518568 {'max_depth': 14, 'max_features': 'sqrt', 'min_samples_leaf': 4, 'min_samples_split': 22, 'n_estimators': 5}\n",
            "0.8096679997460802 {'max_depth': 14, 'max_features': 'sqrt', 'min_samples_leaf': 4, 'min_samples_split': 22, 'n_estimators': 7}\n",
            "0.8130832222433823 {'max_depth': 14, 'max_features': 'sqrt', 'min_samples_leaf': 4, 'min_samples_split': 22, 'n_estimators': 9}\n",
            "0.8063416492096744 {'max_depth': 14, 'max_features': 'sqrt', 'min_samples_leaf': 4, 'min_samples_split': 22, 'n_estimators': 11}\n",
            "0.8220465942994986 {'max_depth': 14, 'max_features': 'sqrt', 'min_samples_leaf': 4, 'min_samples_split': 22, 'n_estimators': 13}\n",
            "0.8063099092236399 {'max_depth': 14, 'max_features': 'sqrt', 'min_samples_leaf': 6, 'min_samples_split': 16, 'n_estimators': 5}\n",
            "0.824325525296769 {'max_depth': 14, 'max_features': 'sqrt', 'min_samples_leaf': 6, 'min_samples_split': 16, 'n_estimators': 7}\n",
            "0.8108296832349394 {'max_depth': 14, 'max_features': 'sqrt', 'min_samples_leaf': 6, 'min_samples_split': 16, 'n_estimators': 9}\n",
            "0.8175712562686472 {'max_depth': 14, 'max_features': 'sqrt', 'min_samples_leaf': 6, 'min_samples_split': 16, 'n_estimators': 11}\n",
            "0.8186948517742652 {'max_depth': 14, 'max_features': 'sqrt', 'min_samples_leaf': 6, 'min_samples_split': 16, 'n_estimators': 13}\n",
            "0.7995619881927253 {'max_depth': 14, 'max_features': 'sqrt', 'min_samples_leaf': 6, 'min_samples_split': 18, 'n_estimators': 5}\n",
            "0.8130705262489686 {'max_depth': 14, 'max_features': 'sqrt', 'min_samples_leaf': 6, 'min_samples_split': 18, 'n_estimators': 7}\n",
            "0.8187075477686789 {'max_depth': 14, 'max_features': 'sqrt', 'min_samples_leaf': 6, 'min_samples_split': 18, 'n_estimators': 9}\n",
            "0.8130578302545548 {'max_depth': 14, 'max_features': 'sqrt', 'min_samples_leaf': 6, 'min_samples_split': 18, 'n_estimators': 11}\n",
            "0.8164349647686155 {'max_depth': 14, 'max_features': 'sqrt', 'min_samples_leaf': 6, 'min_samples_split': 18, 'n_estimators': 13}\n",
            "0.8085380562432553 {'max_depth': 14, 'max_features': 'sqrt', 'min_samples_leaf': 6, 'min_samples_split': 20, 'n_estimators': 5}\n",
            "0.8220338983050848 {'max_depth': 14, 'max_features': 'sqrt', 'min_samples_leaf': 6, 'min_samples_split': 20, 'n_estimators': 7}\n",
            "0.8130451342601409 {'max_depth': 14, 'max_features': 'sqrt', 'min_samples_leaf': 6, 'min_samples_split': 20, 'n_estimators': 9}\n",
            "0.8063162572208468 {'max_depth': 14, 'max_features': 'sqrt', 'min_samples_leaf': 6, 'min_samples_split': 20, 'n_estimators': 11}\n",
            "0.8186758077826445 {'max_depth': 14, 'max_features': 'sqrt', 'min_samples_leaf': 6, 'min_samples_split': 20, 'n_estimators': 13}\n",
            "0.8220973782771536 {'max_depth': 14, 'max_features': 'sqrt', 'min_samples_leaf': 6, 'min_samples_split': 22, 'n_estimators': 5}\n",
            "0.802939122706786 {'max_depth': 14, 'max_features': 'sqrt', 'min_samples_leaf': 6, 'min_samples_split': 22, 'n_estimators': 7}\n",
            "0.8074525487208785 {'max_depth': 14, 'max_features': 'sqrt', 'min_samples_leaf': 6, 'min_samples_split': 22, 'n_estimators': 9}\n",
            "0.8085571002348759 {'max_depth': 14, 'max_features': 'sqrt', 'min_samples_leaf': 6, 'min_samples_split': 22, 'n_estimators': 11}\n",
            "0.8130641782517616 {'max_depth': 14, 'max_features': 'sqrt', 'min_samples_leaf': 6, 'min_samples_split': 22, 'n_estimators': 13}\n",
            "0.8130768742461754 {'max_depth': 14, 'max_features': 'sqrt', 'min_samples_leaf': 8, 'min_samples_split': 16, 'n_estimators': 5}\n",
            "0.8029137307179586 {'max_depth': 14, 'max_features': 'sqrt', 'min_samples_leaf': 8, 'min_samples_split': 16, 'n_estimators': 7}\n",
            "0.8119532787405574 {'max_depth': 14, 'max_features': 'sqrt', 'min_samples_leaf': 8, 'min_samples_split': 16, 'n_estimators': 9}\n",
            "0.8187138957658859 {'max_depth': 14, 'max_features': 'sqrt', 'min_samples_leaf': 8, 'min_samples_split': 16, 'n_estimators': 11}\n",
            "0.8130641782517616 {'max_depth': 14, 'max_features': 'sqrt', 'min_samples_leaf': 8, 'min_samples_split': 16, 'n_estimators': 13}\n",
            "0.8096679997460801 {'max_depth': 14, 'max_features': 'sqrt', 'min_samples_leaf': 8, 'min_samples_split': 18, 'n_estimators': 5}\n",
            "0.8029454707039928 {'max_depth': 14, 'max_features': 'sqrt', 'min_samples_leaf': 8, 'min_samples_split': 18, 'n_estimators': 7}\n",
            "0.8074398527264648 {'max_depth': 14, 'max_features': 'sqrt', 'min_samples_leaf': 8, 'min_samples_split': 18, 'n_estimators': 9}\n",
            "0.8119342347489367 {'max_depth': 14, 'max_features': 'sqrt', 'min_samples_leaf': 8, 'min_samples_split': 18, 'n_estimators': 11}\n",
            "0.7972957531898686 {'max_depth': 14, 'max_features': 'sqrt', 'min_samples_leaf': 8, 'min_samples_split': 18, 'n_estimators': 13}\n",
            "0.8040754142068177 {'max_depth': 14, 'max_features': 'sqrt', 'min_samples_leaf': 8, 'min_samples_split': 20, 'n_estimators': 5}\n",
            "0.8164349647686155 {'max_depth': 14, 'max_features': 'sqrt', 'min_samples_leaf': 8, 'min_samples_split': 20, 'n_estimators': 7}\n",
            "0.8119469307433504 {'max_depth': 14, 'max_features': 'sqrt', 'min_samples_leaf': 8, 'min_samples_split': 20, 'n_estimators': 9}\n",
            "0.804056370215197 {'max_depth': 14, 'max_features': 'sqrt', 'min_samples_leaf': 8, 'min_samples_split': 20, 'n_estimators': 11}\n",
            "0.8130451342601409 {'max_depth': 14, 'max_features': 'sqrt', 'min_samples_leaf': 8, 'min_samples_split': 20, 'n_estimators': 13}\n",
            "0.8119469307433504 {'max_depth': 14, 'max_features': 'sqrt', 'min_samples_leaf': 8, 'min_samples_split': 22, 'n_estimators': 5}\n",
            "0.7950549101758395 {'max_depth': 14, 'max_features': 'sqrt', 'min_samples_leaf': 8, 'min_samples_split': 22, 'n_estimators': 7}\n",
            "0.8063099092236399 {'max_depth': 14, 'max_features': 'sqrt', 'min_samples_leaf': 8, 'min_samples_split': 22, 'n_estimators': 9}\n",
            "0.8074144607376373 {'max_depth': 14, 'max_features': 'sqrt', 'min_samples_leaf': 8, 'min_samples_split': 22, 'n_estimators': 11}\n",
            "0.8175585602742335 {'max_depth': 14, 'max_features': 'sqrt', 'min_samples_leaf': 8, 'min_samples_split': 22, 'n_estimators': 13}\n",
            "0.8288135593220339 {'max_depth': 14, 'max_features': 'log2', 'min_samples_leaf': 2, 'min_samples_split': 16, 'n_estimators': 5}\n",
            "0.8254491208023869 {'max_depth': 14, 'max_features': 'log2', 'min_samples_leaf': 2, 'min_samples_split': 16, 'n_estimators': 7}\n",
            "0.8186948517742652 {'max_depth': 14, 'max_features': 'log2', 'min_samples_leaf': 2, 'min_samples_split': 16, 'n_estimators': 9}\n",
            "0.8220910302799467 {'max_depth': 14, 'max_features': 'log2', 'min_samples_leaf': 2, 'min_samples_split': 16, 'n_estimators': 11}\n",
            "0.8299498508220656 {'max_depth': 14, 'max_features': 'log2', 'min_samples_leaf': 2, 'min_samples_split': 16, 'n_estimators': 13}\n",
            "0.8265854123024186 {'max_depth': 14, 'max_features': 'log2', 'min_samples_leaf': 2, 'min_samples_split': 18, 'n_estimators': 5}\n",
            "0.8220656382911191 {'max_depth': 14, 'max_features': 'log2', 'min_samples_leaf': 2, 'min_samples_split': 18, 'n_estimators': 7}\n",
            "0.8131086142322097 {'max_depth': 14, 'max_features': 'log2', 'min_samples_leaf': 2, 'min_samples_split': 18, 'n_estimators': 9}\n",
            "0.8153240652574112 {'max_depth': 14, 'max_features': 'log2', 'min_samples_leaf': 2, 'min_samples_split': 18, 'n_estimators': 11}\n",
            "0.8220719862883261 {'max_depth': 14, 'max_features': 'log2', 'min_samples_leaf': 2, 'min_samples_split': 18, 'n_estimators': 13}\n",
            "0.8153494572462389 {'max_depth': 14, 'max_features': 'log2', 'min_samples_leaf': 2, 'min_samples_split': 20, 'n_estimators': 5}\n",
            "0.8052244017012633 {'max_depth': 14, 'max_features': 'log2', 'min_samples_leaf': 2, 'min_samples_split': 20, 'n_estimators': 7}\n",
            "0.8141687297657588 {'max_depth': 14, 'max_features': 'log2', 'min_samples_leaf': 2, 'min_samples_split': 20, 'n_estimators': 9}\n",
            "0.8187265917602996 {'max_depth': 14, 'max_features': 'log2', 'min_samples_leaf': 2, 'min_samples_split': 20, 'n_estimators': 11}\n",
            "0.8153367612518251 {'max_depth': 14, 'max_features': 'log2', 'min_samples_leaf': 2, 'min_samples_split': 20, 'n_estimators': 13}\n",
            "0.8107852472544913 {'max_depth': 14, 'max_features': 'log2', 'min_samples_leaf': 2, 'min_samples_split': 22, 'n_estimators': 5}\n",
            "0.8164476607630293 {'max_depth': 14, 'max_features': 'log2', 'min_samples_leaf': 2, 'min_samples_split': 22, 'n_estimators': 7}\n",
            "0.8209293467910875 {'max_depth': 14, 'max_features': 'log2', 'min_samples_leaf': 2, 'min_samples_split': 22, 'n_estimators': 9}\n",
            "0.8310734463276835 {'max_depth': 14, 'max_features': 'log2', 'min_samples_leaf': 2, 'min_samples_split': 22, 'n_estimators': 11}\n",
            "0.817583952263061 {'max_depth': 14, 'max_features': 'log2', 'min_samples_leaf': 2, 'min_samples_split': 22, 'n_estimators': 13}\n",
            "0.7995937281787596 {'max_depth': 14, 'max_features': 'log2', 'min_samples_leaf': 4, 'min_samples_split': 16, 'n_estimators': 5}\n",
            "0.8176093442518886 {'max_depth': 14, 'max_features': 'log2', 'min_samples_leaf': 4, 'min_samples_split': 16, 'n_estimators': 7}\n",
            "0.8063226052180538 {'max_depth': 14, 'max_features': 'log2', 'min_samples_leaf': 4, 'min_samples_split': 16, 'n_estimators': 9}\n",
            "0.808607884212531 {'max_depth': 14, 'max_features': 'log2', 'min_samples_leaf': 4, 'min_samples_split': 16, 'n_estimators': 11}\n",
            "0.8164603567574431 {'max_depth': 14, 'max_features': 'log2', 'min_samples_leaf': 4, 'min_samples_split': 16, 'n_estimators': 13}\n",
            "0.810797943248905 {'max_depth': 14, 'max_features': 'log2', 'min_samples_leaf': 4, 'min_samples_split': 18, 'n_estimators': 5}\n",
            "0.8175585602742335 {'max_depth': 14, 'max_features': 'log2', 'min_samples_leaf': 4, 'min_samples_split': 18, 'n_estimators': 7}\n",
            "0.807433504729258 {'max_depth': 14, 'max_features': 'log2', 'min_samples_leaf': 4, 'min_samples_split': 18, 'n_estimators': 9}\n",
            "0.8243318732939757 {'max_depth': 14, 'max_features': 'log2', 'min_samples_leaf': 4, 'min_samples_split': 18, 'n_estimators': 11}\n",
            "0.8186948517742654 {'max_depth': 14, 'max_features': 'log2', 'min_samples_leaf': 4, 'min_samples_split': 18, 'n_estimators': 13}\n",
            "0.8051672697264014 {'max_depth': 14, 'max_features': 'log2', 'min_samples_leaf': 4, 'min_samples_split': 20, 'n_estimators': 5}\n",
            "0.8152986732685837 {'max_depth': 14, 'max_features': 'log2', 'min_samples_leaf': 4, 'min_samples_split': 20, 'n_estimators': 7}\n",
            "0.8085761442264966 {'max_depth': 14, 'max_features': 'log2', 'min_samples_leaf': 4, 'min_samples_split': 20, 'n_estimators': 9}\n",
            "0.8141941217545865 {'max_depth': 14, 'max_features': 'log2', 'min_samples_leaf': 4, 'min_samples_split': 20, 'n_estimators': 11}\n",
            "0.8074652447152924 {'max_depth': 14, 'max_features': 'log2', 'min_samples_leaf': 4, 'min_samples_split': 20, 'n_estimators': 13}\n",
            "0.8063289532152605 {'max_depth': 14, 'max_features': 'log2', 'min_samples_leaf': 4, 'min_samples_split': 22, 'n_estimators': 5}\n",
            "0.804056370215197 {'max_depth': 14, 'max_features': 'log2', 'min_samples_leaf': 4, 'min_samples_split': 22, 'n_estimators': 7}\n",
            "0.8119786707293848 {'max_depth': 14, 'max_features': 'log2', 'min_samples_leaf': 4, 'min_samples_split': 22, 'n_estimators': 9}\n",
            "0.8153367612518249 {'max_depth': 14, 'max_features': 'log2', 'min_samples_leaf': 4, 'min_samples_split': 22, 'n_estimators': 11}\n",
            "0.8153304132546182 {'max_depth': 14, 'max_features': 'log2', 'min_samples_leaf': 4, 'min_samples_split': 22, 'n_estimators': 13}\n",
            "0.8187075477686789 {'max_depth': 14, 'max_features': 'log2', 'min_samples_leaf': 6, 'min_samples_split': 16, 'n_estimators': 5}\n",
            "0.8063035612264331 {'max_depth': 14, 'max_features': 'log2', 'min_samples_leaf': 6, 'min_samples_split': 16, 'n_estimators': 7}\n",
            "0.8153113692629976 {'max_depth': 14, 'max_features': 'log2', 'min_samples_leaf': 6, 'min_samples_split': 16, 'n_estimators': 9}\n",
            "0.8209420427855012 {'max_depth': 14, 'max_features': 'log2', 'min_samples_leaf': 6, 'min_samples_split': 16, 'n_estimators': 11}\n",
            "0.8130514822573478 {'max_depth': 14, 'max_features': 'log2', 'min_samples_leaf': 6, 'min_samples_split': 16, 'n_estimators': 13}\n",
            "0.8006474957151019 {'max_depth': 14, 'max_features': 'log2', 'min_samples_leaf': 6, 'min_samples_split': 18, 'n_estimators': 5}\n",
            "0.8040817622040247 {'max_depth': 14, 'max_features': 'log2', 'min_samples_leaf': 6, 'min_samples_split': 18, 'n_estimators': 7}\n",
            "0.8175649082714405 {'max_depth': 14, 'max_features': 'log2', 'min_samples_leaf': 6, 'min_samples_split': 18, 'n_estimators': 9}\n",
            "0.8096553037516664 {'max_depth': 14, 'max_features': 'log2', 'min_samples_leaf': 6, 'min_samples_split': 18, 'n_estimators': 11}\n",
            "0.8085507522376691 {'max_depth': 14, 'max_features': 'log2', 'min_samples_leaf': 6, 'min_samples_split': 18, 'n_estimators': 13}\n",
            "0.8018472671872023 {'max_depth': 14, 'max_features': 'log2', 'min_samples_leaf': 6, 'min_samples_split': 20, 'n_estimators': 5}\n",
            "0.805192661715229 {'max_depth': 14, 'max_features': 'log2', 'min_samples_leaf': 6, 'min_samples_split': 20, 'n_estimators': 7}\n",
            "0.8209356947882943 {'max_depth': 14, 'max_features': 'log2', 'min_samples_leaf': 6, 'min_samples_split': 20, 'n_estimators': 9}\n",
            "0.8130768742461754 {'max_depth': 14, 'max_features': 'log2', 'min_samples_leaf': 6, 'min_samples_split': 20, 'n_estimators': 11}\n",
            "0.8085571002348759 {'max_depth': 14, 'max_features': 'log2', 'min_samples_leaf': 6, 'min_samples_split': 20, 'n_estimators': 13}\n",
            "0.810797943248905 {'max_depth': 14, 'max_features': 'log2', 'min_samples_leaf': 6, 'min_samples_split': 22, 'n_estimators': 5}\n",
            "0.8096933917349076 {'max_depth': 14, 'max_features': 'log2', 'min_samples_leaf': 6, 'min_samples_split': 22, 'n_estimators': 7}\n",
            "0.8096743477432871 {'max_depth': 14, 'max_features': 'log2', 'min_samples_leaf': 6, 'min_samples_split': 22, 'n_estimators': 9}\n",
            "0.8029327747095791 {'max_depth': 14, 'max_features': 'log2', 'min_samples_leaf': 6, 'min_samples_split': 22, 'n_estimators': 11}\n",
            "0.8186948517742652 {'max_depth': 14, 'max_features': 'log2', 'min_samples_leaf': 6, 'min_samples_split': 22, 'n_estimators': 13}\n",
            "0.8096997397321146 {'max_depth': 14, 'max_features': 'log2', 'min_samples_leaf': 8, 'min_samples_split': 16, 'n_estimators': 5}\n",
            "0.8062908652320193 {'max_depth': 14, 'max_features': 'log2', 'min_samples_leaf': 8, 'min_samples_split': 16, 'n_estimators': 7}\n",
            "0.807427156732051 {'max_depth': 14, 'max_features': 'log2', 'min_samples_leaf': 8, 'min_samples_split': 16, 'n_estimators': 9}\n",
            "0.8141877737573795 {'max_depth': 14, 'max_features': 'log2', 'min_samples_leaf': 8, 'min_samples_split': 16, 'n_estimators': 11}\n",
            "0.8096743477432871 {'max_depth': 14, 'max_features': 'log2', 'min_samples_leaf': 8, 'min_samples_split': 16, 'n_estimators': 13}\n",
            "0.8017583952263061 {'max_depth': 14, 'max_features': 'log2', 'min_samples_leaf': 8, 'min_samples_split': 18, 'n_estimators': 5}\n",
            "0.810797943248905 {'max_depth': 14, 'max_features': 'log2', 'min_samples_leaf': 8, 'min_samples_split': 18, 'n_estimators': 7}\n",
            "0.8006728877039295 {'max_depth': 14, 'max_features': 'log2', 'min_samples_leaf': 8, 'min_samples_split': 18, 'n_estimators': 9}\n",
            "0.8029264267123721 {'max_depth': 14, 'max_features': 'log2', 'min_samples_leaf': 8, 'min_samples_split': 18, 'n_estimators': 11}\n",
            "0.8220592902939122 {'max_depth': 14, 'max_features': 'log2', 'min_samples_leaf': 8, 'min_samples_split': 18, 'n_estimators': 13}\n",
            "0.8175649082714405 {'max_depth': 14, 'max_features': 'log2', 'min_samples_leaf': 8, 'min_samples_split': 20, 'n_estimators': 5}\n",
            "0.8118961467656955 {'max_depth': 14, 'max_features': 'log2', 'min_samples_leaf': 8, 'min_samples_split': 20, 'n_estimators': 7}\n",
            "0.8130514822573478 {'max_depth': 14, 'max_features': 'log2', 'min_samples_leaf': 8, 'min_samples_split': 20, 'n_estimators': 9}\n",
            "0.8051736177236082 {'max_depth': 14, 'max_features': 'log2', 'min_samples_leaf': 8, 'min_samples_split': 20, 'n_estimators': 11}\n",
            "0.8119278867517299 {'max_depth': 14, 'max_features': 'log2', 'min_samples_leaf': 8, 'min_samples_split': 20, 'n_estimators': 13}\n",
            "0.8052053577096426 {'max_depth': 14, 'max_features': 'log2', 'min_samples_leaf': 8, 'min_samples_split': 22, 'n_estimators': 5}\n",
            "0.8062908652320193 {'max_depth': 14, 'max_features': 'log2', 'min_samples_leaf': 8, 'min_samples_split': 22, 'n_estimators': 7}\n",
            "0.810797943248905 {'max_depth': 14, 'max_features': 'log2', 'min_samples_leaf': 8, 'min_samples_split': 22, 'n_estimators': 9}\n",
            "0.8142004697517933 {'max_depth': 14, 'max_features': 'log2', 'min_samples_leaf': 8, 'min_samples_split': 22, 'n_estimators': 11}\n",
            "0.8153113692629976 {'max_depth': 14, 'max_features': 'log2', 'min_samples_leaf': 8, 'min_samples_split': 22, 'n_estimators': 13}\n",
            "0.8220783342855329 {'max_depth': 16, 'max_features': 'auto', 'min_samples_leaf': 2, 'min_samples_split': 16, 'n_estimators': 5}\n",
            "0.8108233352377325 {'max_depth': 16, 'max_features': 'auto', 'min_samples_leaf': 2, 'min_samples_split': 16, 'n_estimators': 7}\n",
            "0.8096679997460802 {'max_depth': 16, 'max_features': 'auto', 'min_samples_leaf': 2, 'min_samples_split': 16, 'n_estimators': 9}\n",
            "0.813089570240589 {'max_depth': 16, 'max_features': 'auto', 'min_samples_leaf': 2, 'min_samples_split': 16, 'n_estimators': 11}\n",
            "0.8153304132546182 {'max_depth': 16, 'max_features': 'auto', 'min_samples_leaf': 2, 'min_samples_split': 16, 'n_estimators': 13}\n",
            "0.813089570240589 {'max_depth': 16, 'max_features': 'auto', 'min_samples_leaf': 2, 'min_samples_split': 18, 'n_estimators': 5}\n",
            "0.8164286167714087 {'max_depth': 16, 'max_features': 'auto', 'min_samples_leaf': 2, 'min_samples_split': 18, 'n_estimators': 7}\n",
            "0.8288452993080682 {'max_depth': 16, 'max_features': 'auto', 'min_samples_leaf': 2, 'min_samples_split': 18, 'n_estimators': 9}\n",
            "0.8232336697771853 {'max_depth': 16, 'max_features': 'auto', 'min_samples_leaf': 2, 'min_samples_split': 18, 'n_estimators': 11}\n",
            "0.8209610867771218 {'max_depth': 16, 'max_features': 'auto', 'min_samples_leaf': 2, 'min_samples_split': 18, 'n_estimators': 13}\n",
            "0.805192661715229 {'max_depth': 16, 'max_features': 'auto', 'min_samples_leaf': 2, 'min_samples_split': 20, 'n_estimators': 5}\n",
            "0.8198374912715038 {'max_depth': 16, 'max_features': 'auto', 'min_samples_leaf': 2, 'min_samples_split': 20, 'n_estimators': 7}\n",
            "0.8221037262743606 {'max_depth': 16, 'max_features': 'auto', 'min_samples_leaf': 2, 'min_samples_split': 20, 'n_estimators': 9}\n",
            "0.8175903002602679 {'max_depth': 16, 'max_features': 'auto', 'min_samples_leaf': 2, 'min_samples_split': 20, 'n_estimators': 11}\n",
            "0.8198374912715038 {'max_depth': 16, 'max_features': 'auto', 'min_samples_leaf': 2, 'min_samples_split': 20, 'n_estimators': 13}\n",
            "0.8220846822827399 {'max_depth': 16, 'max_features': 'auto', 'min_samples_leaf': 2, 'min_samples_split': 22, 'n_estimators': 5}\n",
            "0.8142258617406208 {'max_depth': 16, 'max_features': 'auto', 'min_samples_leaf': 2, 'min_samples_split': 22, 'n_estimators': 7}\n",
            "0.8164540087602361 {'max_depth': 16, 'max_features': 'auto', 'min_samples_leaf': 2, 'min_samples_split': 22, 'n_estimators': 9}\n",
            "0.8142068177490002 {'max_depth': 16, 'max_features': 'auto', 'min_samples_leaf': 2, 'min_samples_split': 22, 'n_estimators': 11}\n",
            "0.8243572652828034 {'max_depth': 16, 'max_features': 'auto', 'min_samples_leaf': 2, 'min_samples_split': 22, 'n_estimators': 13}\n",
            "0.826610804291246 {'max_depth': 16, 'max_features': 'auto', 'min_samples_leaf': 4, 'min_samples_split': 16, 'n_estimators': 5}\n",
            "0.8176093442518886 {'max_depth': 16, 'max_features': 'auto', 'min_samples_leaf': 4, 'min_samples_split': 16, 'n_estimators': 7}\n",
            "0.824331873293976 {'max_depth': 16, 'max_features': 'auto', 'min_samples_leaf': 4, 'min_samples_split': 16, 'n_estimators': 9}\n",
            "0.8221100742715672 {'max_depth': 16, 'max_features': 'auto', 'min_samples_leaf': 4, 'min_samples_split': 16, 'n_estimators': 11}\n",
            "0.8164667047546498 {'max_depth': 16, 'max_features': 'auto', 'min_samples_leaf': 4, 'min_samples_split': 16, 'n_estimators': 13}\n",
            "0.8052307496984701 {'max_depth': 16, 'max_features': 'auto', 'min_samples_leaf': 4, 'min_samples_split': 18, 'n_estimators': 5}\n",
            "0.8119342347489369 {'max_depth': 16, 'max_features': 'auto', 'min_samples_leaf': 4, 'min_samples_split': 18, 'n_estimators': 7}\n",
            "0.8141941217545863 {'max_depth': 16, 'max_features': 'auto', 'min_samples_leaf': 4, 'min_samples_split': 18, 'n_estimators': 9}\n",
            "0.8198120992826764 {'max_depth': 16, 'max_features': 'auto', 'min_samples_leaf': 4, 'min_samples_split': 18, 'n_estimators': 11}\n",
            "0.823189233796737 {'max_depth': 16, 'max_features': 'auto', 'min_samples_leaf': 4, 'min_samples_split': 18, 'n_estimators': 13}\n",
            "0.8187075477686789 {'max_depth': 16, 'max_features': 'auto', 'min_samples_leaf': 4, 'min_samples_split': 20, 'n_estimators': 5}\n",
            "0.8277217038024502 {'max_depth': 16, 'max_features': 'auto', 'min_samples_leaf': 4, 'min_samples_split': 20, 'n_estimators': 7}\n",
            "0.8085697962292897 {'max_depth': 16, 'max_features': 'auto', 'min_samples_leaf': 4, 'min_samples_split': 20, 'n_estimators': 9}\n",
            "0.8153240652574112 {'max_depth': 16, 'max_features': 'auto', 'min_samples_leaf': 4, 'min_samples_split': 20, 'n_estimators': 11}\n",
            "0.820961086777122 {'max_depth': 16, 'max_features': 'auto', 'min_samples_leaf': 4, 'min_samples_split': 20, 'n_estimators': 13}\n",
            "0.8153431092490319 {'max_depth': 16, 'max_features': 'auto', 'min_samples_leaf': 4, 'min_samples_split': 22, 'n_estimators': 5}\n",
            "0.8108296832349394 {'max_depth': 16, 'max_features': 'auto', 'min_samples_leaf': 4, 'min_samples_split': 22, 'n_estimators': 7}\n",
            "0.8254745127912143 {'max_depth': 16, 'max_features': 'auto', 'min_samples_leaf': 4, 'min_samples_split': 22, 'n_estimators': 9}\n",
            "0.805179965720815 {'max_depth': 16, 'max_features': 'auto', 'min_samples_leaf': 4, 'min_samples_split': 22, 'n_estimators': 11}\n",
            "0.8063162572208469 {'max_depth': 16, 'max_features': 'auto', 'min_samples_leaf': 4, 'min_samples_split': 22, 'n_estimators': 13}\n",
            "0.8096933917349076 {'max_depth': 16, 'max_features': 'auto', 'min_samples_leaf': 6, 'min_samples_split': 16, 'n_estimators': 5}\n",
            "0.802939122706786 {'max_depth': 16, 'max_features': 'auto', 'min_samples_leaf': 6, 'min_samples_split': 16, 'n_estimators': 7}\n",
            "0.8096870437377008 {'max_depth': 16, 'max_features': 'auto', 'min_samples_leaf': 6, 'min_samples_split': 16, 'n_estimators': 9}\n",
            "0.8186821557798515 {'max_depth': 16, 'max_features': 'auto', 'min_samples_leaf': 6, 'min_samples_split': 16, 'n_estimators': 11}\n",
            "0.8175649082714405 {'max_depth': 16, 'max_features': 'auto', 'min_samples_leaf': 6, 'min_samples_split': 16, 'n_estimators': 13}\n",
            "0.8130451342601409 {'max_depth': 16, 'max_features': 'auto', 'min_samples_leaf': 6, 'min_samples_split': 18, 'n_estimators': 5}\n",
            "0.806354345204088 {'max_depth': 16, 'max_features': 'auto', 'min_samples_leaf': 6, 'min_samples_split': 18, 'n_estimators': 7}\n",
            "0.8096806957404938 {'max_depth': 16, 'max_features': 'auto', 'min_samples_leaf': 6, 'min_samples_split': 18, 'n_estimators': 9}\n",
            "0.8085571002348757 {'max_depth': 16, 'max_features': 'auto', 'min_samples_leaf': 6, 'min_samples_split': 18, 'n_estimators': 11}\n",
            "0.8119405827461434 {'max_depth': 16, 'max_features': 'auto', 'min_samples_leaf': 6, 'min_samples_split': 18, 'n_estimators': 13}\n",
            "0.8119913667237986 {'max_depth': 16, 'max_features': 'auto', 'min_samples_leaf': 6, 'min_samples_split': 20, 'n_estimators': 5}\n",
            "0.8119405827461434 {'max_depth': 16, 'max_features': 'auto', 'min_samples_leaf': 6, 'min_samples_split': 20, 'n_estimators': 7}\n",
            "0.8085824922237034 {'max_depth': 16, 'max_features': 'auto', 'min_samples_leaf': 6, 'min_samples_split': 20, 'n_estimators': 9}\n",
            "0.8164413127658225 {'max_depth': 16, 'max_features': 'auto', 'min_samples_leaf': 6, 'min_samples_split': 20, 'n_estimators': 11}\n",
            "0.8164476607630293 {'max_depth': 16, 'max_features': 'auto', 'min_samples_leaf': 6, 'min_samples_split': 20, 'n_estimators': 13}\n",
            "0.8062972132292263 {'max_depth': 16, 'max_features': 'auto', 'min_samples_leaf': 6, 'min_samples_split': 22, 'n_estimators': 5}\n",
            "0.811915190757316 {'max_depth': 16, 'max_features': 'auto', 'min_samples_leaf': 6, 'min_samples_split': 22, 'n_estimators': 7}\n",
            "0.8097060877293213 {'max_depth': 16, 'max_features': 'auto', 'min_samples_leaf': 6, 'min_samples_split': 22, 'n_estimators': 9}\n",
            "0.8175712562686472 {'max_depth': 16, 'max_features': 'auto', 'min_samples_leaf': 6, 'min_samples_split': 22, 'n_estimators': 11}\n",
            "0.8119469307433504 {'max_depth': 16, 'max_features': 'auto', 'min_samples_leaf': 6, 'min_samples_split': 22, 'n_estimators': 13}\n",
            "0.8119278867517299 {'max_depth': 16, 'max_features': 'auto', 'min_samples_leaf': 8, 'min_samples_split': 16, 'n_estimators': 5}\n",
            "0.8142004697517933 {'max_depth': 16, 'max_features': 'auto', 'min_samples_leaf': 8, 'min_samples_split': 16, 'n_estimators': 7}\n",
            "0.798444740684314 {'max_depth': 16, 'max_features': 'auto', 'min_samples_leaf': 8, 'min_samples_split': 16, 'n_estimators': 9}\n",
            "0.8142004697517933 {'max_depth': 16, 'max_features': 'auto', 'min_samples_leaf': 8, 'min_samples_split': 16, 'n_estimators': 11}\n",
            "0.8209420427855012 {'max_depth': 16, 'max_features': 'auto', 'min_samples_leaf': 8, 'min_samples_split': 16, 'n_estimators': 13}\n",
            "0.8085507522376691 {'max_depth': 16, 'max_features': 'auto', 'min_samples_leaf': 8, 'min_samples_split': 18, 'n_estimators': 5}\n",
            "0.8029264267123721 {'max_depth': 16, 'max_features': 'auto', 'min_samples_leaf': 8, 'min_samples_split': 18, 'n_estimators': 7}\n",
            "0.802939122706786 {'max_depth': 16, 'max_features': 'auto', 'min_samples_leaf': 8, 'min_samples_split': 18, 'n_estimators': 9}\n",
            "0.807433504729258 {'max_depth': 16, 'max_features': 'auto', 'min_samples_leaf': 8, 'min_samples_split': 18, 'n_estimators': 11}\n",
            "0.8096870437377008 {'max_depth': 16, 'max_features': 'auto', 'min_samples_leaf': 8, 'min_samples_split': 18, 'n_estimators': 13}\n",
            "0.8220846822827397 {'max_depth': 16, 'max_features': 'auto', 'min_samples_leaf': 8, 'min_samples_split': 20, 'n_estimators': 5}\n",
            "0.8085507522376689 {'max_depth': 16, 'max_features': 'auto', 'min_samples_leaf': 8, 'min_samples_split': 20, 'n_estimators': 7}\n",
            "0.8096933917349076 {'max_depth': 16, 'max_features': 'auto', 'min_samples_leaf': 8, 'min_samples_split': 20, 'n_estimators': 9}\n",
            "0.8164349647686155 {'max_depth': 16, 'max_features': 'auto', 'min_samples_leaf': 8, 'min_samples_split': 20, 'n_estimators': 11}\n",
            "0.8164222687742019 {'max_depth': 16, 'max_features': 'auto', 'min_samples_leaf': 8, 'min_samples_split': 20, 'n_estimators': 13}\n",
            "0.8096743477432871 {'max_depth': 16, 'max_features': 'auto', 'min_samples_leaf': 8, 'min_samples_split': 22, 'n_estimators': 5}\n",
            "0.807427156732051 {'max_depth': 16, 'max_features': 'auto', 'min_samples_leaf': 8, 'min_samples_split': 22, 'n_estimators': 7}\n",
            "0.8040754142068177 {'max_depth': 16, 'max_features': 'auto', 'min_samples_leaf': 8, 'min_samples_split': 22, 'n_estimators': 9}\n",
            "0.807433504729258 {'max_depth': 16, 'max_features': 'auto', 'min_samples_leaf': 8, 'min_samples_split': 22, 'n_estimators': 11}\n",
            "0.8141750777629658 {'max_depth': 16, 'max_features': 'auto', 'min_samples_leaf': 8, 'min_samples_split': 22, 'n_estimators': 13}\n",
            "0.804062718212404 {'max_depth': 16, 'max_features': 'sqrt', 'min_samples_leaf': 2, 'min_samples_split': 16, 'n_estimators': 5}\n",
            "0.8232146257855646 {'max_depth': 16, 'max_features': 'sqrt', 'min_samples_leaf': 2, 'min_samples_split': 16, 'n_estimators': 7}\n",
            "0.8074588967180855 {'max_depth': 16, 'max_features': 'sqrt', 'min_samples_leaf': 2, 'min_samples_split': 16, 'n_estimators': 9}\n",
            "0.8243064813051483 {'max_depth': 16, 'max_features': 'sqrt', 'min_samples_leaf': 2, 'min_samples_split': 16, 'n_estimators': 11}\n",
            "0.8209801307687424 {'max_depth': 16, 'max_features': 'sqrt', 'min_samples_leaf': 2, 'min_samples_split': 16, 'n_estimators': 13}\n",
            "0.8187456357519203 {'max_depth': 16, 'max_features': 'sqrt', 'min_samples_leaf': 2, 'min_samples_split': 18, 'n_estimators': 5}\n",
            "0.8097060877293213 {'max_depth': 16, 'max_features': 'sqrt', 'min_samples_leaf': 2, 'min_samples_split': 18, 'n_estimators': 7}\n",
            "0.8299688948136863 {'max_depth': 16, 'max_features': 'sqrt', 'min_samples_leaf': 2, 'min_samples_split': 18, 'n_estimators': 9}\n",
            "0.8063479972068812 {'max_depth': 16, 'max_features': 'sqrt', 'min_samples_leaf': 2, 'min_samples_split': 18, 'n_estimators': 11}\n",
            "0.81646670475465 {'max_depth': 16, 'max_features': 'sqrt', 'min_samples_leaf': 2, 'min_samples_split': 18, 'n_estimators': 13}\n",
            "0.8198247952770901 {'max_depth': 16, 'max_features': 'sqrt', 'min_samples_leaf': 2, 'min_samples_split': 20, 'n_estimators': 5}\n",
            "0.8085888402209103 {'max_depth': 16, 'max_features': 'sqrt', 'min_samples_leaf': 2, 'min_samples_split': 20, 'n_estimators': 7}\n",
            "0.8153113692629974 {'max_depth': 16, 'max_features': 'sqrt', 'min_samples_leaf': 2, 'min_samples_split': 20, 'n_estimators': 9}\n",
            "0.8074779407097061 {'max_depth': 16, 'max_features': 'sqrt', 'min_samples_leaf': 2, 'min_samples_split': 20, 'n_estimators': 11}\n",
            "0.8074462007236717 {'max_depth': 16, 'max_features': 'sqrt', 'min_samples_leaf': 2, 'min_samples_split': 20, 'n_estimators': 13}\n",
            "0.8119659747349711 {'max_depth': 16, 'max_features': 'sqrt', 'min_samples_leaf': 2, 'min_samples_split': 22, 'n_estimators': 5}\n",
            "0.8074715927124991 {'max_depth': 16, 'max_features': 'sqrt', 'min_samples_leaf': 2, 'min_samples_split': 22, 'n_estimators': 7}\n",
            "0.8142004697517933 {'max_depth': 16, 'max_features': 'sqrt', 'min_samples_leaf': 2, 'min_samples_split': 22, 'n_estimators': 9}\n",
            "0.8131086142322097 {'max_depth': 16, 'max_features': 'sqrt', 'min_samples_leaf': 2, 'min_samples_split': 22, 'n_estimators': 11}\n",
            "0.8187011997714719 {'max_depth': 16, 'max_features': 'sqrt', 'min_samples_leaf': 2, 'min_samples_split': 22, 'n_estimators': 13}\n",
            "0.8209293467910873 {'max_depth': 16, 'max_features': 'sqrt', 'min_samples_leaf': 4, 'min_samples_split': 16, 'n_estimators': 5}\n",
            "0.8288199073192407 {'max_depth': 16, 'max_features': 'sqrt', 'min_samples_leaf': 4, 'min_samples_split': 16, 'n_estimators': 7}\n",
            "0.8130578302545548 {'max_depth': 16, 'max_features': 'sqrt', 'min_samples_leaf': 4, 'min_samples_split': 16, 'n_estimators': 9}\n",
            "0.8186948517742654 {'max_depth': 16, 'max_features': 'sqrt', 'min_samples_leaf': 4, 'min_samples_split': 16, 'n_estimators': 11}\n",
            "0.8119786707293848 {'max_depth': 16, 'max_features': 'sqrt', 'min_samples_leaf': 4, 'min_samples_split': 16, 'n_estimators': 13}\n",
            "0.8108169872405255 {'max_depth': 16, 'max_features': 'sqrt', 'min_samples_leaf': 4, 'min_samples_split': 18, 'n_estimators': 5}\n",
            "0.8074652447152924 {'max_depth': 16, 'max_features': 'sqrt', 'min_samples_leaf': 4, 'min_samples_split': 18, 'n_estimators': 7}\n",
            "0.8130641782517616 {'max_depth': 16, 'max_features': 'sqrt', 'min_samples_leaf': 4, 'min_samples_split': 18, 'n_estimators': 9}\n",
            "0.8277026598108297 {'max_depth': 16, 'max_features': 'sqrt', 'min_samples_leaf': 4, 'min_samples_split': 18, 'n_estimators': 11}\n",
            "0.8220910302799467 {'max_depth': 16, 'max_features': 'sqrt', 'min_samples_leaf': 4, 'min_samples_split': 18, 'n_estimators': 13}\n",
            "0.8097187837237352 {'max_depth': 16, 'max_features': 'sqrt', 'min_samples_leaf': 4, 'min_samples_split': 20, 'n_estimators': 5}\n",
            "0.8119532787405573 {'max_depth': 16, 'max_features': 'sqrt', 'min_samples_leaf': 4, 'min_samples_split': 20, 'n_estimators': 7}\n",
            "0.8153304132546182 {'max_depth': 16, 'max_features': 'sqrt', 'min_samples_leaf': 4, 'min_samples_split': 20, 'n_estimators': 9}\n",
            "0.8197994032882626 {'max_depth': 16, 'max_features': 'sqrt', 'min_samples_leaf': 4, 'min_samples_split': 20, 'n_estimators': 11}\n",
            "0.8141941217545865 {'max_depth': 16, 'max_features': 'sqrt', 'min_samples_leaf': 4, 'min_samples_split': 20, 'n_estimators': 13}\n",
            "0.8074462007236717 {'max_depth': 16, 'max_features': 'sqrt', 'min_samples_leaf': 4, 'min_samples_split': 22, 'n_estimators': 5}\n",
            "0.7995429442011046 {'max_depth': 16, 'max_features': 'sqrt', 'min_samples_leaf': 4, 'min_samples_split': 22, 'n_estimators': 7}\n",
            "0.8153113692629974 {'max_depth': 16, 'max_features': 'sqrt', 'min_samples_leaf': 4, 'min_samples_split': 22, 'n_estimators': 9}\n",
            "0.824319177299562 {'max_depth': 16, 'max_features': 'sqrt', 'min_samples_leaf': 4, 'min_samples_split': 22, 'n_estimators': 11}\n",
            "0.8232082777883578 {'max_depth': 16, 'max_features': 'sqrt', 'min_samples_leaf': 4, 'min_samples_split': 22, 'n_estimators': 13}\n",
            "0.8175268202881991 {'max_depth': 16, 'max_features': 'sqrt', 'min_samples_leaf': 6, 'min_samples_split': 16, 'n_estimators': 5}\n",
            "0.8119596267377641 {'max_depth': 16, 'max_features': 'sqrt', 'min_samples_leaf': 6, 'min_samples_split': 16, 'n_estimators': 7}\n",
            "0.8085444042404621 {'max_depth': 16, 'max_features': 'sqrt', 'min_samples_leaf': 6, 'min_samples_split': 16, 'n_estimators': 9}\n",
            "0.8130578302545548 {'max_depth': 16, 'max_features': 'sqrt', 'min_samples_leaf': 6, 'min_samples_split': 16, 'n_estimators': 11}\n",
            "0.8108106392433185 {'max_depth': 16, 'max_features': 'sqrt', 'min_samples_leaf': 6, 'min_samples_split': 16, 'n_estimators': 13}\n",
            "0.8107788992572843 {'max_depth': 16, 'max_features': 'sqrt', 'min_samples_leaf': 6, 'min_samples_split': 18, 'n_estimators': 5}\n",
            "0.8040881102012316 {'max_depth': 16, 'max_features': 'sqrt', 'min_samples_leaf': 6, 'min_samples_split': 18, 'n_estimators': 7}\n",
            "0.8096679997460802 {'max_depth': 16, 'max_features': 'sqrt', 'min_samples_leaf': 6, 'min_samples_split': 18, 'n_estimators': 9}\n",
            "0.8107915952516981 {'max_depth': 16, 'max_features': 'sqrt', 'min_samples_leaf': 6, 'min_samples_split': 18, 'n_estimators': 11}\n",
            "0.8164476607630293 {'max_depth': 16, 'max_features': 'sqrt', 'min_samples_leaf': 6, 'min_samples_split': 18, 'n_estimators': 13}\n",
            "0.8153367612518251 {'max_depth': 16, 'max_features': 'sqrt', 'min_samples_leaf': 6, 'min_samples_split': 20, 'n_estimators': 5}\n",
            "0.8198438392687107 {'max_depth': 16, 'max_features': 'sqrt', 'min_samples_leaf': 6, 'min_samples_split': 20, 'n_estimators': 7}\n",
            "0.8040309782263696 {'max_depth': 16, 'max_features': 'sqrt', 'min_samples_leaf': 6, 'min_samples_split': 20, 'n_estimators': 9}\n",
            "0.8130514822573478 {'max_depth': 16, 'max_features': 'sqrt', 'min_samples_leaf': 6, 'min_samples_split': 20, 'n_estimators': 11}\n",
            "0.8130578302545546 {'max_depth': 16, 'max_features': 'sqrt', 'min_samples_leaf': 6, 'min_samples_split': 20, 'n_estimators': 13}\n",
            "0.8187011997714719 {'max_depth': 16, 'max_features': 'sqrt', 'min_samples_leaf': 6, 'min_samples_split': 22, 'n_estimators': 5}\n",
            "0.8063162572208469 {'max_depth': 16, 'max_features': 'sqrt', 'min_samples_leaf': 6, 'min_samples_split': 22, 'n_estimators': 7}\n",
            "0.811921538754523 {'max_depth': 16, 'max_features': 'sqrt', 'min_samples_leaf': 6, 'min_samples_split': 22, 'n_estimators': 9}\n",
            "0.8175712562686472 {'max_depth': 16, 'max_features': 'sqrt', 'min_samples_leaf': 6, 'min_samples_split': 22, 'n_estimators': 11}\n",
            "0.8119215387545229 {'max_depth': 16, 'max_features': 'sqrt', 'min_samples_leaf': 6, 'min_samples_split': 22, 'n_estimators': 13}\n",
            "0.8108106392433188 {'max_depth': 16, 'max_features': 'sqrt', 'min_samples_leaf': 8, 'min_samples_split': 16, 'n_estimators': 5}\n",
            "0.8107915952516981 {'max_depth': 16, 'max_features': 'sqrt', 'min_samples_leaf': 8, 'min_samples_split': 16, 'n_estimators': 7}\n",
            "0.805179965720815 {'max_depth': 16, 'max_features': 'sqrt', 'min_samples_leaf': 8, 'min_samples_split': 16, 'n_estimators': 9}\n",
            "0.8153113692629976 {'max_depth': 16, 'max_features': 'sqrt', 'min_samples_leaf': 8, 'min_samples_split': 16, 'n_estimators': 11}\n",
            "0.8130578302545548 {'max_depth': 16, 'max_features': 'sqrt', 'min_samples_leaf': 8, 'min_samples_split': 16, 'n_estimators': 13}\n",
            "0.7939376626674284 {'max_depth': 16, 'max_features': 'sqrt', 'min_samples_leaf': 8, 'min_samples_split': 18, 'n_estimators': 5}\n",
            "0.7939376626674285 {'max_depth': 16, 'max_features': 'sqrt', 'min_samples_leaf': 8, 'min_samples_split': 18, 'n_estimators': 7}\n",
            "0.8085634482320827 {'max_depth': 16, 'max_features': 'sqrt', 'min_samples_leaf': 8, 'min_samples_split': 18, 'n_estimators': 9}\n",
            "0.8141687297657588 {'max_depth': 16, 'max_features': 'sqrt', 'min_samples_leaf': 8, 'min_samples_split': 18, 'n_estimators': 11}\n",
            "0.8119342347489367 {'max_depth': 16, 'max_features': 'sqrt', 'min_samples_leaf': 8, 'min_samples_split': 18, 'n_estimators': 13}\n",
            "0.8118834507712818 {'max_depth': 16, 'max_features': 'sqrt', 'min_samples_leaf': 8, 'min_samples_split': 20, 'n_estimators': 5}\n",
            "0.8017837872151337 {'max_depth': 16, 'max_features': 'sqrt', 'min_samples_leaf': 8, 'min_samples_split': 20, 'n_estimators': 7}\n",
            "0.8063099092236401 {'max_depth': 16, 'max_features': 'sqrt', 'min_samples_leaf': 8, 'min_samples_split': 20, 'n_estimators': 9}\n",
            "0.8141877737573795 {'max_depth': 16, 'max_features': 'sqrt', 'min_samples_leaf': 8, 'min_samples_split': 20, 'n_estimators': 11}\n",
            "0.8243001333079414 {'max_depth': 16, 'max_features': 'sqrt', 'min_samples_leaf': 8, 'min_samples_split': 20, 'n_estimators': 13}\n",
            "0.8085571002348759 {'max_depth': 16, 'max_features': 'sqrt', 'min_samples_leaf': 8, 'min_samples_split': 22, 'n_estimators': 5}\n",
            "0.7984320446899004 {'max_depth': 16, 'max_features': 'sqrt', 'min_samples_leaf': 8, 'min_samples_split': 22, 'n_estimators': 7}\n",
            "0.8096933917349076 {'max_depth': 16, 'max_features': 'sqrt', 'min_samples_leaf': 8, 'min_samples_split': 22, 'n_estimators': 9}\n",
            "0.8074398527264648 {'max_depth': 16, 'max_features': 'sqrt', 'min_samples_leaf': 8, 'min_samples_split': 22, 'n_estimators': 11}\n",
            "0.8220465942994984 {'max_depth': 16, 'max_features': 'sqrt', 'min_samples_leaf': 8, 'min_samples_split': 22, 'n_estimators': 13}\n",
            "0.8209674347743287 {'max_depth': 16, 'max_features': 'log2', 'min_samples_leaf': 2, 'min_samples_split': 16, 'n_estimators': 5}\n",
            "0.8108423792293532 {'max_depth': 16, 'max_features': 'log2', 'min_samples_leaf': 2, 'min_samples_split': 16, 'n_estimators': 7}\n",
            "0.8220910302799466 {'max_depth': 16, 'max_features': 'log2', 'min_samples_leaf': 2, 'min_samples_split': 16, 'n_estimators': 9}\n",
            "0.813095918237796 {'max_depth': 16, 'max_features': 'log2', 'min_samples_leaf': 2, 'min_samples_split': 16, 'n_estimators': 11}\n",
            "0.820954738779915 {'max_depth': 16, 'max_features': 'log2', 'min_samples_leaf': 2, 'min_samples_split': 16, 'n_estimators': 13}\n",
            "0.8063416492096744 {'max_depth': 16, 'max_features': 'log2', 'min_samples_leaf': 2, 'min_samples_split': 18, 'n_estimators': 5}\n",
            "0.8141941217545865 {'max_depth': 16, 'max_features': 'log2', 'min_samples_leaf': 2, 'min_samples_split': 18, 'n_estimators': 7}\n",
            "0.8243318732939757 {'max_depth': 16, 'max_features': 'log2', 'min_samples_leaf': 2, 'min_samples_split': 18, 'n_estimators': 9}\n",
            "0.824325525296769 {'max_depth': 16, 'max_features': 'log2', 'min_samples_leaf': 2, 'min_samples_split': 18, 'n_estimators': 11}\n",
            "0.8153367612518249 {'max_depth': 16, 'max_features': 'log2', 'min_samples_leaf': 2, 'min_samples_split': 18, 'n_estimators': 13}\n",
            "0.7995873801815527 {'max_depth': 16, 'max_features': 'log2', 'min_samples_leaf': 2, 'min_samples_split': 20, 'n_estimators': 5}\n",
            "0.8186948517742652 {'max_depth': 16, 'max_features': 'log2', 'min_samples_leaf': 2, 'min_samples_split': 20, 'n_estimators': 7}\n",
            "0.8164603567574431 {'max_depth': 16, 'max_features': 'log2', 'min_samples_leaf': 2, 'min_samples_split': 20, 'n_estimators': 9}\n",
            "0.8265854123024186 {'max_depth': 16, 'max_features': 'log2', 'min_samples_leaf': 2, 'min_samples_split': 20, 'n_estimators': 11}\n",
            "0.8187011997714719 {'max_depth': 16, 'max_features': 'log2', 'min_samples_leaf': 2, 'min_samples_split': 20, 'n_estimators': 13}\n",
            "0.7973465371675237 {'max_depth': 16, 'max_features': 'log2', 'min_samples_leaf': 2, 'min_samples_split': 22, 'n_estimators': 5}\n",
            "0.8119469307433504 {'max_depth': 16, 'max_features': 'log2', 'min_samples_leaf': 2, 'min_samples_split': 22, 'n_estimators': 7}\n",
            "0.8153367612518251 {'max_depth': 16, 'max_features': 'log2', 'min_samples_leaf': 2, 'min_samples_split': 22, 'n_estimators': 9}\n",
            "0.836716815844601 {'max_depth': 16, 'max_features': 'log2', 'min_samples_leaf': 2, 'min_samples_split': 22, 'n_estimators': 11}\n",
            "0.8130832222433823 {'max_depth': 16, 'max_features': 'log2', 'min_samples_leaf': 2, 'min_samples_split': 22, 'n_estimators': 13}\n",
            "0.8130832222433823 {'max_depth': 16, 'max_features': 'log2', 'min_samples_leaf': 4, 'min_samples_split': 16, 'n_estimators': 5}\n",
            "0.8243445692883895 {'max_depth': 16, 'max_features': 'log2', 'min_samples_leaf': 4, 'min_samples_split': 16, 'n_estimators': 7}\n",
            "0.8153431092490319 {'max_depth': 16, 'max_features': 'log2', 'min_samples_leaf': 4, 'min_samples_split': 16, 'n_estimators': 9}\n",
            "0.8153431092490319 {'max_depth': 16, 'max_features': 'log2', 'min_samples_leaf': 4, 'min_samples_split': 16, 'n_estimators': 11}\n",
            "0.7995683361899321 {'max_depth': 16, 'max_features': 'log2', 'min_samples_leaf': 4, 'min_samples_split': 16, 'n_estimators': 13}\n",
            "0.8141814257601727 {'max_depth': 16, 'max_features': 'log2', 'min_samples_leaf': 4, 'min_samples_split': 18, 'n_estimators': 5}\n",
            "0.8130578302545546 {'max_depth': 16, 'max_features': 'log2', 'min_samples_leaf': 4, 'min_samples_split': 18, 'n_estimators': 7}\n",
            "0.820954738779915 {'max_depth': 16, 'max_features': 'log2', 'min_samples_leaf': 4, 'min_samples_split': 18, 'n_estimators': 9}\n",
            "0.8186821557798515 {'max_depth': 16, 'max_features': 'log2', 'min_samples_leaf': 4, 'min_samples_split': 18, 'n_estimators': 11}\n",
            "0.8153050212657906 {'max_depth': 16, 'max_features': 'log2', 'min_samples_leaf': 4, 'min_samples_split': 18, 'n_estimators': 13}\n",
            "0.8051799657208152 {'max_depth': 16, 'max_features': 'log2', 'min_samples_leaf': 4, 'min_samples_split': 20, 'n_estimators': 5}\n",
            "0.8130324382657271 {'max_depth': 16, 'max_features': 'log2', 'min_samples_leaf': 4, 'min_samples_split': 20, 'n_estimators': 7}\n",
            "0.8254300768107662 {'max_depth': 16, 'max_features': 'log2', 'min_samples_leaf': 4, 'min_samples_split': 20, 'n_estimators': 9}\n",
            "0.8063035612264331 {'max_depth': 16, 'max_features': 'log2', 'min_samples_leaf': 4, 'min_samples_split': 20, 'n_estimators': 11}\n",
            "0.8209420427855012 {'max_depth': 16, 'max_features': 'log2', 'min_samples_leaf': 4, 'min_samples_split': 20, 'n_estimators': 13}\n",
            "0.7984003047038659 {'max_depth': 16, 'max_features': 'log2', 'min_samples_leaf': 4, 'min_samples_split': 22, 'n_estimators': 5}\n",
            "0.8277217038024502 {'max_depth': 16, 'max_features': 'log2', 'min_samples_leaf': 4, 'min_samples_split': 22, 'n_estimators': 7}\n",
            "0.8220592902939122 {'max_depth': 16, 'max_features': 'log2', 'min_samples_leaf': 4, 'min_samples_split': 22, 'n_estimators': 9}\n",
            "0.8197994032882626 {'max_depth': 16, 'max_features': 'log2', 'min_samples_leaf': 4, 'min_samples_split': 22, 'n_estimators': 11}\n",
            "0.8108360312321462 {'max_depth': 16, 'max_features': 'log2', 'min_samples_leaf': 4, 'min_samples_split': 22, 'n_estimators': 13}\n",
            "0.8164540087602361 {'max_depth': 16, 'max_features': 'log2', 'min_samples_leaf': 6, 'min_samples_split': 16, 'n_estimators': 5}\n",
            "0.8153177172602044 {'max_depth': 16, 'max_features': 'log2', 'min_samples_leaf': 6, 'min_samples_split': 16, 'n_estimators': 7}\n",
            "0.8197994032882626 {'max_depth': 16, 'max_features': 'log2', 'min_samples_leaf': 6, 'min_samples_split': 16, 'n_estimators': 9}\n",
            "0.8085697962292897 {'max_depth': 16, 'max_features': 'log2', 'min_samples_leaf': 6, 'min_samples_split': 16, 'n_estimators': 11}\n",
            "0.8164476607630291 {'max_depth': 16, 'max_features': 'log2', 'min_samples_leaf': 6, 'min_samples_split': 16, 'n_estimators': 13}\n",
            "0.8029645146956135 {'max_depth': 16, 'max_features': 'log2', 'min_samples_leaf': 6, 'min_samples_split': 18, 'n_estimators': 5}\n",
            "0.8141877737573795 {'max_depth': 16, 'max_features': 'log2', 'min_samples_leaf': 6, 'min_samples_split': 18, 'n_estimators': 7}\n",
            "0.8130641782517616 {'max_depth': 16, 'max_features': 'log2', 'min_samples_leaf': 6, 'min_samples_split': 18, 'n_estimators': 9}\n",
            "0.8164286167714085 {'max_depth': 16, 'max_features': 'log2', 'min_samples_leaf': 6, 'min_samples_split': 18, 'n_estimators': 11}\n",
            "0.8085824922237034 {'max_depth': 16, 'max_features': 'log2', 'min_samples_leaf': 6, 'min_samples_split': 18, 'n_estimators': 13}\n",
            "0.8175395162826128 {'max_depth': 16, 'max_features': 'log2', 'min_samples_leaf': 6, 'min_samples_split': 20, 'n_estimators': 5}\n",
            "0.8119278867517299 {'max_depth': 16, 'max_features': 'log2', 'min_samples_leaf': 6, 'min_samples_split': 20, 'n_estimators': 7}\n",
            "0.8164286167714085 {'max_depth': 16, 'max_features': 'log2', 'min_samples_leaf': 6, 'min_samples_split': 20, 'n_estimators': 9}\n",
            "0.8265727163080048 {'max_depth': 16, 'max_features': 'log2', 'min_samples_leaf': 6, 'min_samples_split': 20, 'n_estimators': 11}\n",
            "0.8108296832349394 {'max_depth': 16, 'max_features': 'log2', 'min_samples_leaf': 6, 'min_samples_split': 20, 'n_estimators': 13}\n",
            "0.8062972132292261 {'max_depth': 16, 'max_features': 'log2', 'min_samples_leaf': 6, 'min_samples_split': 22, 'n_estimators': 5}\n",
            "0.8108106392433188 {'max_depth': 16, 'max_features': 'log2', 'min_samples_leaf': 6, 'min_samples_split': 22, 'n_estimators': 7}\n",
            "0.8254618167968006 {'max_depth': 16, 'max_features': 'log2', 'min_samples_leaf': 6, 'min_samples_split': 22, 'n_estimators': 9}\n",
            "0.8085571002348759 {'max_depth': 16, 'max_features': 'log2', 'min_samples_leaf': 6, 'min_samples_split': 22, 'n_estimators': 11}\n",
            "0.8063035612264331 {'max_depth': 16, 'max_features': 'log2', 'min_samples_leaf': 6, 'min_samples_split': 22, 'n_estimators': 13}\n",
            "0.8074398527264648 {'max_depth': 16, 'max_features': 'log2', 'min_samples_leaf': 8, 'min_samples_split': 16, 'n_estimators': 5}\n",
            "0.8074208087348442 {'max_depth': 16, 'max_features': 'log2', 'min_samples_leaf': 8, 'min_samples_split': 16, 'n_estimators': 7}\n",
            "0.8119469307433504 {'max_depth': 16, 'max_features': 'log2', 'min_samples_leaf': 8, 'min_samples_split': 16, 'n_estimators': 9}\n",
            "0.8153050212657906 {'max_depth': 16, 'max_features': 'log2', 'min_samples_leaf': 8, 'min_samples_split': 16, 'n_estimators': 11}\n",
            "0.8231765378023234 {'max_depth': 16, 'max_features': 'log2', 'min_samples_leaf': 8, 'min_samples_split': 16, 'n_estimators': 13}\n",
            "0.7984193486954866 {'max_depth': 16, 'max_features': 'log2', 'min_samples_leaf': 8, 'min_samples_split': 18, 'n_estimators': 5}\n",
            "0.8130260902685202 {'max_depth': 16, 'max_features': 'log2', 'min_samples_leaf': 8, 'min_samples_split': 18, 'n_estimators': 7}\n",
            "0.8175522122770266 {'max_depth': 16, 'max_features': 'log2', 'min_samples_leaf': 8, 'min_samples_split': 18, 'n_estimators': 9}\n",
            "0.8130324382657271 {'max_depth': 16, 'max_features': 'log2', 'min_samples_leaf': 8, 'min_samples_split': 18, 'n_estimators': 11}\n",
            "0.8119342347489369 {'max_depth': 16, 'max_features': 'log2', 'min_samples_leaf': 8, 'min_samples_split': 18, 'n_estimators': 13}\n",
            "0.8006601917095155 {'max_depth': 16, 'max_features': 'log2', 'min_samples_leaf': 8, 'min_samples_split': 20, 'n_estimators': 5}\n",
            "0.811921538754523 {'max_depth': 16, 'max_features': 'log2', 'min_samples_leaf': 8, 'min_samples_split': 20, 'n_estimators': 7}\n",
            "0.8085571002348759 {'max_depth': 16, 'max_features': 'log2', 'min_samples_leaf': 8, 'min_samples_split': 20, 'n_estimators': 9}\n",
            "0.8018091792039611 {'max_depth': 16, 'max_features': 'log2', 'min_samples_leaf': 8, 'min_samples_split': 20, 'n_estimators': 11}\n",
            "0.8175331682854059 {'max_depth': 16, 'max_features': 'log2', 'min_samples_leaf': 8, 'min_samples_split': 20, 'n_estimators': 13}\n",
            "0.8085571002348757 {'max_depth': 16, 'max_features': 'log2', 'min_samples_leaf': 8, 'min_samples_split': 22, 'n_estimators': 5}\n",
            "0.8130705262489684 {'max_depth': 16, 'max_features': 'log2', 'min_samples_leaf': 8, 'min_samples_split': 22, 'n_estimators': 7}\n",
            "0.8108106392433188 {'max_depth': 16, 'max_features': 'log2', 'min_samples_leaf': 8, 'min_samples_split': 22, 'n_estimators': 9}\n",
            "0.8164413127658225 {'max_depth': 16, 'max_features': 'log2', 'min_samples_leaf': 8, 'min_samples_split': 22, 'n_estimators': 11}\n",
            "0.8040500222179903 {'max_depth': 16, 'max_features': 'log2', 'min_samples_leaf': 8, 'min_samples_split': 22, 'n_estimators': 13}\n"
          ],
          "name": "stdout"
        }
      ]
    },
    {
      "cell_type": "code",
      "metadata": {
        "id": "otadF9i99HXR",
        "colab_type": "code",
        "colab": {
          "base_uri": "https://localhost:8080/",
          "height": 158
        },
        "outputId": "cc2d332d-e8f4-4dec-8ea4-c33efd0a252e"
      },
      "source": [
        "forest = RandomForestClassifier(n_estimators = n_estimators_value, max_depth = max_depth_value, min_samples_leaf = min_samples_leaf_value, min_samples_split = min_samples_split_value)\n",
        "forest.fit(x_data, y_data)"
      ],
      "execution_count": 232,
      "outputs": [
        {
          "output_type": "execute_result",
          "data": {
            "text/plain": [
              "RandomForestClassifier(bootstrap=True, ccp_alpha=0.0, class_weight=None,\n",
              "                       criterion='gini', max_depth=16, max_features='auto',\n",
              "                       max_leaf_nodes=None, max_samples=None,\n",
              "                       min_impurity_decrease=0.0, min_impurity_split=None,\n",
              "                       min_samples_leaf=2, min_samples_split=22,\n",
              "                       min_weight_fraction_leaf=0.0, n_estimators=11,\n",
              "                       n_jobs=None, oob_score=False, random_state=None,\n",
              "                       verbose=0, warm_start=False)"
            ]
          },
          "metadata": {
            "tags": []
          },
          "execution_count": 232
        }
      ]
    },
    {
      "cell_type": "code",
      "metadata": {
        "id": "shg7MK7aNd03",
        "colab_type": "code",
        "colab": {
          "base_uri": "https://localhost:8080/",
          "height": 301
        },
        "outputId": "4adf9b60-f6c2-46c0-8d1b-54895ff64112"
      },
      "source": [
        "y_scores = cross_val_predict(forest, x_val, y_val, cv=3, method=\"predict_proba\")\n",
        "fpr, tpr, thresholds = roc_curve(y_val, y_scores[:,1])\n",
        "plot_roc_curve(fpr, tpr)\n",
        "plt.show()\n",
        "print(\"forest: \", roc_auc_score(y_val, y_scores[:,1]))"
      ],
      "execution_count": 233,
      "outputs": [
        {
          "output_type": "display_data",
          "data": {
            "image/png": "[encoded data removed]",
            "text/plain": [
              "<Figure size 432x288 with 1 Axes>"
            ]
          },
          "metadata": {
            "tags": [],
            "needs_background": "light"
          }
        },
        {
          "output_type": "stream",
          "text": [
            "forest:  0.8419174382716049\n"
          ],
          "name": "stdout"
        }
      ]
    },
    {
      "cell_type": "markdown",
      "metadata": {
        "id": "KBCKDCippbpI",
        "colab_type": "text"
      },
      "source": [
        "### 최종 모델"
      ]
    },
    {
      "cell_type": "code",
      "metadata": {
        "id": "KFCeXAwmpdsf",
        "colab_type": "code",
        "colab": {
          "base_uri": "https://localhost:8080/",
          "height": 158
        },
        "outputId": "718052db-b7b5-42ed-bc9c-96263ecf2c74"
      },
      "source": [
        "model = RandomForestClassifier(n_estimators = n_estimators_value, max_depth = max_depth_value, min_samples_leaf = min_samples_leaf_value, min_samples_split = min_samples_split_value)\n",
        "model.fit(x_full, y_full)"
      ],
      "execution_count": 234,
      "outputs": [
        {
          "output_type": "execute_result",
          "data": {
            "text/plain": [
              "RandomForestClassifier(bootstrap=True, ccp_alpha=0.0, class_weight=None,\n",
              "                       criterion='gini', max_depth=16, max_features='auto',\n",
              "                       max_leaf_nodes=None, max_samples=None,\n",
              "                       min_impurity_decrease=0.0, min_impurity_split=None,\n",
              "                       min_samples_leaf=2, min_samples_split=22,\n",
              "                       min_weight_fraction_leaf=0.0, n_estimators=11,\n",
              "                       n_jobs=None, oob_score=False, random_state=None,\n",
              "                       verbose=0, warm_start=False)"
            ]
          },
          "metadata": {
            "tags": []
          },
          "execution_count": 234
        }
      ]
    },
    {
      "cell_type": "markdown",
      "metadata": {
        "id": "vUf0lDvkq2Kp",
        "colab_type": "text"
      },
      "source": [
        "#### 최종 모델 평가\n",
        "**confusion matrix**"
      ]
    },
    {
      "cell_type": "code",
      "metadata": {
        "id": "A16AjPG1rfKs",
        "colab_type": "code",
        "colab": {}
      },
      "source": [
        "y_train_pred = cross_val_predict(model, x_full, y_full)"
      ],
      "execution_count": 235,
      "outputs": []
    },
    {
      "cell_type": "code",
      "metadata": {
        "id": "O2FSKwlkru_y",
        "colab_type": "code",
        "colab": {
          "base_uri": "https://localhost:8080/",
          "height": 52
        },
        "outputId": "97a3b68b-03a4-4f7d-e494-a03e73d787d1"
      },
      "source": [
        "from sklearn.metrics import confusion_matrix\n",
        "confusion_matrix(y_full, y_train_pred)"
      ],
      "execution_count": 236,
      "outputs": [
        {
          "output_type": "execute_result",
          "data": {
            "text/plain": [
              "array([[497,  52],\n",
              "       [112, 227]])"
            ]
          },
          "metadata": {
            "tags": []
          },
          "execution_count": 236
        }
      ]
    },
    {
      "cell_type": "code",
      "metadata": {
        "id": "z6I-vtfZsrd4",
        "colab_type": "code",
        "colab": {}
      },
      "source": [
        "from sklearn.metrics import precision_score, recall_score, f1_score"
      ],
      "execution_count": 237,
      "outputs": []
    },
    {
      "cell_type": "markdown",
      "metadata": {
        "id": "xjiM9hdxsjMp",
        "colab_type": "text"
      },
      "source": [
        "\n",
        "**precision score**"
      ]
    },
    {
      "cell_type": "code",
      "metadata": {
        "id": "oIrSz55sszv0",
        "colab_type": "code",
        "colab": {
          "base_uri": "https://localhost:8080/",
          "height": 34
        },
        "outputId": "2def23ab-8f8a-4c5e-83cf-2afdb2eaeb60"
      },
      "source": [
        "precision_score(y_full, y_train_pred)"
      ],
      "execution_count": 238,
      "outputs": [
        {
          "output_type": "execute_result",
          "data": {
            "text/plain": [
              "0.8136200716845878"
            ]
          },
          "metadata": {
            "tags": []
          },
          "execution_count": 238
        }
      ]
    },
    {
      "cell_type": "markdown",
      "metadata": {
        "id": "D1Tbh46qsmx4",
        "colab_type": "text"
      },
      "source": [
        "**recall score** "
      ]
    },
    {
      "cell_type": "code",
      "metadata": {
        "id": "KFPRcX2ws4Os",
        "colab_type": "code",
        "colab": {
          "base_uri": "https://localhost:8080/",
          "height": 34
        },
        "outputId": "84b2f043-eaa3-47b8-e67c-da67d90da29b"
      },
      "source": [
        "recall_score(y_full, y_train_pred)"
      ],
      "execution_count": 239,
      "outputs": [
        {
          "output_type": "execute_result",
          "data": {
            "text/plain": [
              "0.6696165191740413"
            ]
          },
          "metadata": {
            "tags": []
          },
          "execution_count": 239
        }
      ]
    },
    {
      "cell_type": "markdown",
      "metadata": {
        "id": "GbNQ9m_6sp5g",
        "colab_type": "text"
      },
      "source": [
        "**f1 score**"
      ]
    },
    {
      "cell_type": "code",
      "metadata": {
        "id": "AtI7AosBs4mV",
        "colab_type": "code",
        "colab": {
          "base_uri": "https://localhost:8080/",
          "height": 34
        },
        "outputId": "8c62d3ad-253e-486d-a2d3-6129da44db1c"
      },
      "source": [
        "f1_score(y_full, y_train_pred)"
      ],
      "execution_count": 240,
      "outputs": [
        {
          "output_type": "execute_result",
          "data": {
            "text/plain": [
              "0.7346278317152103"
            ]
          },
          "metadata": {
            "tags": []
          },
          "execution_count": 240
        }
      ]
    },
    {
      "cell_type": "markdown",
      "metadata": {
        "id": "-FdjGYcW9HXS",
        "colab_type": "text"
      },
      "source": [
        "### 테스트"
      ]
    },
    {
      "cell_type": "code",
      "metadata": {
        "id": "a_OsELsI9HXT",
        "colab_type": "code",
        "colab": {}
      },
      "source": [
        "y_predict = model.predict(test_data)"
      ],
      "execution_count": 241,
      "outputs": []
    },
    {
      "cell_type": "code",
      "metadata": {
        "id": "-X6qaV989HXV",
        "colab_type": "code",
        "colab": {
          "base_uri": "https://localhost:8080/",
          "height": 354
        },
        "outputId": "1abd1b6c-ee44-46b1-85b5-423a71ff13cd"
      },
      "source": [
        "y_predict"
      ],
      "execution_count": 242,
      "outputs": [
        {
          "output_type": "execute_result",
          "data": {
            "text/plain": [
              "array([0, 1, 0, 0, 1, 0, 1, 0, 1, 0, 0, 0, 1, 0, 1, 1, 0, 0, 1, 1, 0, 0,\n",
              "       1, 0, 1, 0, 1, 0, 0, 0, 0, 0, 0, 0, 0, 0, 1, 1, 0, 0, 0, 0, 0, 1,\n",
              "       1, 0, 0, 0, 1, 0, 0, 0, 1, 1, 0, 0, 0, 0, 0, 1, 0, 0, 0, 1, 0, 1,\n",
              "       1, 0, 0, 1, 1, 0, 1, 0, 1, 0, 0, 1, 0, 1, 1, 0, 0, 0, 0, 0, 1, 1,\n",
              "       1, 1, 1, 0, 1, 0, 0, 0, 1, 0, 1, 0, 1, 0, 0, 0, 1, 0, 0, 0, 0, 0,\n",
              "       0, 1, 1, 1, 1, 0, 0, 0, 0, 1, 1, 0, 1, 0, 0, 0, 0, 1, 0, 0, 0, 0,\n",
              "       0, 0, 0, 0, 0, 0, 1, 0, 0, 1, 0, 0, 0, 0, 1, 0, 0, 0, 1, 0, 0, 1,\n",
              "       0, 0, 1, 1, 0, 1, 1, 1, 1, 0, 0, 0, 0, 0, 1, 1, 0, 0, 0, 0, 0, 1,\n",
              "       1, 0, 1, 1, 0, 0, 1, 0, 1, 0, 1, 0, 0, 0, 0, 0, 0, 0, 1, 0, 1, 1,\n",
              "       0, 1, 1, 1, 1, 1, 0, 0, 0, 0, 1, 0, 0, 0, 0, 1, 0, 0, 1, 0, 1, 0,\n",
              "       1, 0, 1, 0, 1, 1, 0, 1, 0, 0, 0, 1, 0, 0, 0, 0, 0, 0, 1, 1, 1, 1,\n",
              "       0, 0, 0, 1, 1, 0, 1, 1, 1, 0, 0, 0, 0, 0, 0, 0, 1, 0, 0, 0, 1, 1,\n",
              "       0, 0, 0, 0, 1, 0, 0, 0, 1, 1, 0, 1, 0, 0, 0, 0, 1, 1, 1, 1, 1, 0,\n",
              "       0, 0, 0, 0, 0, 1, 0, 0, 0, 0, 1, 0, 0, 0, 0, 0, 0, 0, 1, 1, 0, 1,\n",
              "       0, 1, 0, 0, 0, 0, 1, 1, 0, 0, 0, 0, 0, 0, 0, 0, 1, 0, 1, 0, 0, 0,\n",
              "       1, 0, 0, 0, 0, 0, 0, 0, 0, 0, 0, 0, 0, 1, 0, 1, 0, 1, 0, 1, 1, 0,\n",
              "       0, 0, 1, 0, 1, 0, 0, 0, 0, 1, 1, 0, 1, 0, 0, 1, 1, 0, 0, 1, 0, 0,\n",
              "       1, 1, 1, 0, 0, 0, 0, 0, 1, 0, 0, 1, 0, 0, 0, 0, 0, 1, 0, 0, 0, 1,\n",
              "       0, 1, 0, 0, 1, 0, 1, 0, 0, 0, 0, 0, 1, 1, 1, 1, 1, 0, 1, 0, 0, 0])"
            ]
          },
          "metadata": {
            "tags": []
          },
          "execution_count": 242
        }
      ]
    },
    {
      "cell_type": "code",
      "metadata": {
        "id": "msjYVWCx9HXY",
        "colab_type": "code",
        "colab": {
          "base_uri": "https://localhost:8080/",
          "height": 406
        },
        "outputId": "e70fb673-c69a-4dc9-f027-35d325c39a1c"
      },
      "source": [
        "df_test"
      ],
      "execution_count": 243,
      "outputs": [
        {
          "output_type": "execute_result",
          "data": {
            "text/html": [
              "<div>\n",
              "<style scoped>\n",
              "    .dataframe tbody tr th:only-of-type {\n",
              "        vertical-align: middle;\n",
              "    }\n",
              "\n",
              "    .dataframe tbody tr th {\n",
              "        vertical-align: top;\n",
              "    }\n",
              "\n",
              "    .dataframe thead th {\n",
              "        text-align: right;\n",
              "    }\n",
              "</style>\n",
              "<table border=\"1\" class=\"dataframe\">\n",
              "  <thead>\n",
              "    <tr style=\"text-align: right;\">\n",
              "      <th></th>\n",
              "      <th>PassengerId</th>\n",
              "      <th>Age</th>\n",
              "      <th>SibSp</th>\n",
              "      <th>Parch</th>\n",
              "      <th>Fare</th>\n",
              "      <th>Pclass_1</th>\n",
              "      <th>Pclass_2</th>\n",
              "      <th>Pclass_3</th>\n",
              "      <th>Sex_female</th>\n",
              "      <th>Sex_male</th>\n",
              "      <th>Embarked_C</th>\n",
              "      <th>Embarked_Q</th>\n",
              "      <th>Embarked_S</th>\n",
              "    </tr>\n",
              "  </thead>\n",
              "  <tbody>\n",
              "    <tr>\n",
              "      <th>0</th>\n",
              "      <td>892</td>\n",
              "      <td>0.452723</td>\n",
              "      <td>0.000</td>\n",
              "      <td>0.000000</td>\n",
              "      <td>0.015282</td>\n",
              "      <td>0</td>\n",
              "      <td>0</td>\n",
              "      <td>1</td>\n",
              "      <td>0</td>\n",
              "      <td>1</td>\n",
              "      <td>0</td>\n",
              "      <td>1</td>\n",
              "      <td>0</td>\n",
              "    </tr>\n",
              "    <tr>\n",
              "      <th>1</th>\n",
              "      <td>893</td>\n",
              "      <td>0.617566</td>\n",
              "      <td>0.125</td>\n",
              "      <td>0.000000</td>\n",
              "      <td>0.013663</td>\n",
              "      <td>0</td>\n",
              "      <td>0</td>\n",
              "      <td>1</td>\n",
              "      <td>1</td>\n",
              "      <td>0</td>\n",
              "      <td>0</td>\n",
              "      <td>0</td>\n",
              "      <td>1</td>\n",
              "    </tr>\n",
              "    <tr>\n",
              "      <th>2</th>\n",
              "      <td>894</td>\n",
              "      <td>0.815377</td>\n",
              "      <td>0.000</td>\n",
              "      <td>0.000000</td>\n",
              "      <td>0.018909</td>\n",
              "      <td>0</td>\n",
              "      <td>1</td>\n",
              "      <td>0</td>\n",
              "      <td>0</td>\n",
              "      <td>1</td>\n",
              "      <td>0</td>\n",
              "      <td>1</td>\n",
              "      <td>0</td>\n",
              "    </tr>\n",
              "    <tr>\n",
              "      <th>3</th>\n",
              "      <td>895</td>\n",
              "      <td>0.353818</td>\n",
              "      <td>0.000</td>\n",
              "      <td>0.000000</td>\n",
              "      <td>0.016908</td>\n",
              "      <td>0</td>\n",
              "      <td>0</td>\n",
              "      <td>1</td>\n",
              "      <td>0</td>\n",
              "      <td>1</td>\n",
              "      <td>0</td>\n",
              "      <td>0</td>\n",
              "      <td>1</td>\n",
              "    </tr>\n",
              "    <tr>\n",
              "      <th>4</th>\n",
              "      <td>896</td>\n",
              "      <td>0.287881</td>\n",
              "      <td>0.125</td>\n",
              "      <td>0.111111</td>\n",
              "      <td>0.023984</td>\n",
              "      <td>0</td>\n",
              "      <td>0</td>\n",
              "      <td>1</td>\n",
              "      <td>1</td>\n",
              "      <td>0</td>\n",
              "      <td>0</td>\n",
              "      <td>0</td>\n",
              "      <td>1</td>\n",
              "    </tr>\n",
              "    <tr>\n",
              "      <th>...</th>\n",
              "      <td>...</td>\n",
              "      <td>...</td>\n",
              "      <td>...</td>\n",
              "      <td>...</td>\n",
              "      <td>...</td>\n",
              "      <td>...</td>\n",
              "      <td>...</td>\n",
              "      <td>...</td>\n",
              "      <td>...</td>\n",
              "      <td>...</td>\n",
              "      <td>...</td>\n",
              "      <td>...</td>\n",
              "      <td>...</td>\n",
              "    </tr>\n",
              "    <tr>\n",
              "      <th>413</th>\n",
              "      <td>1305</td>\n",
              "      <td>0.396975</td>\n",
              "      <td>0.000</td>\n",
              "      <td>0.000000</td>\n",
              "      <td>0.015713</td>\n",
              "      <td>0</td>\n",
              "      <td>0</td>\n",
              "      <td>1</td>\n",
              "      <td>0</td>\n",
              "      <td>1</td>\n",
              "      <td>0</td>\n",
              "      <td>0</td>\n",
              "      <td>1</td>\n",
              "    </tr>\n",
              "    <tr>\n",
              "      <th>414</th>\n",
              "      <td>1306</td>\n",
              "      <td>0.512066</td>\n",
              "      <td>0.000</td>\n",
              "      <td>0.000000</td>\n",
              "      <td>0.212559</td>\n",
              "      <td>1</td>\n",
              "      <td>0</td>\n",
              "      <td>0</td>\n",
              "      <td>1</td>\n",
              "      <td>0</td>\n",
              "      <td>1</td>\n",
              "      <td>0</td>\n",
              "      <td>0</td>\n",
              "    </tr>\n",
              "    <tr>\n",
              "      <th>415</th>\n",
              "      <td>1307</td>\n",
              "      <td>0.505473</td>\n",
              "      <td>0.000</td>\n",
              "      <td>0.000000</td>\n",
              "      <td>0.014151</td>\n",
              "      <td>0</td>\n",
              "      <td>0</td>\n",
              "      <td>1</td>\n",
              "      <td>0</td>\n",
              "      <td>1</td>\n",
              "      <td>0</td>\n",
              "      <td>0</td>\n",
              "      <td>1</td>\n",
              "    </tr>\n",
              "    <tr>\n",
              "      <th>416</th>\n",
              "      <td>1308</td>\n",
              "      <td>0.396975</td>\n",
              "      <td>0.000</td>\n",
              "      <td>0.000000</td>\n",
              "      <td>0.015713</td>\n",
              "      <td>0</td>\n",
              "      <td>0</td>\n",
              "      <td>1</td>\n",
              "      <td>0</td>\n",
              "      <td>1</td>\n",
              "      <td>0</td>\n",
              "      <td>0</td>\n",
              "      <td>1</td>\n",
              "    </tr>\n",
              "    <tr>\n",
              "      <th>417</th>\n",
              "      <td>1309</td>\n",
              "      <td>0.396975</td>\n",
              "      <td>0.125</td>\n",
              "      <td>0.111111</td>\n",
              "      <td>0.043640</td>\n",
              "      <td>0</td>\n",
              "      <td>0</td>\n",
              "      <td>1</td>\n",
              "      <td>0</td>\n",
              "      <td>1</td>\n",
              "      <td>1</td>\n",
              "      <td>0</td>\n",
              "      <td>0</td>\n",
              "    </tr>\n",
              "  </tbody>\n",
              "</table>\n",
              "<p>418 rows × 13 columns</p>\n",
              "</div>"
            ],
            "text/plain": [
              "     PassengerId       Age  SibSp  ...  Embarked_C  Embarked_Q  Embarked_S\n",
              "0            892  0.452723  0.000  ...           0           1           0\n",
              "1            893  0.617566  0.125  ...           0           0           1\n",
              "2            894  0.815377  0.000  ...           0           1           0\n",
              "3            895  0.353818  0.000  ...           0           0           1\n",
              "4            896  0.287881  0.125  ...           0           0           1\n",
              "..           ...       ...    ...  ...         ...         ...         ...\n",
              "413         1305  0.396975  0.000  ...           0           0           1\n",
              "414         1306  0.512066  0.000  ...           1           0           0\n",
              "415         1307  0.505473  0.000  ...           0           0           1\n",
              "416         1308  0.396975  0.000  ...           0           0           1\n",
              "417         1309  0.396975  0.125  ...           1           0           0\n",
              "\n",
              "[418 rows x 13 columns]"
            ]
          },
          "metadata": {
            "tags": []
          },
          "execution_count": 243
        }
      ]
    },
    {
      "cell_type": "markdown",
      "metadata": {
        "id": "-KG3EtqB9HXZ",
        "colab_type": "text"
      },
      "source": [
        "### kaggle 제출용 csv 파일 만들기"
      ]
    },
    {
      "cell_type": "code",
      "metadata": {
        "id": "pXxjrLVf9HXa",
        "colab_type": "code",
        "colab": {}
      },
      "source": [
        "submission=pd.DataFrame({\"PassengerId\":df_test[\"PassengerId\"], \"Survived\":y_predict})"
      ],
      "execution_count": 244,
      "outputs": []
    },
    {
      "cell_type": "code",
      "metadata": {
        "id": "LavSyp6k9HXc",
        "colab_type": "code",
        "colab": {}
      },
      "source": [
        "submission.to_csv('submission.csv', index=False)"
      ],
      "execution_count": 245,
      "outputs": []
    },
    {
      "cell_type": "markdown",
      "metadata": {
        "id": "i-t9TVwpilRK",
        "colab_type": "text"
      },
      "source": [
        "최종 submission.csv 파일 제출 결과 0.78229의 정확도를 얻었다."
      ]
    },
    {
      "cell_type": "code",
      "metadata": {
        "id": "f3vxLYeHivRe",
        "colab_type": "code",
        "colab": {}
      },
      "source": [
        ""
      ],
      "execution_count": null,
      "outputs": []
    }
  ]
}